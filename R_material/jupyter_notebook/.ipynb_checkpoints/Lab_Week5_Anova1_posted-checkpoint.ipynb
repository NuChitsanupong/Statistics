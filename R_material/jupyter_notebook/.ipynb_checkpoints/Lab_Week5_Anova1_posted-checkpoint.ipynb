{
 "cells": [
  {
   "cell_type": "code",
   "execution_count": 1,
   "metadata": {},
   "outputs": [
    {
     "ename": "ERROR",
     "evalue": "Error in setwd(\"???\"): cannot change working directory\n",
     "output_type": "error",
     "traceback": [
      "Error in setwd(\"???\"): cannot change working directory\nTraceback:\n",
      "1. setwd(\"???\")"
     ]
    }
   ],
   "source": [
    "setwd(\"???\")   "
   ]
  },
  {
   "cell_type": "code",
   "execution_count": 7,
   "metadata": {},
   "outputs": [
    {
     "name": "stderr",
     "output_type": "stream",
     "text": [
      "Warning message in file(file, \"rt\", encoding = fileEncoding):\n",
      "\"cannot open file 'anova1_data/fabric.csv': No such file or directory\""
     ]
    },
    {
     "ename": "ERROR",
     "evalue": "Error in file(file, \"rt\", encoding = fileEncoding): cannot open the connection\n",
     "output_type": "error",
     "traceback": [
      "Error in file(file, \"rt\", encoding = fileEncoding): cannot open the connection\nTraceback:\n",
      "1. read.csv(\"anova1_data/fabric.csv\", sep = \",\", header = T, fileEncoding = \"UTF-8-BOM\")",
      "2. read.table(file = file, header = header, sep = sep, quote = quote, \n .     dec = dec, fill = fill, comment.char = comment.char, ...)",
      "3. file(file, \"rt\", encoding = fileEncoding)"
     ]
    }
   ],
   "source": [
    "df <- read.csv(\"anova1_data/fabric.csv\", sep=\",\", header=T, fileEncoding=\"UTF-8-BOM\")"
   ]
  },
  {
   "cell_type": "code",
   "execution_count": null,
   "metadata": {},
   "outputs": [],
   "source": [
    "polymerFactor <- factor(df$polymer)\n",
    "anovaResult <- aov(df$soiling~polymerFactor, data=df)\n",
    "summary(anovaResult)"
   ]
  },
  {
   "cell_type": "code",
   "execution_count": null,
   "metadata": {},
   "outputs": [],
   "source": [
    "qf(0.99, 2, 12)"
   ]
  },
  {
   "cell_type": "code",
   "execution_count": null,
   "metadata": {},
   "outputs": [],
   "source": [
    "qtukey(0.01, nmeans=anovaResult$rank, df=anovaResult$df.residual, lower.tail=F)"
   ]
  },
  {
   "cell_type": "code",
   "execution_count": null,
   "metadata": {},
   "outputs": [],
   "source": [
    "tk <- TukeyHSD(anovaResult, conf.level = 0.99)\n",
    "plot(tk)"
   ]
  },
  {
   "cell_type": "code",
   "execution_count": null,
   "metadata": {
    "scrolled": true
   },
   "outputs": [],
   "source": [
    "boxplot(df$soiling~df$polymer, horizontal=T, xlab=\"Strength\", ylab=\"Soil\")"
   ]
  },
  {
   "cell_type": "code",
   "execution_count": null,
   "metadata": {},
   "outputs": [],
   "source": []
  }
 ],
 "metadata": {
  "kernelspec": {
   "display_name": "R",
   "language": "R",
   "name": "ir"
  },
  "language_info": {
   "codemirror_mode": "r",
   "file_extension": ".r",
   "mimetype": "text/x-r-source",
   "name": "R",
   "pygments_lexer": "r",
   "version": "3.6.1"
  }
 },
 "nbformat": 4,
 "nbformat_minor": 4
}
