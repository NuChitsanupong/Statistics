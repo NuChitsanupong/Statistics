{
 "cells": [
  {
   "cell_type": "code",
   "execution_count": null,
   "metadata": {},
   "outputs": [],
   "source": [
    "setwd(\"???\")   "
   ]
  },
  {
   "cell_type": "code",
   "execution_count": 1,
   "metadata": {},
   "outputs": [
    {
     "data": {
      "text/html": [
       "<table>\n",
       "<thead><tr><th scope=col>Yield</th><th scope=col>Density</th><th scope=col>Variety</th></tr></thead>\n",
       "<tbody>\n",
       "\t<tr><td>10.5 </td><td>10000</td><td>H    </td></tr>\n",
       "\t<tr><td> 9.2 </td><td>10000</td><td>H    </td></tr>\n",
       "\t<tr><td> 7.9 </td><td>10000</td><td>H    </td></tr>\n",
       "\t<tr><td> 8.1 </td><td>10000</td><td>Ife  </td></tr>\n",
       "\t<tr><td> 8.6 </td><td>10000</td><td>Ife  </td></tr>\n",
       "\t<tr><td>10.1 </td><td>10000</td><td>Ife  </td></tr>\n",
       "\t<tr><td>16.1 </td><td>10000</td><td>P    </td></tr>\n",
       "\t<tr><td>15.3 </td><td>10000</td><td>P    </td></tr>\n",
       "\t<tr><td>17.5 </td><td>10000</td><td>P    </td></tr>\n",
       "\t<tr><td>12.8 </td><td>20000</td><td>H    </td></tr>\n",
       "\t<tr><td>11.2 </td><td>20000</td><td>H    </td></tr>\n",
       "\t<tr><td>13.3 </td><td>20000</td><td>H    </td></tr>\n",
       "\t<tr><td>12.7 </td><td>20000</td><td>Ife  </td></tr>\n",
       "\t<tr><td>13.7 </td><td>20000</td><td>Ife  </td></tr>\n",
       "\t<tr><td>11.5 </td><td>20000</td><td>Ife  </td></tr>\n",
       "\t<tr><td>16.6 </td><td>20000</td><td>P    </td></tr>\n",
       "\t<tr><td>19.2 </td><td>20000</td><td>P    </td></tr>\n",
       "\t<tr><td>18.5 </td><td>20000</td><td>P    </td></tr>\n",
       "\t<tr><td>12.1 </td><td>30000</td><td>H    </td></tr>\n",
       "\t<tr><td>12.6 </td><td>30000</td><td>H    </td></tr>\n",
       "\t<tr><td>14.0 </td><td>30000</td><td>H    </td></tr>\n",
       "\t<tr><td>14.4 </td><td>30000</td><td>Ife  </td></tr>\n",
       "\t<tr><td>15.4 </td><td>30000</td><td>Ife  </td></tr>\n",
       "\t<tr><td>13.7 </td><td>30000</td><td>Ife  </td></tr>\n",
       "\t<tr><td>20.8 </td><td>30000</td><td>P    </td></tr>\n",
       "\t<tr><td>18.0 </td><td>30000</td><td>P    </td></tr>\n",
       "\t<tr><td>21.0 </td><td>30000</td><td>P    </td></tr>\n",
       "\t<tr><td>10.8 </td><td>40000</td><td>H    </td></tr>\n",
       "\t<tr><td> 9.1 </td><td>40000</td><td>H    </td></tr>\n",
       "\t<tr><td>12.5 </td><td>40000</td><td>H    </td></tr>\n",
       "\t<tr><td>11.3 </td><td>40000</td><td>Ife  </td></tr>\n",
       "\t<tr><td>12.5 </td><td>40000</td><td>Ife  </td></tr>\n",
       "\t<tr><td>14.5 </td><td>40000</td><td>Ife  </td></tr>\n",
       "\t<tr><td>18.4 </td><td>40000</td><td>P    </td></tr>\n",
       "\t<tr><td>18.9 </td><td>40000</td><td>P    </td></tr>\n",
       "\t<tr><td>17.2 </td><td>40000</td><td>P    </td></tr>\n",
       "</tbody>\n",
       "</table>\n"
      ],
      "text/latex": [
       "\\begin{tabular}{r|lll}\n",
       " Yield & Density & Variety\\\\\n",
       "\\hline\n",
       "\t 10.5  & 10000 & H    \\\\\n",
       "\t  9.2  & 10000 & H    \\\\\n",
       "\t  7.9  & 10000 & H    \\\\\n",
       "\t  8.1  & 10000 & Ife  \\\\\n",
       "\t  8.6  & 10000 & Ife  \\\\\n",
       "\t 10.1  & 10000 & Ife  \\\\\n",
       "\t 16.1  & 10000 & P    \\\\\n",
       "\t 15.3  & 10000 & P    \\\\\n",
       "\t 17.5  & 10000 & P    \\\\\n",
       "\t 12.8  & 20000 & H    \\\\\n",
       "\t 11.2  & 20000 & H    \\\\\n",
       "\t 13.3  & 20000 & H    \\\\\n",
       "\t 12.7  & 20000 & Ife  \\\\\n",
       "\t 13.7  & 20000 & Ife  \\\\\n",
       "\t 11.5  & 20000 & Ife  \\\\\n",
       "\t 16.6  & 20000 & P    \\\\\n",
       "\t 19.2  & 20000 & P    \\\\\n",
       "\t 18.5  & 20000 & P    \\\\\n",
       "\t 12.1  & 30000 & H    \\\\\n",
       "\t 12.6  & 30000 & H    \\\\\n",
       "\t 14.0  & 30000 & H    \\\\\n",
       "\t 14.4  & 30000 & Ife  \\\\\n",
       "\t 15.4  & 30000 & Ife  \\\\\n",
       "\t 13.7  & 30000 & Ife  \\\\\n",
       "\t 20.8  & 30000 & P    \\\\\n",
       "\t 18.0  & 30000 & P    \\\\\n",
       "\t 21.0  & 30000 & P    \\\\\n",
       "\t 10.8  & 40000 & H    \\\\\n",
       "\t  9.1  & 40000 & H    \\\\\n",
       "\t 12.5  & 40000 & H    \\\\\n",
       "\t 11.3  & 40000 & Ife  \\\\\n",
       "\t 12.5  & 40000 & Ife  \\\\\n",
       "\t 14.5  & 40000 & Ife  \\\\\n",
       "\t 18.4  & 40000 & P    \\\\\n",
       "\t 18.9  & 40000 & P    \\\\\n",
       "\t 17.2  & 40000 & P    \\\\\n",
       "\\end{tabular}\n"
      ],
      "text/markdown": [
       "\n",
       "| Yield | Density | Variety |\n",
       "|---|---|---|\n",
       "| 10.5  | 10000 | H     |\n",
       "|  9.2  | 10000 | H     |\n",
       "|  7.9  | 10000 | H     |\n",
       "|  8.1  | 10000 | Ife   |\n",
       "|  8.6  | 10000 | Ife   |\n",
       "| 10.1  | 10000 | Ife   |\n",
       "| 16.1  | 10000 | P     |\n",
       "| 15.3  | 10000 | P     |\n",
       "| 17.5  | 10000 | P     |\n",
       "| 12.8  | 20000 | H     |\n",
       "| 11.2  | 20000 | H     |\n",
       "| 13.3  | 20000 | H     |\n",
       "| 12.7  | 20000 | Ife   |\n",
       "| 13.7  | 20000 | Ife   |\n",
       "| 11.5  | 20000 | Ife   |\n",
       "| 16.6  | 20000 | P     |\n",
       "| 19.2  | 20000 | P     |\n",
       "| 18.5  | 20000 | P     |\n",
       "| 12.1  | 30000 | H     |\n",
       "| 12.6  | 30000 | H     |\n",
       "| 14.0  | 30000 | H     |\n",
       "| 14.4  | 30000 | Ife   |\n",
       "| 15.4  | 30000 | Ife   |\n",
       "| 13.7  | 30000 | Ife   |\n",
       "| 20.8  | 30000 | P     |\n",
       "| 18.0  | 30000 | P     |\n",
       "| 21.0  | 30000 | P     |\n",
       "| 10.8  | 40000 | H     |\n",
       "|  9.1  | 40000 | H     |\n",
       "| 12.5  | 40000 | H     |\n",
       "| 11.3  | 40000 | Ife   |\n",
       "| 12.5  | 40000 | Ife   |\n",
       "| 14.5  | 40000 | Ife   |\n",
       "| 18.4  | 40000 | P     |\n",
       "| 18.9  | 40000 | P     |\n",
       "| 17.2  | 40000 | P     |\n",
       "\n"
      ],
      "text/plain": [
       "   Yield Density Variety\n",
       "1  10.5  10000   H      \n",
       "2   9.2  10000   H      \n",
       "3   7.9  10000   H      \n",
       "4   8.1  10000   Ife    \n",
       "5   8.6  10000   Ife    \n",
       "6  10.1  10000   Ife    \n",
       "7  16.1  10000   P      \n",
       "8  15.3  10000   P      \n",
       "9  17.5  10000   P      \n",
       "10 12.8  20000   H      \n",
       "11 11.2  20000   H      \n",
       "12 13.3  20000   H      \n",
       "13 12.7  20000   Ife    \n",
       "14 13.7  20000   Ife    \n",
       "15 11.5  20000   Ife    \n",
       "16 16.6  20000   P      \n",
       "17 19.2  20000   P      \n",
       "18 18.5  20000   P      \n",
       "19 12.1  30000   H      \n",
       "20 12.6  30000   H      \n",
       "21 14.0  30000   H      \n",
       "22 14.4  30000   Ife    \n",
       "23 15.4  30000   Ife    \n",
       "24 13.7  30000   Ife    \n",
       "25 20.8  30000   P      \n",
       "26 18.0  30000   P      \n",
       "27 21.0  30000   P      \n",
       "28 10.8  40000   H      \n",
       "29  9.1  40000   H      \n",
       "30 12.5  40000   H      \n",
       "31 11.3  40000   Ife    \n",
       "32 12.5  40000   Ife    \n",
       "33 14.5  40000   Ife    \n",
       "34 18.4  40000   P      \n",
       "35 18.9  40000   P      \n",
       "36 17.2  40000   P      "
      ]
     },
     "metadata": {},
     "output_type": "display_data"
    }
   ],
   "source": [
    "df <- read.csv(\"../anova2_data/tomato.csv\", sep=\",\", header=T, fileEncoding=\"UTF-8-BOM\")\n",
    "df"
   ]
  },
  {
   "cell_type": "code",
   "execution_count": 2,
   "metadata": {},
   "outputs": [
    {
     "data": {
      "text/plain": [
       "                            Df Sum Sq Mean Sq F value   Pr(>F)    \n",
       "varietyFactor                2  327.6  163.80 103.343 1.61e-12 ***\n",
       "densityFactor                3   86.7   28.90  18.231 2.21e-06 ***\n",
       "varietyFactor:densityFactor  6    8.0    1.34   0.845    0.548    \n",
       "Residuals                   24   38.0    1.58                     \n",
       "---\n",
       "Signif. codes:  0 '***' 0.001 '**' 0.01 '*' 0.05 '.' 0.1 ' ' 1"
      ]
     },
     "metadata": {},
     "output_type": "display_data"
    }
   ],
   "source": [
    "varietyFactor <- factor(df$Variety)\n",
    "densityFactor <- factor(df$Density)\n",
    "anovaResult <- aov(df$Yield ~ varietyFactor * densityFactor, data=df)\n",
    "summary(anovaResult)"
   ]
  },
  {
   "cell_type": "code",
   "execution_count": 3,
   "metadata": {},
   "outputs": [
    {
     "data": {
      "text/html": [
       "3.66671671794532"
      ],
      "text/latex": [
       "3.66671671794532"
      ],
      "text/markdown": [
       "3.66671671794532"
      ],
      "text/plain": [
       "[1] 3.666717"
      ]
     },
     "metadata": {},
     "output_type": "display_data"
    }
   ],
   "source": [
    "qf(0.01, 6, 24, lower.tail=F)   # interaction"
   ]
  },
  {
   "cell_type": "code",
   "execution_count": 4,
   "metadata": {},
   "outputs": [
    {
     "data": {
      "text/html": [
       "5.61359121146484"
      ],
      "text/latex": [
       "5.61359121146484"
      ],
      "text/markdown": [
       "5.61359121146484"
      ],
      "text/plain": [
       "[1] 5.613591"
      ]
     },
     "metadata": {},
     "output_type": "display_data"
    }
   ],
   "source": [
    "qf(0.01, 2, 24, lower.tail=F)   # variety"
   ]
  },
  {
   "cell_type": "code",
   "execution_count": 5,
   "metadata": {},
   "outputs": [
    {
     "data": {
      "text/html": [
       "4.7180508074958"
      ],
      "text/latex": [
       "4.7180508074958"
      ],
      "text/markdown": [
       "4.7180508074958"
      ],
      "text/plain": [
       "[1] 4.718051"
      ]
     },
     "metadata": {},
     "output_type": "display_data"
    }
   ],
   "source": [
    "qf(0.01, 3, 24, lower.tail=F)   # density"
   ]
  },
  {
   "cell_type": "code",
   "execution_count": 6,
   "metadata": {},
   "outputs": [
    {
     "data": {
      "image/png": "[encoded data removed]",
      "text/plain": [
       "Plot with title \"99% family-wise confidence level\n",
       "\""
      ]
     },
     "metadata": {},
     "output_type": "display_data"
    }
   ],
   "source": [
    "tk1 <- TukeyHSD(anovaResult, 'varietyFactor', conf.level = 0.99)\n",
    "plot(tk1)"
   ]
  },
  {
   "cell_type": "code",
   "execution_count": 7,
   "metadata": {},
   "outputs": [
    {
     "data": {
      "image/png": "[encoded data removed]",
      "text/plain": [
       "Plot with title \"99% family-wise confidence level\n",
       "\""
      ]
     },
     "metadata": {},
     "output_type": "display_data"
    }
   ],
   "source": [
    "tk2 <- TukeyHSD(anovaResult, 'densityFactor', conf.level = 0.99)\n",
    "plot(tk2)"
   ]
  },
  {
   "cell_type": "code",
   "execution_count": 8,
   "metadata": {
    "scrolled": true
   },
   "outputs": [
    {
     "data": {
      "image/png": "[encoded data removed]",
      "text/plain": [
       "plot without title"
      ]
     },
     "metadata": {},
     "output_type": "display_data"
    }
   ],
   "source": [
    "boxplot(df$Yield~df$Variety, horizontal=T,xlab=\"Variety\", ylab=\"Response\")\n"
   ]
  },
  {
   "cell_type": "code",
   "execution_count": 9,
   "metadata": {},
   "outputs": [
    {
     "data": {
      "image/png": "[encoded data removed]",
      "text/plain": [
       "plot without title"
      ]
     },
     "metadata": {},
     "output_type": "display_data"
    }
   ],
   "source": [
    "boxplot(df$Yield~df$Density, horizontal=T, xlab=\"Density\", ylab=\"Response\")"
   ]
  },
  {
   "cell_type": "code",
   "execution_count": 10,
   "metadata": {},
   "outputs": [
    {
     "data": {
      "image/png": "[encoded data removed]",
      "text/plain": [
       "plot without title"
      ]
     },
     "metadata": {},
     "output_type": "display_data"
    }
   ],
   "source": [
    "interaction.plot(df$Variety, df$Density, df$Yield)"
   ]
  },
  {
   "cell_type": "code",
   "execution_count": null,
   "metadata": {},
   "outputs": [],
   "source": []
  }
 ],
 "metadata": {
  "kernelspec": {
   "display_name": "R",
   "language": "R",
   "name": "ir"
  },
  "language_info": {
   "codemirror_mode": "r",
   "file_extension": ".r",
   "mimetype": "text/x-r-source",
   "name": "R",
   "pygments_lexer": "r",
   "version": "3.6.1"
  }
 },
 "nbformat": 4,
 "nbformat_minor": 4
}
