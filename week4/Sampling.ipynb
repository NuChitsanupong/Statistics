{
 "cells": [
  {
   "cell_type": "code",
   "execution_count": 37,
   "metadata": {},
   "outputs": [],
   "source": [
    "import pandas as pd\n",
    "import matplotlib.pyplot as plt\n",
    "import math\n",
    "from scipy.stats import t"
   ]
  },
  {
   "cell_type": "code",
   "execution_count": 2,
   "metadata": {},
   "outputs": [],
   "source": [
    "df = pd.read_csv('LaptopSales.csv')"
   ]
  },
  {
   "cell_type": "code",
   "execution_count": 3,
   "metadata": {},
   "outputs": [
    {
     "data": {
      "text/plain": [
       "(297572, 16)"
      ]
     },
     "execution_count": 3,
     "metadata": {},
     "output_type": "execute_result"
    }
   ],
   "source": [
    "df.shape"
   ]
  },
  {
   "cell_type": "code",
   "execution_count": 4,
   "metadata": {},
   "outputs": [
    {
     "data": {
      "text/plain": [
       "Date                     208\n",
       "Configuration              0\n",
       "CustomerPostcode           0\n",
       "StorePostcode              0\n",
       "RetailPrice            13443\n",
       "ScreenSize                 0\n",
       "BatteryLife                0\n",
       "RAM                        0\n",
       "ProcessorSpeeds            0\n",
       "IntegratedWireless         0\n",
       "HDSize                     0\n",
       "BundledApplications        0\n",
       "customerX                  0\n",
       "customerY                  0\n",
       "storeX                   148\n",
       "storeY                   148\n",
       "dtype: int64"
      ]
     },
     "execution_count": 4,
     "metadata": {},
     "output_type": "execute_result"
    }
   ],
   "source": [
    "df.isna().sum()"
   ]
  },
  {
   "cell_type": "code",
   "execution_count": 5,
   "metadata": {},
   "outputs": [],
   "source": [
    "df = df.dropna()"
   ]
  },
  {
   "cell_type": "code",
   "execution_count": 6,
   "metadata": {},
   "outputs": [
    {
     "data": {
      "text/plain": [
       "Date                   0\n",
       "Configuration          0\n",
       "CustomerPostcode       0\n",
       "StorePostcode          0\n",
       "RetailPrice            0\n",
       "ScreenSize             0\n",
       "BatteryLife            0\n",
       "RAM                    0\n",
       "ProcessorSpeeds        0\n",
       "IntegratedWireless     0\n",
       "HDSize                 0\n",
       "BundledApplications    0\n",
       "customerX              0\n",
       "customerY              0\n",
       "storeX                 0\n",
       "storeY                 0\n",
       "dtype: int64"
      ]
     },
     "execution_count": 6,
     "metadata": {},
     "output_type": "execute_result"
    }
   ],
   "source": [
    "df.isna().sum()"
   ]
  },
  {
   "cell_type": "code",
   "execution_count": 7,
   "metadata": {},
   "outputs": [
    {
     "data": {
      "text/plain": [
       "(283787, 16)"
      ]
     },
     "execution_count": 7,
     "metadata": {},
     "output_type": "execute_result"
    }
   ],
   "source": [
    "df.shape"
   ]
  },
  {
   "cell_type": "code",
   "execution_count": 8,
   "metadata": {},
   "outputs": [
    {
     "data": {
      "text/html": [
       "<div>\n",
       "<style scoped>\n",
       "    .dataframe tbody tr th:only-of-type {\n",
       "        vertical-align: middle;\n",
       "    }\n",
       "\n",
       "    .dataframe tbody tr th {\n",
       "        vertical-align: top;\n",
       "    }\n",
       "\n",
       "    .dataframe thead th {\n",
       "        text-align: right;\n",
       "    }\n",
       "</style>\n",
       "<table border=\"1\" class=\"dataframe\">\n",
       "  <thead>\n",
       "    <tr style=\"text-align: right;\">\n",
       "      <th></th>\n",
       "      <th>Configuration</th>\n",
       "      <th>RetailPrice</th>\n",
       "      <th>ScreenSize</th>\n",
       "      <th>BatteryLife</th>\n",
       "      <th>RAM</th>\n",
       "      <th>ProcessorSpeeds</th>\n",
       "      <th>HDSize</th>\n",
       "      <th>customerX</th>\n",
       "      <th>customerY</th>\n",
       "      <th>storeX</th>\n",
       "      <th>storeY</th>\n",
       "    </tr>\n",
       "  </thead>\n",
       "  <tbody>\n",
       "    <tr>\n",
       "      <th>count</th>\n",
       "      <td>283787.000000</td>\n",
       "      <td>283787.000000</td>\n",
       "      <td>283787.000000</td>\n",
       "      <td>283787.00000</td>\n",
       "      <td>283787.000000</td>\n",
       "      <td>283787.000000</td>\n",
       "      <td>283787.000000</td>\n",
       "      <td>283787.000000</td>\n",
       "      <td>283787.000000</td>\n",
       "      <td>283787.000000</td>\n",
       "      <td>283787.000000</td>\n",
       "    </tr>\n",
       "    <tr>\n",
       "      <th>mean</th>\n",
       "      <td>379.618164</td>\n",
       "      <td>508.119244</td>\n",
       "      <td>15.810023</td>\n",
       "      <td>4.97218</td>\n",
       "      <td>2.102341</td>\n",
       "      <td>1.929285</td>\n",
       "      <td>132.089631</td>\n",
       "      <td>530776.899805</td>\n",
       "      <td>179876.755961</td>\n",
       "      <td>530689.985292</td>\n",
       "      <td>179779.857224</td>\n",
       "    </tr>\n",
       "    <tr>\n",
       "      <th>std</th>\n",
       "      <td>231.443281</td>\n",
       "      <td>104.607622</td>\n",
       "      <td>0.981790</td>\n",
       "      <td>0.81046</td>\n",
       "      <td>1.144554</td>\n",
       "      <td>0.365605</td>\n",
       "      <td>97.797432</td>\n",
       "      <td>4577.722792</td>\n",
       "      <td>4639.056600</td>\n",
       "      <td>4225.584153</td>\n",
       "      <td>3951.088637</td>\n",
       "    </tr>\n",
       "    <tr>\n",
       "      <th>min</th>\n",
       "      <td>1.000000</td>\n",
       "      <td>168.000000</td>\n",
       "      <td>15.000000</td>\n",
       "      <td>4.00000</td>\n",
       "      <td>1.000000</td>\n",
       "      <td>1.500000</td>\n",
       "      <td>40.000000</td>\n",
       "      <td>512253.000000</td>\n",
       "      <td>164886.000000</td>\n",
       "      <td>517917.000000</td>\n",
       "      <td>168302.000000</td>\n",
       "    </tr>\n",
       "    <tr>\n",
       "      <th>25%</th>\n",
       "      <td>193.000000</td>\n",
       "      <td>440.000000</td>\n",
       "      <td>15.000000</td>\n",
       "      <td>4.00000</td>\n",
       "      <td>1.000000</td>\n",
       "      <td>1.500000</td>\n",
       "      <td>40.000000</td>\n",
       "      <td>529107.000000</td>\n",
       "      <td>178633.000000</td>\n",
       "      <td>528924.000000</td>\n",
       "      <td>178440.000000</td>\n",
       "    </tr>\n",
       "    <tr>\n",
       "      <th>50%</th>\n",
       "      <td>347.000000</td>\n",
       "      <td>500.000000</td>\n",
       "      <td>15.000000</td>\n",
       "      <td>5.00000</td>\n",
       "      <td>2.000000</td>\n",
       "      <td>2.000000</td>\n",
       "      <td>80.000000</td>\n",
       "      <td>531026.000000</td>\n",
       "      <td>181078.000000</td>\n",
       "      <td>529902.000000</td>\n",
       "      <td>179641.000000</td>\n",
       "    </tr>\n",
       "    <tr>\n",
       "      <th>75%</th>\n",
       "      <td>576.000000</td>\n",
       "      <td>575.000000</td>\n",
       "      <td>17.000000</td>\n",
       "      <td>6.00000</td>\n",
       "      <td>2.000000</td>\n",
       "      <td>2.400000</td>\n",
       "      <td>120.000000</td>\n",
       "      <td>533096.000000</td>\n",
       "      <td>182060.000000</td>\n",
       "      <td>534057.000000</td>\n",
       "      <td>182961.000000</td>\n",
       "    </tr>\n",
       "    <tr>\n",
       "      <th>max</th>\n",
       "      <td>864.000000</td>\n",
       "      <td>890.000000</td>\n",
       "      <td>17.000000</td>\n",
       "      <td>6.00000</td>\n",
       "      <td>4.000000</td>\n",
       "      <td>2.400000</td>\n",
       "      <td>300.000000</td>\n",
       "      <td>549065.000000</td>\n",
       "      <td>199846.000000</td>\n",
       "      <td>541428.000000</td>\n",
       "      <td>190628.000000</td>\n",
       "    </tr>\n",
       "  </tbody>\n",
       "</table>\n",
       "</div>"
      ],
      "text/plain": [
       "       Configuration    RetailPrice     ScreenSize   BatteryLife  \\\n",
       "count  283787.000000  283787.000000  283787.000000  283787.00000   \n",
       "mean      379.618164     508.119244      15.810023       4.97218   \n",
       "std       231.443281     104.607622       0.981790       0.81046   \n",
       "min         1.000000     168.000000      15.000000       4.00000   \n",
       "25%       193.000000     440.000000      15.000000       4.00000   \n",
       "50%       347.000000     500.000000      15.000000       5.00000   \n",
       "75%       576.000000     575.000000      17.000000       6.00000   \n",
       "max       864.000000     890.000000      17.000000       6.00000   \n",
       "\n",
       "                 RAM  ProcessorSpeeds         HDSize      customerX  \\\n",
       "count  283787.000000    283787.000000  283787.000000  283787.000000   \n",
       "mean        2.102341         1.929285     132.089631  530776.899805   \n",
       "std         1.144554         0.365605      97.797432    4577.722792   \n",
       "min         1.000000         1.500000      40.000000  512253.000000   \n",
       "25%         1.000000         1.500000      40.000000  529107.000000   \n",
       "50%         2.000000         2.000000      80.000000  531026.000000   \n",
       "75%         2.000000         2.400000     120.000000  533096.000000   \n",
       "max         4.000000         2.400000     300.000000  549065.000000   \n",
       "\n",
       "           customerY         storeX         storeY  \n",
       "count  283787.000000  283787.000000  283787.000000  \n",
       "mean   179876.755961  530689.985292  179779.857224  \n",
       "std      4639.056600    4225.584153    3951.088637  \n",
       "min    164886.000000  517917.000000  168302.000000  \n",
       "25%    178633.000000  528924.000000  178440.000000  \n",
       "50%    181078.000000  529902.000000  179641.000000  \n",
       "75%    182060.000000  534057.000000  182961.000000  \n",
       "max    199846.000000  541428.000000  190628.000000  "
      ]
     },
     "execution_count": 8,
     "metadata": {},
     "output_type": "execute_result"
    }
   ],
   "source": [
    "df.describe()"
   ]
  },
  {
   "cell_type": "code",
   "execution_count": 9,
   "metadata": {},
   "outputs": [
    {
     "data": {
      "text/plain": [
       "array([ 40,  80, 120, 300], dtype=int64)"
      ]
     },
     "execution_count": 9,
     "metadata": {},
     "output_type": "execute_result"
    }
   ],
   "source": [
    "df.HDSize.unique()"
   ]
  },
  {
   "cell_type": "code",
   "execution_count": 10,
   "metadata": {},
   "outputs": [
    {
     "data": {
      "text/plain": [
       "508.1192443628496"
      ]
     },
     "execution_count": 10,
     "metadata": {},
     "output_type": "execute_result"
    }
   ],
   "source": [
    "df['RetailPrice'].mean()"
   ]
  },
  {
   "cell_type": "code",
   "execution_count": 11,
   "metadata": {},
   "outputs": [
    {
     "data": {
      "text/html": [
       "<div>\n",
       "<style scoped>\n",
       "    .dataframe tbody tr th:only-of-type {\n",
       "        vertical-align: middle;\n",
       "    }\n",
       "\n",
       "    .dataframe tbody tr th {\n",
       "        vertical-align: top;\n",
       "    }\n",
       "\n",
       "    .dataframe thead th {\n",
       "        text-align: right;\n",
       "    }\n",
       "</style>\n",
       "<table border=\"1\" class=\"dataframe\">\n",
       "  <thead>\n",
       "    <tr style=\"text-align: right;\">\n",
       "      <th></th>\n",
       "      <th>Date</th>\n",
       "      <th>Configuration</th>\n",
       "      <th>CustomerPostcode</th>\n",
       "      <th>StorePostcode</th>\n",
       "      <th>RetailPrice</th>\n",
       "      <th>ScreenSize</th>\n",
       "      <th>BatteryLife</th>\n",
       "      <th>RAM</th>\n",
       "      <th>ProcessorSpeeds</th>\n",
       "      <th>IntegratedWireless</th>\n",
       "      <th>HDSize</th>\n",
       "      <th>BundledApplications</th>\n",
       "      <th>customerX</th>\n",
       "      <th>customerY</th>\n",
       "      <th>storeX</th>\n",
       "      <th>storeY</th>\n",
       "    </tr>\n",
       "  </thead>\n",
       "  <tbody>\n",
       "    <tr>\n",
       "      <th>29695</th>\n",
       "      <td>4/16/2008 12:55</td>\n",
       "      <td>77</td>\n",
       "      <td>W2 3QH</td>\n",
       "      <td>SW1P 3AU</td>\n",
       "      <td>455.0</td>\n",
       "      <td>15</td>\n",
       "      <td>4</td>\n",
       "      <td>2</td>\n",
       "      <td>2.0</td>\n",
       "      <td>No</td>\n",
       "      <td>120</td>\n",
       "      <td>Yes</td>\n",
       "      <td>526473</td>\n",
       "      <td>180866</td>\n",
       "      <td>529902.0</td>\n",
       "      <td>179641.0</td>\n",
       "    </tr>\n",
       "    <tr>\n",
       "      <th>275573</th>\n",
       "      <td>7/15/2008 15:24</td>\n",
       "      <td>752</td>\n",
       "      <td>SW2 2UB</td>\n",
       "      <td>SW1P 3AU</td>\n",
       "      <td>640.0</td>\n",
       "      <td>17</td>\n",
       "      <td>6</td>\n",
       "      <td>1</td>\n",
       "      <td>2.0</td>\n",
       "      <td>No</td>\n",
       "      <td>300</td>\n",
       "      <td>No</td>\n",
       "      <td>530812</td>\n",
       "      <td>174017</td>\n",
       "      <td>529902.0</td>\n",
       "      <td>179641.0</td>\n",
       "    </tr>\n",
       "    <tr>\n",
       "      <th>137274</th>\n",
       "      <td>9/21/2008 3:55</td>\n",
       "      <td>327</td>\n",
       "      <td>SW11 3BW</td>\n",
       "      <td>SW1V 4QQ</td>\n",
       "      <td>625.0</td>\n",
       "      <td>15</td>\n",
       "      <td>6</td>\n",
       "      <td>1</td>\n",
       "      <td>2.4</td>\n",
       "      <td>Yes</td>\n",
       "      <td>300</td>\n",
       "      <td>Yes</td>\n",
       "      <td>527497</td>\n",
       "      <td>176369</td>\n",
       "      <td>528924.0</td>\n",
       "      <td>178440.0</td>\n",
       "    </tr>\n",
       "    <tr>\n",
       "      <th>66723</th>\n",
       "      <td>03/05/2008 09:02</td>\n",
       "      <td>173</td>\n",
       "      <td>SE1 2TF</td>\n",
       "      <td>E2 0RY</td>\n",
       "      <td>445.0</td>\n",
       "      <td>15</td>\n",
       "      <td>5</td>\n",
       "      <td>1</td>\n",
       "      <td>2.0</td>\n",
       "      <td>No</td>\n",
       "      <td>120</td>\n",
       "      <td>Yes</td>\n",
       "      <td>533102</td>\n",
       "      <td>180143</td>\n",
       "      <td>535652.0</td>\n",
       "      <td>182961.0</td>\n",
       "    </tr>\n",
       "    <tr>\n",
       "      <th>183766</th>\n",
       "      <td>10/18/2008 10:16</td>\n",
       "      <td>451</td>\n",
       "      <td>E12 5BP</td>\n",
       "      <td>SE8 3JD</td>\n",
       "      <td>515.0</td>\n",
       "      <td>17</td>\n",
       "      <td>4</td>\n",
       "      <td>1</td>\n",
       "      <td>2.0</td>\n",
       "      <td>Yes</td>\n",
       "      <td>80</td>\n",
       "      <td>Yes</td>\n",
       "      <td>542008</td>\n",
       "      <td>185622</td>\n",
       "      <td>537175.0</td>\n",
       "      <td>177885.0</td>\n",
       "    </tr>\n",
       "    <tr>\n",
       "      <th>5294</th>\n",
       "      <td>10/09/2008 21:10</td>\n",
       "      <td>17</td>\n",
       "      <td>E1W 2PN</td>\n",
       "      <td>SE1 2BN</td>\n",
       "      <td>350.0</td>\n",
       "      <td>15</td>\n",
       "      <td>4</td>\n",
       "      <td>1</td>\n",
       "      <td>2.0</td>\n",
       "      <td>Yes</td>\n",
       "      <td>40</td>\n",
       "      <td>Yes</td>\n",
       "      <td>534601</td>\n",
       "      <td>180050</td>\n",
       "      <td>534057.0</td>\n",
       "      <td>179682.0</td>\n",
       "    </tr>\n",
       "    <tr>\n",
       "      <th>54376</th>\n",
       "      <td>12/26/2008 11:16</td>\n",
       "      <td>140</td>\n",
       "      <td>SE1 2PF</td>\n",
       "      <td>SE1 2BN</td>\n",
       "      <td>540.0</td>\n",
       "      <td>15</td>\n",
       "      <td>4</td>\n",
       "      <td>4</td>\n",
       "      <td>2.4</td>\n",
       "      <td>No</td>\n",
       "      <td>80</td>\n",
       "      <td>No</td>\n",
       "      <td>532900</td>\n",
       "      <td>180300</td>\n",
       "      <td>534057.0</td>\n",
       "      <td>179682.0</td>\n",
       "    </tr>\n",
       "    <tr>\n",
       "      <th>253439</th>\n",
       "      <td>12/23/2008 19:59</td>\n",
       "      <td>659</td>\n",
       "      <td>EC4A 3JB</td>\n",
       "      <td>SW1V 4QQ</td>\n",
       "      <td>570.0</td>\n",
       "      <td>17</td>\n",
       "      <td>5</td>\n",
       "      <td>2</td>\n",
       "      <td>2.4</td>\n",
       "      <td>Yes</td>\n",
       "      <td>80</td>\n",
       "      <td>Yes</td>\n",
       "      <td>531470</td>\n",
       "      <td>181361</td>\n",
       "      <td>528924.0</td>\n",
       "      <td>178440.0</td>\n",
       "    </tr>\n",
       "    <tr>\n",
       "      <th>221774</th>\n",
       "      <td>09/07/2008 23:18</td>\n",
       "      <td>570</td>\n",
       "      <td>W1W 5QU</td>\n",
       "      <td>NW5 2QH</td>\n",
       "      <td>600.0</td>\n",
       "      <td>17</td>\n",
       "      <td>4</td>\n",
       "      <td>4</td>\n",
       "      <td>2.4</td>\n",
       "      <td>No</td>\n",
       "      <td>40</td>\n",
       "      <td>No</td>\n",
       "      <td>528866</td>\n",
       "      <td>182122</td>\n",
       "      <td>529248.0</td>\n",
       "      <td>185213.0</td>\n",
       "    </tr>\n",
       "    <tr>\n",
       "      <th>166720</th>\n",
       "      <td>10/13/2008 8:37</td>\n",
       "      <td>386</td>\n",
       "      <td>WC1A 1BL</td>\n",
       "      <td>NW5 2QH</td>\n",
       "      <td>570.0</td>\n",
       "      <td>15</td>\n",
       "      <td>6</td>\n",
       "      <td>4</td>\n",
       "      <td>1.5</td>\n",
       "      <td>Yes</td>\n",
       "      <td>40</td>\n",
       "      <td>No</td>\n",
       "      <td>530081</td>\n",
       "      <td>181432</td>\n",
       "      <td>529248.0</td>\n",
       "      <td>185213.0</td>\n",
       "    </tr>\n",
       "  </tbody>\n",
       "</table>\n",
       "</div>"
      ],
      "text/plain": [
       "                    Date  Configuration CustomerPostcode StorePostcode  \\\n",
       "29695    4/16/2008 12:55             77           W2 3QH      SW1P 3AU   \n",
       "275573   7/15/2008 15:24            752          SW2 2UB      SW1P 3AU   \n",
       "137274    9/21/2008 3:55            327         SW11 3BW      SW1V 4QQ   \n",
       "66723   03/05/2008 09:02            173          SE1 2TF        E2 0RY   \n",
       "183766  10/18/2008 10:16            451          E12 5BP       SE8 3JD   \n",
       "5294    10/09/2008 21:10             17          E1W 2PN       SE1 2BN   \n",
       "54376   12/26/2008 11:16            140          SE1 2PF       SE1 2BN   \n",
       "253439  12/23/2008 19:59            659         EC4A 3JB      SW1V 4QQ   \n",
       "221774  09/07/2008 23:18            570          W1W 5QU       NW5 2QH   \n",
       "166720   10/13/2008 8:37            386         WC1A 1BL       NW5 2QH   \n",
       "\n",
       "        RetailPrice  ScreenSize  BatteryLife  RAM  ProcessorSpeeds  \\\n",
       "29695         455.0          15            4    2              2.0   \n",
       "275573        640.0          17            6    1              2.0   \n",
       "137274        625.0          15            6    1              2.4   \n",
       "66723         445.0          15            5    1              2.0   \n",
       "183766        515.0          17            4    1              2.0   \n",
       "5294          350.0          15            4    1              2.0   \n",
       "54376         540.0          15            4    4              2.4   \n",
       "253439        570.0          17            5    2              2.4   \n",
       "221774        600.0          17            4    4              2.4   \n",
       "166720        570.0          15            6    4              1.5   \n",
       "\n",
       "       IntegratedWireless  HDSize BundledApplications  customerX  customerY  \\\n",
       "29695                  No     120                 Yes     526473     180866   \n",
       "275573                 No     300                  No     530812     174017   \n",
       "137274                Yes     300                 Yes     527497     176369   \n",
       "66723                  No     120                 Yes     533102     180143   \n",
       "183766                Yes      80                 Yes     542008     185622   \n",
       "5294                  Yes      40                 Yes     534601     180050   \n",
       "54376                  No      80                  No     532900     180300   \n",
       "253439                Yes      80                 Yes     531470     181361   \n",
       "221774                 No      40                  No     528866     182122   \n",
       "166720                Yes      40                  No     530081     181432   \n",
       "\n",
       "          storeX    storeY  \n",
       "29695   529902.0  179641.0  \n",
       "275573  529902.0  179641.0  \n",
       "137274  528924.0  178440.0  \n",
       "66723   535652.0  182961.0  \n",
       "183766  537175.0  177885.0  \n",
       "5294    534057.0  179682.0  \n",
       "54376   534057.0  179682.0  \n",
       "253439  528924.0  178440.0  \n",
       "221774  529248.0  185213.0  \n",
       "166720  529248.0  185213.0  "
      ]
     },
     "execution_count": 11,
     "metadata": {},
     "output_type": "execute_result"
    }
   ],
   "source": [
    "sample_size = 10\n",
    "seed = 19\n",
    "df_sample = df.sample(n=sample_size, random_state=seed)\n",
    "df_sample"
   ]
  },
  {
   "cell_type": "code",
   "execution_count": 12,
   "metadata": {},
   "outputs": [
    {
     "data": {
      "text/plain": [
       "531.0"
      ]
     },
     "execution_count": 12,
     "metadata": {},
     "output_type": "execute_result"
    }
   ],
   "source": [
    "df_sample['RetailPrice'].mean()"
   ]
  },
  {
   "cell_type": "code",
   "execution_count": 13,
   "metadata": {},
   "outputs": [
    {
     "data": {
      "text/plain": [
       "91.15920140062659"
      ]
     },
     "execution_count": 13,
     "metadata": {},
     "output_type": "execute_result"
    }
   ],
   "source": [
    "df_sample['RetailPrice'].std()"
   ]
  },
  {
   "cell_type": "code",
   "execution_count": 14,
   "metadata": {},
   "outputs": [],
   "source": [
    "data = []\n",
    "for i in range(1,41):\n",
    "    df_sample = df.sample(n=i, random_state=seed)\n",
    "    avg_retail_price = df_sample['RetailPrice'].mean()\n",
    "    data.append(avg_retail_price)"
   ]
  },
  {
   "cell_type": "code",
   "execution_count": 15,
   "metadata": {},
   "outputs": [],
   "source": [
    "#data"
   ]
  },
  {
   "cell_type": "code",
   "execution_count": 16,
   "metadata": {},
   "outputs": [
    {
     "data": {
      "text/plain": [
       "[<matplotlib.lines.Line2D at 0x1f89398b240>]"
      ]
     },
     "execution_count": 16,
     "metadata": {},
     "output_type": "execute_result"
    },
    {
     "data": {
      "image/png": "[encoded data removed]",
      "text/plain": [
       "<Figure size 432x288 with 1 Axes>"
      ]
     },
     "metadata": {
      "needs_background": "light"
     },
     "output_type": "display_data"
    }
   ],
   "source": [
    "plt.plot(range(1,41), data, 'b')\n",
    "plt.plot(range(1,41), [df['RetailPrice'].mean()]*len(range(1,41)), 'r')"
   ]
  },
  {
   "cell_type": "code",
   "execution_count": 17,
   "metadata": {},
   "outputs": [
    {
     "data": {
      "image/png": "[encoded data removed]",
      "text/plain": [
       "<Figure size 432x288 with 1 Axes>"
      ]
     },
     "metadata": {
      "needs_background": "light"
     },
     "output_type": "display_data"
    },
    {
     "data": {
      "image/png": "[encoded data removed]",
      "text/plain": [
       "<Figure size 432x288 with 1 Axes>"
      ]
     },
     "metadata": {
      "needs_background": "light"
     },
     "output_type": "display_data"
    },
    {
     "data": {
      "image/png": "[encoded data removed]",
      "text/plain": [
       "<Figure size 432x288 with 1 Axes>"
      ]
     },
     "metadata": {
      "needs_background": "light"
     },
     "output_type": "display_data"
    },
    {
     "data": {
      "image/png": "[encoded data removed]",
      "text/plain": [
       "<Figure size 432x288 with 1 Axes>"
      ]
     },
     "metadata": {
      "needs_background": "light"
     },
     "output_type": "display_data"
    }
   ],
   "source": [
    "for i in df.HDSize.unique():\n",
    "    df2 = df[df.HDSize == i]\n",
    "    data = []\n",
    "    for j in range(1,41):\n",
    "        df_sample = df2.sample(n=j, random_state=seed)\n",
    "        avg_retail_price = df_sample['RetailPrice'].mean()\n",
    "        data.append(avg_retail_price)\n",
    "    plt.plot(range(1,41), data, 'b', label = 'sample')\n",
    "    plt.plot(range(1,41), [df['RetailPrice'].mean()]*len(range(1,41)), 'g', label = 'mean')\n",
    "    plt.plot(range(1,41), [df2['RetailPrice'].mean()]*len(range(1,41)), 'r', label = 'sample mean')\n",
    "    plt.legend()\n",
    "    plt.title('HDSize : '+str(i))\n",
    "    plt.show()"
   ]
  },
  {
   "cell_type": "code",
   "execution_count": 18,
   "metadata": {},
   "outputs": [],
   "source": [
    "count_size = []\n",
    "for i in df.HDSize.unique():\n",
    "    count_size.append(df[df.HDSize == i]['HDSize'].count())"
   ]
  },
  {
   "cell_type": "code",
   "execution_count": 19,
   "metadata": {},
   "outputs": [],
   "source": [
    "count_size_percent = [((i/sum(count_size))*100).round() for i in count_size]"
   ]
  },
  {
   "cell_type": "code",
   "execution_count": 20,
   "metadata": {},
   "outputs": [
    {
     "data": {
      "text/plain": [
       "[25.0, 26.0, 25.0, 24.0]"
      ]
     },
     "execution_count": 20,
     "metadata": {},
     "output_type": "execute_result"
    }
   ],
   "source": [
    "count_size_percent"
   ]
  },
  {
   "cell_type": "code",
   "execution_count": 21,
   "metadata": {},
   "outputs": [
    {
     "data": {
      "text/html": [
       "<div>\n",
       "<style scoped>\n",
       "    .dataframe tbody tr th:only-of-type {\n",
       "        vertical-align: middle;\n",
       "    }\n",
       "\n",
       "    .dataframe tbody tr th {\n",
       "        vertical-align: top;\n",
       "    }\n",
       "\n",
       "    .dataframe thead th {\n",
       "        text-align: right;\n",
       "    }\n",
       "</style>\n",
       "<table border=\"1\" class=\"dataframe\">\n",
       "  <thead>\n",
       "    <tr style=\"text-align: right;\">\n",
       "      <th></th>\n",
       "      <th>ratio</th>\n",
       "    </tr>\n",
       "    <tr>\n",
       "      <th>HDSize</th>\n",
       "      <th></th>\n",
       "    </tr>\n",
       "  </thead>\n",
       "  <tbody>\n",
       "    <tr>\n",
       "      <th>40</th>\n",
       "      <td>25.0</td>\n",
       "    </tr>\n",
       "    <tr>\n",
       "      <th>80</th>\n",
       "      <td>26.0</td>\n",
       "    </tr>\n",
       "    <tr>\n",
       "      <th>120</th>\n",
       "      <td>25.0</td>\n",
       "    </tr>\n",
       "    <tr>\n",
       "      <th>300</th>\n",
       "      <td>24.0</td>\n",
       "    </tr>\n",
       "  </tbody>\n",
       "</table>\n",
       "</div>"
      ],
      "text/plain": [
       "        ratio\n",
       "HDSize       \n",
       "40       25.0\n",
       "80       26.0\n",
       "120      25.0\n",
       "300      24.0"
      ]
     },
     "execution_count": 21,
     "metadata": {},
     "output_type": "execute_result"
    }
   ],
   "source": [
    "data = {'HDSize':df.HDSize.unique(),\n",
    "        'ratio':count_size_percent\n",
    "}\n",
    "data = pd.DataFrame(data)\n",
    "data.set_index('HDSize')"
   ]
  },
  {
   "cell_type": "code",
   "execution_count": 22,
   "metadata": {
    "scrolled": false
   },
   "outputs": [],
   "source": [
    "df_sample = df[df.HDSize == 40].sample(n=25, random_state=seed)\n",
    "df_sample = df_sample.append(df[df.HDSize == 80].sample(n=26, random_state=seed))\n",
    "df_sample = df_sample.append(df[df.HDSize == 120].sample(n=25, random_state=seed))\n",
    "df_sample = df_sample.append(df[df.HDSize == 300].sample(n=24, random_state=seed))"
   ]
  },
  {
   "cell_type": "code",
   "execution_count": 23,
   "metadata": {},
   "outputs": [
    {
     "data": {
      "text/html": [
       "<div>\n",
       "<style scoped>\n",
       "    .dataframe tbody tr th:only-of-type {\n",
       "        vertical-align: middle;\n",
       "    }\n",
       "\n",
       "    .dataframe tbody tr th {\n",
       "        vertical-align: top;\n",
       "    }\n",
       "\n",
       "    .dataframe thead th {\n",
       "        text-align: right;\n",
       "    }\n",
       "</style>\n",
       "<table border=\"1\" class=\"dataframe\">\n",
       "  <thead>\n",
       "    <tr style=\"text-align: right;\">\n",
       "      <th></th>\n",
       "      <th>Configuration</th>\n",
       "      <th>RetailPrice</th>\n",
       "      <th>ScreenSize</th>\n",
       "      <th>BatteryLife</th>\n",
       "      <th>RAM</th>\n",
       "      <th>ProcessorSpeeds</th>\n",
       "      <th>HDSize</th>\n",
       "      <th>customerX</th>\n",
       "      <th>customerY</th>\n",
       "      <th>storeX</th>\n",
       "      <th>storeY</th>\n",
       "    </tr>\n",
       "  </thead>\n",
       "  <tbody>\n",
       "    <tr>\n",
       "      <th>count</th>\n",
       "      <td>100.000000</td>\n",
       "      <td>100.000000</td>\n",
       "      <td>100.000000</td>\n",
       "      <td>100.000000</td>\n",
       "      <td>100.000000</td>\n",
       "      <td>100.000000</td>\n",
       "      <td>100.000000</td>\n",
       "      <td>100.000000</td>\n",
       "      <td>100.000000</td>\n",
       "      <td>100.000000</td>\n",
       "      <td>100.00000</td>\n",
       "    </tr>\n",
       "    <tr>\n",
       "      <th>mean</th>\n",
       "      <td>336.770000</td>\n",
       "      <td>490.990000</td>\n",
       "      <td>15.620000</td>\n",
       "      <td>4.990000</td>\n",
       "      <td>1.970000</td>\n",
       "      <td>1.951000</td>\n",
       "      <td>132.800000</td>\n",
       "      <td>530958.110000</td>\n",
       "      <td>180164.730000</td>\n",
       "      <td>530578.300000</td>\n",
       "      <td>179727.95000</td>\n",
       "    </tr>\n",
       "    <tr>\n",
       "      <th>std</th>\n",
       "      <td>226.090259</td>\n",
       "      <td>109.516338</td>\n",
       "      <td>0.929646</td>\n",
       "      <td>0.834787</td>\n",
       "      <td>1.167359</td>\n",
       "      <td>0.357459</td>\n",
       "      <td>98.617514</td>\n",
       "      <td>4282.650663</td>\n",
       "      <td>4336.283683</td>\n",
       "      <td>4158.680926</td>\n",
       "      <td>3703.43099</td>\n",
       "    </tr>\n",
       "    <tr>\n",
       "      <th>min</th>\n",
       "      <td>5.000000</td>\n",
       "      <td>275.000000</td>\n",
       "      <td>15.000000</td>\n",
       "      <td>4.000000</td>\n",
       "      <td>1.000000</td>\n",
       "      <td>1.500000</td>\n",
       "      <td>40.000000</td>\n",
       "      <td>519103.000000</td>\n",
       "      <td>167077.000000</td>\n",
       "      <td>519585.000000</td>\n",
       "      <td>168302.00000</td>\n",
       "    </tr>\n",
       "    <tr>\n",
       "      <th>25%</th>\n",
       "      <td>155.750000</td>\n",
       "      <td>430.000000</td>\n",
       "      <td>15.000000</td>\n",
       "      <td>4.000000</td>\n",
       "      <td>1.000000</td>\n",
       "      <td>1.500000</td>\n",
       "      <td>70.000000</td>\n",
       "      <td>529444.000000</td>\n",
       "      <td>178923.000000</td>\n",
       "      <td>528924.000000</td>\n",
       "      <td>178440.00000</td>\n",
       "    </tr>\n",
       "    <tr>\n",
       "      <th>50%</th>\n",
       "      <td>306.000000</td>\n",
       "      <td>480.000000</td>\n",
       "      <td>15.000000</td>\n",
       "      <td>5.000000</td>\n",
       "      <td>2.000000</td>\n",
       "      <td>2.000000</td>\n",
       "      <td>80.000000</td>\n",
       "      <td>531022.000000</td>\n",
       "      <td>181132.500000</td>\n",
       "      <td>529902.000000</td>\n",
       "      <td>179641.00000</td>\n",
       "    </tr>\n",
       "    <tr>\n",
       "      <th>75%</th>\n",
       "      <td>471.250000</td>\n",
       "      <td>545.250000</td>\n",
       "      <td>17.000000</td>\n",
       "      <td>6.000000</td>\n",
       "      <td>2.000000</td>\n",
       "      <td>2.400000</td>\n",
       "      <td>120.000000</td>\n",
       "      <td>533080.500000</td>\n",
       "      <td>181838.500000</td>\n",
       "      <td>534057.000000</td>\n",
       "      <td>181567.00000</td>\n",
       "    </tr>\n",
       "    <tr>\n",
       "      <th>max</th>\n",
       "      <td>860.000000</td>\n",
       "      <td>840.000000</td>\n",
       "      <td>17.000000</td>\n",
       "      <td>6.000000</td>\n",
       "      <td>4.000000</td>\n",
       "      <td>2.400000</td>\n",
       "      <td>300.000000</td>\n",
       "      <td>544486.000000</td>\n",
       "      <td>190071.000000</td>\n",
       "      <td>541428.000000</td>\n",
       "      <td>190628.00000</td>\n",
       "    </tr>\n",
       "  </tbody>\n",
       "</table>\n",
       "</div>"
      ],
      "text/plain": [
       "       Configuration  RetailPrice  ScreenSize  BatteryLife         RAM  \\\n",
       "count     100.000000   100.000000  100.000000   100.000000  100.000000   \n",
       "mean      336.770000   490.990000   15.620000     4.990000    1.970000   \n",
       "std       226.090259   109.516338    0.929646     0.834787    1.167359   \n",
       "min         5.000000   275.000000   15.000000     4.000000    1.000000   \n",
       "25%       155.750000   430.000000   15.000000     4.000000    1.000000   \n",
       "50%       306.000000   480.000000   15.000000     5.000000    2.000000   \n",
       "75%       471.250000   545.250000   17.000000     6.000000    2.000000   \n",
       "max       860.000000   840.000000   17.000000     6.000000    4.000000   \n",
       "\n",
       "       ProcessorSpeeds      HDSize      customerX      customerY  \\\n",
       "count       100.000000  100.000000     100.000000     100.000000   \n",
       "mean          1.951000  132.800000  530958.110000  180164.730000   \n",
       "std           0.357459   98.617514    4282.650663    4336.283683   \n",
       "min           1.500000   40.000000  519103.000000  167077.000000   \n",
       "25%           1.500000   70.000000  529444.000000  178923.000000   \n",
       "50%           2.000000   80.000000  531022.000000  181132.500000   \n",
       "75%           2.400000  120.000000  533080.500000  181838.500000   \n",
       "max           2.400000  300.000000  544486.000000  190071.000000   \n",
       "\n",
       "              storeX        storeY  \n",
       "count     100.000000     100.00000  \n",
       "mean   530578.300000  179727.95000  \n",
       "std      4158.680926    3703.43099  \n",
       "min    519585.000000  168302.00000  \n",
       "25%    528924.000000  178440.00000  \n",
       "50%    529902.000000  179641.00000  \n",
       "75%    534057.000000  181567.00000  \n",
       "max    541428.000000  190628.00000  "
      ]
     },
     "execution_count": 23,
     "metadata": {},
     "output_type": "execute_result"
    }
   ],
   "source": [
    "df_sample.describe()"
   ]
  },
  {
   "cell_type": "code",
   "execution_count": 24,
   "metadata": {},
   "outputs": [
    {
     "data": {
      "text/plain": [
       "0.793724618989862"
      ]
     },
     "execution_count": 24,
     "metadata": {},
     "output_type": "execute_result"
    }
   ],
   "source": [
    "T = (531.0 - 508.1192443628496)/(91.15920140062659/(10**(1/2))) \n",
    "T"
   ]
  },
  {
   "cell_type": "code",
   "execution_count": 25,
   "metadata": {},
   "outputs": [
    {
     "data": {
      "text/plain": [
       "2.2621571627409915"
      ]
     },
     "execution_count": 25,
     "metadata": {},
     "output_type": "execute_result"
    }
   ],
   "source": [
    "alpha = 0.05/2\n",
    "t.ppf(1-alpha, 9)"
   ]
  },
  {
   "cell_type": "code",
   "execution_count": 26,
   "metadata": {},
   "outputs": [],
   "source": [
    "df_sample_1 = df[df.HDSize == 40]\n",
    "df_sample_2 = df[df.HDSize == 80]"
   ]
  },
  {
   "cell_type": "code",
   "execution_count": 27,
   "metadata": {},
   "outputs": [
    {
     "data": {
      "text/plain": [
       "-44.189447082350554"
      ]
     },
     "execution_count": 27,
     "metadata": {},
     "output_type": "execute_result"
    }
   ],
   "source": [
    "df1_mean = df_sample_1.RetailPrice.mean()\n",
    "df2_mean = df_sample_2.RetailPrice.mean()\n",
    "df1_std = df_sample_1.RetailPrice.std()**2/df_sample_1.HDSize.count()\n",
    "df2_std = df_sample_2.RetailPrice.std()**2/df_sample_2.HDSize.count()\n",
    "\n",
    "(df1_mean-df2_mean)/((df1_std+df2_std)**(1/2))"
   ]
  },
  {
   "cell_type": "code",
   "execution_count": 28,
   "metadata": {},
   "outputs": [],
   "source": [
    "df_sample_1 = df[df.HDSize == 40].sample(n=25, random_state=seed)\n",
    "df_sample_2 = df[df.HDSize == 80].sample(n=26, random_state=seed)"
   ]
  },
  {
   "cell_type": "code",
   "execution_count": 32,
   "metadata": {},
   "outputs": [
    {
     "data": {
      "text/plain": [
       "-2.1414150295360606"
      ]
     },
     "execution_count": 32,
     "metadata": {},
     "output_type": "execute_result"
    }
   ],
   "source": [
    "df1_mean = df_sample_1.RetailPrice.mean()\n",
    "df2_mean = df_sample_2.RetailPrice.mean()\n",
    "df1_std = df_sample_1.RetailPrice.std()**2/df_sample_1.HDSize.count()\n",
    "df2_std = df_sample_2.RetailPrice.std()**2/df_sample_2.HDSize.count()\n",
    "\n",
    "T = (df1_mean-df2_mean)/((df1_std+df2_std)**(1/2))\n",
    "T"
   ]
  },
  {
   "cell_type": "code",
   "execution_count": 40,
   "metadata": {},
   "outputs": [
    {
     "data": {
      "text/plain": [
       "45"
      ]
     },
     "execution_count": 40,
     "metadata": {},
     "output_type": "execute_result"
    }
   ],
   "source": [
    "v_star = math.floor(((df1_std+df2_std)**2)/((df1_std**2/(df_sample_1.HDSize.count()-1))+(df2_std**2/(df_sample_2.HDSize.count()-1))))\n",
    "v_star"
   ]
  },
  {
   "cell_type": "code",
   "execution_count": 39,
   "metadata": {},
   "outputs": [
    {
     "data": {
      "text/plain": [
       "2.0141033848332923"
      ]
     },
     "execution_count": 39,
     "metadata": {},
     "output_type": "execute_result"
    }
   ],
   "source": [
    "alpha = 0.05/2\n",
    "t.ppf(1-alpha, v_star)"
   ]
  },
  {
   "cell_type": "code",
   "execution_count": null,
   "metadata": {},
   "outputs": [],
   "source": []
  }
 ],
 "metadata": {
  "kernelspec": {
   "display_name": "Python 3",
   "language": "python",
   "name": "python3"
  },
  "language_info": {
   "codemirror_mode": {
    "name": "ipython",
    "version": 3
   },
   "file_extension": ".py",
   "mimetype": "text/x-python",
   "name": "python",
   "nbconvert_exporter": "python",
   "pygments_lexer": "ipython3",
   "version": "3.7.3"
  }
 },
 "nbformat": 4,
 "nbformat_minor": 2
}
