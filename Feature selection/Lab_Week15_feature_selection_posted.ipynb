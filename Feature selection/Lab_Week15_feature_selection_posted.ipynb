{
 "cells": [
  {
   "cell_type": "code",
   "execution_count": 1,
   "metadata": {},
   "outputs": [],
   "source": [
    "import pandas as pd\n",
    "import numpy as np\n",
    "import matplotlib.pyplot as plt\n",
    "import seaborn as sns\n",
    "%matplotlib inline"
   ]
  },
  {
   "cell_type": "code",
   "execution_count": 2,
   "metadata": {},
   "outputs": [],
   "source": [
    "from sklearn.model_selection import train_test_split\n",
    "from sklearn.linear_model import LinearRegression\n",
    "from sklearn import metrics"
   ]
  },
  {
   "cell_type": "code",
   "execution_count": 3,
   "metadata": {},
   "outputs": [
    {
     "data": {
      "text/html": [
       "<div>\n",
       "<style scoped>\n",
       "    .dataframe tbody tr th:only-of-type {\n",
       "        vertical-align: middle;\n",
       "    }\n",
       "\n",
       "    .dataframe tbody tr th {\n",
       "        vertical-align: top;\n",
       "    }\n",
       "\n",
       "    .dataframe thead th {\n",
       "        text-align: right;\n",
       "    }\n",
       "</style>\n",
       "<table border=\"1\" class=\"dataframe\">\n",
       "  <thead>\n",
       "    <tr style=\"text-align: right;\">\n",
       "      <th></th>\n",
       "      <th>Item_Identifier</th>\n",
       "      <th>Item_Weight</th>\n",
       "      <th>Item_Fat_Content</th>\n",
       "      <th>Item_Visibility</th>\n",
       "      <th>Item_Type</th>\n",
       "      <th>Item_MRP</th>\n",
       "      <th>Outlet_Identifier</th>\n",
       "      <th>Outlet_Establishment_Year</th>\n",
       "      <th>Outlet_Size</th>\n",
       "      <th>Outlet_Location_Type</th>\n",
       "      <th>Outlet_Type</th>\n",
       "      <th>Item_Outlet_Sales</th>\n",
       "    </tr>\n",
       "  </thead>\n",
       "  <tbody>\n",
       "    <tr>\n",
       "      <th>0</th>\n",
       "      <td>FDA15</td>\n",
       "      <td>9.30</td>\n",
       "      <td>Low Fat</td>\n",
       "      <td>0.016047</td>\n",
       "      <td>Dairy</td>\n",
       "      <td>249.8092</td>\n",
       "      <td>OUT049</td>\n",
       "      <td>1999</td>\n",
       "      <td>Medium</td>\n",
       "      <td>Tier 1</td>\n",
       "      <td>Supermarket Type1</td>\n",
       "      <td>3735.1380</td>\n",
       "    </tr>\n",
       "    <tr>\n",
       "      <th>1</th>\n",
       "      <td>DRC01</td>\n",
       "      <td>5.92</td>\n",
       "      <td>Regular</td>\n",
       "      <td>0.019278</td>\n",
       "      <td>Soft Drinks</td>\n",
       "      <td>48.2692</td>\n",
       "      <td>OUT018</td>\n",
       "      <td>2009</td>\n",
       "      <td>Medium</td>\n",
       "      <td>Tier 3</td>\n",
       "      <td>Supermarket Type2</td>\n",
       "      <td>443.4228</td>\n",
       "    </tr>\n",
       "    <tr>\n",
       "      <th>2</th>\n",
       "      <td>FDN15</td>\n",
       "      <td>17.50</td>\n",
       "      <td>Low Fat</td>\n",
       "      <td>0.016760</td>\n",
       "      <td>Meat</td>\n",
       "      <td>141.6180</td>\n",
       "      <td>OUT049</td>\n",
       "      <td>1999</td>\n",
       "      <td>Medium</td>\n",
       "      <td>Tier 1</td>\n",
       "      <td>Supermarket Type1</td>\n",
       "      <td>2097.2700</td>\n",
       "    </tr>\n",
       "    <tr>\n",
       "      <th>3</th>\n",
       "      <td>FDX07</td>\n",
       "      <td>19.20</td>\n",
       "      <td>Regular</td>\n",
       "      <td>0.000000</td>\n",
       "      <td>Fruits and Vegetables</td>\n",
       "      <td>182.0950</td>\n",
       "      <td>OUT010</td>\n",
       "      <td>1998</td>\n",
       "      <td>NaN</td>\n",
       "      <td>Tier 3</td>\n",
       "      <td>Grocery Store</td>\n",
       "      <td>732.3800</td>\n",
       "    </tr>\n",
       "    <tr>\n",
       "      <th>4</th>\n",
       "      <td>NCD19</td>\n",
       "      <td>8.93</td>\n",
       "      <td>Low Fat</td>\n",
       "      <td>0.000000</td>\n",
       "      <td>Household</td>\n",
       "      <td>53.8614</td>\n",
       "      <td>OUT013</td>\n",
       "      <td>1987</td>\n",
       "      <td>High</td>\n",
       "      <td>Tier 3</td>\n",
       "      <td>Supermarket Type1</td>\n",
       "      <td>994.7052</td>\n",
       "    </tr>\n",
       "  </tbody>\n",
       "</table>\n",
       "</div>"
      ],
      "text/plain": [
       "  Item_Identifier  Item_Weight Item_Fat_Content  Item_Visibility  \\\n",
       "0           FDA15         9.30          Low Fat         0.016047   \n",
       "1           DRC01         5.92          Regular         0.019278   \n",
       "2           FDN15        17.50          Low Fat         0.016760   \n",
       "3           FDX07        19.20          Regular         0.000000   \n",
       "4           NCD19         8.93          Low Fat         0.000000   \n",
       "\n",
       "               Item_Type  Item_MRP Outlet_Identifier  \\\n",
       "0                  Dairy  249.8092            OUT049   \n",
       "1            Soft Drinks   48.2692            OUT018   \n",
       "2                   Meat  141.6180            OUT049   \n",
       "3  Fruits and Vegetables  182.0950            OUT010   \n",
       "4              Household   53.8614            OUT013   \n",
       "\n",
       "   Outlet_Establishment_Year Outlet_Size Outlet_Location_Type  \\\n",
       "0                       1999      Medium               Tier 1   \n",
       "1                       2009      Medium               Tier 3   \n",
       "2                       1999      Medium               Tier 1   \n",
       "3                       1998         NaN               Tier 3   \n",
       "4                       1987        High               Tier 3   \n",
       "\n",
       "         Outlet_Type  Item_Outlet_Sales  \n",
       "0  Supermarket Type1          3735.1380  \n",
       "1  Supermarket Type2           443.4228  \n",
       "2  Supermarket Type1          2097.2700  \n",
       "3      Grocery Store           732.3800  \n",
       "4  Supermarket Type1           994.7052  "
      ]
     },
     "execution_count": 3,
     "metadata": {},
     "output_type": "execute_result"
    }
   ],
   "source": [
    "orig_df = pd.read_csv(\"big_mart_sales.csv\")\n",
    "orig_df.head()"
   ]
  },
  {
   "cell_type": "code",
   "execution_count": 4,
   "metadata": {},
   "outputs": [
    {
     "data": {
      "text/plain": [
       "(8523, 12)"
      ]
     },
     "execution_count": 4,
     "metadata": {},
     "output_type": "execute_result"
    }
   ],
   "source": [
    "orig_df.shape"
   ]
  },
  {
   "cell_type": "code",
   "execution_count": 5,
   "metadata": {},
   "outputs": [
    {
     "data": {
      "text/plain": [
       "Item_Identifier               object\n",
       "Item_Weight                  float64\n",
       "Item_Fat_Content              object\n",
       "Item_Visibility              float64\n",
       "Item_Type                     object\n",
       "Item_MRP                     float64\n",
       "Outlet_Identifier             object\n",
       "Outlet_Establishment_Year      int64\n",
       "Outlet_Size                   object\n",
       "Outlet_Location_Type          object\n",
       "Outlet_Type                   object\n",
       "Item_Outlet_Sales            float64\n",
       "dtype: object"
      ]
     },
     "execution_count": 5,
     "metadata": {},
     "output_type": "execute_result"
    }
   ],
   "source": [
    "orig_df.dtypes"
   ]
  },
  {
   "cell_type": "code",
   "execution_count": 6,
   "metadata": {},
   "outputs": [
    {
     "data": {
      "text/plain": [
       "array(['Medium', nan, 'High', 'Small'], dtype=object)"
      ]
     },
     "execution_count": 6,
     "metadata": {},
     "output_type": "execute_result"
    }
   ],
   "source": [
    "orig_df.Outlet_Size.unique()"
   ]
  },
  {
   "cell_type": "code",
   "execution_count": 7,
   "metadata": {},
   "outputs": [
    {
     "data": {
      "text/plain": [
       "array(['Low Fat', 'Regular', 'low fat', 'LF', 'reg'], dtype=object)"
      ]
     },
     "execution_count": 7,
     "metadata": {},
     "output_type": "execute_result"
    }
   ],
   "source": [
    "orig_df.Item_Fat_Content.unique()"
   ]
  },
  {
   "cell_type": "code",
   "execution_count": 8,
   "metadata": {},
   "outputs": [
    {
     "data": {
      "text/plain": [
       "Index(['Item_Weight', 'Item_Visibility', 'Item_MRP',\n",
       "       'Outlet_Establishment_Year', 'Item_Outlet_Sales', 'Item_Fat_Content_LF',\n",
       "       'Item_Fat_Content_Low Fat', 'Item_Fat_Content_Regular',\n",
       "       'Item_Fat_Content_low fat', 'Item_Fat_Content_reg',\n",
       "       'Item_Type_Baking Goods', 'Item_Type_Breads', 'Item_Type_Breakfast',\n",
       "       'Item_Type_Canned', 'Item_Type_Dairy', 'Item_Type_Frozen Foods',\n",
       "       'Item_Type_Fruits and Vegetables', 'Item_Type_Hard Drinks',\n",
       "       'Item_Type_Health and Hygiene', 'Item_Type_Household', 'Item_Type_Meat',\n",
       "       'Item_Type_Others', 'Item_Type_Seafood', 'Item_Type_Snack Foods',\n",
       "       'Item_Type_Soft Drinks', 'Item_Type_Starchy Foods', 'Outlet_Size_High',\n",
       "       'Outlet_Size_Medium', 'Outlet_Size_Small',\n",
       "       'Outlet_Location_Type_Tier 1', 'Outlet_Location_Type_Tier 2',\n",
       "       'Outlet_Location_Type_Tier 3', 'Outlet_Type_Grocery Store',\n",
       "       'Outlet_Type_Supermarket Type1', 'Outlet_Type_Supermarket Type2',\n",
       "       'Outlet_Type_Supermarket Type3'],\n",
       "      dtype='object')"
      ]
     },
     "execution_count": 8,
     "metadata": {},
     "output_type": "execute_result"
    }
   ],
   "source": [
    "# Original, there 11 features (variables) and 1 output ('Item_Outlet_Sales').\n",
    "# To increase number of features, we change categorcial data column to numerical data.\n",
    "# To turn categorcial data column, get_dummies function is used.\n",
    "# Example: if there exists 1 feature column called gender with 2 values {male, female}, \n",
    "#         get_dummies function will converts to 2 columns: gender_male, gender_female (with values 0,1)\n",
    "\n",
    "# Note that 'Item_Identifier', 'Outlet_Identifier' are IDs; they have too many unique values \n",
    "# If we convert these two columns to numerical data, we will get too many resulting columns \n",
    "# Hence, we will drop these two columns\n",
    "\n",
    "df=orig_df.copy()\n",
    "temp_df=df.drop(['Item_Identifier', 'Outlet_Identifier'], axis=1)\n",
    "\n",
    "dummy_df=pd.get_dummies(temp_df)  \n",
    "dummy_df.columns    \n",
    "# dummy_df has 35 columns "
   ]
  },
  {
   "cell_type": "code",
   "execution_count": 9,
   "metadata": {},
   "outputs": [
    {
     "data": {
      "text/plain": [
       "Index(['Item_Weight', 'Item_Visibility', 'Item_MRP',\n",
       "       'Outlet_Establishment_Year', 'Item_Outlet_Sales', 'Item_Fat_Content_LF',\n",
       "       'Item_Fat_Content_Low Fat', 'Item_Fat_Content_Regular',\n",
       "       'Item_Fat_Content_low fat', 'Item_Fat_Content_reg',\n",
       "       'Item_Type_Baking Goods', 'Item_Type_Breads', 'Item_Type_Breakfast',\n",
       "       'Item_Type_Canned', 'Item_Type_Dairy', 'Item_Type_Frozen Foods',\n",
       "       'Item_Type_Fruits and Vegetables', 'Item_Type_Hard Drinks',\n",
       "       'Item_Type_Health and Hygiene', 'Item_Type_Household', 'Item_Type_Meat',\n",
       "       'Item_Type_Others', 'Item_Type_Seafood', 'Item_Type_Snack Foods',\n",
       "       'Item_Type_Soft Drinks', 'Item_Type_Starchy Foods', 'Outlet_Size_High',\n",
       "       'Outlet_Size_Medium', 'Outlet_Size_Small',\n",
       "       'Outlet_Location_Type_Tier 1', 'Outlet_Location_Type_Tier 2',\n",
       "       'Outlet_Location_Type_Tier 3', 'Outlet_Type_Grocery Store',\n",
       "       'Outlet_Type_Supermarket Type1', 'Outlet_Type_Supermarket Type2',\n",
       "       'Outlet_Type_Supermarket Type3'],\n",
       "      dtype='object')"
      ]
     },
     "execution_count": 9,
     "metadata": {},
     "output_type": "execute_result"
    }
   ],
   "source": [
    "dummy_df.columns"
   ]
  },
  {
   "cell_type": "code",
   "execution_count": 10,
   "metadata": {},
   "outputs": [
    {
     "data": {
      "text/plain": [
       "35"
      ]
     },
     "execution_count": 10,
     "metadata": {},
     "output_type": "execute_result"
    }
   ],
   "source": [
    "input_vars = ['Item_Weight', 'Item_Visibility', 'Item_MRP',\n",
    "       'Outlet_Establishment_Year', 'Item_Fat_Content_LF',\n",
    "       'Item_Fat_Content_Low Fat', 'Item_Fat_Content_Regular',\n",
    "       'Item_Fat_Content_low fat', 'Item_Fat_Content_reg',\n",
    "       'Item_Type_Baking Goods', 'Item_Type_Breads', 'Item_Type_Breakfast',\n",
    "       'Item_Type_Canned', 'Item_Type_Dairy', 'Item_Type_Frozen Foods',\n",
    "       'Item_Type_Fruits and Vegetables', 'Item_Type_Hard Drinks',\n",
    "       'Item_Type_Health and Hygiene', 'Item_Type_Household', 'Item_Type_Meat',\n",
    "       'Item_Type_Others', 'Item_Type_Seafood', 'Item_Type_Snack Foods',\n",
    "       'Item_Type_Soft Drinks', 'Item_Type_Starchy Foods', 'Outlet_Size_High',\n",
    "       'Outlet_Size_Medium', 'Outlet_Size_Small',\n",
    "       'Outlet_Location_Type_Tier 1', 'Outlet_Location_Type_Tier 2',\n",
    "       'Outlet_Location_Type_Tier 3', 'Outlet_Type_Grocery Store',\n",
    "       'Outlet_Type_Supermarket Type1', 'Outlet_Type_Supermarket Type2',\n",
    "       'Outlet_Type_Supermarket Type3']\n",
    "len(input_vars)"
   ]
  },
  {
   "cell_type": "code",
   "execution_count": 11,
   "metadata": {},
   "outputs": [
    {
     "data": {
      "text/plain": [
       "[1083.717949253594, 0.5145832367307772]"
      ]
     },
     "execution_count": 11,
     "metadata": {},
     "output_type": "execute_result"
    }
   ],
   "source": [
    "# Perform regresssion with original 35 independent variables\n",
    "\n",
    "df = dummy_df.dropna()\n",
    "X = df[input_vars]\n",
    "y = df.Item_Outlet_Sales\n",
    "X_train, X_test, y_train, y_test = train_test_split(X, y, test_size=0.3, random_state=99)\n",
    "lm = LinearRegression()\n",
    "lm.fit(X_train, y_train)\n",
    "y_pred = lm.predict(X_test)\n",
    "[np.sqrt(metrics.mean_squared_error(y_test,y_pred)),metrics.r2_score(y_test,y_pred)]"
   ]
  },
  {
   "cell_type": "markdown",
   "metadata": {},
   "source": [
    "# Filter Methods"
   ]
  },
  {
   "cell_type": "markdown",
   "metadata": {},
   "source": [
    "## Missing Value Ratio"
   ]
  },
  {
   "cell_type": "code",
   "execution_count": 12,
   "metadata": {},
   "outputs": [
    {
     "data": {
      "text/plain": [
       "<matplotlib.axes._subplots.AxesSubplot at 0x1da881d35c0>"
      ]
     },
     "execution_count": 12,
     "metadata": {},
     "output_type": "execute_result"
    },
    {
     "data": {
      "image/png": "[encoded data removed]",
      "text/plain": [
       "<Figure size 432x288 with 1 Axes>"
      ]
     },
     "metadata": {
      "needs_background": "light"
     },
     "output_type": "display_data"
    }
   ],
   "source": [
    "# Use heatmap to visualize missing value (null) positions\n",
    "df=dummy_df.copy()\n",
    "sns.heatmap(df.isnull(),yticklabels=False,cbar=False,cmap='viridis')"
   ]
  },
  {
   "cell_type": "code",
   "execution_count": 13,
   "metadata": {},
   "outputs": [
    {
     "data": {
      "text/plain": [
       "Item_Weight                        17.165317\n",
       "Item_Visibility                     0.000000\n",
       "Item_MRP                            0.000000\n",
       "Outlet_Establishment_Year           0.000000\n",
       "Item_Outlet_Sales                   0.000000\n",
       "Item_Fat_Content_LF                 0.000000\n",
       "Item_Fat_Content_Low Fat            0.000000\n",
       "Item_Fat_Content_Regular            0.000000\n",
       "Item_Fat_Content_low fat            0.000000\n",
       "Item_Fat_Content_reg                0.000000\n",
       "Item_Type_Baking Goods              0.000000\n",
       "Item_Type_Breads                    0.000000\n",
       "Item_Type_Breakfast                 0.000000\n",
       "Item_Type_Canned                    0.000000\n",
       "Item_Type_Dairy                     0.000000\n",
       "Item_Type_Frozen Foods              0.000000\n",
       "Item_Type_Fruits and Vegetables     0.000000\n",
       "Item_Type_Hard Drinks               0.000000\n",
       "Item_Type_Health and Hygiene        0.000000\n",
       "Item_Type_Household                 0.000000\n",
       "Item_Type_Meat                      0.000000\n",
       "Item_Type_Others                    0.000000\n",
       "Item_Type_Seafood                   0.000000\n",
       "Item_Type_Snack Foods               0.000000\n",
       "Item_Type_Soft Drinks               0.000000\n",
       "Item_Type_Starchy Foods             0.000000\n",
       "Outlet_Size_High                    0.000000\n",
       "Outlet_Size_Medium                  0.000000\n",
       "Outlet_Size_Small                   0.000000\n",
       "Outlet_Location_Type_Tier 1         0.000000\n",
       "Outlet_Location_Type_Tier 2         0.000000\n",
       "Outlet_Location_Type_Tier 3         0.000000\n",
       "Outlet_Type_Grocery Store           0.000000\n",
       "Outlet_Type_Supermarket Type1       0.000000\n",
       "Outlet_Type_Supermarket Type2       0.000000\n",
       "Outlet_Type_Supermarket Type3       0.000000\n",
       "dtype: float64"
      ]
     },
     "execution_count": 13,
     "metadata": {},
     "output_type": "execute_result"
    }
   ],
   "source": [
    "# Find missing value percent for each variable\n",
    "null_percent = df.isnull().sum()/len(df)*100\n",
    "null_percent"
   ]
  },
  {
   "cell_type": "code",
   "execution_count": 14,
   "metadata": {},
   "outputs": [],
   "source": [
    "# Replace missing values with mean\n",
    "df['Item_Weight'].fillna(df['Item_Weight'].mean(), inplace=True)  "
   ]
  },
  {
   "cell_type": "code",
   "execution_count": 15,
   "metadata": {},
   "outputs": [
    {
     "data": {
      "text/plain": [
       "Item_Weight                        0.0\n",
       "Item_Visibility                    0.0\n",
       "Item_MRP                           0.0\n",
       "Outlet_Establishment_Year          0.0\n",
       "Item_Outlet_Sales                  0.0\n",
       "Item_Fat_Content_LF                0.0\n",
       "Item_Fat_Content_Low Fat           0.0\n",
       "Item_Fat_Content_Regular           0.0\n",
       "Item_Fat_Content_low fat           0.0\n",
       "Item_Fat_Content_reg               0.0\n",
       "Item_Type_Baking Goods             0.0\n",
       "Item_Type_Breads                   0.0\n",
       "Item_Type_Breakfast                0.0\n",
       "Item_Type_Canned                   0.0\n",
       "Item_Type_Dairy                    0.0\n",
       "Item_Type_Frozen Foods             0.0\n",
       "Item_Type_Fruits and Vegetables    0.0\n",
       "Item_Type_Hard Drinks              0.0\n",
       "Item_Type_Health and Hygiene       0.0\n",
       "Item_Type_Household                0.0\n",
       "Item_Type_Meat                     0.0\n",
       "Item_Type_Others                   0.0\n",
       "Item_Type_Seafood                  0.0\n",
       "Item_Type_Snack Foods              0.0\n",
       "Item_Type_Soft Drinks              0.0\n",
       "Item_Type_Starchy Foods            0.0\n",
       "Outlet_Size_High                   0.0\n",
       "Outlet_Size_Medium                 0.0\n",
       "Outlet_Size_Small                  0.0\n",
       "Outlet_Location_Type_Tier 1        0.0\n",
       "Outlet_Location_Type_Tier 2        0.0\n",
       "Outlet_Location_Type_Tier 3        0.0\n",
       "Outlet_Type_Grocery Store          0.0\n",
       "Outlet_Type_Supermarket Type1      0.0\n",
       "Outlet_Type_Supermarket Type2      0.0\n",
       "Outlet_Type_Supermarket Type3      0.0\n",
       "dtype: float64"
      ]
     },
     "execution_count": 15,
     "metadata": {},
     "output_type": "execute_result"
    }
   ],
   "source": [
    "# After replacing missing values, re-check %missing data\n",
    "df.isnull().sum()/len(df)*100"
   ]
  },
  {
   "cell_type": "code",
   "execution_count": 16,
   "metadata": {},
   "outputs": [
    {
     "data": {
      "text/plain": [
       "[1152.713791478192, 0.5682526517380434]"
      ]
     },
     "execution_count": 16,
     "metadata": {},
     "output_type": "execute_result"
    }
   ],
   "source": [
    "## Perform regresssion with 35 original independent features\n",
    "##         where missing values in Item_Weight is replaced with its mean\n",
    "\n",
    "X = df[input_vars]\n",
    "y = df.Item_Outlet_Sales\n",
    "X_train, X_test, y_train, y_test = train_test_split(X, y, test_size=0.3, random_state=99)\n",
    "lm = LinearRegression()\n",
    "lm.fit(X_train, y_train)\n",
    "y_pred = lm.predict(X_test)\n",
    "[np.sqrt(metrics.mean_squared_error(y_test,y_pred)),metrics.r2_score(y_test,y_pred)]"
   ]
  },
  {
   "cell_type": "code",
   "execution_count": 17,
   "metadata": {},
   "outputs": [
    {
     "data": {
      "text/plain": [
       "['Item_Visibility',\n",
       " 'Item_MRP',\n",
       " 'Outlet_Establishment_Year',\n",
       " 'Item_Fat_Content_LF',\n",
       " 'Item_Fat_Content_Low Fat',\n",
       " 'Item_Fat_Content_Regular',\n",
       " 'Item_Fat_Content_low fat',\n",
       " 'Item_Fat_Content_reg',\n",
       " 'Item_Type_Baking Goods',\n",
       " 'Item_Type_Breads',\n",
       " 'Item_Type_Breakfast',\n",
       " 'Item_Type_Canned',\n",
       " 'Item_Type_Dairy',\n",
       " 'Item_Type_Frozen Foods',\n",
       " 'Item_Type_Fruits and Vegetables',\n",
       " 'Item_Type_Hard Drinks',\n",
       " 'Item_Type_Health and Hygiene',\n",
       " 'Item_Type_Household',\n",
       " 'Item_Type_Meat',\n",
       " 'Item_Type_Others',\n",
       " 'Item_Type_Seafood',\n",
       " 'Item_Type_Snack Foods',\n",
       " 'Item_Type_Soft Drinks',\n",
       " 'Item_Type_Starchy Foods',\n",
       " 'Outlet_Size_High',\n",
       " 'Outlet_Size_Medium',\n",
       " 'Outlet_Size_Small',\n",
       " 'Outlet_Location_Type_Tier 1',\n",
       " 'Outlet_Location_Type_Tier 2',\n",
       " 'Outlet_Location_Type_Tier 3',\n",
       " 'Outlet_Type_Grocery Store',\n",
       " 'Outlet_Type_Supermarket Type1',\n",
       " 'Outlet_Type_Supermarket Type2',\n",
       " 'Outlet_Type_Supermarket Type3']"
      ]
     },
     "execution_count": 17,
     "metadata": {},
     "output_type": "execute_result"
    }
   ],
   "source": [
    "# Instead of replacing missing values, let's drop features that have %missing ratios > threshold\n",
    "# Let's set threshold = acceptable_missing_ratio = 15 (otherwise, Item_Weight will not be dropped if we set higher than this.)\n",
    "\n",
    "# Below is to get name of features that has %missing values <= acceptable_missing_ratio\n",
    "# Note that input_vars = a list of 35 original features\n",
    "# Here, updated_vars = a list of features with %missing values <= acceptable_missing_ratio\n",
    "\n",
    "df = dummy_df.copy()\n",
    "acceptable_missing_ratio = 15\n",
    "updated_vars = []\n",
    "for i in range(0,len(input_vars)):  \n",
    "    # if %missing value of this feature is less than or at least threshold, keep this feature\n",
    "    if null_percent[i] <= acceptable_missing_ratio :          \n",
    "        updated_vars.append(input_vars[i])\n",
    "updated_vars"
   ]
  },
  {
   "cell_type": "code",
   "execution_count": 18,
   "metadata": {},
   "outputs": [
    {
     "data": {
      "text/plain": [
       "34"
      ]
     },
     "execution_count": 18,
     "metadata": {},
     "output_type": "execute_result"
    }
   ],
   "source": [
    "len(updated_vars) \n",
    "# Since one column (Item_weight) has %missing data > 15%, number of features decreases from 35 to 34."
   ]
  },
  {
   "cell_type": "code",
   "execution_count": 19,
   "metadata": {},
   "outputs": [
    {
     "data": {
      "text/plain": [
       "[1152.5558294091684, 0.5683709725771966]"
      ]
     },
     "execution_count": 19,
     "metadata": {},
     "output_type": "execute_result"
    }
   ],
   "source": [
    "## Perform regresssion with 34 independent variables\n",
    "##         Item_Weight with %missing values above threshold is dropped\n",
    "\n",
    "X = df[updated_vars]\n",
    "y = df.Item_Outlet_Sales\n",
    "X_train, X_test, y_train, y_test = train_test_split(X, y, test_size=0.3, random_state=99)\n",
    "lm = LinearRegression()\n",
    "lm.fit(X_train, y_train)\n",
    "y_pred = lm.predict(X_test)\n",
    "[np.sqrt(metrics.mean_squared_error(y_test,y_pred)),metrics.r2_score(y_test,y_pred)]"
   ]
  },
  {
   "cell_type": "markdown",
   "metadata": {},
   "source": [
    "## Low Variance Filtering"
   ]
  },
  {
   "cell_type": "code",
   "execution_count": 20,
   "metadata": {},
   "outputs": [
    {
     "data": {
      "text/plain": [
       "Item_Weight                        2.156169e+01\n",
       "Item_Visibility                    2.662335e-03\n",
       "Item_MRP                           3.878184e+03\n",
       "Outlet_Establishment_Year          7.008637e+01\n",
       "Item_Outlet_Sales                  2.912141e+06\n",
       "Item_Fat_Content_LF                3.570570e-02\n",
       "Item_Fat_Content_Low Fat           2.406017e-01\n",
       "Item_Fat_Content_Regular           2.240941e-01\n",
       "Item_Fat_Content_low fat           1.296975e-02\n",
       "Item_Fat_Content_reg               1.354070e-02\n",
       "Item_Type_Baking Goods             7.025732e-02\n",
       "Item_Type_Breads                   2.858579e-02\n",
       "Item_Type_Breakfast                1.274118e-02\n",
       "Item_Type_Canned                   7.035680e-02\n",
       "Item_Type_Dairy                    7.362441e-02\n",
       "Item_Type_Frozen Foods             9.035771e-02\n",
       "Item_Type_Fruits and Vegetables    1.236698e-01\n",
       "Item_Type_Hard Drinks              2.448096e-02\n",
       "Item_Type_Health and Hygiene       5.729571e-02\n",
       "Item_Type_Household                9.538129e-02\n",
       "Item_Type_Meat                     4.738411e-02\n",
       "Item_Type_Others                   1.943780e-02\n",
       "Item_Type_Seafood                  7.453581e-03\n",
       "Item_Type_Snack Foods              1.209863e-01\n",
       "Item_Type_Soft Drinks              4.949141e-02\n",
       "Item_Type_Starchy Foods            1.706524e-02\n",
       "Outlet_Size_High                   9.740492e-02\n",
       "Outlet_Size_Medium                 2.203391e-01\n",
       "Outlet_Size_Small                  2.017042e-01\n",
       "Outlet_Location_Type_Tier 1        2.017042e-01\n",
       "Outlet_Location_Type_Tier 2        2.200147e-01\n",
       "Outlet_Location_Type_Tier 3        2.385906e-01\n",
       "Outlet_Type_Grocery Store          1.109347e-01\n",
       "Outlet_Type_Supermarket Type1      2.262035e-01\n",
       "Outlet_Type_Supermarket Type2      9.703798e-02\n",
       "Outlet_Type_Supermarket Type3      9.767983e-02\n",
       "dtype: float64"
      ]
     },
     "execution_count": 20,
     "metadata": {},
     "output_type": "execute_result"
    }
   ],
   "source": [
    "# Compute variance of each feature\n",
    "df = dummy_df.copy()\n",
    "df.var()"
   ]
  },
  {
   "cell_type": "code",
   "execution_count": 21,
   "metadata": {},
   "outputs": [
    {
     "data": {
      "text/plain": [
       "['Item_Weight', 'Item_MRP', 'Outlet_Establishment_Year']"
      ]
     },
     "execution_count": 21,
     "metadata": {},
     "output_type": "execute_result"
    }
   ],
   "source": [
    "# After scanning variances from all features above, set minimum variance threshold = 10 \n",
    "# Note that minimum variance threshold can be set to any value\n",
    "\n",
    "# Below is to remove features with low variances\n",
    "# Note that input_vars = a list of 35 original features\n",
    "# Here, updated_vars = a list of features with variance >= minimum variance threshold\n",
    "\n",
    "min_var_threshold = 10\n",
    "updated_vars = [ ]\n",
    "for i in range(0,len(df[input_vars].var())):\n",
    "\n",
    "    if df[input_vars].var()[i] >= min_var_threshold:   \n",
    "        updated_vars.append(df[input_vars].columns[i])\n",
    "updated_vars"
   ]
  },
  {
   "cell_type": "code",
   "execution_count": 22,
   "metadata": {},
   "outputs": [
    {
     "name": "stderr",
     "output_type": "stream",
     "text": [
      "C:\\Users\\Nu\\Anaconda3\\lib\\site-packages\\ipykernel_launcher.py:5: SettingWithCopyWarning: \n",
      "A value is trying to be set on a copy of a slice from a DataFrame.\n",
      "Try using .loc[row_indexer,col_indexer] = value instead\n",
      "\n",
      "See the caveats in the documentation: https://pandas.pydata.org/pandas-docs/stable/user_guide/indexing.html#returning-a-view-versus-a-copy\n",
      "  \"\"\"\n"
     ]
    },
    {
     "data": {
      "text/html": [
       "<div>\n",
       "<style scoped>\n",
       "    .dataframe tbody tr th:only-of-type {\n",
       "        vertical-align: middle;\n",
       "    }\n",
       "\n",
       "    .dataframe tbody tr th {\n",
       "        vertical-align: top;\n",
       "    }\n",
       "\n",
       "    .dataframe thead th {\n",
       "        text-align: right;\n",
       "    }\n",
       "</style>\n",
       "<table border=\"1\" class=\"dataframe\">\n",
       "  <thead>\n",
       "    <tr style=\"text-align: right;\">\n",
       "      <th></th>\n",
       "      <th>Item_Weight</th>\n",
       "      <th>Item_MRP</th>\n",
       "      <th>Outlet_Establishment_Year</th>\n",
       "      <th>Item_Outlet_Sales</th>\n",
       "    </tr>\n",
       "  </thead>\n",
       "  <tbody>\n",
       "    <tr>\n",
       "      <th>0</th>\n",
       "      <td>9.30</td>\n",
       "      <td>249.8092</td>\n",
       "      <td>1999</td>\n",
       "      <td>3735.1380</td>\n",
       "    </tr>\n",
       "    <tr>\n",
       "      <th>1</th>\n",
       "      <td>5.92</td>\n",
       "      <td>48.2692</td>\n",
       "      <td>2009</td>\n",
       "      <td>443.4228</td>\n",
       "    </tr>\n",
       "    <tr>\n",
       "      <th>2</th>\n",
       "      <td>17.50</td>\n",
       "      <td>141.6180</td>\n",
       "      <td>1999</td>\n",
       "      <td>2097.2700</td>\n",
       "    </tr>\n",
       "    <tr>\n",
       "      <th>3</th>\n",
       "      <td>19.20</td>\n",
       "      <td>182.0950</td>\n",
       "      <td>1998</td>\n",
       "      <td>732.3800</td>\n",
       "    </tr>\n",
       "    <tr>\n",
       "      <th>4</th>\n",
       "      <td>8.93</td>\n",
       "      <td>53.8614</td>\n",
       "      <td>1987</td>\n",
       "      <td>994.7052</td>\n",
       "    </tr>\n",
       "  </tbody>\n",
       "</table>\n",
       "</div>"
      ],
      "text/plain": [
       "   Item_Weight  Item_MRP  Outlet_Establishment_Year  Item_Outlet_Sales\n",
       "0         9.30  249.8092                       1999          3735.1380\n",
       "1         5.92   48.2692                       2009           443.4228\n",
       "2        17.50  141.6180                       1999          2097.2700\n",
       "3        19.20  182.0950                       1998           732.3800\n",
       "4         8.93   53.8614                       1987           994.7052"
      ]
     },
     "execution_count": 22,
     "metadata": {},
     "output_type": "execute_result"
    }
   ],
   "source": [
    "# Above, there are 3 features with variance >= minimum variance threshold\n",
    "# Create new data frame with these 3 features and 1 output\n",
    "\n",
    "df2 = df[updated_vars]\n",
    "df2['Item_Outlet_Sales']=df.Item_Outlet_Sales\n",
    "df2.head()"
   ]
  },
  {
   "cell_type": "code",
   "execution_count": 23,
   "metadata": {},
   "outputs": [
    {
     "data": {
      "text/plain": [
       "[1191.4341205493076, 0.4132916031409224]"
      ]
     },
     "execution_count": 23,
     "metadata": {},
     "output_type": "execute_result"
    }
   ],
   "source": [
    "## Perform regresssion with 3 features with variance >= minimum variance threshold\n",
    "\n",
    "df2 = df2.dropna()\n",
    "X = df2[updated_vars]\n",
    "y = df2['Item_Outlet_Sales']\n",
    "X_train, X_test, y_train, y_test = train_test_split(X, y, test_size=0.3, random_state=99)\n",
    "lm = LinearRegression()\n",
    "lm.fit(X_train, y_train)\n",
    "y_pred = lm.predict(X_test)\n",
    "[np.sqrt(metrics.mean_squared_error(y_test,y_pred)),metrics.r2_score(y_test,y_pred)]"
   ]
  },
  {
   "cell_type": "markdown",
   "metadata": {},
   "source": [
    "## High Correlation Filtering"
   ]
  },
  {
   "cell_type": "code",
   "execution_count": 24,
   "metadata": {},
   "outputs": [
    {
     "data": {
      "text/plain": [
       "<matplotlib.axes._subplots.AxesSubplot at 0x1da87f69e48>"
      ]
     },
     "execution_count": 24,
     "metadata": {},
     "output_type": "execute_result"
    },
    {
     "data": {
      "image/png": "[encoded data removed]",
      "text/plain": [
       "<Figure size 1080x576 with 2 Axes>"
      ]
     },
     "metadata": {
      "needs_background": "light"
     },
     "output_type": "display_data"
    }
   ],
   "source": [
    "# Plot correlation of numerical data\n",
    "df = dummy_df.copy()\n",
    "plt.figure(figsize=(15,8))\n",
    "sns.heatmap(df.corr(),\n",
    "            square=True,\n",
    "            linewidths=0.25,    \n",
    "            linecolor=(0,0,0),\n",
    "            cmap=sns.color_palette(\"coolwarm\"),\n",
    "            annot=False)"
   ]
  },
  {
   "cell_type": "code",
   "execution_count": 25,
   "metadata": {},
   "outputs": [
    {
     "data": {
      "text/plain": [
       "[1083.717949253594, 0.5145832367307772]"
      ]
     },
     "execution_count": 25,
     "metadata": {},
     "output_type": "execute_result"
    }
   ],
   "source": [
    "## Perform regresssion with 35 original independent variables\n",
    "\n",
    "df = df.dropna()\n",
    "X = df[input_vars]\n",
    "y = df['Item_Outlet_Sales']\n",
    "X_train, X_test, y_train, y_test = train_test_split(X, y, test_size=0.3, random_state=99)\n",
    "lm = LinearRegression()\n",
    "lm.fit(X_train, y_train)\n",
    "y_pred = lm.predict(X_test)\n",
    "[np.sqrt(metrics.mean_squared_error(y_test,y_pred)),metrics.r2_score(y_test,y_pred)]"
   ]
  },
  {
   "cell_type": "code",
   "execution_count": 26,
   "metadata": {},
   "outputs": [
    {
     "data": {
      "text/plain": [
       "(7060, 36)"
      ]
     },
     "execution_count": 26,
     "metadata": {},
     "output_type": "execute_result"
    }
   ],
   "source": [
    "df.shape"
   ]
  },
  {
   "cell_type": "code",
   "execution_count": 27,
   "metadata": {},
   "outputs": [
    {
     "data": {
      "text/plain": [
       "(7060, 35)"
      ]
     },
     "execution_count": 27,
     "metadata": {},
     "output_type": "execute_result"
    }
   ],
   "source": [
    "# Look at correlation matrix, \n",
    "# since Item_Fat_Content_Low Fat and Item_Fat_Content_Regular are highly correlated, \n",
    "# drop one of them\n",
    "\n",
    "df.drop('Item_Fat_Content_Low Fat', 1, inplace=True)\n",
    "df.shape"
   ]
  },
  {
   "cell_type": "code",
   "execution_count": 28,
   "metadata": {},
   "outputs": [
    {
     "data": {
      "text/plain": [
       "34"
      ]
     },
     "execution_count": 28,
     "metadata": {},
     "output_type": "execute_result"
    }
   ],
   "source": [
    "# Note that input_vars = a list of 35 original features\n",
    "# Here, updated_vars = a list of features without Item_Fat_Content_Low Fat\n",
    "\n",
    "updated_vars = list(input_vars)\n",
    "updated_vars.remove('Item_Fat_Content_Low Fat')\n",
    "len(updated_vars )"
   ]
  },
  {
   "cell_type": "code",
   "execution_count": 29,
   "metadata": {},
   "outputs": [
    {
     "data": {
      "text/plain": [
       "[1083.717949253595, 0.5145832367307764]"
      ]
     },
     "execution_count": 29,
     "metadata": {},
     "output_type": "execute_result"
    }
   ],
   "source": [
    "## Perform regresssion with 34 original independent variables\n",
    "##         with dropping one of 2 features with high collinearity: 'Item_Fat_Content_Low Fat' & 'Item_Fat_Content_Regular'\n",
    "\n",
    "df = df.dropna()\n",
    "X = df[updated_vars]\n",
    "y = df['Item_Outlet_Sales']\n",
    "X_train, X_test, y_train, y_test = train_test_split(X, y, test_size=0.3, random_state=99)\n",
    "lm = LinearRegression()\n",
    "lm.fit(X_train, y_train)\n",
    "y_pred = lm.predict(X_test)\n",
    "[np.sqrt(metrics.mean_squared_error(y_test,y_pred)),metrics.r2_score(y_test,y_pred)]\n",
    "\n",
    "# After dropping one feature, model performance is improved \n",
    "# Using all 35 original features -> [1191.4341205493079, 0.4132916031409223]"
   ]
  },
  {
   "cell_type": "code",
   "execution_count": 30,
   "metadata": {},
   "outputs": [
    {
     "data": {
      "text/plain": [
       "(8523, 35)"
      ]
     },
     "execution_count": 30,
     "metadata": {},
     "output_type": "execute_result"
    }
   ],
   "source": [
    "# let's try further\n",
    "# Since Item_MRP is highly correlated with Item_Outlet_Sales, let's drop this Item_MRP and see the performance\n",
    "\n",
    "df=dummy_df.copy()\n",
    "df=df.drop('Item_MRP', 1)\n",
    "df.shape"
   ]
  },
  {
   "cell_type": "code",
   "execution_count": 31,
   "metadata": {},
   "outputs": [
    {
     "data": {
      "text/plain": [
       "34"
      ]
     },
     "execution_count": 31,
     "metadata": {},
     "output_type": "execute_result"
    }
   ],
   "source": [
    "updated_vars = list(input_vars)\n",
    "updated_vars.remove('Item_MRP')\n",
    "len(updated_vars)"
   ]
  },
  {
   "cell_type": "code",
   "execution_count": 32,
   "metadata": {},
   "outputs": [
    {
     "data": {
      "text/plain": [
       "[1462.4503765716693, 0.1160157761434415]"
      ]
     },
     "execution_count": 32,
     "metadata": {},
     "output_type": "execute_result"
    }
   ],
   "source": [
    "## Perform regresssion with 34 original independent variables\n",
    "##         with dropping feature with highest correlation with output (Item_MRP)\n",
    "\n",
    "df = df.dropna()\n",
    "X = df[updated_vars]\n",
    "y = df.Item_Outlet_Sales\n",
    "X_train, X_test, y_train, y_test = train_test_split(X, y, test_size=0.3, random_state=99)\n",
    "lm = LinearRegression()\n",
    "lm.fit(X_train, y_train)\n",
    "y_pred = lm.predict(X_test)\n",
    "[np.sqrt(metrics.mean_squared_error(y_test,y_pred)),metrics.r2_score(y_test,y_pred)]\n",
    "\n",
    "# As you can see, when high-correlated feature with output is dropped.\n",
    "#                 the performance drops significantly "
   ]
  },
  {
   "cell_type": "markdown",
   "metadata": {},
   "source": [
    "# Wrapper Methods"
   ]
  },
  {
   "cell_type": "markdown",
   "metadata": {},
   "source": [
    "## Forward Feature Selection"
   ]
  },
  {
   "cell_type": "code",
   "execution_count": 33,
   "metadata": {},
   "outputs": [],
   "source": [
    "df = dummy_df.copy()\n",
    "df = df.dropna()"
   ]
  },
  {
   "cell_type": "code",
   "execution_count": 34,
   "metadata": {},
   "outputs": [
    {
     "name": "stderr",
     "output_type": "stream",
     "text": [
      "C:\\Users\\Nu\\Anaconda3\\lib\\site-packages\\sklearn\\feature_selection\\_univariate_selection.py:299: RuntimeWarning: invalid value encountered in true_divide\n",
      "  corr /= X_norms\n",
      "C:\\Users\\Nu\\Anaconda3\\lib\\site-packages\\scipy\\stats\\_distn_infrastructure.py:903: RuntimeWarning: invalid value encountered in greater\n",
      "  return (a < x) & (x < b)\n",
      "C:\\Users\\Nu\\Anaconda3\\lib\\site-packages\\scipy\\stats\\_distn_infrastructure.py:903: RuntimeWarning: invalid value encountered in less\n",
      "  return (a < x) & (x < b)\n",
      "C:\\Users\\Nu\\Anaconda3\\lib\\site-packages\\scipy\\stats\\_distn_infrastructure.py:1912: RuntimeWarning: invalid value encountered in less_equal\n",
      "  cond2 = cond0 & (x <= _a)\n"
     ]
    },
    {
     "data": {
      "text/plain": [
       "array([1.40801139e+00, 5.17726426e+01, 4.42949850e+03, 1.05270137e+00,\n",
       "       4.73737889e-01, 1.53048394e+00, 2.87487926e+00, 1.12955167e-01,\n",
       "       7.08267222e-01, 1.00953589e+01, 6.66144894e-02, 5.28795049e-01,\n",
       "       1.51576271e-01, 1.65350855e+00, 4.79364717e-01, 1.82084710e+00,\n",
       "       2.70135119e-01, 6.06147692e+00, 1.63299561e+00, 8.08182049e-01,\n",
       "       3.02152629e-01, 3.59052486e+00, 5.09223712e+00, 3.82146340e+00,\n",
       "       2.19151420e+00, 1.48846800e+01, 3.06910857e+00, 6.22478459e+01,\n",
       "       4.08450057e+01, 8.34541509e+01, 2.41254345e+02, 9.16088886e+02,\n",
       "       4.69929630e+02, 6.89430147e+00,            nan])"
      ]
     },
     "execution_count": 34,
     "metadata": {},
     "output_type": "execute_result"
    }
   ],
   "source": [
    "# f_regression receives input features and output\n",
    "#              and returns f-statistic and p-value for f-test \n",
    "# f-test is to used to test whether model fits data well or not \n",
    "# the more f-statistic (the lower p-value), the better\n",
    "\n",
    "from sklearn.feature_selection import f_regression\n",
    "fstat, pval = f_regression(df[input_vars], df.Item_Outlet_Sales)\n",
    "fstat"
   ]
  },
  {
   "cell_type": "code",
   "execution_count": 35,
   "metadata": {},
   "outputs": [
    {
     "data": {
      "text/plain": [
       "array([2.35426734e-001, 6.87372157e-013, 0.00000000e+000, 3.04920919e-001,\n",
       "       4.91295193e-001, 2.16080987e-001, 9.00158283e-002, 7.36814472e-001,\n",
       "       4.00048166e-001, 1.49284058e-003, 7.96338932e-001, 4.67138005e-001,\n",
       "       6.97045291e-001, 1.98524254e-001, 4.88732992e-001, 1.77255759e-001,\n",
       "       6.03257447e-001, 1.38399386e-002, 2.01331240e-001, 3.68688943e-001,\n",
       "       5.82553445e-001, 5.81507175e-002, 2.40636304e-002, 5.06394445e-002,\n",
       "       1.38817467e-001, 1.15305300e-004, 7.98366420e-002, 3.48629714e-015,\n",
       "       1.75285668e-010, 8.37835967e-020, 1.59935589e-053, 2.58247199e-189,\n",
       "       6.14504046e-101, 8.66575302e-003,             nan])"
      ]
     },
     "execution_count": 35,
     "metadata": {},
     "output_type": "execute_result"
    }
   ],
   "source": [
    "pval"
   ]
  },
  {
   "cell_type": "code",
   "execution_count": 36,
   "metadata": {},
   "outputs": [
    {
     "data": {
      "text/plain": [
       "['Item_Visibility',\n",
       " 'Item_MRP',\n",
       " 'Item_Type_Baking Goods',\n",
       " 'Outlet_Size_High',\n",
       " 'Outlet_Size_Small',\n",
       " 'Outlet_Location_Type_Tier 1',\n",
       " 'Outlet_Location_Type_Tier 2',\n",
       " 'Outlet_Location_Type_Tier 3',\n",
       " 'Outlet_Type_Grocery Store',\n",
       " 'Outlet_Type_Supermarket Type1']"
      ]
     },
     "execution_count": 36,
     "metadata": {},
     "output_type": "execute_result"
    }
   ],
   "source": [
    "# Set threshold to select subset of features based on f-test statistic\n",
    "\n",
    "# Note that input_vars = a list of 35 original features\n",
    "# Here, updated_vars = a list of features selected from f-test statistic from forward feature selection\n",
    "\n",
    "f_value_threshold = 10  # can adjust this value \n",
    "updated_vars = []\n",
    "for i in range(0,len(input_vars)-1):\n",
    "    if fstat[i] >= f_value_threshold:\n",
    "        updated_vars.append(df[input_vars].columns[i])\n",
    "updated_vars"
   ]
  },
  {
   "cell_type": "code",
   "execution_count": 37,
   "metadata": {},
   "outputs": [
    {
     "data": {
      "text/plain": [
       "[1081.9408160768335, 0.5161739512286576]"
      ]
     },
     "execution_count": 37,
     "metadata": {},
     "output_type": "execute_result"
    }
   ],
   "source": [
    "## Perform regresssion with 12 features selected from f-test statistic from forward feature selection\n",
    "\n",
    "X = df[updated_vars]\n",
    "y = df['Item_Outlet_Sales']\n",
    "X_train, X_test, y_train, y_test = train_test_split(X, y, test_size=0.3, random_state=99)\n",
    "lm = LinearRegression()\n",
    "lm.fit(X_train, y_train)\n",
    "y_pred = lm.predict(X_test)\n",
    "[np.sqrt(metrics.mean_squared_error(y_test,y_pred)),metrics.r2_score(y_test,y_pred)]"
   ]
  },
  {
   "cell_type": "markdown",
   "metadata": {},
   "source": [
    "## Recursive Feature Elimination"
   ]
  },
  {
   "cell_type": "code",
   "execution_count": 38,
   "metadata": {},
   "outputs": [],
   "source": [
    "df = dummy_df.copy()\n",
    "df = df.dropna()"
   ]
  },
  {
   "cell_type": "code",
   "execution_count": 39,
   "metadata": {},
   "outputs": [],
   "source": [
    "# RFE receives fit model and number of features to select (which can be adjusted)\n",
    "# rfe receives input features and output \n",
    "\n",
    "from sklearn.linear_model import LinearRegression\n",
    "from sklearn.feature_selection import RFE\n",
    "\n",
    "X = df[input_vars]\n",
    "y = df['Item_Outlet_Sales']\n",
    "n_features = 10  # define by yourself to select important features\n",
    "\n",
    "rfe = RFE(LinearRegression(), n_features)\n",
    "model = rfe.fit(X, y)"
   ]
  },
  {
   "cell_type": "code",
   "execution_count": 40,
   "metadata": {},
   "outputs": [
    {
     "data": {
      "text/plain": [
       "array([25,  1, 18, 13, 20, 17,  9, 14,  8, 24,  7, 15, 21,  5, 11,  6, 23,\n",
       "       19,  4, 10, 22,  1,  3, 12,  1,  1,  1,  1,  2, 16,  1,  1,  1,  1,\n",
       "       26])"
      ]
     },
     "execution_count": 40,
     "metadata": {},
     "output_type": "execute_result"
    }
   ],
   "source": [
    "# rfe masks features that are selected as 1\n",
    "model.ranking_"
   ]
  },
  {
   "cell_type": "code",
   "execution_count": 41,
   "metadata": {},
   "outputs": [
    {
     "data": {
      "text/plain": [
       "array([ -309.78422908,   414.41789489,   186.77469941,   303.84989279,\n",
       "          81.92519515,    91.93168729,  -271.04443863, -1068.02785623,\n",
       "         574.89433143,   493.13352481])"
      ]
     },
     "execution_count": 41,
     "metadata": {},
     "output_type": "execute_result"
    }
   ],
   "source": [
    "# to obtain coefficients of features in regression model\n",
    "model.estimator_.coef_"
   ]
  },
  {
   "cell_type": "code",
   "execution_count": 42,
   "metadata": {},
   "outputs": [
    {
     "data": {
      "text/plain": [
       "['Item_Visibility',\n",
       " 'Item_Type_Seafood',\n",
       " 'Item_Type_Starchy Foods',\n",
       " 'Outlet_Size_High',\n",
       " 'Outlet_Size_Medium',\n",
       " 'Outlet_Size_Small',\n",
       " 'Outlet_Location_Type_Tier 3',\n",
       " 'Outlet_Type_Grocery Store',\n",
       " 'Outlet_Type_Supermarket Type1',\n",
       " 'Outlet_Type_Supermarket Type2']"
      ]
     },
     "execution_count": 42,
     "metadata": {},
     "output_type": "execute_result"
    }
   ],
   "source": [
    "# Note that input_vars = a list of 35 original features\n",
    "# Here, updated_vars = a list of features selected from recursive feature elimination\n",
    "\n",
    "updated_vars = []\n",
    "for i in range(0,len(input_vars)-1):\n",
    "    if model.ranking_[i] == 1:\n",
    "        updated_vars.append(df[input_vars].columns[i])\n",
    "updated_vars"
   ]
  },
  {
   "cell_type": "code",
   "execution_count": 43,
   "metadata": {},
   "outputs": [
    {
     "data": {
      "text/plain": [
       "[1461.3202346105284, 0.11738148628257772]"
      ]
     },
     "execution_count": 43,
     "metadata": {},
     "output_type": "execute_result"
    }
   ],
   "source": [
    "## Perform regresssion with features selected from recursive feature elimination\n",
    "\n",
    "X = df[updated_vars]\n",
    "y = df['Item_Outlet_Sales']\n",
    "X_train, X_test, y_train, y_test = train_test_split(X, y, test_size=0.3, random_state=99)\n",
    "lm = LinearRegression()\n",
    "lm.fit(X_train, y_train)\n",
    "y_pred = lm.predict(X_test)\n",
    "[np.sqrt(metrics.mean_squared_error(y_test,y_pred)),metrics.r2_score(y_test,y_pred)]\n",
    "\n",
    "# R2 using features selected from rfe is quite low\n",
    "# With this data, about 27 features need to be selected to get R2 > 0.5"
   ]
  },
  {
   "cell_type": "code",
   "execution_count": 44,
   "metadata": {},
   "outputs": [
    {
     "data": {
      "text/plain": [
       "array([2292.26394136, 2276.57090887, 2341.20145445, ..., 2153.41746385,\n",
       "       2279.52255578, 2345.33136055])"
      ]
     },
     "execution_count": 44,
     "metadata": {},
     "output_type": "execute_result"
    }
   ],
   "source": [
    "# If you don't need to know which features get selected from rfe, \n",
    "#     you can use result model to predict immediately\n",
    "\n",
    "from sklearn.linear_model import LinearRegression\n",
    "from sklearn.feature_selection import RFE\n",
    "\n",
    "X = df[input_vars]\n",
    "y = df['Item_Outlet_Sales']\n",
    "X_train, X_test, y_train, y_test = train_test_split(X, y, test_size=0.3, random_state=99)\n",
    "n_features = 10  # define by yourself to select important features\n",
    "\n",
    "rfe = RFE(LinearRegression(), n_features)\n",
    "model = rfe.fit(X_train, y_train)\n",
    "y_pred = model.predict(X_test)\n",
    "y_pred"
   ]
  },
  {
   "cell_type": "markdown",
   "metadata": {},
   "source": [
    "# Embedded Methods"
   ]
  },
  {
   "cell_type": "markdown",
   "metadata": {},
   "source": [
    "## Regression & Lasso (L1)"
   ]
  },
  {
   "cell_type": "code",
   "execution_count": 45,
   "metadata": {},
   "outputs": [],
   "source": [
    "df = dummy_df.copy()\n",
    "df = df.dropna()\n",
    "X = df[input_vars]\n",
    "y = df['Item_Outlet_Sales']\n",
    "X_train, X_test, y_train, y_test = train_test_split(X, y, test_size=0.3, random_state=99)"
   ]
  },
  {
   "cell_type": "code",
   "execution_count": 46,
   "metadata": {},
   "outputs": [
    {
     "data": {
      "text/plain": [
       "[1083.717949253594, 0.5145832367307772]"
      ]
     },
     "execution_count": 46,
     "metadata": {},
     "output_type": "execute_result"
    }
   ],
   "source": [
    "# Perform regresssion with original 35 independent variables\n",
    "\n",
    "lm = LinearRegression()\n",
    "lm.fit(X_train, y_train)\n",
    "y_pred = lm.predict(X_test)\n",
    "[np.sqrt(metrics.mean_squared_error(y_test,y_pred)),metrics.r2_score(y_test,y_pred)]"
   ]
  },
  {
   "cell_type": "code",
   "execution_count": 47,
   "metadata": {},
   "outputs": [
    {
     "data": {
      "text/plain": [
       "[1082.5624029730436, 0.51561786476498]"
      ]
     },
     "execution_count": 47,
     "metadata": {},
     "output_type": "execute_result"
    }
   ],
   "source": [
    "from sklearn.linear_model import Lasso\n",
    "\n",
    "## Perform regresssion with embedded lasso \n",
    "## set alpha (weight of penalty term) = 1\n",
    "\n",
    "lasso = Lasso(alpha=1)\n",
    "model = lasso.fit(X_train, y_train)\n",
    "y_pred = model.predict(X_test)\n",
    "[np.sqrt(metrics.mean_squared_error(y_test,y_pred)),metrics.r2_score(y_test,y_pred)]"
   ]
  },
  {
   "cell_type": "code",
   "execution_count": 48,
   "metadata": {},
   "outputs": [
    {
     "data": {
      "text/plain": [
       "[array([-1.90563124e+00, -0.00000000e+00,  1.51080980e+01,  3.08212395e+01,\n",
       "         0.00000000e+00, -0.00000000e+00,  6.46424508e+01, -0.00000000e+00,\n",
       "        -3.13611903e+01,  5.16649679e+01,  2.73025025e+01, -3.92578756e+01,\n",
       "         1.03260533e+01, -4.94912936e+01, -9.08956408e-01,  0.00000000e+00,\n",
       "         0.00000000e+00, -4.74641601e+01, -3.49649363e+01, -3.61272259e+00,\n",
       "        -0.00000000e+00,  1.23247441e+02,  0.00000000e+00, -7.52909703e+01,\n",
       "         5.23745277e+00,  5.32235485e+02,  1.76824378e+02,  1.29133885e+02,\n",
       "         5.40082274e+01, -0.00000000e+00, -0.00000000e+00, -1.13980903e+03,\n",
       "         6.48195356e+02,  0.00000000e+00,  0.00000000e+00]),\n",
       " -62250.50190928947]"
      ]
     },
     "execution_count": 48,
     "metadata": {},
     "output_type": "execute_result"
    }
   ],
   "source": [
    "## We can look at values of coefficients of regression model \n",
    "\n",
    "[model.coef_, model.intercept_]"
   ]
  },
  {
   "cell_type": "code",
   "execution_count": 49,
   "metadata": {},
   "outputs": [
    {
     "data": {
      "text/plain": [
       "[-1139.8090281090074,\n",
       " -75.2909703072271,\n",
       " -49.49129356658406,\n",
       " -47.464160072944615,\n",
       " -39.2578755541213,\n",
       " -34.96493634505266,\n",
       " -31.361190301160757,\n",
       " -3.612722591935486,\n",
       " -1.905631236126205,\n",
       " -0.9089564082746977,\n",
       " 5.237452773545666,\n",
       " 10.326053279710115,\n",
       " 15.108098037774539,\n",
       " 27.3025025402987,\n",
       " 30.82123947561277,\n",
       " 51.66496787516025,\n",
       " 54.00822737528912,\n",
       " 64.64245077675203,\n",
       " 123.24744093283674,\n",
       " 129.13388481803838,\n",
       " 176.82437825826537,\n",
       " 532.2354848350889,\n",
       " 648.1953559829701]"
      ]
     },
     "execution_count": 49,
     "metadata": {},
     "output_type": "execute_result"
    }
   ],
   "source": [
    "##  Filter features that has non-zero coefficients and sort coefficient from min to max\n",
    "##  Note that argsort returns indices of array after sort\n",
    "##  At the end, coef array = non-zero coeffients, sorted from min to max\n",
    "##              update_vars = names of features corresponding to coef array\n",
    "\n",
    "index = np.argsort(model.coef_)\n",
    "coef = [model.coef_[index[i]] for i in range(len(model.coef_))  if model.coef_[index[i]] != 0]\n",
    "update_vars = [input_vars[index[i]] for i in range(len(model.coef_))  if model.coef_[index[i]] != 0]\n",
    "coef"
   ]
  },
  {
   "cell_type": "code",
   "execution_count": 50,
   "metadata": {},
   "outputs": [
    {
     "data": {
      "text/plain": [
       "['Outlet_Type_Grocery Store',\n",
       " 'Item_Type_Soft Drinks',\n",
       " 'Item_Type_Dairy',\n",
       " 'Item_Type_Health and Hygiene',\n",
       " 'Item_Type_Breakfast',\n",
       " 'Item_Type_Household',\n",
       " 'Item_Fat_Content_reg',\n",
       " 'Item_Type_Meat',\n",
       " 'Item_Weight',\n",
       " 'Item_Type_Frozen Foods',\n",
       " 'Item_Type_Starchy Foods',\n",
       " 'Item_Type_Canned',\n",
       " 'Item_MRP',\n",
       " 'Item_Type_Breads',\n",
       " 'Outlet_Establishment_Year',\n",
       " 'Item_Type_Baking Goods',\n",
       " 'Outlet_Location_Type_Tier 1',\n",
       " 'Item_Fat_Content_Regular',\n",
       " 'Item_Type_Seafood',\n",
       " 'Outlet_Size_Small',\n",
       " 'Outlet_Size_Medium',\n",
       " 'Outlet_Size_High',\n",
       " 'Outlet_Type_Supermarket Type1']"
      ]
     },
     "execution_count": 50,
     "metadata": {},
     "output_type": "execute_result"
    }
   ],
   "source": [
    "update_vars"
   ]
  },
  {
   "cell_type": "code",
   "execution_count": 51,
   "metadata": {},
   "outputs": [
    {
     "data": {
      "text/plain": [
       "23"
      ]
     },
     "execution_count": 51,
     "metadata": {},
     "output_type": "execute_result"
    }
   ],
   "source": [
    "## Find out how many features have left after performing lasso with alpha = 1\n",
    "\n",
    "len(update_vars)"
   ]
  },
  {
   "cell_type": "code",
   "execution_count": 52,
   "metadata": {},
   "outputs": [
    {
     "data": {
      "text/plain": [
       "[1082.5624029730436, 0.5173686622710771]"
      ]
     },
     "execution_count": 52,
     "metadata": {},
     "output_type": "execute_result"
    }
   ],
   "source": [
    "## Run another regression with lasso + alpha = 10\n",
    "\n",
    "lasso2 = Lasso(alpha=10)\n",
    "model2 = lasso2.fit(X_train, y_train)\n",
    "y_pred2 = model2.predict(X_test)\n",
    "[np.sqrt(metrics.mean_squared_error(y_test,y_pred)),metrics.r2_score(y_test,y_pred2)]"
   ]
  },
  {
   "cell_type": "code",
   "execution_count": 53,
   "metadata": {},
   "outputs": [
    {
     "data": {
      "text/plain": [
       "[array([   -1.53062714,    -0.        ,    15.07341358,     4.61762831,\n",
       "            0.        ,    -0.        ,    42.34463538,    -0.        ,\n",
       "           -0.        ,     0.        ,     0.        ,    -0.        ,\n",
       "            0.        ,    -0.        ,     0.        ,     0.        ,\n",
       "            0.        ,    -0.        ,    -0.        ,    -0.        ,\n",
       "           -0.        ,     0.        ,     0.        ,    -0.        ,\n",
       "            0.        ,     0.        ,     0.        ,     0.        ,\n",
       "            0.        ,     0.        ,    -0.        , -1489.09807865,\n",
       "          385.58189819,    -0.        ,     0.        ]),\n",
       " -9432.323929413458]"
      ]
     },
     "execution_count": 53,
     "metadata": {},
     "output_type": "execute_result"
    }
   ],
   "source": [
    "[model2.coef_, model2.intercept_]"
   ]
  },
  {
   "cell_type": "code",
   "execution_count": 54,
   "metadata": {},
   "outputs": [
    {
     "data": {
      "text/plain": [
       "[-1489.0980786504663,\n",
       " -1.5306271408161094,\n",
       " 4.617628310282364,\n",
       " 15.073413584885822,\n",
       " 42.34463538126832,\n",
       " 385.5818981940784]"
      ]
     },
     "execution_count": 54,
     "metadata": {},
     "output_type": "execute_result"
    }
   ],
   "source": [
    "##  Filter features that has non-zero coefficients and sort coefficient from min to max\n",
    "\n",
    "index = np.argsort(model2.coef_)\n",
    "coef2 = [model2.coef_[index[i]] for i in range(len(model2.coef_))  if model2.coef_[index[i]] != 0]\n",
    "update_vars2 = [input_vars[index[i]] for i in range(len(model2.coef_))  if model2.coef_[index[i]] != 0]\n",
    "coef2"
   ]
  },
  {
   "cell_type": "code",
   "execution_count": 55,
   "metadata": {},
   "outputs": [
    {
     "data": {
      "text/plain": [
       "['Outlet_Type_Grocery Store',\n",
       " 'Item_Weight',\n",
       " 'Outlet_Establishment_Year',\n",
       " 'Item_MRP',\n",
       " 'Item_Fat_Content_Regular',\n",
       " 'Outlet_Type_Supermarket Type1']"
      ]
     },
     "execution_count": 55,
     "metadata": {},
     "output_type": "execute_result"
    }
   ],
   "source": [
    "update_vars2"
   ]
  },
  {
   "cell_type": "code",
   "execution_count": 56,
   "metadata": {},
   "outputs": [
    {
     "data": {
      "text/plain": [
       "6"
      ]
     },
     "execution_count": 56,
     "metadata": {},
     "output_type": "execute_result"
    }
   ],
   "source": [
    "## Find out how many features have left after performing lasso with alpha = 10\n",
    "\n",
    "len(update_vars2)\n",
    "\n",
    "## Since we use larger alpha, the penalty term has more weight.\n",
    "## More coefficients of regression model will be zero. "
   ]
  },
  {
   "cell_type": "code",
   "execution_count": 57,
   "metadata": {},
   "outputs": [
    {
     "data": {
      "image/png": "[encoded data removed]",
      "text/plain": [
       "<Figure size 432x288 with 1 Axes>"
      ]
     },
     "metadata": {
      "needs_background": "light"
     },
     "output_type": "display_data"
    }
   ],
   "source": [
    "## Plot coefficients of linear regression model, regression with lasso + alpha=1,  regression with lasso + alpha=10\n",
    "## Note that alpha parameter in plot indicates transparency of marker (it has nothing to do with alpha in lasso)\n",
    "\n",
    "plt.plot(input_vars,lm.coef_,alpha=0.5,linestyle='none',marker='*',markersize=10,color='red',label=r'Linear Regression',zorder=7) # zorder for ordering the markers\n",
    "plt.plot(input_vars,model.coef_,alpha=0.5,linestyle='none',marker='o',markersize=10,color='blue',label=r'Lasso; $\\alpha = 1$') # alpha here is for transparency\n",
    "plt.plot(input_vars,model2.coef_,alpha=0.5,linestyle='none',marker='d',markersize=15,color='green',label=r'Lasso; $\\alpha = 10$') # alpha here is for transparency\n",
    "plt.xlabel('Coefficient Index',fontsize=16)\n",
    "plt.ylabel('Coefficient Magnitude',fontsize=16)\n",
    "plt.legend(fontsize=13,loc='lower left')\n",
    "plt.xticks(input_vars, input_vars, rotation='vertical')\n",
    "plt.show()"
   ]
  },
  {
   "cell_type": "markdown",
   "metadata": {},
   "source": [
    "## Regression & Ridge (L2)"
   ]
  },
  {
   "cell_type": "code",
   "execution_count": 58,
   "metadata": {},
   "outputs": [
    {
     "data": {
      "text/plain": [
       "[1083.6308861602527, 0.5146612278490268]"
      ]
     },
     "execution_count": 58,
     "metadata": {},
     "output_type": "execute_result"
    }
   ],
   "source": [
    "from sklearn.linear_model import Ridge\n",
    "\n",
    "## Perform regresssion with ridge \n",
    "## set alpha (weight of penalty term) = 1\n",
    "\n",
    "X = df[input_vars]\n",
    "y = df['Item_Outlet_Sales']\n",
    "X_train, X_test, y_train, y_test = train_test_split(X, y, test_size=0.3, random_state=99)\n",
    "\n",
    "ridge = Ridge(alpha=1.0)\n",
    "model = ridge.fit(X_train, y_train)\n",
    "y_pred = model.predict(X_test)\n",
    "[np.sqrt(metrics.mean_squared_error(y_test,y_pred)),metrics.r2_score(y_test,y_pred)]"
   ]
  },
  {
   "cell_type": "code",
   "execution_count": 59,
   "metadata": {},
   "outputs": [
    {
     "data": {
      "text/plain": [
       "[array([-1.89507054e+00, -3.25463141e+02,  1.51064634e+01,  4.10471092e+01,\n",
       "         2.84346031e+01,  2.17582491e+00,  6.89119507e+01, -5.73812214e+00,\n",
       "        -9.37842567e+01,  6.18979923e+01,  5.77191027e+01, -1.29925248e+02,\n",
       "         2.06894176e+01, -6.49952637e+01, -1.66525632e+01,  2.56276936e+00,\n",
       "         3.30382807e+01, -7.27113217e+01, -5.09960720e+01, -2.97973142e+01,\n",
       "        -9.99581725e+00,  2.45465529e+02,  1.51026199e-01, -1.00050996e+02,\n",
       "         5.36004788e+01,  7.41216524e+02,  1.83864256e+02,  1.48448422e+02,\n",
       "         8.39541165e+01, -3.43275086e+01, -4.96266080e+01, -9.04150306e+02,\n",
       "         7.90843132e+02,  1.13307173e+02,  0.00000000e+00]),\n",
       " -82842.87776719691]"
      ]
     },
     "execution_count": 59,
     "metadata": {},
     "output_type": "execute_result"
    }
   ],
   "source": [
    "[model.coef_, model.intercept_]"
   ]
  },
  {
   "cell_type": "code",
   "execution_count": 60,
   "metadata": {},
   "outputs": [
    {
     "data": {
      "text/plain": [
       "[-904.1503057292999,\n",
       " -325.4631407164415,\n",
       " -129.92524838022695,\n",
       " -100.05099593865097,\n",
       " -93.78425665447394,\n",
       " -72.71132173371608,\n",
       " -64.99526370486436,\n",
       " -50.9960719745894,\n",
       " -49.62660795875154,\n",
       " -34.32750857706945,\n",
       " -29.797314222501388,\n",
       " -16.65256319586157,\n",
       " -9.995817247650816,\n",
       " -5.738122139458222,\n",
       " -1.895070544984625,\n",
       " 0.15102619874595005,\n",
       " 2.175824914994109,\n",
       " 2.5627693609711626,\n",
       " 15.10646343184612,\n",
       " 20.689417557381134,\n",
       " 28.434603133939557,\n",
       " 33.038280710777755,\n",
       " 41.047109169935716,\n",
       " 53.60047880474529,\n",
       " 57.71910267924089,\n",
       " 61.89799234588114,\n",
       " 68.91195074524636,\n",
       " 83.95411653812683,\n",
       " 113.30717346987124,\n",
       " 148.4484219460798,\n",
       " 183.86425582948948,\n",
       " 245.46552873972132,\n",
       " 741.2165242990059,\n",
       " 790.8431322630958]"
      ]
     },
     "execution_count": 60,
     "metadata": {},
     "output_type": "execute_result"
    }
   ],
   "source": [
    "##  Filter features that has non-zero coefficients and sort coefficient from min to max\n",
    "##  Note that argsort returns indices of array after sort\n",
    "##  At the end, coef array = non-zero coeffients, sorted from min to max\n",
    "##              update_vars = names of features corresponding to coef array\n",
    "\n",
    "index = np.argsort(model.coef_)\n",
    "coef = [model.coef_[index[i]] for i in range(len(model.coef_))  if model.coef_[index[i]] != 0]\n",
    "update_vars = [input_vars[index[i]] for i in range(len(model.coef_))  if model.coef_[index[i]] != 0]\n",
    "coef"
   ]
  },
  {
   "cell_type": "code",
   "execution_count": 61,
   "metadata": {},
   "outputs": [
    {
     "data": {
      "text/plain": [
       "['Outlet_Type_Grocery Store',\n",
       " 'Item_Visibility',\n",
       " 'Item_Type_Breakfast',\n",
       " 'Item_Type_Soft Drinks',\n",
       " 'Item_Fat_Content_reg',\n",
       " 'Item_Type_Health and Hygiene',\n",
       " 'Item_Type_Dairy',\n",
       " 'Item_Type_Household',\n",
       " 'Outlet_Location_Type_Tier 3',\n",
       " 'Outlet_Location_Type_Tier 2',\n",
       " 'Item_Type_Meat',\n",
       " 'Item_Type_Frozen Foods',\n",
       " 'Item_Type_Others',\n",
       " 'Item_Fat_Content_low fat',\n",
       " 'Item_Weight',\n",
       " 'Item_Type_Snack Foods',\n",
       " 'Item_Fat_Content_Low Fat',\n",
       " 'Item_Type_Fruits and Vegetables',\n",
       " 'Item_MRP',\n",
       " 'Item_Type_Canned',\n",
       " 'Item_Fat_Content_LF',\n",
       " 'Item_Type_Hard Drinks',\n",
       " 'Outlet_Establishment_Year',\n",
       " 'Item_Type_Starchy Foods',\n",
       " 'Item_Type_Breads',\n",
       " 'Item_Type_Baking Goods',\n",
       " 'Item_Fat_Content_Regular',\n",
       " 'Outlet_Location_Type_Tier 1',\n",
       " 'Outlet_Type_Supermarket Type2',\n",
       " 'Outlet_Size_Small',\n",
       " 'Outlet_Size_Medium',\n",
       " 'Item_Type_Seafood',\n",
       " 'Outlet_Size_High',\n",
       " 'Outlet_Type_Supermarket Type1']"
      ]
     },
     "execution_count": 61,
     "metadata": {},
     "output_type": "execute_result"
    }
   ],
   "source": [
    "update_vars"
   ]
  },
  {
   "cell_type": "code",
   "execution_count": 62,
   "metadata": {},
   "outputs": [
    {
     "data": {
      "text/plain": [
       "34"
      ]
     },
     "execution_count": 62,
     "metadata": {},
     "output_type": "execute_result"
    }
   ],
   "source": [
    "## Find out how many features have left after performing ridge with alpha = 1\n",
    "\n",
    "len(update_vars)"
   ]
  },
  {
   "cell_type": "code",
   "execution_count": 63,
   "metadata": {},
   "outputs": [
    {
     "data": {
      "text/plain": [
       "[1083.0952192882398, 0.5151409403560395]"
      ]
     },
     "execution_count": 63,
     "metadata": {},
     "output_type": "execute_result"
    }
   ],
   "source": [
    "## Run another regression with ridge + alpha = 10\n",
    "\n",
    "ridge = Ridge(alpha=10)\n",
    "model2 = ridge.fit(X_train, y_train)\n",
    "y_pred = model2.predict(X_test)\n",
    "[np.sqrt(metrics.mean_squared_error(y_test,y_pred)),metrics.r2_score(y_test,y_pred)]"
   ]
  },
  {
   "cell_type": "code",
   "execution_count": 64,
   "metadata": {},
   "outputs": [
    {
     "data": {
      "text/plain": [
       "[array([-1.86584819e+00, -1.99881878e+02,  1.51053544e+01,  3.47213969e+01,\n",
       "         2.54122646e+01,  4.81851619e-02,  6.67997573e+01, -5.90337963e+00,\n",
       "        -8.63568275e+01,  6.19844716e+01,  5.57273003e+01, -1.10857017e+02,\n",
       "         2.21417577e+01, -6.16851401e+01, -1.33189191e+01,  4.11228867e+00,\n",
       "         3.24032633e+01, -6.66920927e+01, -4.72985557e+01, -2.65337243e+01,\n",
       "        -7.87384024e+00,  1.99341198e+02,  2.26886238e+00, -9.40008261e+01,\n",
       "         5.02809733e+01,  6.79373826e+02,  1.91108051e+02,  1.43351041e+02,\n",
       "         7.48003504e+01, -2.41510739e-01, -7.45588397e+01, -9.07637001e+02,\n",
       "         7.53932666e+02,  1.53704335e+02,  0.00000000e+00]),\n",
       " -70167.61268744447]"
      ]
     },
     "execution_count": 64,
     "metadata": {},
     "output_type": "execute_result"
    }
   ],
   "source": [
    "[model2.coef_, model2.intercept_]"
   ]
  },
  {
   "cell_type": "code",
   "execution_count": 65,
   "metadata": {},
   "outputs": [
    {
     "data": {
      "text/plain": [
       "6"
      ]
     },
     "execution_count": 65,
     "metadata": {},
     "output_type": "execute_result"
    }
   ],
   "source": [
    "len(update_vars2)\n",
    "\n",
    "## Using ridge with alpha = 10 gives number of features = 34, like using alpha = 1\n",
    "## Hence, regression with ridge model does not help with feature selection much"
   ]
  },
  {
   "cell_type": "code",
   "execution_count": 66,
   "metadata": {},
   "outputs": [
    {
     "data": {
      "image/png": "[encoded data removed]",
      "text/plain": [
       "<Figure size 432x288 with 1 Axes>"
      ]
     },
     "metadata": {
      "needs_background": "light"
     },
     "output_type": "display_data"
    }
   ],
   "source": [
    "## Plot coefficients of linear regression model, regression with ridge + alpha=1,  regression with ridge + alpha=10\n",
    "## Note that alpha parameter in plot indicates transparency of marker (it has nothing to do with alpha in ridge)\n",
    "\n",
    "plt.plot(input_vars,lm.coef_,alpha=0.5,linestyle='none',marker='*',markersize=10,color='red',label=r'Linear Regression',zorder=7) # zorder for ordering the markers\n",
    "plt.plot(input_vars,model.coef_,alpha=0.5,linestyle='none',marker='o',markersize=10,color='blue',label=r'Ridge; $\\alpha = 1$') # alpha here is for transparency\n",
    "plt.plot(input_vars,model2.coef_,alpha=0.5,linestyle='none',marker='d',markersize=15,color='green',label=r'Ridge; $\\alpha = 10$') # alpha here is for transparency\n",
    "plt.xlabel('Coefficient Index',fontsize=16)\n",
    "plt.ylabel('Coefficient Magnitude',fontsize=16)\n",
    "plt.legend(fontsize=13,loc='lower left')\n",
    "plt.xticks(input_vars, input_vars, rotation='vertical')\n",
    "plt.show()"
   ]
  },
  {
   "cell_type": "markdown",
   "metadata": {},
   "source": [
    "## Random Forest"
   ]
  },
  {
   "cell_type": "code",
   "execution_count": 67,
   "metadata": {},
   "outputs": [],
   "source": [
    "df = dummy_df.copy()\n",
    "df = df.dropna()"
   ]
  },
  {
   "cell_type": "code",
   "execution_count": 68,
   "metadata": {},
   "outputs": [
    {
     "data": {
      "image/png": "[encoded data removed]",
      "text/plain": [
       "<Figure size 432x288 with 1 Axes>"
      ]
     },
     "metadata": {
      "needs_background": "light"
     },
     "output_type": "display_data"
    }
   ],
   "source": [
    "# RandomForestRegressor receives parameters for random forest such as depth of tree, number of trees\n",
    "\n",
    "# n_features = number of selected features\n",
    "\n",
    "from sklearn.ensemble import RandomForestRegressor\n",
    "model = RandomForestRegressor(max_depth=10,n_estimators=100)\n",
    "model.fit(df[input_vars],df.Item_Outlet_Sales)\n",
    "\n",
    "n_features = 15\n",
    "\n",
    "# Plot feature importance\n",
    "features = df[input_vars].columns\n",
    "importances = model.feature_importances_\n",
    "indices = np.argsort(importances)[-n_features:]  # sort top n features\n",
    "plt.title('Feature Importances')\n",
    "plt.barh(range(len(indices)), importances[indices], color='b', align='center')\n",
    "plt.yticks(range(len(indices)), [features[i] for i in indices])\n",
    "plt.xlabel('Relative Importance')\n",
    "plt.show()\n",
    "\n",
    "# Choose features with large feature importance"
   ]
  },
  {
   "cell_type": "code",
   "execution_count": 69,
   "metadata": {},
   "outputs": [
    {
     "data": {
      "text/plain": [
       "['Item_MRP',\n",
       " 'Outlet_Type_Grocery Store',\n",
       " 'Item_Visibility',\n",
       " 'Item_Weight',\n",
       " 'Outlet_Establishment_Year',\n",
       " 'Outlet_Size_Small',\n",
       " 'Item_Type_Snack Foods',\n",
       " 'Item_Type_Fruits and Vegetables',\n",
       " 'Outlet_Type_Supermarket Type1',\n",
       " 'Item_Type_Household',\n",
       " 'Item_Type_Dairy',\n",
       " 'Outlet_Location_Type_Tier 3',\n",
       " 'Outlet_Size_Medium',\n",
       " 'Outlet_Location_Type_Tier 1',\n",
       " 'Outlet_Location_Type_Tier 2']"
      ]
     },
     "execution_count": 69,
     "metadata": {},
     "output_type": "execute_result"
    }
   ],
   "source": [
    "# Note that input_vars = a list of 35 original features\n",
    "# Here, updated_vars = a list of 15 features selected from feature importance of random forest\n",
    "important_features = [features[i] for i in indices]\n",
    "important_features\n",
    "updated_vars = []\n",
    "for i in range(-1,-n_features-1,-1):\n",
    "    updated_vars.append(important_features[i])\n",
    "updated_vars"
   ]
  },
  {
   "cell_type": "code",
   "execution_count": 70,
   "metadata": {},
   "outputs": [
    {
     "data": {
      "text/plain": [
       "[1081.3122537720042, 0.516735953276918]"
      ]
     },
     "execution_count": 70,
     "metadata": {},
     "output_type": "execute_result"
    }
   ],
   "source": [
    "## Perform regresssion with features selected from feature importance of random forest\n",
    "\n",
    "X = df[updated_vars]\n",
    "y = df['Item_Outlet_Sales']\n",
    "X_train, X_test, y_train, y_test = train_test_split(X, y, test_size=0.3, random_state=99)\n",
    "lm = LinearRegression()\n",
    "lm.fit(X_train, y_train)\n",
    "y_pred = lm.predict(X_test)\n",
    "[np.sqrt(metrics.mean_squared_error(y_test,y_pred)),metrics.r2_score(y_test,y_pred)]"
   ]
  },
  {
   "cell_type": "code",
   "execution_count": null,
   "metadata": {},
   "outputs": [],
   "source": []
  }
 ],
 "metadata": {
  "celltoolbar": "Raw Cell Format",
  "kernelspec": {
   "display_name": "Python 3",
   "language": "python",
   "name": "python3"
  },
  "language_info": {
   "codemirror_mode": {
    "name": "ipython",
    "version": 3
   },
   "file_extension": ".py",
   "mimetype": "text/x-python",
   "name": "python",
   "nbconvert_exporter": "python",
   "pygments_lexer": "ipython3",
   "version": "3.7.3"
  }
 },
 "nbformat": 4,
 "nbformat_minor": 2
}
