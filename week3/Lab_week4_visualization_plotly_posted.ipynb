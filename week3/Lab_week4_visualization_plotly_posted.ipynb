{
 "cells": [
  {
   "cell_type": "code",
   "execution_count": 1,
   "metadata": {},
   "outputs": [
    {
     "ename": "OSError",
     "evalue": "[WinError 123] The filename, directory name, or volume label syntax is incorrect: '???'",
     "output_type": "error",
     "traceback": [
      "\u001b[1;31m---------------------------------------------------------------------------\u001b[0m",
      "\u001b[1;31mOSError\u001b[0m                                   Traceback (most recent call last)",
      "\u001b[1;32m<ipython-input-1-94d77baee8d6>\u001b[0m in \u001b[0;36m<module>\u001b[1;34m\u001b[0m\n\u001b[0;32m      1\u001b[0m \u001b[1;32mimport\u001b[0m \u001b[0mos\u001b[0m\u001b[1;33m\u001b[0m\u001b[1;33m\u001b[0m\u001b[0m\n\u001b[1;32m----> 2\u001b[1;33m \u001b[0mos\u001b[0m\u001b[1;33m.\u001b[0m\u001b[0mchdir\u001b[0m\u001b[1;33m(\u001b[0m\u001b[1;34m'???'\u001b[0m\u001b[1;33m)\u001b[0m\u001b[1;33m\u001b[0m\u001b[1;33m\u001b[0m\u001b[0m\n\u001b[0m\u001b[0;32m      3\u001b[0m \u001b[0mos\u001b[0m\u001b[1;33m.\u001b[0m\u001b[0mgetcwd\u001b[0m\u001b[1;33m(\u001b[0m\u001b[1;33m)\u001b[0m\u001b[1;33m\u001b[0m\u001b[1;33m\u001b[0m\u001b[0m\n",
      "\u001b[1;31mOSError\u001b[0m: [WinError 123] The filename, directory name, or volume label syntax is incorrect: '???'"
     ]
    }
   ],
   "source": [
    "import os\n",
    "os.chdir('???')\n",
    "os.getcwd()"
   ]
  },
  {
   "cell_type": "code",
   "execution_count": 2,
   "metadata": {},
   "outputs": [],
   "source": [
    "import pandas as pd\n",
    "import numpy as np\n",
    "import matplotlib.pyplot as plt\n",
    "import seaborn as sns\n",
    "import plotly.offline as pyo\n",
    "import plotly.graph_objs as go\n",
    "%matplotlib inline"
   ]
  },
  {
   "cell_type": "code",
   "execution_count": 3,
   "metadata": {},
   "outputs": [
    {
     "data": {
      "text/html": [
       "<div>\n",
       "<style scoped>\n",
       "    .dataframe tbody tr th:only-of-type {\n",
       "        vertical-align: middle;\n",
       "    }\n",
       "\n",
       "    .dataframe tbody tr th {\n",
       "        vertical-align: top;\n",
       "    }\n",
       "\n",
       "    .dataframe thead th {\n",
       "        text-align: right;\n",
       "    }\n",
       "</style>\n",
       "<table border=\"1\" class=\"dataframe\">\n",
       "  <thead>\n",
       "    <tr style=\"text-align: right;\">\n",
       "      <th></th>\n",
       "      <th>Year</th>\n",
       "      <th>Northeast</th>\n",
       "      <th>Central</th>\n",
       "      <th>North</th>\n",
       "      <th>South</th>\n",
       "      <th>Bangkok</th>\n",
       "    </tr>\n",
       "  </thead>\n",
       "  <tbody>\n",
       "    <tr>\n",
       "      <th>0</th>\n",
       "      <td>2550</td>\n",
       "      <td>21385647</td>\n",
       "      <td>15409587</td>\n",
       "      <td>11871934</td>\n",
       "      <td>8654831</td>\n",
       "      <td>5716248</td>\n",
       "    </tr>\n",
       "    <tr>\n",
       "      <th>1</th>\n",
       "      <td>2552</td>\n",
       "      <td>21495825</td>\n",
       "      <td>15742529</td>\n",
       "      <td>11770233</td>\n",
       "      <td>8813880</td>\n",
       "      <td>5702595</td>\n",
       "    </tr>\n",
       "    <tr>\n",
       "      <th>2</th>\n",
       "      <td>2554</td>\n",
       "      <td>21585883</td>\n",
       "      <td>16060141</td>\n",
       "      <td>11783311</td>\n",
       "      <td>8971855</td>\n",
       "      <td>5674843</td>\n",
       "    </tr>\n",
       "    <tr>\n",
       "      <th>3</th>\n",
       "      <td>2556</td>\n",
       "      <td>21775407</td>\n",
       "      <td>16366870</td>\n",
       "      <td>11825955</td>\n",
       "      <td>9131425</td>\n",
       "      <td>5686252</td>\n",
       "    </tr>\n",
       "    <tr>\n",
       "      <th>4</th>\n",
       "      <td>2558</td>\n",
       "      <td>21916034</td>\n",
       "      <td>16753526</td>\n",
       "      <td>12072421</td>\n",
       "      <td>9290708</td>\n",
       "      <td>5696409</td>\n",
       "    </tr>\n",
       "    <tr>\n",
       "      <th>5</th>\n",
       "      <td>2560</td>\n",
       "      <td>21989477</td>\n",
       "      <td>17018869</td>\n",
       "      <td>12098164</td>\n",
       "      <td>9399578</td>\n",
       "      <td>5682415</td>\n",
       "    </tr>\n",
       "  </tbody>\n",
       "</table>\n",
       "</div>"
      ],
      "text/plain": [
       "   Year  Northeast   Central     North    South  Bangkok\n",
       "0  2550   21385647  15409587  11871934  8654831  5716248\n",
       "1  2552   21495825  15742529  11770233  8813880  5702595\n",
       "2  2554   21585883  16060141  11783311  8971855  5674843\n",
       "3  2556   21775407  16366870  11825955  9131425  5686252\n",
       "4  2558   21916034  16753526  12072421  9290708  5696409\n",
       "5  2560   21989477  17018869  12098164  9399578  5682415"
      ]
     },
     "execution_count": 3,
     "metadata": {},
     "output_type": "execute_result"
    }
   ],
   "source": [
    "df = pd.read_csv('thailand_population.csv')\n",
    "df"
   ]
  },
  {
   "cell_type": "code",
   "execution_count": 4,
   "metadata": {},
   "outputs": [
    {
     "data": {
      "text/html": [
       "<div>\n",
       "<style scoped>\n",
       "    .dataframe tbody tr th:only-of-type {\n",
       "        vertical-align: middle;\n",
       "    }\n",
       "\n",
       "    .dataframe tbody tr th {\n",
       "        vertical-align: top;\n",
       "    }\n",
       "\n",
       "    .dataframe thead th {\n",
       "        text-align: right;\n",
       "    }\n",
       "</style>\n",
       "<table border=\"1\" class=\"dataframe\">\n",
       "  <thead>\n",
       "    <tr style=\"text-align: right;\">\n",
       "      <th></th>\n",
       "      <th>Northeast</th>\n",
       "      <th>Central</th>\n",
       "      <th>North</th>\n",
       "      <th>South</th>\n",
       "      <th>Bangkok</th>\n",
       "    </tr>\n",
       "    <tr>\n",
       "      <th>Year</th>\n",
       "      <th></th>\n",
       "      <th></th>\n",
       "      <th></th>\n",
       "      <th></th>\n",
       "      <th></th>\n",
       "    </tr>\n",
       "  </thead>\n",
       "  <tbody>\n",
       "    <tr>\n",
       "      <th>2550</th>\n",
       "      <td>21385647</td>\n",
       "      <td>15409587</td>\n",
       "      <td>11871934</td>\n",
       "      <td>8654831</td>\n",
       "      <td>5716248</td>\n",
       "    </tr>\n",
       "    <tr>\n",
       "      <th>2552</th>\n",
       "      <td>21495825</td>\n",
       "      <td>15742529</td>\n",
       "      <td>11770233</td>\n",
       "      <td>8813880</td>\n",
       "      <td>5702595</td>\n",
       "    </tr>\n",
       "    <tr>\n",
       "      <th>2554</th>\n",
       "      <td>21585883</td>\n",
       "      <td>16060141</td>\n",
       "      <td>11783311</td>\n",
       "      <td>8971855</td>\n",
       "      <td>5674843</td>\n",
       "    </tr>\n",
       "    <tr>\n",
       "      <th>2556</th>\n",
       "      <td>21775407</td>\n",
       "      <td>16366870</td>\n",
       "      <td>11825955</td>\n",
       "      <td>9131425</td>\n",
       "      <td>5686252</td>\n",
       "    </tr>\n",
       "    <tr>\n",
       "      <th>2558</th>\n",
       "      <td>21916034</td>\n",
       "      <td>16753526</td>\n",
       "      <td>12072421</td>\n",
       "      <td>9290708</td>\n",
       "      <td>5696409</td>\n",
       "    </tr>\n",
       "    <tr>\n",
       "      <th>2560</th>\n",
       "      <td>21989477</td>\n",
       "      <td>17018869</td>\n",
       "      <td>12098164</td>\n",
       "      <td>9399578</td>\n",
       "      <td>5682415</td>\n",
       "    </tr>\n",
       "  </tbody>\n",
       "</table>\n",
       "</div>"
      ],
      "text/plain": [
       "      Northeast   Central     North    South  Bangkok\n",
       "Year                                                 \n",
       "2550   21385647  15409587  11871934  8654831  5716248\n",
       "2552   21495825  15742529  11770233  8813880  5702595\n",
       "2554   21585883  16060141  11783311  8971855  5674843\n",
       "2556   21775407  16366870  11825955  9131425  5686252\n",
       "2558   21916034  16753526  12072421  9290708  5696409\n",
       "2560   21989477  17018869  12098164  9399578  5682415"
      ]
     },
     "execution_count": 4,
     "metadata": {},
     "output_type": "execute_result"
    }
   ],
   "source": [
    "df.set_index('Year', inplace=True)\n",
    "df"
   ]
  },
  {
   "cell_type": "markdown",
   "metadata": {},
   "source": [
    "## Line Graph"
   ]
  },
  {
   "cell_type": "code",
   "execution_count": 14,
   "metadata": {},
   "outputs": [],
   "source": [
    "trace = go.Scatter(x=df.index,\n",
    "                    y=df['Bangkok'],\n",
    "                    mode='lines',\n",
    "                    name='Bangkok')\n",
    "data = [trace]"
   ]
  },
  {
   "cell_type": "code",
   "execution_count": 15,
   "metadata": {},
   "outputs": [],
   "source": [
    "layout = go.Layout(title='2550-2560 Bangkok Population',\n",
    "                   xaxis = {'title':'Year'},\n",
    "                   yaxis = {'title':'Population',\n",
    "                           'range': [5600000,5800000]}, \n",
    "                   hovermode='closest',\n",
    "                   )"
   ]
  },
  {
   "cell_type": "code",
   "execution_count": 16,
   "metadata": {},
   "outputs": [
    {
     "data": {
      "text/plain": [
       "'temp-plot.html'"
      ]
     },
     "execution_count": 16,
     "metadata": {},
     "output_type": "execute_result"
    }
   ],
   "source": [
    "fig = go.Figure(data=data, layout=layout)\n",
    "pyo.plot(fig)"
   ]
  },
  {
   "cell_type": "markdown",
   "metadata": {},
   "source": [
    "## Bar Graph"
   ]
  },
  {
   "cell_type": "code",
   "execution_count": 8,
   "metadata": {},
   "outputs": [],
   "source": [
    "trace1 =go.Bar(x=df.columns,\n",
    "              y=df.iloc[1],\n",
    "              marker={'color':'#9ACD32'},\n",
    "              name='2552')\n",
    "trace2 =go.Bar(x=df.columns,\n",
    "              y=df.iloc[3],\n",
    "              marker={'color':'#8B008B'},\n",
    "              name='2556')\n",
    "trace3 =go.Bar(x=df.columns,\n",
    "              y=df.iloc[5],\n",
    "              marker={'color':'#D2691E'},\n",
    "              name='2560')\n",
    "data = [trace1,trace2,trace3]"
   ]
  },
  {
   "cell_type": "code",
   "execution_count": 9,
   "metadata": {},
   "outputs": [
    {
     "data": {
      "text/plain": [
       "'temp-plot.html'"
      ]
     },
     "execution_count": 9,
     "metadata": {},
     "output_type": "execute_result"
    }
   ],
   "source": [
    "layout = go.Layout(title='Thailand Population',\n",
    "                   xaxis = {'title':'Region'},\n",
    "                   yaxis = {'title':'Population'}, \n",
    "                   hovermode='closest')\n",
    "fig = go.Figure(data=data,layout=layout)\n",
    "pyo.plot(fig)"
   ]
  },
  {
   "cell_type": "markdown",
   "metadata": {},
   "source": [
    "## Stacked Bar"
   ]
  },
  {
   "cell_type": "code",
   "execution_count": 10,
   "metadata": {},
   "outputs": [],
   "source": [
    "trace1 =go.Bar(x=df.columns,\n",
    "              y=df.iloc[1],\n",
    "              marker={'color':'#9ACD32'},\n",
    "              name='2552')\n",
    "trace2 =go.Bar(x=df.columns,\n",
    "              y=df.iloc[3],\n",
    "              marker={'color':'#8B008B'},\n",
    "              name='2556')\n",
    "trace3 =go.Bar(x=df.columns,\n",
    "              y=df.iloc[5],\n",
    "              marker={'color':'#D2691E'},\n",
    "              name='2560')\n",
    "data = [trace1,trace2,trace3]"
   ]
  },
  {
   "cell_type": "code",
   "execution_count": 11,
   "metadata": {},
   "outputs": [
    {
     "data": {
      "text/plain": [
       "'temp-plot.html'"
      ]
     },
     "execution_count": 11,
     "metadata": {},
     "output_type": "execute_result"
    }
   ],
   "source": [
    "layout = go.Layout(title='Thailand Population',\n",
    "                   xaxis = {'title':'Region'},\n",
    "                   yaxis = {'title':'Population'}, \n",
    "                   hovermode='closest',\n",
    "                   barmode='stack')\n",
    "fig = go.Figure(data=data,layout=layout)\n",
    "pyo.plot(fig)"
   ]
  },
  {
   "cell_type": "markdown",
   "metadata": {},
   "source": [
    "## Pie Graph"
   ]
  },
  {
   "cell_type": "code",
   "execution_count": 21,
   "metadata": {},
   "outputs": [],
   "source": [
    "trace =go.Pie(labels=df.columns,\n",
    "              values=df.iloc[5],\n",
    "              hoverinfo='label+percent',\n",
    "              textinfo='value'\n",
    "             )\n",
    "data = [trace]"
   ]
  },
  {
   "cell_type": "code",
   "execution_count": 22,
   "metadata": {},
   "outputs": [
    {
     "data": {
      "text/plain": [
       "'temp-plot.html'"
      ]
     },
     "execution_count": 22,
     "metadata": {},
     "output_type": "execute_result"
    }
   ],
   "source": [
    "layout = go.Layout(title='Thailand Population in 2560')\n",
    "\n",
    "fig = go.Figure(data=data, layout=layout)\n",
    "pyo.plot(fig)"
   ]
  },
  {
   "cell_type": "markdown",
   "metadata": {},
   "source": [
    "## Radar Graph"
   ]
  },
  {
   "cell_type": "code",
   "execution_count": 19,
   "metadata": {},
   "outputs": [],
   "source": [
    "trace=go.Scatterpolar(r=df.iloc[5],\n",
    "                    theta=df.columns,\n",
    "                    fill='toself'\n",
    "                    )\n",
    "data = [trace]"
   ]
  },
  {
   "cell_type": "code",
   "execution_count": 20,
   "metadata": {},
   "outputs": [
    {
     "data": {
      "text/plain": [
       "'temp-plot.html'"
      ]
     },
     "execution_count": 20,
     "metadata": {},
     "output_type": "execute_result"
    }
   ],
   "source": [
    "layout = go.Layout(title='Thailand Population in 2560',\n",
    "                  showlegend=False,\n",
    "                  polar={'radialaxis':{'visible':True}})\n",
    "\n",
    "fig = go.Figure(data=data,layout=layout)\n",
    "pyo.plot(fig)"
   ]
  },
  {
   "cell_type": "code",
   "execution_count": null,
   "metadata": {
    "collapsed": true
   },
   "outputs": [],
   "source": []
  }
 ],
 "metadata": {
  "kernelspec": {
   "display_name": "Python 3",
   "language": "python",
   "name": "python3"
  },
  "language_info": {
   "codemirror_mode": {
    "name": "ipython",
    "version": 3
   },
   "file_extension": ".py",
   "mimetype": "text/x-python",
   "name": "python",
   "nbconvert_exporter": "python",
   "pygments_lexer": "ipython3",
   "version": "3.7.3"
  }
 },
 "nbformat": 4,
 "nbformat_minor": 2
}
