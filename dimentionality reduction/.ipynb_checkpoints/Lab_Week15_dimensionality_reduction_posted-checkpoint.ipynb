{
 "cells": [
  {
   "cell_type": "code",
   "execution_count": 1,
   "metadata": {},
   "outputs": [
    {
     "ename": "OSError",
     "evalue": "[WinError 123] The filename, directory name, or volume label syntax is incorrect: '???'",
     "output_type": "error",
     "traceback": [
      "\u001b[1;31m---------------------------------------------------------------------------\u001b[0m",
      "\u001b[1;31mOSError\u001b[0m                                   Traceback (most recent call last)",
      "\u001b[1;32m<ipython-input-1-94d77baee8d6>\u001b[0m in \u001b[0;36m<module>\u001b[1;34m\u001b[0m\n\u001b[0;32m      1\u001b[0m \u001b[1;32mimport\u001b[0m \u001b[0mos\u001b[0m\u001b[1;33m\u001b[0m\u001b[1;33m\u001b[0m\u001b[0m\n\u001b[1;32m----> 2\u001b[1;33m \u001b[0mos\u001b[0m\u001b[1;33m.\u001b[0m\u001b[0mchdir\u001b[0m\u001b[1;33m(\u001b[0m\u001b[1;34m'???'\u001b[0m\u001b[1;33m)\u001b[0m\u001b[1;33m\u001b[0m\u001b[1;33m\u001b[0m\u001b[0m\n\u001b[0m\u001b[0;32m      3\u001b[0m \u001b[0mos\u001b[0m\u001b[1;33m.\u001b[0m\u001b[0mgetcwd\u001b[0m\u001b[1;33m(\u001b[0m\u001b[1;33m)\u001b[0m\u001b[1;33m\u001b[0m\u001b[1;33m\u001b[0m\u001b[0m\n",
      "\u001b[1;31mOSError\u001b[0m: [WinError 123] The filename, directory name, or volume label syntax is incorrect: '???'"
     ]
    }
   ],
   "source": [
    "import os\n",
    "os.chdir('???')\n",
    "os.getcwd()"
   ]
  },
  {
   "cell_type": "code",
   "execution_count": 2,
   "metadata": {},
   "outputs": [],
   "source": [
    "import pandas as pd\n",
    "import numpy as np\n",
    "import matplotlib.pyplot as plt\n",
    "import seaborn as sns\n",
    "%matplotlib inline"
   ]
  },
  {
   "cell_type": "markdown",
   "metadata": {},
   "source": [
    "## Getting to Know Data"
   ]
  },
  {
   "cell_type": "code",
   "execution_count": 3,
   "metadata": {},
   "outputs": [
    {
     "data": {
      "text/html": [
       "<div>\n",
       "<style scoped>\n",
       "    .dataframe tbody tr th:only-of-type {\n",
       "        vertical-align: middle;\n",
       "    }\n",
       "\n",
       "    .dataframe tbody tr th {\n",
       "        vertical-align: top;\n",
       "    }\n",
       "\n",
       "    .dataframe thead th {\n",
       "        text-align: right;\n",
       "    }\n",
       "</style>\n",
       "<table border=\"1\" class=\"dataframe\">\n",
       "  <thead>\n",
       "    <tr style=\"text-align: right;\">\n",
       "      <th></th>\n",
       "      <th>sepal_length</th>\n",
       "      <th>sepal_width</th>\n",
       "      <th>petal_length</th>\n",
       "      <th>petal_width</th>\n",
       "      <th>species</th>\n",
       "    </tr>\n",
       "  </thead>\n",
       "  <tbody>\n",
       "    <tr>\n",
       "      <th>0</th>\n",
       "      <td>5.1</td>\n",
       "      <td>3.5</td>\n",
       "      <td>1.4</td>\n",
       "      <td>0.2</td>\n",
       "      <td>setosa</td>\n",
       "    </tr>\n",
       "    <tr>\n",
       "      <th>1</th>\n",
       "      <td>4.9</td>\n",
       "      <td>3.0</td>\n",
       "      <td>1.4</td>\n",
       "      <td>0.2</td>\n",
       "      <td>setosa</td>\n",
       "    </tr>\n",
       "    <tr>\n",
       "      <th>2</th>\n",
       "      <td>4.7</td>\n",
       "      <td>3.2</td>\n",
       "      <td>1.3</td>\n",
       "      <td>0.2</td>\n",
       "      <td>setosa</td>\n",
       "    </tr>\n",
       "    <tr>\n",
       "      <th>3</th>\n",
       "      <td>4.6</td>\n",
       "      <td>3.1</td>\n",
       "      <td>1.5</td>\n",
       "      <td>0.2</td>\n",
       "      <td>setosa</td>\n",
       "    </tr>\n",
       "    <tr>\n",
       "      <th>4</th>\n",
       "      <td>5.0</td>\n",
       "      <td>3.6</td>\n",
       "      <td>1.4</td>\n",
       "      <td>0.2</td>\n",
       "      <td>setosa</td>\n",
       "    </tr>\n",
       "  </tbody>\n",
       "</table>\n",
       "</div>"
      ],
      "text/plain": [
       "   sepal_length  sepal_width  petal_length  petal_width species\n",
       "0           5.1          3.5           1.4          0.2  setosa\n",
       "1           4.9          3.0           1.4          0.2  setosa\n",
       "2           4.7          3.2           1.3          0.2  setosa\n",
       "3           4.6          3.1           1.5          0.2  setosa\n",
       "4           5.0          3.6           1.4          0.2  setosa"
      ]
     },
     "execution_count": 3,
     "metadata": {},
     "output_type": "execute_result"
    }
   ],
   "source": [
    "# Read and find out about data\n",
    "# This data set is about iris flowers \n",
    "# There are 4 variables (features): sepal length, sepal width, petal length, petal width\n",
    "# There is 1 output: species\n",
    "# Basically, different species has different corresponding values of variables\n",
    "\n",
    "df = pd.read_csv(\"iris.csv\")\n",
    "df.head()"
   ]
  },
  {
   "cell_type": "code",
   "execution_count": 4,
   "metadata": {},
   "outputs": [
    {
     "data": {
      "text/plain": [
       "array(['setosa', 'versicolor', 'virginica'], dtype=object)"
      ]
     },
     "execution_count": 4,
     "metadata": {},
     "output_type": "execute_result"
    }
   ],
   "source": [
    "# Find out how many species or how many classes of outputs\n",
    "# From the result, there are 3 classes\n",
    "\n",
    "df.species.unique()"
   ]
  },
  {
   "cell_type": "code",
   "execution_count": 5,
   "metadata": {
    "scrolled": true
   },
   "outputs": [
    {
     "data": {
      "text/html": [
       "<div>\n",
       "<style scoped>\n",
       "    .dataframe tbody tr th:only-of-type {\n",
       "        vertical-align: middle;\n",
       "    }\n",
       "\n",
       "    .dataframe tbody tr th {\n",
       "        vertical-align: top;\n",
       "    }\n",
       "\n",
       "    .dataframe thead th {\n",
       "        text-align: right;\n",
       "    }\n",
       "</style>\n",
       "<table border=\"1\" class=\"dataframe\">\n",
       "  <thead>\n",
       "    <tr style=\"text-align: right;\">\n",
       "      <th></th>\n",
       "      <th>sepal_length</th>\n",
       "      <th>sepal_width</th>\n",
       "      <th>petal_length</th>\n",
       "      <th>petal_width</th>\n",
       "      <th>species</th>\n",
       "    </tr>\n",
       "  </thead>\n",
       "  <tbody>\n",
       "    <tr>\n",
       "      <th>0</th>\n",
       "      <td>5.1</td>\n",
       "      <td>3.5</td>\n",
       "      <td>1.4</td>\n",
       "      <td>0.2</td>\n",
       "      <td>0</td>\n",
       "    </tr>\n",
       "    <tr>\n",
       "      <th>1</th>\n",
       "      <td>4.9</td>\n",
       "      <td>3.0</td>\n",
       "      <td>1.4</td>\n",
       "      <td>0.2</td>\n",
       "      <td>0</td>\n",
       "    </tr>\n",
       "    <tr>\n",
       "      <th>2</th>\n",
       "      <td>4.7</td>\n",
       "      <td>3.2</td>\n",
       "      <td>1.3</td>\n",
       "      <td>0.2</td>\n",
       "      <td>0</td>\n",
       "    </tr>\n",
       "    <tr>\n",
       "      <th>3</th>\n",
       "      <td>4.6</td>\n",
       "      <td>3.1</td>\n",
       "      <td>1.5</td>\n",
       "      <td>0.2</td>\n",
       "      <td>0</td>\n",
       "    </tr>\n",
       "    <tr>\n",
       "      <th>4</th>\n",
       "      <td>5.0</td>\n",
       "      <td>3.6</td>\n",
       "      <td>1.4</td>\n",
       "      <td>0.2</td>\n",
       "      <td>0</td>\n",
       "    </tr>\n",
       "  </tbody>\n",
       "</table>\n",
       "</div>"
      ],
      "text/plain": [
       "   sepal_length  sepal_width  petal_length  petal_width  species\n",
       "0           5.1          3.5           1.4          0.2        0\n",
       "1           4.9          3.0           1.4          0.2        0\n",
       "2           4.7          3.2           1.3          0.2        0\n",
       "3           4.6          3.1           1.5          0.2        0\n",
       "4           5.0          3.6           1.4          0.2        0"
      ]
     },
     "execution_count": 5,
     "metadata": {},
     "output_type": "execute_result"
    }
   ],
   "source": [
    "# Convert categorical data type of species to numerical data\n",
    "\n",
    "df = df.replace({'setosa': 0, 'versicolor': 1, 'virginica': 2})\n",
    "df.head()"
   ]
  },
  {
   "cell_type": "code",
   "execution_count": null,
   "metadata": {},
   "outputs": [],
   "source": [
    "# Perform basic visualization to roughly see how each class (species) is distributed \n",
    "# Since there are 4 variables + 1 class, and we can perform only 3D visualization at one time, \n",
    "# the visualization will be performed twice to see all 4 variables\n",
    "\n",
    "# Visualization #1: Sepal Length, Sepal Width, Petal Length\n",
    "\n",
    "from mpl_toolkits.mplot3d import Axes3D\n",
    "from mpl_toolkits.mplot3d import proj3d\n",
    "\n",
    "\n",
    "fig = plt.figure(figsize=(8,8))\n",
    "ax = fig.add_subplot(111, projection='3d')\n",
    "plt.rcParams['legend.fontsize'] = 10   \n",
    "ax.plot(df.sepal_length[df.species==0], df.sepal_width[df.species==0], df.petal_length[df.species==0], 'o', markersize=8, color='red', alpha=0.5, label='Class 0')\n",
    "ax.plot(df.sepal_length[df.species==1], df.sepal_width[df.species==1], df.petal_length[df.species==1], 'o', markersize=8, color='orange', alpha=0.5, label='Class 1')\n",
    "ax.plot(df.sepal_length[df.species==2], df.sepal_width[df.species==2], df.petal_length[df.species==2], 'o', markersize=8, color='grey', alpha=0.5, label='Class 2')\n",
    "plt.title('Sepal Length, Sepal Width, Petal Length for classes 0,1,2')\n",
    "ax.set_xlabel('Sepal Length')\n",
    "ax.set_ylabel('Sepal Width')\n",
    "ax.set_zlabel('Petal Length')\n",
    "ax.legend(loc='lower right')\n",
    "\n",
    "plt.show()\n",
    "\n",
    "# From graph, each class distributes almost similarly along sepal length \n",
    "# Hence, sepal length may not be a good feature used to differentiate between different classes\n",
    "# On the other hand, classes are separated along petal length axis. \n",
    "# (Class 0 is at the bottom, class 1 is in the middle, class 2 is on the top.)\n",
    "# Thus, petal length may be a good feature used to separate classes"
   ]
  },
  {
   "cell_type": "code",
   "execution_count": null,
   "metadata": {},
   "outputs": [],
   "source": [
    "# Visualization #2: Sepal Width, Petal Length, Petal Width\n",
    "\n",
    "fig = plt.figure(figsize=(8,8))\n",
    "ax = fig.add_subplot(111, projection='3d')\n",
    "plt.rcParams['legend.fontsize'] = 10   \n",
    "ax.plot(df.sepal_width[df.species==0], df.petal_length[df.species==0], df.petal_width[df.species==0], 'o', markersize=8, color='red', alpha=0.5, label='Class 0')\n",
    "ax.plot(df.sepal_width[df.species==1], df.petal_length[df.species==1], df.petal_width[df.species==1],  'o', markersize=8, color='orange', alpha=0.5, label='Class 1')\n",
    "ax.plot(df.sepal_width[df.species==2], df.petal_length[df.species==2], df.petal_width[df.species==2], 'o', markersize=8, color='grey', alpha=0.5, label='Class 2')\n",
    "\n",
    "plt.title('Sepal Width, Petal Length, Petal Width for classes 0,1,2')\n",
    "ax.set_xlabel('Sepal Width')\n",
    "ax.set_ylabel('Petal Length')\n",
    "ax.set_zlabel('Petal Width')\n",
    "ax.legend(loc='lower right')\n",
    "\n",
    "plt.show()\n",
    "\n",
    "# From graph, petal width may be another good feature used to separate classes\n",
    "# However, sepal width may be not a good feature."
   ]
  },
  {
   "cell_type": "code",
   "execution_count": null,
   "metadata": {
    "collapsed": true
   },
   "outputs": [],
   "source": [
    "# Create input matrix and output class vector\n",
    "\n",
    "X = df.drop('species',1)\n",
    "y = df.species"
   ]
  },
  {
   "cell_type": "code",
   "execution_count": null,
   "metadata": {
    "collapsed": true
   },
   "outputs": [],
   "source": [
    "# Split data into training and test sets using ratio = 70:30\n",
    "\n",
    "from sklearn.model_selection import train_test_split\n",
    "X_train, X_test, y_train, y_test = train_test_split(X, y, test_size=0.3, random_state=0)"
   ]
  },
  {
   "cell_type": "markdown",
   "metadata": {},
   "source": [
    "## Principal Component Analysis : Manual Steps"
   ]
  },
  {
   "cell_type": "code",
   "execution_count": null,
   "metadata": {
    "collapsed": true
   },
   "outputs": [],
   "source": [
    "# Before computing covariance matrix, the input matrix will be normalized. ( (input - mean)/SD )\n",
    "# In fact, PCA requires the input matrix to be centered (input - mean) only, not scaled by SD.\n",
    "# However, to compare with Scikit-learn result(which normaizes input data) below, \n",
    "# the input here is also normalized.\n",
    "\n",
    "# First, compute mean and SD \n",
    "\n",
    "mean_X_train = X_train.mean()\n",
    "std_X_train = X_train.std()"
   ]
  },
  {
   "cell_type": "code",
   "execution_count": null,
   "metadata": {},
   "outputs": [],
   "source": [
    "# Normalize the input matrix for training data\n",
    "\n",
    "scaled_X_train = (X_train-mean_X_train)/std_X_train\n",
    "scaled_X_train"
   ]
  },
  {
   "cell_type": "code",
   "execution_count": null,
   "metadata": {},
   "outputs": [],
   "source": [
    "# Compute covariance matrix of normalized input\n",
    "\n",
    "cov_scaled_X_train = np.cov(scaled_X_train.T)\n",
    "cov_scaled_X_train.shape\n",
    "\n",
    "# Notice that original dimension of variables = p = 4\n",
    "# Hence, covariance matrix has size = pxp = 4x4"
   ]
  },
  {
   "cell_type": "code",
   "execution_count": null,
   "metadata": {},
   "outputs": [],
   "source": [
    "# Compute eigenvalues and eigenvectors of covariance matrix\n",
    "\n",
    "from numpy.linalg import eig\n",
    "\n",
    "eig_values, eig_vectors = eig(cov_scaled_X_train)\n",
    "eig_values.shape\n",
    "\n",
    "# Results have 4 eigenvalues"
   ]
  },
  {
   "cell_type": "code",
   "execution_count": null,
   "metadata": {},
   "outputs": [],
   "source": [
    "# Results have 4 correponding eigenvectors\n",
    "\n",
    "eig_vectors.shape"
   ]
  },
  {
   "cell_type": "code",
   "execution_count": null,
   "metadata": {},
   "outputs": [],
   "source": [
    "# Matching each pair of eigenvalue and eigenvector and store them in eig_pairs\n",
    "# Sort eig_pairs using eigenvalues from max to min\n",
    "\n",
    "eig_pairs = [(np.abs(eig_values[i]), eig_vectors[:,i]) for i in range(len(eig_values))]\n",
    "eig_pairs.sort(key=lambda x: x[0], reverse=True)\n",
    "eig_pairs"
   ]
  },
  {
   "cell_type": "code",
   "execution_count": null,
   "metadata": {},
   "outputs": [],
   "source": [
    "# Construct big_lamda matrix where diagonal entries are eigenvalues, and other entries are zeros.\n",
    "\n",
    "p=len(X_train.columns)\n",
    "big_lamda = np.identity(p)*np.array([eig_pairs[i][0] for i in range(len(eig_pairs))])\n",
    "big_lamda\n",
    "\n",
    "# Each eigenvalue specifies variance explained by PCA on different component"
   ]
  },
  {
   "cell_type": "code",
   "execution_count": null,
   "metadata": {},
   "outputs": [],
   "source": [
    "# Construct phi matrix where each column is eigenvector corresponding to eigenvalues in big_lamda matrix\n",
    "\n",
    "phi = np.array([list(eig_pairs[i][1]) for i in range(len(eig_pairs))]).T\n",
    "phi\n",
    "\n",
    "# Each column specifies different eigenvector of difference principal component"
   ]
  },
  {
   "cell_type": "code",
   "execution_count": null,
   "metadata": {},
   "outputs": [],
   "source": [
    "# Compute percent of transformation along each component\n",
    "\n",
    "percent_transform = [sum(big_lamda[i]) for i in range(len(big_lamda))]\n",
    "percent_transform = percent_transform / sum(percent_transform)\n",
    "percent_transform\n",
    "\n",
    "# The result shows that along the first two components, percent of transformation = 96.24%\n",
    "# Hence, instead of 4 variables, we can use only two components to represent the input matrix."
   ]
  },
  {
   "cell_type": "code",
   "execution_count": null,
   "metadata": {},
   "outputs": [],
   "source": [
    "# Set q = number of selected principal components = 2\n",
    "# Construct phi_q matrix that contains only the first q eigenvectors\n",
    "\n",
    "num_components = 2\n",
    "phi_q = np.array([list(eig_pairs[i][1]) for i in range(num_components)]).T\n",
    "phi_q"
   ]
  },
  {
   "cell_type": "code",
   "execution_count": null,
   "metadata": {},
   "outputs": [],
   "source": [
    "# The original input matrix can be transformed to the new space using phi_q matrix\n",
    "# Note that this new space = the reduced space based on number of selected principal components (=2 here)\n",
    "\n",
    "X_train_transformed = phi_q.T.dot(X_train.T)\n",
    "X_train_transformed.shape"
   ]
  },
  {
   "cell_type": "code",
   "execution_count": null,
   "metadata": {},
   "outputs": [],
   "source": [
    "# Plot the new space with the transformed input data\n",
    "# Originally, there are 4 variables\n",
    "# Now, we can represent the input data into the new space with 2 dimensions.\n",
    "# Hence, the dimension of input data is reduced from 4 to 2 here.\n",
    "\n",
    "plt.figure(figsize=(8,6))\n",
    "plt.scatter(X_train_transformed[0],X_train_transformed[1],c=y_train,cmap='Set1')\n",
    "plt.xlabel('First principal component')\n",
    "plt.ylabel('Second Principal Component')"
   ]
  },
  {
   "cell_type": "code",
   "execution_count": null,
   "metadata": {},
   "outputs": [],
   "source": [
    "# The transformed data can also be converted back to the original data\n",
    "# Since we use new space with lower dimension, \n",
    "# the derived X_train will not be the same as the original X_train\n",
    "\n",
    "derived_X_train = (phi_q.dot(X_train_transformed)).T\n",
    "derived_X_train - X_train\n",
    "\n",
    "# The result shows the difference between the derived X_train (from the transformed data in new space) and the original X_train\n",
    "# If num_components = 4 is used, the difference is almost zero."
   ]
  },
  {
   "cell_type": "markdown",
   "metadata": {},
   "source": [
    "## Principal Component Analysis : Scikit-Learn"
   ]
  },
  {
   "cell_type": "code",
   "execution_count": null,
   "metadata": {
    "collapsed": true
   },
   "outputs": [],
   "source": [
    "# First, obtain mean and variance of input matrix of traning data\n",
    "# (Later on, mean and SD will be used to normalize input matrix.)\n",
    "\n",
    "from sklearn.preprocessing import StandardScaler\n",
    "scaler = StandardScaler().fit(X_train)"
   ]
  },
  {
   "cell_type": "code",
   "execution_count": null,
   "metadata": {},
   "outputs": [],
   "source": [
    "# Show mean of input matrix of training data, computed by Scikit-Learn\n",
    "\n",
    "scaler.mean_"
   ]
  },
  {
   "cell_type": "code",
   "execution_count": null,
   "metadata": {},
   "outputs": [],
   "source": [
    "# Show mean of input matrix of training data, computed manually earlier\n",
    "\n",
    "mean_X_train"
   ]
  },
  {
   "cell_type": "code",
   "execution_count": null,
   "metadata": {},
   "outputs": [],
   "source": [
    "# Show SD of input matrix of training data, computed by Scikit-Learn \n",
    "\n",
    "np.sqrt(scaler.var_)"
   ]
  },
  {
   "cell_type": "code",
   "execution_count": null,
   "metadata": {},
   "outputs": [],
   "source": [
    "# Show SD of input matrix of training data, computed manually earlier\n",
    "\n",
    "std_X_train\n",
    "\n",
    "# SD's computed by Scikit-Learn and by manually have little difference\n",
    "# This will contribute to the difference in eigenvalues later"
   ]
  },
  {
   "cell_type": "code",
   "execution_count": null,
   "metadata": {
    "collapsed": true
   },
   "outputs": [],
   "source": [
    "# Normalize input matrix for training data set using mean and SD (by using function transform)\n",
    "# Then, use the same mean and SD from train to normalize input matrix for test data set\n",
    "\n",
    "sk_scaled_X_train = scaler.transform(X_train)\n",
    "sk_scaled_X_test = scaler.transform(X_test)\n",
    "\n",
    "# Note that: \n",
    "# scaler = StandardScaler().fit(X_train)\n",
    "# sk_scaled_X_train = scaler.transform(X_train)\n",
    "# are equivalent to:\n",
    "# scaler = StandardScaler()\n",
    "# sk_scaled_X_train = scaler.fit_transform(X_train)"
   ]
  },
  {
   "cell_type": "code",
   "execution_count": null,
   "metadata": {},
   "outputs": [],
   "source": [
    "# Select number of principal components and perform PCA\n",
    "# From manual steps, we know that number of selected principal components should be 2.\n",
    "# On the other hand, you can perform PCA multiple times with different numbers of principal components\n",
    "# and check explained_variance_ratio_ afterward to find appropriate number of selected principal components\n",
    "\n",
    "from sklearn.decomposition import PCA\n",
    "\n",
    "num_components=2\n",
    "pca = PCA(n_components=num_components)\n",
    "pca.fit(sk_scaled_X_train)"
   ]
  },
  {
   "cell_type": "code",
   "execution_count": null,
   "metadata": {},
   "outputs": [],
   "source": [
    "# Show variances (or eigenvalues) of selected components\n",
    "\n",
    "pca.explained_variance_"
   ]
  },
  {
   "cell_type": "code",
   "execution_count": null,
   "metadata": {},
   "outputs": [],
   "source": [
    "# Show principal components (or eigenvectors) of selected components\n",
    "\n",
    "pca.components_"
   ]
  },
  {
   "cell_type": "code",
   "execution_count": null,
   "metadata": {},
   "outputs": [],
   "source": [
    "# Compare results from explained_variance_ and components_ from Scikit-learn\n",
    "# to eig_paris from manual steps\n",
    "\n",
    "eig_pairs"
   ]
  },
  {
   "cell_type": "code",
   "execution_count": null,
   "metadata": {},
   "outputs": [],
   "source": [
    "# Show explained_variance_ratio_  (or percent of transformation along each component)\n",
    "\n",
    "pca.explained_variance_ratio_"
   ]
  },
  {
   "cell_type": "code",
   "execution_count": null,
   "metadata": {},
   "outputs": [],
   "source": [
    "# Plot to see explained_variance_ratio_ using bar graph\n",
    "\n",
    "temp_df = pd.DataFrame({'Variance':pca.explained_variance_ratio_,\n",
    "                        'PC':['PC1','PC2']})\n",
    "sns.barplot(x='PC',y=\"Variance\", data=temp_df, color=\"blue\")"
   ]
  },
  {
   "cell_type": "code",
   "execution_count": null,
   "metadata": {
    "collapsed": true
   },
   "outputs": [],
   "source": [
    "# Transform input data of original matrix to the new space\n",
    "\n",
    "sk_X_train_transformed  = pca.transform(sk_scaled_X_train)"
   ]
  },
  {
   "cell_type": "code",
   "execution_count": null,
   "metadata": {},
   "outputs": [],
   "source": [
    "# Plot the new space with the transformed input data\n",
    "\n",
    "plt.figure(figsize=(8,6))\n",
    "plt.scatter(sk_X_train_transformed[:,0],sk_X_train_transformed[:,1],c=y_train,cmap='Set1')\n",
    "plt.xlabel('First principal component')\n",
    "plt.ylabel('Second Principal Component')"
   ]
  },
  {
   "cell_type": "code",
   "execution_count": null,
   "metadata": {},
   "outputs": [],
   "source": [
    "# The transformed data can also be converted back to the original data\n",
    "# Since we use new space with lower dimension, \n",
    "# the derived X_train will not be the same as the original X_train\n",
    "\n",
    "sk_derived_X_train = pca.inverse_transform(sk_X_train_transformed)\n",
    "sk_derived_X_train - sk_scaled_X_train"
   ]
  },
  {
   "cell_type": "code",
   "execution_count": null,
   "metadata": {},
   "outputs": [],
   "source": [
    "# Plot to see correlation between selected principal components and original variables\n",
    "\n",
    "temp_df3 = pd.DataFrame(pca.components_, columns=X.columns)\n",
    "temp_df3.rename(index={0: \"PC1\", 1: \"PC2\"}, inplace=True)\n",
    "\n",
    "plt.figure(figsize=(12,6))\n",
    "sns.heatmap(temp_df3,cmap='coolwarm')\n",
    "\n",
    "# The result shows that principal component 1 correlates with sepal length, petal width, petal length\n",
    "# Principal component 2 correlates with petal width and petal length\n"
   ]
  },
  {
   "cell_type": "code",
   "execution_count": null,
   "metadata": {
    "collapsed": true
   },
   "outputs": [],
   "source": []
  }
 ],
 "metadata": {
  "kernelspec": {
   "display_name": "Python 3",
   "language": "python",
   "name": "python3"
  },
  "language_info": {
   "codemirror_mode": {
    "name": "ipython",
    "version": 3
   },
   "file_extension": ".py",
   "mimetype": "text/x-python",
   "name": "python",
   "nbconvert_exporter": "python",
   "pygments_lexer": "ipython3",
   "version": "3.7.3"
  }
 },
 "nbformat": 4,
 "nbformat_minor": 2
}
