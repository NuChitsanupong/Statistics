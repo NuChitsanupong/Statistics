{
 "cells": [
  {
   "cell_type": "code",
   "execution_count": null,
   "metadata": {},
   "outputs": [],
   "source": [
    "setwd(\"???\")  "
   ]
  },
  {
   "cell_type": "code",
   "execution_count": 1,
   "metadata": {},
   "outputs": [
    {
     "data": {
      "text/html": [
       "<table>\n",
       "<thead><tr><th scope=col>xCO2</th><th scope=col>yMass</th></tr></thead>\n",
       "<tbody>\n",
       "\t<tr><td>408</td><td>1.1</td></tr>\n",
       "\t<tr><td>408</td><td>1.3</td></tr>\n",
       "\t<tr><td>554</td><td>1.6</td></tr>\n",
       "\t<tr><td>554</td><td>2.5</td></tr>\n",
       "\t<tr><td>680</td><td>3.0</td></tr>\n",
       "\t<tr><td>680</td><td>4.3</td></tr>\n",
       "\t<tr><td>812</td><td>4.2</td></tr>\n",
       "\t<tr><td>812</td><td>4.7</td></tr>\n",
       "</tbody>\n",
       "</table>\n"
      ],
      "text/latex": [
       "\\begin{tabular}{r|ll}\n",
       " xCO2 & yMass\\\\\n",
       "\\hline\n",
       "\t 408 & 1.1\\\\\n",
       "\t 408 & 1.3\\\\\n",
       "\t 554 & 1.6\\\\\n",
       "\t 554 & 2.5\\\\\n",
       "\t 680 & 3.0\\\\\n",
       "\t 680 & 4.3\\\\\n",
       "\t 812 & 4.2\\\\\n",
       "\t 812 & 4.7\\\\\n",
       "\\end{tabular}\n"
      ],
      "text/markdown": [
       "\n",
       "| xCO2 | yMass |\n",
       "|---|---|\n",
       "| 408 | 1.1 |\n",
       "| 408 | 1.3 |\n",
       "| 554 | 1.6 |\n",
       "| 554 | 2.5 |\n",
       "| 680 | 3.0 |\n",
       "| 680 | 4.3 |\n",
       "| 812 | 4.2 |\n",
       "| 812 | 4.7 |\n",
       "\n"
      ],
      "text/plain": [
       "  xCO2 yMass\n",
       "1 408  1.1  \n",
       "2 408  1.3  \n",
       "3 554  1.6  \n",
       "4 554  2.5  \n",
       "5 680  3.0  \n",
       "6 680  4.3  \n",
       "7 812  4.2  \n",
       "8 812  4.7  "
      ]
     },
     "metadata": {},
     "output_type": "display_data"
    }
   ],
   "source": [
    "df <- read.csv(\"co2.csv\", sep=\",\", header=T, \n",
    "               fileEncoding=\"UTF-8-BOM\")\n",
    "attach(df)\n",
    "df"
   ]
  },
  {
   "cell_type": "code",
   "execution_count": 2,
   "metadata": {},
   "outputs": [],
   "source": [
    "x <- xCO2\n",
    "y <- yMass"
   ]
  },
  {
   "cell_type": "code",
   "execution_count": 3,
   "metadata": {},
   "outputs": [
    {
     "data": {
      "text/plain": [
       "\n",
       "Call:\n",
       "lm(formula = y ~ x)\n",
       "\n",
       "Residuals:\n",
       "     Min       1Q   Median       3Q      Max \n",
       "-0.73446 -0.33671  0.08271  0.18819  0.90028 \n",
       "\n",
       "Coefficients:\n",
       "             Estimate Std. Error t value Pr(>|t|)    \n",
       "(Intercept) -2.349295   0.796567  -2.949 0.025637 *  \n",
       "x            0.008454   0.001261   6.702 0.000536 ***\n",
       "---\n",
       "Signif. codes:  0 '***' 0.001 '**' 0.01 '*' 0.05 '.' 0.1 ' ' 1\n",
       "\n",
       "Residual standard error: 0.534 on 6 degrees of freedom\n",
       "Multiple R-squared:  0.8822,\tAdjusted R-squared:  0.8625 \n",
       "F-statistic: 44.92 on 1 and 6 DF,  p-value: 0.0005355\n"
      ]
     },
     "metadata": {},
     "output_type": "display_data"
    }
   ],
   "source": [
    "model <- lm(y ~ x)\n",
    "summary(model)"
   ]
  },
  {
   "cell_type": "code",
   "execution_count": 4,
   "metadata": {},
   "outputs": [
    {
     "data": {
      "text/html": [
       "<table>\n",
       "<thead><tr><th scope=col>make</th><th scope=col>hp</th><th scope=col>liters</th><th scope=col>fuel</th><th scope=col>premium1</th></tr></thead>\n",
       "<tbody>\n",
       "\t<tr><td>Ford      </td><td>132       </td><td>2.0       </td><td>regular   </td><td>0         </td></tr>\n",
       "\t<tr><td>Mazda     </td><td>167       </td><td>2.0       </td><td>premium   </td><td>1         </td></tr>\n",
       "\t<tr><td>Subaru    </td><td>170       </td><td>2.5       </td><td>regular   </td><td>0         </td></tr>\n",
       "\t<tr><td>Lexus     </td><td>204       </td><td>2.5       </td><td>premium   </td><td>1         </td></tr>\n",
       "\t<tr><td>Mitsubishi</td><td>230       </td><td>3.0       </td><td>regular   </td><td>0         </td></tr>\n",
       "\t<tr><td>BMW       </td><td>260       </td><td>3.0       </td><td>premium   </td><td>1         </td></tr>\n",
       "</tbody>\n",
       "</table>\n"
      ],
      "text/latex": [
       "\\begin{tabular}{r|lllll}\n",
       " make & hp & liters & fuel & premium1\\\\\n",
       "\\hline\n",
       "\t Ford       & 132        & 2.0        & regular    & 0         \\\\\n",
       "\t Mazda      & 167        & 2.0        & premium    & 1         \\\\\n",
       "\t Subaru     & 170        & 2.5        & regular    & 0         \\\\\n",
       "\t Lexus      & 204        & 2.5        & premium    & 1         \\\\\n",
       "\t Mitsubishi & 230        & 3.0        & regular    & 0         \\\\\n",
       "\t BMW        & 260        & 3.0        & premium    & 1         \\\\\n",
       "\\end{tabular}\n"
      ],
      "text/markdown": [
       "\n",
       "| make | hp | liters | fuel | premium1 |\n",
       "|---|---|---|---|---|\n",
       "| Ford       | 132        | 2.0        | regular    | 0          |\n",
       "| Mazda      | 167        | 2.0        | premium    | 1          |\n",
       "| Subaru     | 170        | 2.5        | regular    | 0          |\n",
       "| Lexus      | 204        | 2.5        | premium    | 1          |\n",
       "| Mitsubishi | 230        | 3.0        | regular    | 0          |\n",
       "| BMW        | 260        | 3.0        | premium    | 1          |\n",
       "\n"
      ],
      "text/plain": [
       "  make       hp  liters fuel    premium1\n",
       "1 Ford       132 2.0    regular 0       \n",
       "2 Mazda      167 2.0    premium 1       \n",
       "3 Subaru     170 2.5    regular 0       \n",
       "4 Lexus      204 2.5    premium 1       \n",
       "5 Mitsubishi 230 3.0    regular 0       \n",
       "6 BMW        260 3.0    premium 1       "
      ]
     },
     "metadata": {},
     "output_type": "display_data"
    }
   ],
   "source": [
    "df <- read.csv(\"cars.csv\", sep=\",\", header=T, \n",
    "               fileEncoding=\"UTF-8-BOM\")\n",
    "attach(df)\n",
    "df"
   ]
  },
  {
   "cell_type": "code",
   "execution_count": 5,
   "metadata": {},
   "outputs": [],
   "source": [
    "x1 <- liters\n",
    "x2 <- premium1\n",
    "y <- hp"
   ]
  },
  {
   "cell_type": "code",
   "execution_count": 6,
   "metadata": {},
   "outputs": [
    {
     "data": {
      "text/plain": [
       "\n",
       "Call:\n",
       "lm(formula = y ~ x1 + x2)\n",
       "\n",
       "Residuals:\n",
       "     1      2      3      4      5      6 \n",
       " 2.417  4.417 -7.333 -6.333  4.917  1.917 \n",
       "\n",
       "Coefficients:\n",
       "            Estimate Std. Error t value Pr(>|t|)    \n",
       "(Intercept)  -61.417     17.966  -3.419 0.041887 *  \n",
       "x1            95.500      7.002  13.639 0.000853 ***\n",
       "x2            33.000      5.717   5.772 0.010337 *  \n",
       "---\n",
       "Signif. codes:  0 '***' 0.001 '**' 0.01 '*' 0.05 '.' 0.1 ' ' 1\n",
       "\n",
       "Residual standard error: 7.002 on 3 degrees of freedom\n",
       "Multiple R-squared:  0.9865,\tAdjusted R-squared:  0.9775 \n",
       "F-statistic: 109.7 on 2 and 3 DF,  p-value: 0.001567\n"
      ]
     },
     "metadata": {},
     "output_type": "display_data"
    }
   ],
   "source": [
    "model <- lm(y ~ x1+x2)\n",
    "summary(model)"
   ]
  },
  {
   "cell_type": "code",
   "execution_count": 7,
   "metadata": {},
   "outputs": [
    {
     "data": {
      "text/html": [
       "<table>\n",
       "<thead><tr><th scope=col>height</th><th scope=col>foot</th><th scope=col>wingspan</th><th scope=col>leverage</th></tr></thead>\n",
       "<tbody>\n",
       "\t<tr><td>63.0    </td><td> 9.0    </td><td>62.0    </td><td>0.239860</td></tr>\n",
       "\t<tr><td>63.0    </td><td> 9.0    </td><td>62.0    </td><td>0.239860</td></tr>\n",
       "\t<tr><td>65.0    </td><td> 9.0    </td><td>64.0    </td><td>0.228236</td></tr>\n",
       "\t<tr><td>64.0    </td><td> 9.5    </td><td>64.5    </td><td>0.223625</td></tr>\n",
       "\t<tr><td>68.0    </td><td> 9.5    </td><td>67.0    </td><td>0.196418</td></tr>\n",
       "\t<tr><td>69.0    </td><td>10.0    </td><td>69.0    </td><td>0.083676</td></tr>\n",
       "\t<tr><td>71.0    </td><td>10.0    </td><td>70.0    </td><td>0.262182</td></tr>\n",
       "\t<tr><td>68.0    </td><td>10.0    </td><td>72.0    </td><td>0.067207</td></tr>\n",
       "\t<tr><td>68.0    </td><td>10.5    </td><td>70.0    </td><td>0.187088</td></tr>\n",
       "\t<tr><td>72.0    </td><td>10.5    </td><td>72.0    </td><td>0.151959</td></tr>\n",
       "\t<tr><td>73.0    </td><td>11.0    </td><td>73.0    </td><td>0.143279</td></tr>\n",
       "\t<tr><td>73.5    </td><td>11.0    </td><td>75.0    </td><td>0.168719</td></tr>\n",
       "\t<tr><td>70.0    </td><td>11.0    </td><td>71.0    </td><td>0.245380</td></tr>\n",
       "\t<tr><td>70.0    </td><td>11.0    </td><td>70.0    </td><td>0.245380</td></tr>\n",
       "\t<tr><td>72.0    </td><td>11.0    </td><td>76.0    </td><td>0.128790</td></tr>\n",
       "\t<tr><td>74.0    </td><td>11.2    </td><td>76.5    </td><td>0.188340</td></tr>\n",
       "</tbody>\n",
       "</table>\n"
      ],
      "text/latex": [
       "\\begin{tabular}{r|llll}\n",
       " height & foot & wingspan & leverage\\\\\n",
       "\\hline\n",
       "\t 63.0     &  9.0     & 62.0     & 0.239860\\\\\n",
       "\t 63.0     &  9.0     & 62.0     & 0.239860\\\\\n",
       "\t 65.0     &  9.0     & 64.0     & 0.228236\\\\\n",
       "\t 64.0     &  9.5     & 64.5     & 0.223625\\\\\n",
       "\t 68.0     &  9.5     & 67.0     & 0.196418\\\\\n",
       "\t 69.0     & 10.0     & 69.0     & 0.083676\\\\\n",
       "\t 71.0     & 10.0     & 70.0     & 0.262182\\\\\n",
       "\t 68.0     & 10.0     & 72.0     & 0.067207\\\\\n",
       "\t 68.0     & 10.5     & 70.0     & 0.187088\\\\\n",
       "\t 72.0     & 10.5     & 72.0     & 0.151959\\\\\n",
       "\t 73.0     & 11.0     & 73.0     & 0.143279\\\\\n",
       "\t 73.5     & 11.0     & 75.0     & 0.168719\\\\\n",
       "\t 70.0     & 11.0     & 71.0     & 0.245380\\\\\n",
       "\t 70.0     & 11.0     & 70.0     & 0.245380\\\\\n",
       "\t 72.0     & 11.0     & 76.0     & 0.128790\\\\\n",
       "\t 74.0     & 11.2     & 76.5     & 0.188340\\\\\n",
       "\\end{tabular}\n"
      ],
      "text/markdown": [
       "\n",
       "| height | foot | wingspan | leverage |\n",
       "|---|---|---|---|\n",
       "| 63.0     |  9.0     | 62.0     | 0.239860 |\n",
       "| 63.0     |  9.0     | 62.0     | 0.239860 |\n",
       "| 65.0     |  9.0     | 64.0     | 0.228236 |\n",
       "| 64.0     |  9.5     | 64.5     | 0.223625 |\n",
       "| 68.0     |  9.5     | 67.0     | 0.196418 |\n",
       "| 69.0     | 10.0     | 69.0     | 0.083676 |\n",
       "| 71.0     | 10.0     | 70.0     | 0.262182 |\n",
       "| 68.0     | 10.0     | 72.0     | 0.067207 |\n",
       "| 68.0     | 10.5     | 70.0     | 0.187088 |\n",
       "| 72.0     | 10.5     | 72.0     | 0.151959 |\n",
       "| 73.0     | 11.0     | 73.0     | 0.143279 |\n",
       "| 73.5     | 11.0     | 75.0     | 0.168719 |\n",
       "| 70.0     | 11.0     | 71.0     | 0.245380 |\n",
       "| 70.0     | 11.0     | 70.0     | 0.245380 |\n",
       "| 72.0     | 11.0     | 76.0     | 0.128790 |\n",
       "| 74.0     | 11.2     | 76.5     | 0.188340 |\n",
       "\n"
      ],
      "text/plain": [
       "   height foot wingspan leverage\n",
       "1  63.0    9.0 62.0     0.239860\n",
       "2  63.0    9.0 62.0     0.239860\n",
       "3  65.0    9.0 64.0     0.228236\n",
       "4  64.0    9.5 64.5     0.223625\n",
       "5  68.0    9.5 67.0     0.196418\n",
       "6  69.0   10.0 69.0     0.083676\n",
       "7  71.0   10.0 70.0     0.262182\n",
       "8  68.0   10.0 72.0     0.067207\n",
       "9  68.0   10.5 70.0     0.187088\n",
       "10 72.0   10.5 72.0     0.151959\n",
       "11 73.0   11.0 73.0     0.143279\n",
       "12 73.5   11.0 75.0     0.168719\n",
       "13 70.0   11.0 71.0     0.245380\n",
       "14 70.0   11.0 70.0     0.245380\n",
       "15 72.0   11.0 76.0     0.128790\n",
       "16 74.0   11.2 76.5     0.188340"
      ]
     },
     "metadata": {},
     "output_type": "display_data"
    }
   ],
   "source": [
    "df <- read.csv(\"bodies.csv\", sep=\",\", header=T, \n",
    "               fileEncoding=\"UTF-8-BOM\")\n",
    "attach(df)\n",
    "df"
   ]
  },
  {
   "cell_type": "code",
   "execution_count": 8,
   "metadata": {},
   "outputs": [],
   "source": [
    "x1 <- height\n",
    "x2 <- foot\n",
    "y <- wingspan"
   ]
  },
  {
   "cell_type": "code",
   "execution_count": 9,
   "metadata": {},
   "outputs": [
    {
     "data": {
      "text/plain": [
       "\n",
       "Call:\n",
       "lm(formula = y ~ x1 + x2)\n",
       "\n",
       "Residuals:\n",
       "    Min      1Q  Median      3Q     Max \n",
       "-2.0344 -0.7119 -0.3513  0.3365  3.5503 \n",
       "\n",
       "Coefficients:\n",
       "            Estimate Std. Error t value Pr(>|t|)   \n",
       "(Intercept)  -6.0846     8.0176  -0.759  0.46145   \n",
       "x1            0.8060     0.2305   3.497  0.00393 **\n",
       "x2            1.9728     1.0443   1.889  0.08139 . \n",
       "---\n",
       "Signif. codes:  0 '***' 0.001 '**' 0.01 '*' 0.05 '.' 0.1 ' ' 1\n",
       "\n",
       "Residual standard error: 1.48 on 13 degrees of freedom\n",
       "Multiple R-squared:  0.912,\tAdjusted R-squared:  0.8984 \n",
       "F-statistic: 67.33 on 2 and 13 DF,  p-value: 1.382e-07\n"
      ]
     },
     "metadata": {},
     "output_type": "display_data"
    }
   ],
   "source": [
    "model <- lm(y ~ x1+x2)\n",
    "summary(model)"
   ]
  },
  {
   "cell_type": "code",
   "execution_count": 10,
   "metadata": {},
   "outputs": [
    {
     "data": {
      "text/html": [
       "1.47956431452575"
      ],
      "text/latex": [
       "1.47956431452575"
      ],
      "text/markdown": [
       "1.47956431452575"
      ],
      "text/plain": [
       "[1] 1.479564"
      ]
     },
     "metadata": {},
     "output_type": "display_data"
    },
    {
     "data": {
      "text/html": [
       "0.911961524236242"
      ],
      "text/latex": [
       "0.911961524236242"
      ],
      "text/markdown": [
       "0.911961524236242"
      ],
      "text/plain": [
       "[1] 0.9119615"
      ]
     },
     "metadata": {},
     "output_type": "display_data"
    },
    {
     "data": {
      "text/html": [
       "<strong>value:</strong> 67.3313554796433"
      ],
      "text/latex": [
       "\\textbf{value:} 67.3313554796433"
      ],
      "text/markdown": [
       "**value:** 67.3313554796433"
      ],
      "text/plain": [
       "   value \n",
       "67.33136 "
      ]
     },
     "metadata": {},
     "output_type": "display_data"
    }
   ],
   "source": [
    "sum <- summary(model)\n",
    "s <- sum$sigma\n",
    "R2 <- sum$r.squared\n",
    "f <- sum$fstatistic[1]\n",
    "\n",
    "s\n",
    "R2\n",
    "f"
   ]
  },
  {
   "cell_type": "code",
   "execution_count": 17,
   "metadata": {},
   "outputs": [],
   "source": [
    "SSE = (s^2)*(16-(2+1))"
   ]
  },
  {
   "cell_type": "code",
   "execution_count": 18,
   "metadata": {},
   "outputs": [],
   "source": [
    "SST = SSE/(1-R2)"
   ]
  },
  {
   "cell_type": "code",
   "execution_count": 19,
   "metadata": {},
   "outputs": [],
   "source": [
    "SSR = SST-SSE"
   ]
  },
  {
   "cell_type": "code",
   "execution_count": 20,
   "metadata": {},
   "outputs": [
    {
     "data": {
      "text/html": [
       "28.4584372906349"
      ],
      "text/latex": [
       "28.4584372906349"
      ],
      "text/markdown": [
       "28.4584372906349"
      ],
      "text/plain": [
       "[1] 28.45844"
      ]
     },
     "metadata": {},
     "output_type": "display_data"
    },
    {
     "data": {
      "text/html": [
       "323.25"
      ],
      "text/latex": [
       "323.25"
      ],
      "text/markdown": [
       "323.25"
      ],
      "text/plain": [
       "[1] 323.25"
      ]
     },
     "metadata": {},
     "output_type": "display_data"
    },
    {
     "data": {
      "text/html": [
       "294.791562709365"
      ],
      "text/latex": [
       "294.791562709365"
      ],
      "text/markdown": [
       "294.791562709365"
      ],
      "text/plain": [
       "[1] 294.7916"
      ]
     },
     "metadata": {},
     "output_type": "display_data"
    }
   ],
   "source": [
    "SSE\n",
    "SST\n",
    "SSR"
   ]
  },
  {
   "cell_type": "code",
   "execution_count": 21,
   "metadata": {},
   "outputs": [
    {
     "data": {
      "text/plain": [
       "\n",
       "Call:\n",
       "lm(formula = y ~ x)\n",
       "\n",
       "Residuals:\n",
       "    Min      1Q  Median      3Q     Max \n",
       "-2.0507 -0.9754 -0.4972  0.8232  3.5319 \n",
       "\n",
       "Coefficients:\n",
       "            Estimate Std. Error t value Pr(>|t|)    \n",
       "(Intercept) -12.7369     7.8359  -1.625    0.126    \n",
       "x             1.1942     0.1135  10.525 4.94e-08 ***\n",
       "---\n",
       "Signif. codes:  0 '***' 0.001 '**' 0.01 '*' 0.05 '.' 0.1 ' ' 1\n",
       "\n",
       "Residual standard error: 1.61 on 14 degrees of freedom\n",
       "Multiple R-squared:  0.8878,\tAdjusted R-squared:  0.8798 \n",
       "F-statistic: 110.8 on 1 and 14 DF,  p-value: 4.94e-08\n"
      ]
     },
     "metadata": {},
     "output_type": "display_data"
    }
   ],
   "source": [
    "x <- height\n",
    "y <- wingspan\n",
    "\n",
    "model <- lm(y ~ x)\n",
    "summary(model)"
   ]
  },
  {
   "cell_type": "code",
   "execution_count": 23,
   "metadata": {},
   "outputs": [
    {
     "data": {
      "text/html": [
       "33.679946868102"
      ],
      "text/latex": [
       "33.679946868102"
      ],
      "text/markdown": [
       "33.679946868102"
      ],
      "text/plain": [
       "[1] 33.67995"
      ]
     },
     "metadata": {},
     "output_type": "display_data"
    },
    {
     "data": {
      "text/html": [
       "300.160714285714"
      ],
      "text/latex": [
       "300.160714285714"
      ],
      "text/markdown": [
       "300.160714285714"
      ],
      "text/plain": [
       "[1] 300.1607"
      ]
     },
     "metadata": {},
     "output_type": "display_data"
    },
    {
     "data": {
      "text/html": [
       "266.480767417612"
      ],
      "text/latex": [
       "266.480767417612"
      ],
      "text/markdown": [
       "266.480767417612"
      ],
      "text/plain": [
       "[1] 266.4808"
      ]
     },
     "metadata": {},
     "output_type": "display_data"
    }
   ],
   "source": [
    "sum <- summary(model)\n",
    "s <- sum$sigma\n",
    "R2 <- sum$r.squared\n",
    "f <- sum$fstatistic[1]\n",
    "\n",
    "SSE = (s^2)*(16-(2+1))\n",
    "SST = SSE/(1-R2)\n",
    "SSR = SST-SSE\n",
    "\n",
    "SSE\n",
    "SST\n",
    "SSR"
   ]
  },
  {
   "cell_type": "code",
   "execution_count": null,
   "metadata": {},
   "outputs": [],
   "source": []
  }
 ],
 "metadata": {
  "kernelspec": {
   "display_name": "R",
   "language": "R",
   "name": "ir"
  },
  "language_info": {
   "codemirror_mode": "r",
   "file_extension": ".r",
   "mimetype": "text/x-r-source",
   "name": "R",
   "pygments_lexer": "r",
   "version": "3.6.1"
  }
 },
 "nbformat": 4,
 "nbformat_minor": 4
}
