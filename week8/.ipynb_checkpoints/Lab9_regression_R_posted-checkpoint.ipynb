{
 "cells": [
  {
   "cell_type": "code",
   "execution_count": null,
   "metadata": {},
   "outputs": [],
   "source": [
    "setwd(\"???\")  "
   ]
  },
  {
   "cell_type": "code",
   "execution_count": 1,
   "metadata": {},
   "outputs": [
    {
     "data": {
      "text/html": [
       "<table>\n",
       "<thead><tr><th scope=col>xCO2</th><th scope=col>yMass</th></tr></thead>\n",
       "<tbody>\n",
       "\t<tr><td>408</td><td>1.1</td></tr>\n",
       "\t<tr><td>408</td><td>1.3</td></tr>\n",
       "\t<tr><td>554</td><td>1.6</td></tr>\n",
       "\t<tr><td>554</td><td>2.5</td></tr>\n",
       "\t<tr><td>680</td><td>3.0</td></tr>\n",
       "\t<tr><td>680</td><td>4.3</td></tr>\n",
       "\t<tr><td>812</td><td>4.2</td></tr>\n",
       "\t<tr><td>812</td><td>4.7</td></tr>\n",
       "</tbody>\n",
       "</table>\n"
      ],
      "text/latex": [
       "\\begin{tabular}{r|ll}\n",
       " xCO2 & yMass\\\\\n",
       "\\hline\n",
       "\t 408 & 1.1\\\\\n",
       "\t 408 & 1.3\\\\\n",
       "\t 554 & 1.6\\\\\n",
       "\t 554 & 2.5\\\\\n",
       "\t 680 & 3.0\\\\\n",
       "\t 680 & 4.3\\\\\n",
       "\t 812 & 4.2\\\\\n",
       "\t 812 & 4.7\\\\\n",
       "\\end{tabular}\n"
      ],
      "text/markdown": [
       "\n",
       "| xCO2 | yMass |\n",
       "|---|---|\n",
       "| 408 | 1.1 |\n",
       "| 408 | 1.3 |\n",
       "| 554 | 1.6 |\n",
       "| 554 | 2.5 |\n",
       "| 680 | 3.0 |\n",
       "| 680 | 4.3 |\n",
       "| 812 | 4.2 |\n",
       "| 812 | 4.7 |\n",
       "\n"
      ],
      "text/plain": [
       "  xCO2 yMass\n",
       "1 408  1.1  \n",
       "2 408  1.3  \n",
       "3 554  1.6  \n",
       "4 554  2.5  \n",
       "5 680  3.0  \n",
       "6 680  4.3  \n",
       "7 812  4.2  \n",
       "8 812  4.7  "
      ]
     },
     "metadata": {},
     "output_type": "display_data"
    }
   ],
   "source": [
    "df <- read.csv(\"co2.csv\", sep=\",\", header=T, \n",
    "               fileEncoding=\"UTF-8-BOM\")\n",
    "attach(df)\n",
    "df"
   ]
  },
  {
   "cell_type": "code",
   "execution_count": 2,
   "metadata": {},
   "outputs": [],
   "source": [
    "x <- xCO2\n",
    "y <- yMass"
   ]
  },
  {
   "cell_type": "code",
   "execution_count": 3,
   "metadata": {},
   "outputs": [
    {
     "data": {
      "text/plain": [
       "\n",
       "Call:\n",
       "lm(formula = y ~ x)\n",
       "\n",
       "Residuals:\n",
       "     Min       1Q   Median       3Q      Max \n",
       "-0.73446 -0.33671  0.08271  0.18819  0.90028 \n",
       "\n",
       "Coefficients:\n",
       "             Estimate Std. Error t value Pr(>|t|)    \n",
       "(Intercept) -2.349295   0.796567  -2.949 0.025637 *  \n",
       "x            0.008454   0.001261   6.702 0.000536 ***\n",
       "---\n",
       "Signif. codes:  0 '***' 0.001 '**' 0.01 '*' 0.05 '.' 0.1 ' ' 1\n",
       "\n",
       "Residual standard error: 0.534 on 6 degrees of freedom\n",
       "Multiple R-squared:  0.8822,\tAdjusted R-squared:  0.8625 \n",
       "F-statistic: 44.92 on 1 and 6 DF,  p-value: 0.0005355\n"
      ]
     },
     "metadata": {},
     "output_type": "display_data"
    }
   ],
   "source": [
    "model <- lm(y ~ x)\n",
    "summary(model)"
   ]
  },
  {
   "cell_type": "code",
   "execution_count": null,
   "metadata": {},
   "outputs": [],
   "source": []
  }
 ],
 "metadata": {
  "kernelspec": {
   "display_name": "R",
   "language": "R",
   "name": "ir"
  },
  "language_info": {
   "codemirror_mode": "r",
   "file_extension": ".r",
   "mimetype": "text/x-r-source",
   "name": "R",
   "pygments_lexer": "r",
   "version": "3.6.1"
  }
 },
 "nbformat": 4,
 "nbformat_minor": 4
}
