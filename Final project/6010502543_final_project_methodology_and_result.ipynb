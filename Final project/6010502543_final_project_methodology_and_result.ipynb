{
 "cells": [
  {
   "cell_type": "code",
   "execution_count": 1,
   "metadata": {},
   "outputs": [],
   "source": [
    "import pandas as pd\n",
    "import numpy as np\n",
    "import matplotlib.pyplot as plt\n",
    "import seaborn as sns\n",
    "%matplotlib inline"
   ]
  },
  {
   "cell_type": "markdown",
   "metadata": {},
   "source": [
    "# Methodology & Result"
   ]
  },
  {
   "cell_type": "markdown",
   "metadata": {},
   "source": [
    "## Model for Thailand"
   ]
  },
  {
   "cell_type": "markdown",
   "metadata": {},
   "source": [
    "## Regression by use all feature"
   ]
  },
  {
   "cell_type": "code",
   "execution_count": 2,
   "metadata": {},
   "outputs": [
    {
     "data": {
      "text/html": [
       "<div>\n",
       "<style scoped>\n",
       "    .dataframe tbody tr th:only-of-type {\n",
       "        vertical-align: middle;\n",
       "    }\n",
       "\n",
       "    .dataframe tbody tr th {\n",
       "        vertical-align: top;\n",
       "    }\n",
       "\n",
       "    .dataframe thead th {\n",
       "        text-align: right;\n",
       "    }\n",
       "</style>\n",
       "<table border=\"1\" class=\"dataframe\">\n",
       "  <thead>\n",
       "    <tr style=\"text-align: right;\">\n",
       "      <th></th>\n",
       "      <th>Country Name</th>\n",
       "      <th>Year</th>\n",
       "      <th>GDP_perCapita</th>\n",
       "      <th>population</th>\n",
       "      <th>urbanPopulation</th>\n",
       "      <th>PopulationAge15-64</th>\n",
       "      <th>PopulationAge65+</th>\n",
       "      <th>dieselFuelPrice</th>\n",
       "      <th>dieselFuelPrice_year-2</th>\n",
       "      <th>gasolinePrice</th>\n",
       "      <th>...</th>\n",
       "      <th>serviceExports</th>\n",
       "      <th>personalTransfers</th>\n",
       "      <th>schoolEnrollPrimary</th>\n",
       "      <th>airTransportDeparture</th>\n",
       "      <th>internationalTourism</th>\n",
       "      <th>mobileSubscriptionPer100People</th>\n",
       "      <th>broadbandSubscriptionPer100People</th>\n",
       "      <th>electricPowerConsumption</th>\n",
       "      <th>chargesOfIntellectualProperty</th>\n",
       "      <th>landArea</th>\n",
       "    </tr>\n",
       "  </thead>\n",
       "  <tbody>\n",
       "    <tr>\n",
       "      <th>0</th>\n",
       "      <td>Thailand</td>\n",
       "      <td>1996</td>\n",
       "      <td>3043.981173</td>\n",
       "      <td>60130186.0</td>\n",
       "      <td>18309040.0</td>\n",
       "      <td>40831256.0</td>\n",
       "      <td>3409433.0</td>\n",
       "      <td>0.30</td>\n",
       "      <td>0.30</td>\n",
       "      <td>0.34</td>\n",
       "      <td>...</td>\n",
       "      <td>1.700742e+10</td>\n",
       "      <td>5.041000e+08</td>\n",
       "      <td>91.68782</td>\n",
       "      <td>91700.0000</td>\n",
       "      <td>7244000.0</td>\n",
       "      <td>3.067722</td>\n",
       "      <td>0.000138</td>\n",
       "      <td>1380.055601</td>\n",
       "      <td>7.167679e+08</td>\n",
       "      <td>510890.0</td>\n",
       "    </tr>\n",
       "    <tr>\n",
       "      <th>1</th>\n",
       "      <td>Thailand</td>\n",
       "      <td>1997</td>\n",
       "      <td>2468.179209</td>\n",
       "      <td>60846582.0</td>\n",
       "      <td>18632440.0</td>\n",
       "      <td>41584934.0</td>\n",
       "      <td>3573806.0</td>\n",
       "      <td>0.30</td>\n",
       "      <td>0.30</td>\n",
       "      <td>0.34</td>\n",
       "      <td>...</td>\n",
       "      <td>1.576326e+10</td>\n",
       "      <td>5.772700e+08</td>\n",
       "      <td>92.22954</td>\n",
       "      <td>94900.0000</td>\n",
       "      <td>7294000.0</td>\n",
       "      <td>3.622069</td>\n",
       "      <td>0.000395</td>\n",
       "      <td>1410.120292</td>\n",
       "      <td>8.039545e+08</td>\n",
       "      <td>510890.0</td>\n",
       "    </tr>\n",
       "    <tr>\n",
       "      <th>2</th>\n",
       "      <td>Thailand</td>\n",
       "      <td>1998</td>\n",
       "      <td>1845.831225</td>\n",
       "      <td>61585103.0</td>\n",
       "      <td>18965132.0</td>\n",
       "      <td>42347010.0</td>\n",
       "      <td>3745829.0</td>\n",
       "      <td>0.27</td>\n",
       "      <td>0.30</td>\n",
       "      <td>0.30</td>\n",
       "      <td>...</td>\n",
       "      <td>1.315563e+10</td>\n",
       "      <td>6.504400e+08</td>\n",
       "      <td>93.55635</td>\n",
       "      <td>93500.0000</td>\n",
       "      <td>7843000.0</td>\n",
       "      <td>3.210122</td>\n",
       "      <td>0.000685</td>\n",
       "      <td>1359.078672</td>\n",
       "      <td>5.139149e+08</td>\n",
       "      <td>510890.0</td>\n",
       "    </tr>\n",
       "    <tr>\n",
       "      <th>3</th>\n",
       "      <td>Thailand</td>\n",
       "      <td>1999</td>\n",
       "      <td>2033.255822</td>\n",
       "      <td>62298571.0</td>\n",
       "      <td>19293244.0</td>\n",
       "      <td>43076588.0</td>\n",
       "      <td>3925432.0</td>\n",
       "      <td>0.27</td>\n",
       "      <td>0.30</td>\n",
       "      <td>0.30</td>\n",
       "      <td>...</td>\n",
       "      <td>1.463515e+10</td>\n",
       "      <td>7.236100e+08</td>\n",
       "      <td>97.29830</td>\n",
       "      <td>95400.0000</td>\n",
       "      <td>8651000.0</td>\n",
       "      <td>3.755144</td>\n",
       "      <td>0.001189</td>\n",
       "      <td>1358.345764</td>\n",
       "      <td>5.833780e+08</td>\n",
       "      <td>510890.0</td>\n",
       "    </tr>\n",
       "    <tr>\n",
       "      <th>4</th>\n",
       "      <td>Thailand</td>\n",
       "      <td>2000</td>\n",
       "      <td>2007.736363</td>\n",
       "      <td>62952642.0</td>\n",
       "      <td>19758316.0</td>\n",
       "      <td>43744276.0</td>\n",
       "      <td>4111832.0</td>\n",
       "      <td>0.35</td>\n",
       "      <td>0.27</td>\n",
       "      <td>0.39</td>\n",
       "      <td>...</td>\n",
       "      <td>1.386825e+10</td>\n",
       "      <td>7.967800e+08</td>\n",
       "      <td>97.61494</td>\n",
       "      <td>101591.0000</td>\n",
       "      <td>9579000.0</td>\n",
       "      <td>4.854443</td>\n",
       "      <td>0.001388</td>\n",
       "      <td>1448.072664</td>\n",
       "      <td>7.098706e+08</td>\n",
       "      <td>510890.0</td>\n",
       "    </tr>\n",
       "    <tr>\n",
       "      <th>5</th>\n",
       "      <td>Thailand</td>\n",
       "      <td>2001</td>\n",
       "      <td>1893.268310</td>\n",
       "      <td>63539196.0</td>\n",
       "      <td>20680738.0</td>\n",
       "      <td>44380040.0</td>\n",
       "      <td>4303443.0</td>\n",
       "      <td>0.35</td>\n",
       "      <td>0.27</td>\n",
       "      <td>0.39</td>\n",
       "      <td>...</td>\n",
       "      <td>1.302428e+10</td>\n",
       "      <td>8.699500e+08</td>\n",
       "      <td>97.08288</td>\n",
       "      <td>102414.0000</td>\n",
       "      <td>10133000.0</td>\n",
       "      <td>11.882429</td>\n",
       "      <td>0.002539</td>\n",
       "      <td>1504.756214</td>\n",
       "      <td>8.232647e+08</td>\n",
       "      <td>510890.0</td>\n",
       "    </tr>\n",
       "    <tr>\n",
       "      <th>6</th>\n",
       "      <td>Thailand</td>\n",
       "      <td>2002</td>\n",
       "      <td>2096.187999</td>\n",
       "      <td>64069087.0</td>\n",
       "      <td>21613066.0</td>\n",
       "      <td>44948092.0</td>\n",
       "      <td>4499856.0</td>\n",
       "      <td>0.32</td>\n",
       "      <td>0.35</td>\n",
       "      <td>0.36</td>\n",
       "      <td>...</td>\n",
       "      <td>1.539063e+10</td>\n",
       "      <td>9.431200e+08</td>\n",
       "      <td>98.66970</td>\n",
       "      <td>97750.0000</td>\n",
       "      <td>10873000.0</td>\n",
       "      <td>27.236052</td>\n",
       "      <td>0.010263</td>\n",
       "      <td>1617.566362</td>\n",
       "      <td>1.103909e+09</td>\n",
       "      <td>510890.0</td>\n",
       "    </tr>\n",
       "    <tr>\n",
       "      <th>7</th>\n",
       "      <td>Thailand</td>\n",
       "      <td>2003</td>\n",
       "      <td>2359.116494</td>\n",
       "      <td>64549866.0</td>\n",
       "      <td>22554369.0</td>\n",
       "      <td>45462380.0</td>\n",
       "      <td>4696714.0</td>\n",
       "      <td>0.32</td>\n",
       "      <td>0.35</td>\n",
       "      <td>0.36</td>\n",
       "      <td>...</td>\n",
       "      <td>1.579833e+10</td>\n",
       "      <td>1.040680e+09</td>\n",
       "      <td>98.56199</td>\n",
       "      <td>93576.0000</td>\n",
       "      <td>10082000.0</td>\n",
       "      <td>33.488698</td>\n",
       "      <td>0.017988</td>\n",
       "      <td>1713.620908</td>\n",
       "      <td>1.267698e+09</td>\n",
       "      <td>510890.0</td>\n",
       "    </tr>\n",
       "    <tr>\n",
       "      <th>8</th>\n",
       "      <td>Thailand</td>\n",
       "      <td>2004</td>\n",
       "      <td>2660.122791</td>\n",
       "      <td>64995299.0</td>\n",
       "      <td>23508150.0</td>\n",
       "      <td>45948025.0</td>\n",
       "      <td>4888141.0</td>\n",
       "      <td>0.37</td>\n",
       "      <td>0.32</td>\n",
       "      <td>0.54</td>\n",
       "      <td>...</td>\n",
       "      <td>1.904015e+10</td>\n",
       "      <td>1.040680e+09</td>\n",
       "      <td>101.42069</td>\n",
       "      <td>128178.0000</td>\n",
       "      <td>11737000.0</td>\n",
       "      <td>41.488459</td>\n",
       "      <td>0.253518</td>\n",
       "      <td>1827.239844</td>\n",
       "      <td>1.583826e+09</td>\n",
       "      <td>510890.0</td>\n",
       "    </tr>\n",
       "    <tr>\n",
       "      <th>9</th>\n",
       "      <td>Thailand</td>\n",
       "      <td>2005</td>\n",
       "      <td>2894.061896</td>\n",
       "      <td>65416189.0</td>\n",
       "      <td>24472850.0</td>\n",
       "      <td>46419338.0</td>\n",
       "      <td>5072458.0</td>\n",
       "      <td>0.37</td>\n",
       "      <td>0.32</td>\n",
       "      <td>0.54</td>\n",
       "      <td>...</td>\n",
       "      <td>1.992542e+10</td>\n",
       "      <td>1.187020e+09</td>\n",
       "      <td>101.92334</td>\n",
       "      <td>124347.0000</td>\n",
       "      <td>11567000.0</td>\n",
       "      <td>46.563761</td>\n",
       "      <td>0.849171</td>\n",
       "      <td>1914.801243</td>\n",
       "      <td>1.676210e+09</td>\n",
       "      <td>510890.0</td>\n",
       "    </tr>\n",
       "    <tr>\n",
       "      <th>10</th>\n",
       "      <td>Thailand</td>\n",
       "      <td>2006</td>\n",
       "      <td>3369.547815</td>\n",
       "      <td>65812536.0</td>\n",
       "      <td>25451682.0</td>\n",
       "      <td>46859625.0</td>\n",
       "      <td>5248866.0</td>\n",
       "      <td>0.65</td>\n",
       "      <td>0.37</td>\n",
       "      <td>0.70</td>\n",
       "      <td>...</td>\n",
       "      <td>2.461178e+10</td>\n",
       "      <td>1.333360e+09</td>\n",
       "      <td>101.81307</td>\n",
       "      <td>126845.0000</td>\n",
       "      <td>13822000.0</td>\n",
       "      <td>60.969342</td>\n",
       "      <td>1.357717</td>\n",
       "      <td>2005.256263</td>\n",
       "      <td>2.046760e+09</td>\n",
       "      <td>510890.0</td>\n",
       "    </tr>\n",
       "    <tr>\n",
       "      <th>11</th>\n",
       "      <td>Thailand</td>\n",
       "      <td>2007</td>\n",
       "      <td>3973.019618</td>\n",
       "      <td>66182067.0</td>\n",
       "      <td>26439736.0</td>\n",
       "      <td>47269796.0</td>\n",
       "      <td>5420232.0</td>\n",
       "      <td>0.65</td>\n",
       "      <td>0.37</td>\n",
       "      <td>0.70</td>\n",
       "      <td>...</td>\n",
       "      <td>3.011390e+10</td>\n",
       "      <td>1.634850e+09</td>\n",
       "      <td>101.37949</td>\n",
       "      <td>129703.0000</td>\n",
       "      <td>14464000.0</td>\n",
       "      <td>80.042822</td>\n",
       "      <td>1.954217</td>\n",
       "      <td>2080.246300</td>\n",
       "      <td>2.288640e+09</td>\n",
       "      <td>510890.0</td>\n",
       "    </tr>\n",
       "    <tr>\n",
       "      <th>12</th>\n",
       "      <td>Thailand</td>\n",
       "      <td>2008</td>\n",
       "      <td>4379.659877</td>\n",
       "      <td>66530984.0</td>\n",
       "      <td>27438708.0</td>\n",
       "      <td>47652308.0</td>\n",
       "      <td>5594028.0</td>\n",
       "      <td>0.64</td>\n",
       "      <td>0.65</td>\n",
       "      <td>0.87</td>\n",
       "      <td>...</td>\n",
       "      <td>3.312472e+10</td>\n",
       "      <td>1.898410e+09</td>\n",
       "      <td>100.82844</td>\n",
       "      <td>125907.0000</td>\n",
       "      <td>14584000.0</td>\n",
       "      <td>92.944911</td>\n",
       "      <td>3.115539</td>\n",
       "      <td>2105.440076</td>\n",
       "      <td>2.567130e+09</td>\n",
       "      <td>510890.0</td>\n",
       "    </tr>\n",
       "    <tr>\n",
       "      <th>13</th>\n",
       "      <td>Thailand</td>\n",
       "      <td>2009</td>\n",
       "      <td>4213.001541</td>\n",
       "      <td>66866839.0</td>\n",
       "      <td>28447159.0</td>\n",
       "      <td>48005331.0</td>\n",
       "      <td>5778493.0</td>\n",
       "      <td>0.64</td>\n",
       "      <td>0.65</td>\n",
       "      <td>0.87</td>\n",
       "      <td>...</td>\n",
       "      <td>3.020423e+10</td>\n",
       "      <td>2.779030e+09</td>\n",
       "      <td>99.17333</td>\n",
       "      <td>123541.0000</td>\n",
       "      <td>14150000.0</td>\n",
       "      <td>98.632318</td>\n",
       "      <td>3.924633</td>\n",
       "      <td>2101.146130</td>\n",
       "      <td>2.247540e+09</td>\n",
       "      <td>510890.0</td>\n",
       "    </tr>\n",
       "    <tr>\n",
       "      <th>14</th>\n",
       "      <td>Thailand</td>\n",
       "      <td>2010</td>\n",
       "      <td>5076.342992</td>\n",
       "      <td>67195028.0</td>\n",
       "      <td>29469051.0</td>\n",
       "      <td>48326218.0</td>\n",
       "      <td>5978273.0</td>\n",
       "      <td>0.95</td>\n",
       "      <td>0.64</td>\n",
       "      <td>1.41</td>\n",
       "      <td>...</td>\n",
       "      <td>3.433981e+10</td>\n",
       "      <td>3.157730e+09</td>\n",
       "      <td>96.85814</td>\n",
       "      <td>201306.0000</td>\n",
       "      <td>15936000.0</td>\n",
       "      <td>106.743463</td>\n",
       "      <td>4.839422</td>\n",
       "      <td>2307.804679</td>\n",
       "      <td>3.080540e+09</td>\n",
       "      <td>510890.0</td>\n",
       "    </tr>\n",
       "    <tr>\n",
       "      <th>15</th>\n",
       "      <td>Thailand</td>\n",
       "      <td>2011</td>\n",
       "      <td>5492.115427</td>\n",
       "      <td>67518382.0</td>\n",
       "      <td>30179366.0</td>\n",
       "      <td>48493777.0</td>\n",
       "      <td>6204845.0</td>\n",
       "      <td>0.95</td>\n",
       "      <td>0.64</td>\n",
       "      <td>1.41</td>\n",
       "      <td>...</td>\n",
       "      <td>4.154460e+10</td>\n",
       "      <td>3.529320e+09</td>\n",
       "      <td>96.75588</td>\n",
       "      <td>227322.0000</td>\n",
       "      <td>19230000.0</td>\n",
       "      <td>114.708011</td>\n",
       "      <td>5.768799</td>\n",
       "      <td>2283.748446</td>\n",
       "      <td>3.121260e+09</td>\n",
       "      <td>510890.0</td>\n",
       "    </tr>\n",
       "    <tr>\n",
       "      <th>16</th>\n",
       "      <td>Thailand</td>\n",
       "      <td>2012</td>\n",
       "      <td>5860.580610</td>\n",
       "      <td>67835957.0</td>\n",
       "      <td>30828051.0</td>\n",
       "      <td>48669131.0</td>\n",
       "      <td>6446325.0</td>\n",
       "      <td>0.97</td>\n",
       "      <td>0.95</td>\n",
       "      <td>1.56</td>\n",
       "      <td>...</td>\n",
       "      <td>4.652137e+10</td>\n",
       "      <td>3.754854e+09</td>\n",
       "      <td>97.02945</td>\n",
       "      <td>252368.8984</td>\n",
       "      <td>22354000.0</td>\n",
       "      <td>125.319959</td>\n",
       "      <td>6.661658</td>\n",
       "      <td>2443.615559</td>\n",
       "      <td>3.609709e+09</td>\n",
       "      <td>510890.0</td>\n",
       "    </tr>\n",
       "    <tr>\n",
       "      <th>17</th>\n",
       "      <td>Thailand</td>\n",
       "      <td>2013</td>\n",
       "      <td>6168.264895</td>\n",
       "      <td>68144501.0</td>\n",
       "      <td>31477989.0</td>\n",
       "      <td>48838153.0</td>\n",
       "      <td>6705334.0</td>\n",
       "      <td>0.97</td>\n",
       "      <td>0.95</td>\n",
       "      <td>1.56</td>\n",
       "      <td>...</td>\n",
       "      <td>5.480408e+10</td>\n",
       "      <td>4.746436e+09</td>\n",
       "      <td>96.91785</td>\n",
       "      <td>298450.0000</td>\n",
       "      <td>26547000.0</td>\n",
       "      <td>137.720543</td>\n",
       "      <td>7.619102</td>\n",
       "      <td>2514.759041</td>\n",
       "      <td>4.593396e+09</td>\n",
       "      <td>510890.0</td>\n",
       "    </tr>\n",
       "    <tr>\n",
       "      <th>18</th>\n",
       "      <td>Thailand</td>\n",
       "      <td>2014</td>\n",
       "      <td>5951.883702</td>\n",
       "      <td>68438730.0</td>\n",
       "      <td>32127193.0</td>\n",
       "      <td>48978994.0</td>\n",
       "      <td>6984422.0</td>\n",
       "      <td>0.90</td>\n",
       "      <td>0.97</td>\n",
       "      <td>1.29</td>\n",
       "      <td>...</td>\n",
       "      <td>5.194018e+10</td>\n",
       "      <td>4.615465e+09</td>\n",
       "      <td>102.11088</td>\n",
       "      <td>338053.9817</td>\n",
       "      <td>24810000.0</td>\n",
       "      <td>141.872851</td>\n",
       "      <td>7.948714</td>\n",
       "      <td>2538.796380</td>\n",
       "      <td>3.970841e+09</td>\n",
       "      <td>510890.0</td>\n",
       "    </tr>\n",
       "    <tr>\n",
       "      <th>19</th>\n",
       "      <td>Thailand</td>\n",
       "      <td>2015</td>\n",
       "      <td>5840.046948</td>\n",
       "      <td>68714511.0</td>\n",
       "      <td>32772699.0</td>\n",
       "      <td>49078480.0</td>\n",
       "      <td>7285133.0</td>\n",
       "      <td>0.90</td>\n",
       "      <td>0.97</td>\n",
       "      <td>1.29</td>\n",
       "      <td>...</td>\n",
       "      <td>5.808215e+10</td>\n",
       "      <td>3.865078e+09</td>\n",
       "      <td>100.65086</td>\n",
       "      <td>392664.0000</td>\n",
       "      <td>29923000.0</td>\n",
       "      <td>149.811151</td>\n",
       "      <td>9.065043</td>\n",
       "      <td>2631.156511</td>\n",
       "      <td>4.121492e+09</td>\n",
       "      <td>510890.0</td>\n",
       "    </tr>\n",
       "    <tr>\n",
       "      <th>20</th>\n",
       "      <td>Thailand</td>\n",
       "      <td>2016</td>\n",
       "      <td>5978.611454</td>\n",
       "      <td>68971331.0</td>\n",
       "      <td>33415230.0</td>\n",
       "      <td>49209859.0</td>\n",
       "      <td>7591024.0</td>\n",
       "      <td>0.68</td>\n",
       "      <td>0.90</td>\n",
       "      <td>0.71</td>\n",
       "      <td>...</td>\n",
       "      <td>6.378640e+10</td>\n",
       "      <td>4.039790e+09</td>\n",
       "      <td>100.75753</td>\n",
       "      <td>413880.0000</td>\n",
       "      <td>32530000.0</td>\n",
       "      <td>173.505481</td>\n",
       "      <td>10.466671</td>\n",
       "      <td>2704.712963</td>\n",
       "      <td>3.979483e+09</td>\n",
       "      <td>510890.0</td>\n",
       "    </tr>\n",
       "    <tr>\n",
       "      <th>21</th>\n",
       "      <td>Thailand</td>\n",
       "      <td>2017</td>\n",
       "      <td>6578.188865</td>\n",
       "      <td>69209858.0</td>\n",
       "      <td>34051250.0</td>\n",
       "      <td>49283796.0</td>\n",
       "      <td>7915506.0</td>\n",
       "      <td>0.68</td>\n",
       "      <td>0.90</td>\n",
       "      <td>0.71</td>\n",
       "      <td>...</td>\n",
       "      <td>7.096414e+10</td>\n",
       "      <td>4.659526e+09</td>\n",
       "      <td>99.62503</td>\n",
       "      <td>448477.0000</td>\n",
       "      <td>35592000.0</td>\n",
       "      <td>175.596494</td>\n",
       "      <td>11.859590</td>\n",
       "      <td>2778.269415</td>\n",
       "      <td>4.280772e+09</td>\n",
       "      <td>510890.0</td>\n",
       "    </tr>\n",
       "    <tr>\n",
       "      <th>22</th>\n",
       "      <td>Thailand</td>\n",
       "      <td>2018</td>\n",
       "      <td>7273.563207</td>\n",
       "      <td>69428524.0</td>\n",
       "      <td>34678853.0</td>\n",
       "      <td>49302665.0</td>\n",
       "      <td>8262614.0</td>\n",
       "      <td>0.68</td>\n",
       "      <td>0.68</td>\n",
       "      <td>0.71</td>\n",
       "      <td>...</td>\n",
       "      <td>8.133135e+10</td>\n",
       "      <td>5.348370e+09</td>\n",
       "      <td>99.77436</td>\n",
       "      <td>475886.4960</td>\n",
       "      <td>38178000.0</td>\n",
       "      <td>180.182612</td>\n",
       "      <td>13.235208</td>\n",
       "      <td>2851.825867</td>\n",
       "      <td>5.274353e+09</td>\n",
       "      <td>510890.0</td>\n",
       "    </tr>\n",
       "  </tbody>\n",
       "</table>\n",
       "<p>23 rows × 24 columns</p>\n",
       "</div>"
      ],
      "text/plain": [
       "   Country Name  Year  GDP_perCapita  population  urbanPopulation  \\\n",
       "0      Thailand  1996    3043.981173  60130186.0       18309040.0   \n",
       "1      Thailand  1997    2468.179209  60846582.0       18632440.0   \n",
       "2      Thailand  1998    1845.831225  61585103.0       18965132.0   \n",
       "3      Thailand  1999    2033.255822  62298571.0       19293244.0   \n",
       "4      Thailand  2000    2007.736363  62952642.0       19758316.0   \n",
       "5      Thailand  2001    1893.268310  63539196.0       20680738.0   \n",
       "6      Thailand  2002    2096.187999  64069087.0       21613066.0   \n",
       "7      Thailand  2003    2359.116494  64549866.0       22554369.0   \n",
       "8      Thailand  2004    2660.122791  64995299.0       23508150.0   \n",
       "9      Thailand  2005    2894.061896  65416189.0       24472850.0   \n",
       "10     Thailand  2006    3369.547815  65812536.0       25451682.0   \n",
       "11     Thailand  2007    3973.019618  66182067.0       26439736.0   \n",
       "12     Thailand  2008    4379.659877  66530984.0       27438708.0   \n",
       "13     Thailand  2009    4213.001541  66866839.0       28447159.0   \n",
       "14     Thailand  2010    5076.342992  67195028.0       29469051.0   \n",
       "15     Thailand  2011    5492.115427  67518382.0       30179366.0   \n",
       "16     Thailand  2012    5860.580610  67835957.0       30828051.0   \n",
       "17     Thailand  2013    6168.264895  68144501.0       31477989.0   \n",
       "18     Thailand  2014    5951.883702  68438730.0       32127193.0   \n",
       "19     Thailand  2015    5840.046948  68714511.0       32772699.0   \n",
       "20     Thailand  2016    5978.611454  68971331.0       33415230.0   \n",
       "21     Thailand  2017    6578.188865  69209858.0       34051250.0   \n",
       "22     Thailand  2018    7273.563207  69428524.0       34678853.0   \n",
       "\n",
       "    PopulationAge15-64  PopulationAge65+  dieselFuelPrice  \\\n",
       "0           40831256.0         3409433.0             0.30   \n",
       "1           41584934.0         3573806.0             0.30   \n",
       "2           42347010.0         3745829.0             0.27   \n",
       "3           43076588.0         3925432.0             0.27   \n",
       "4           43744276.0         4111832.0             0.35   \n",
       "5           44380040.0         4303443.0             0.35   \n",
       "6           44948092.0         4499856.0             0.32   \n",
       "7           45462380.0         4696714.0             0.32   \n",
       "8           45948025.0         4888141.0             0.37   \n",
       "9           46419338.0         5072458.0             0.37   \n",
       "10          46859625.0         5248866.0             0.65   \n",
       "11          47269796.0         5420232.0             0.65   \n",
       "12          47652308.0         5594028.0             0.64   \n",
       "13          48005331.0         5778493.0             0.64   \n",
       "14          48326218.0         5978273.0             0.95   \n",
       "15          48493777.0         6204845.0             0.95   \n",
       "16          48669131.0         6446325.0             0.97   \n",
       "17          48838153.0         6705334.0             0.97   \n",
       "18          48978994.0         6984422.0             0.90   \n",
       "19          49078480.0         7285133.0             0.90   \n",
       "20          49209859.0         7591024.0             0.68   \n",
       "21          49283796.0         7915506.0             0.68   \n",
       "22          49302665.0         8262614.0             0.68   \n",
       "\n",
       "    dieselFuelPrice_year-2  gasolinePrice  ...  serviceExports  \\\n",
       "0                     0.30           0.34  ...    1.700742e+10   \n",
       "1                     0.30           0.34  ...    1.576326e+10   \n",
       "2                     0.30           0.30  ...    1.315563e+10   \n",
       "3                     0.30           0.30  ...    1.463515e+10   \n",
       "4                     0.27           0.39  ...    1.386825e+10   \n",
       "5                     0.27           0.39  ...    1.302428e+10   \n",
       "6                     0.35           0.36  ...    1.539063e+10   \n",
       "7                     0.35           0.36  ...    1.579833e+10   \n",
       "8                     0.32           0.54  ...    1.904015e+10   \n",
       "9                     0.32           0.54  ...    1.992542e+10   \n",
       "10                    0.37           0.70  ...    2.461178e+10   \n",
       "11                    0.37           0.70  ...    3.011390e+10   \n",
       "12                    0.65           0.87  ...    3.312472e+10   \n",
       "13                    0.65           0.87  ...    3.020423e+10   \n",
       "14                    0.64           1.41  ...    3.433981e+10   \n",
       "15                    0.64           1.41  ...    4.154460e+10   \n",
       "16                    0.95           1.56  ...    4.652137e+10   \n",
       "17                    0.95           1.56  ...    5.480408e+10   \n",
       "18                    0.97           1.29  ...    5.194018e+10   \n",
       "19                    0.97           1.29  ...    5.808215e+10   \n",
       "20                    0.90           0.71  ...    6.378640e+10   \n",
       "21                    0.90           0.71  ...    7.096414e+10   \n",
       "22                    0.68           0.71  ...    8.133135e+10   \n",
       "\n",
       "    personalTransfers  schoolEnrollPrimary  airTransportDeparture  \\\n",
       "0        5.041000e+08             91.68782             91700.0000   \n",
       "1        5.772700e+08             92.22954             94900.0000   \n",
       "2        6.504400e+08             93.55635             93500.0000   \n",
       "3        7.236100e+08             97.29830             95400.0000   \n",
       "4        7.967800e+08             97.61494            101591.0000   \n",
       "5        8.699500e+08             97.08288            102414.0000   \n",
       "6        9.431200e+08             98.66970             97750.0000   \n",
       "7        1.040680e+09             98.56199             93576.0000   \n",
       "8        1.040680e+09            101.42069            128178.0000   \n",
       "9        1.187020e+09            101.92334            124347.0000   \n",
       "10       1.333360e+09            101.81307            126845.0000   \n",
       "11       1.634850e+09            101.37949            129703.0000   \n",
       "12       1.898410e+09            100.82844            125907.0000   \n",
       "13       2.779030e+09             99.17333            123541.0000   \n",
       "14       3.157730e+09             96.85814            201306.0000   \n",
       "15       3.529320e+09             96.75588            227322.0000   \n",
       "16       3.754854e+09             97.02945            252368.8984   \n",
       "17       4.746436e+09             96.91785            298450.0000   \n",
       "18       4.615465e+09            102.11088            338053.9817   \n",
       "19       3.865078e+09            100.65086            392664.0000   \n",
       "20       4.039790e+09            100.75753            413880.0000   \n",
       "21       4.659526e+09             99.62503            448477.0000   \n",
       "22       5.348370e+09             99.77436            475886.4960   \n",
       "\n",
       "    internationalTourism  mobileSubscriptionPer100People  \\\n",
       "0              7244000.0                        3.067722   \n",
       "1              7294000.0                        3.622069   \n",
       "2              7843000.0                        3.210122   \n",
       "3              8651000.0                        3.755144   \n",
       "4              9579000.0                        4.854443   \n",
       "5             10133000.0                       11.882429   \n",
       "6             10873000.0                       27.236052   \n",
       "7             10082000.0                       33.488698   \n",
       "8             11737000.0                       41.488459   \n",
       "9             11567000.0                       46.563761   \n",
       "10            13822000.0                       60.969342   \n",
       "11            14464000.0                       80.042822   \n",
       "12            14584000.0                       92.944911   \n",
       "13            14150000.0                       98.632318   \n",
       "14            15936000.0                      106.743463   \n",
       "15            19230000.0                      114.708011   \n",
       "16            22354000.0                      125.319959   \n",
       "17            26547000.0                      137.720543   \n",
       "18            24810000.0                      141.872851   \n",
       "19            29923000.0                      149.811151   \n",
       "20            32530000.0                      173.505481   \n",
       "21            35592000.0                      175.596494   \n",
       "22            38178000.0                      180.182612   \n",
       "\n",
       "    broadbandSubscriptionPer100People  electricPowerConsumption  \\\n",
       "0                            0.000138               1380.055601   \n",
       "1                            0.000395               1410.120292   \n",
       "2                            0.000685               1359.078672   \n",
       "3                            0.001189               1358.345764   \n",
       "4                            0.001388               1448.072664   \n",
       "5                            0.002539               1504.756214   \n",
       "6                            0.010263               1617.566362   \n",
       "7                            0.017988               1713.620908   \n",
       "8                            0.253518               1827.239844   \n",
       "9                            0.849171               1914.801243   \n",
       "10                           1.357717               2005.256263   \n",
       "11                           1.954217               2080.246300   \n",
       "12                           3.115539               2105.440076   \n",
       "13                           3.924633               2101.146130   \n",
       "14                           4.839422               2307.804679   \n",
       "15                           5.768799               2283.748446   \n",
       "16                           6.661658               2443.615559   \n",
       "17                           7.619102               2514.759041   \n",
       "18                           7.948714               2538.796380   \n",
       "19                           9.065043               2631.156511   \n",
       "20                          10.466671               2704.712963   \n",
       "21                          11.859590               2778.269415   \n",
       "22                          13.235208               2851.825867   \n",
       "\n",
       "    chargesOfIntellectualProperty  landArea  \n",
       "0                    7.167679e+08  510890.0  \n",
       "1                    8.039545e+08  510890.0  \n",
       "2                    5.139149e+08  510890.0  \n",
       "3                    5.833780e+08  510890.0  \n",
       "4                    7.098706e+08  510890.0  \n",
       "5                    8.232647e+08  510890.0  \n",
       "6                    1.103909e+09  510890.0  \n",
       "7                    1.267698e+09  510890.0  \n",
       "8                    1.583826e+09  510890.0  \n",
       "9                    1.676210e+09  510890.0  \n",
       "10                   2.046760e+09  510890.0  \n",
       "11                   2.288640e+09  510890.0  \n",
       "12                   2.567130e+09  510890.0  \n",
       "13                   2.247540e+09  510890.0  \n",
       "14                   3.080540e+09  510890.0  \n",
       "15                   3.121260e+09  510890.0  \n",
       "16                   3.609709e+09  510890.0  \n",
       "17                   4.593396e+09  510890.0  \n",
       "18                   3.970841e+09  510890.0  \n",
       "19                   4.121492e+09  510890.0  \n",
       "20                   3.979483e+09  510890.0  \n",
       "21                   4.280772e+09  510890.0  \n",
       "22                   5.274353e+09  510890.0  \n",
       "\n",
       "[23 rows x 24 columns]"
      ]
     },
     "execution_count": 2,
     "metadata": {},
     "output_type": "execute_result"
    }
   ],
   "source": [
    "df_thailand = pd.read_csv('./country_area/thailand.csv')\n",
    "df_thailand"
   ]
  },
  {
   "cell_type": "code",
   "execution_count": 3,
   "metadata": {},
   "outputs": [
    {
     "data": {
      "text/plain": [
       "['Country Name',\n",
       " 'Year',\n",
       " 'GDP_perCapita',\n",
       " 'population',\n",
       " 'urbanPopulation',\n",
       " 'PopulationAge15-64',\n",
       " 'PopulationAge65+',\n",
       " 'dieselFuelPrice',\n",
       " 'dieselFuelPrice_year-2',\n",
       " 'gasolinePrice',\n",
       " 'gasolinePrice_year-2',\n",
       " 'goodsImports',\n",
       " 'goodsExports',\n",
       " 'serviceImports',\n",
       " 'serviceExports',\n",
       " 'personalTransfers',\n",
       " 'schoolEnrollPrimary',\n",
       " 'airTransportDeparture',\n",
       " 'internationalTourism',\n",
       " 'mobileSubscriptionPer100People',\n",
       " 'broadbandSubscriptionPer100People',\n",
       " 'electricPowerConsumption',\n",
       " 'chargesOfIntellectualProperty',\n",
       " 'landArea']"
      ]
     },
     "execution_count": 3,
     "metadata": {},
     "output_type": "execute_result"
    }
   ],
   "source": [
    "list(df_thailand)"
   ]
  },
  {
   "cell_type": "code",
   "execution_count": 4,
   "metadata": {},
   "outputs": [
    {
     "data": {
      "text/plain": [
       "21"
      ]
     },
     "execution_count": 4,
     "metadata": {},
     "output_type": "execute_result"
    }
   ],
   "source": [
    "input_vars = ['population', 'urbanPopulation', 'PopulationAge15-64',\n",
    "       'PopulationAge65+', 'dieselFuelPrice',\n",
    "       'dieselFuelPrice_year-2', 'gasolinePrice',\n",
    "       'gasolinePrice_year-2', 'goodsImports',\n",
    "       'goodsExports', 'serviceImports', 'serviceExports',\n",
    "       'personalTransfers', 'schoolEnrollPrimary', 'airTransportDeparture',\n",
    "       'internationalTourism', 'mobileSubscriptionPer100People',\n",
    "       'broadbandSubscriptionPer100People', 'electricPowerConsumption',\n",
    "       'chargesOfIntellectualProperty', 'landArea']\n",
    "len(input_vars)"
   ]
  },
  {
   "cell_type": "code",
   "execution_count": 5,
   "metadata": {},
   "outputs": [],
   "source": [
    "from sklearn.model_selection import train_test_split\n",
    "from sklearn.linear_model import LinearRegression\n",
    "from sklearn import metrics"
   ]
  },
  {
   "cell_type": "code",
   "execution_count": 6,
   "metadata": {},
   "outputs": [
    {
     "name": "stdout",
     "output_type": "stream",
     "text": [
      "R-square = 0.9897171304894035\n",
      "RMSE = 192.2293739797495\n"
     ]
    }
   ],
   "source": [
    "X = df_thailand[input_vars]\n",
    "y = df_thailand['GDP_perCapita']\n",
    "X_train, X_test, y_train, y_test = train_test_split(X, y, test_size=0.3, random_state=130)\n",
    "\n",
    "lm = LinearRegression()\n",
    "lm.fit(X_train, y_train)\n",
    "y_pred = lm.predict(X_test)\n",
    "\n",
    "print(\"R-square = \" + str(metrics.r2_score(y_test,y_pred)))\n",
    "print(\"RMSE = \" + str(np.sqrt(metrics.mean_squared_error(y_test,y_pred))))"
   ]
  },
  {
   "cell_type": "markdown",
   "metadata": {},
   "source": [
    "## Feature selection"
   ]
  },
  {
   "cell_type": "markdown",
   "metadata": {},
   "source": [
    "## Filter Methods - Low Variance Filtering"
   ]
  },
  {
   "cell_type": "code",
   "execution_count": 7,
   "metadata": {},
   "outputs": [
    {
     "data": {
      "text/html": [
       "<div>\n",
       "<style scoped>\n",
       "    .dataframe tbody tr th:only-of-type {\n",
       "        vertical-align: middle;\n",
       "    }\n",
       "\n",
       "    .dataframe tbody tr th {\n",
       "        vertical-align: top;\n",
       "    }\n",
       "\n",
       "    .dataframe thead th {\n",
       "        text-align: right;\n",
       "    }\n",
       "</style>\n",
       "<table border=\"1\" class=\"dataframe\">\n",
       "  <thead>\n",
       "    <tr style=\"text-align: right;\">\n",
       "      <th></th>\n",
       "      <th>Country Name</th>\n",
       "      <th>Year</th>\n",
       "      <th>GDP_perCapita</th>\n",
       "      <th>population</th>\n",
       "      <th>urbanPopulation</th>\n",
       "      <th>PopulationAge15-64</th>\n",
       "      <th>PopulationAge65+</th>\n",
       "      <th>dieselFuelPrice</th>\n",
       "      <th>dieselFuelPrice_year-2</th>\n",
       "      <th>gasolinePrice</th>\n",
       "      <th>...</th>\n",
       "      <th>serviceExports</th>\n",
       "      <th>personalTransfers</th>\n",
       "      <th>schoolEnrollPrimary</th>\n",
       "      <th>airTransportDeparture</th>\n",
       "      <th>internationalTourism</th>\n",
       "      <th>mobileSubscriptionPer100People</th>\n",
       "      <th>broadbandSubscriptionPer100People</th>\n",
       "      <th>electricPowerConsumption</th>\n",
       "      <th>chargesOfIntellectualProperty</th>\n",
       "      <th>landArea</th>\n",
       "    </tr>\n",
       "  </thead>\n",
       "  <tbody>\n",
       "    <tr>\n",
       "      <th>0</th>\n",
       "      <td>Thailand</td>\n",
       "      <td>1996</td>\n",
       "      <td>3043.981173</td>\n",
       "      <td>60130186.0</td>\n",
       "      <td>18309040.0</td>\n",
       "      <td>40831256.0</td>\n",
       "      <td>3409433.0</td>\n",
       "      <td>0.30</td>\n",
       "      <td>0.30</td>\n",
       "      <td>0.34</td>\n",
       "      <td>...</td>\n",
       "      <td>1.700742e+10</td>\n",
       "      <td>504100000.0</td>\n",
       "      <td>91.68782</td>\n",
       "      <td>91700.0</td>\n",
       "      <td>7244000.0</td>\n",
       "      <td>3.067722</td>\n",
       "      <td>0.000138</td>\n",
       "      <td>1380.055601</td>\n",
       "      <td>716767861.4</td>\n",
       "      <td>510890.0</td>\n",
       "    </tr>\n",
       "    <tr>\n",
       "      <th>1</th>\n",
       "      <td>Thailand</td>\n",
       "      <td>1997</td>\n",
       "      <td>2468.179209</td>\n",
       "      <td>60846582.0</td>\n",
       "      <td>18632440.0</td>\n",
       "      <td>41584934.0</td>\n",
       "      <td>3573806.0</td>\n",
       "      <td>0.30</td>\n",
       "      <td>0.30</td>\n",
       "      <td>0.34</td>\n",
       "      <td>...</td>\n",
       "      <td>1.576326e+10</td>\n",
       "      <td>577270000.0</td>\n",
       "      <td>92.22954</td>\n",
       "      <td>94900.0</td>\n",
       "      <td>7294000.0</td>\n",
       "      <td>3.622069</td>\n",
       "      <td>0.000395</td>\n",
       "      <td>1410.120292</td>\n",
       "      <td>803954544.1</td>\n",
       "      <td>510890.0</td>\n",
       "    </tr>\n",
       "    <tr>\n",
       "      <th>2</th>\n",
       "      <td>Thailand</td>\n",
       "      <td>1998</td>\n",
       "      <td>1845.831225</td>\n",
       "      <td>61585103.0</td>\n",
       "      <td>18965132.0</td>\n",
       "      <td>42347010.0</td>\n",
       "      <td>3745829.0</td>\n",
       "      <td>0.27</td>\n",
       "      <td>0.30</td>\n",
       "      <td>0.30</td>\n",
       "      <td>...</td>\n",
       "      <td>1.315563e+10</td>\n",
       "      <td>650440000.0</td>\n",
       "      <td>93.55635</td>\n",
       "      <td>93500.0</td>\n",
       "      <td>7843000.0</td>\n",
       "      <td>3.210122</td>\n",
       "      <td>0.000685</td>\n",
       "      <td>1359.078672</td>\n",
       "      <td>513914898.1</td>\n",
       "      <td>510890.0</td>\n",
       "    </tr>\n",
       "    <tr>\n",
       "      <th>3</th>\n",
       "      <td>Thailand</td>\n",
       "      <td>1999</td>\n",
       "      <td>2033.255822</td>\n",
       "      <td>62298571.0</td>\n",
       "      <td>19293244.0</td>\n",
       "      <td>43076588.0</td>\n",
       "      <td>3925432.0</td>\n",
       "      <td>0.27</td>\n",
       "      <td>0.30</td>\n",
       "      <td>0.30</td>\n",
       "      <td>...</td>\n",
       "      <td>1.463515e+10</td>\n",
       "      <td>723610000.0</td>\n",
       "      <td>97.29830</td>\n",
       "      <td>95400.0</td>\n",
       "      <td>8651000.0</td>\n",
       "      <td>3.755144</td>\n",
       "      <td>0.001189</td>\n",
       "      <td>1358.345764</td>\n",
       "      <td>583377970.0</td>\n",
       "      <td>510890.0</td>\n",
       "    </tr>\n",
       "    <tr>\n",
       "      <th>4</th>\n",
       "      <td>Thailand</td>\n",
       "      <td>2000</td>\n",
       "      <td>2007.736363</td>\n",
       "      <td>62952642.0</td>\n",
       "      <td>19758316.0</td>\n",
       "      <td>43744276.0</td>\n",
       "      <td>4111832.0</td>\n",
       "      <td>0.35</td>\n",
       "      <td>0.27</td>\n",
       "      <td>0.39</td>\n",
       "      <td>...</td>\n",
       "      <td>1.386825e+10</td>\n",
       "      <td>796780000.0</td>\n",
       "      <td>97.61494</td>\n",
       "      <td>101591.0</td>\n",
       "      <td>9579000.0</td>\n",
       "      <td>4.854443</td>\n",
       "      <td>0.001388</td>\n",
       "      <td>1448.072664</td>\n",
       "      <td>709870581.5</td>\n",
       "      <td>510890.0</td>\n",
       "    </tr>\n",
       "  </tbody>\n",
       "</table>\n",
       "<p>5 rows × 24 columns</p>\n",
       "</div>"
      ],
      "text/plain": [
       "  Country Name  Year  GDP_perCapita  population  urbanPopulation  \\\n",
       "0     Thailand  1996    3043.981173  60130186.0       18309040.0   \n",
       "1     Thailand  1997    2468.179209  60846582.0       18632440.0   \n",
       "2     Thailand  1998    1845.831225  61585103.0       18965132.0   \n",
       "3     Thailand  1999    2033.255822  62298571.0       19293244.0   \n",
       "4     Thailand  2000    2007.736363  62952642.0       19758316.0   \n",
       "\n",
       "   PopulationAge15-64  PopulationAge65+  dieselFuelPrice  \\\n",
       "0          40831256.0         3409433.0             0.30   \n",
       "1          41584934.0         3573806.0             0.30   \n",
       "2          42347010.0         3745829.0             0.27   \n",
       "3          43076588.0         3925432.0             0.27   \n",
       "4          43744276.0         4111832.0             0.35   \n",
       "\n",
       "   dieselFuelPrice_year-2  gasolinePrice  ...  serviceExports  \\\n",
       "0                    0.30           0.34  ...    1.700742e+10   \n",
       "1                    0.30           0.34  ...    1.576326e+10   \n",
       "2                    0.30           0.30  ...    1.315563e+10   \n",
       "3                    0.30           0.30  ...    1.463515e+10   \n",
       "4                    0.27           0.39  ...    1.386825e+10   \n",
       "\n",
       "   personalTransfers  schoolEnrollPrimary  airTransportDeparture  \\\n",
       "0        504100000.0             91.68782                91700.0   \n",
       "1        577270000.0             92.22954                94900.0   \n",
       "2        650440000.0             93.55635                93500.0   \n",
       "3        723610000.0             97.29830                95400.0   \n",
       "4        796780000.0             97.61494               101591.0   \n",
       "\n",
       "   internationalTourism  mobileSubscriptionPer100People  \\\n",
       "0             7244000.0                        3.067722   \n",
       "1             7294000.0                        3.622069   \n",
       "2             7843000.0                        3.210122   \n",
       "3             8651000.0                        3.755144   \n",
       "4             9579000.0                        4.854443   \n",
       "\n",
       "   broadbandSubscriptionPer100People  electricPowerConsumption  \\\n",
       "0                           0.000138               1380.055601   \n",
       "1                           0.000395               1410.120292   \n",
       "2                           0.000685               1359.078672   \n",
       "3                           0.001189               1358.345764   \n",
       "4                           0.001388               1448.072664   \n",
       "\n",
       "   chargesOfIntellectualProperty  landArea  \n",
       "0                    716767861.4  510890.0  \n",
       "1                    803954544.1  510890.0  \n",
       "2                    513914898.1  510890.0  \n",
       "3                    583377970.0  510890.0  \n",
       "4                    709870581.5  510890.0  \n",
       "\n",
       "[5 rows x 24 columns]"
      ]
     },
     "execution_count": 7,
     "metadata": {},
     "output_type": "execute_result"
    }
   ],
   "source": [
    "df_thailand.head()"
   ]
  },
  {
   "cell_type": "code",
   "execution_count": 8,
   "metadata": {},
   "outputs": [
    {
     "data": {
      "text/plain": [
       "Year                                 4.600000e+01\n",
       "GDP_perCapita                        3.183141e+06\n",
       "population                           7.806539e+12\n",
       "urbanPopulation                      3.103889e+13\n",
       "PopulationAge15-64                   7.211673e+12\n",
       "PopulationAge65+                     2.072768e+12\n",
       "dieselFuelPrice                      6.850672e-02\n",
       "dieselFuelPrice_year-2               7.400395e-02\n",
       "gasolinePrice                        1.905020e-01\n",
       "gasolinePrice_year-2                 2.057261e-01\n",
       "goodsImports                         4.717215e+21\n",
       "goodsExports                         5.342894e+21\n",
       "serviceImports                       1.970096e+20\n",
       "serviceExports                       4.334483e+20\n",
       "personalTransfers                    2.715531e+18\n",
       "schoolEnrollPrimary                  8.897336e+00\n",
       "airTransportDeparture                1.688620e+10\n",
       "internationalTourism                 9.117782e+13\n",
       "mobileSubscriptionPer100People       3.912617e+03\n",
       "broadbandSubscriptionPer100People    1.897189e+01\n",
       "electricPowerConsumption             2.508084e+05\n",
       "chargesOfIntellectualProperty        2.222791e+18\n",
       "landArea                             0.000000e+00\n",
       "dtype: float64"
      ]
     },
     "execution_count": 8,
     "metadata": {},
     "output_type": "execute_result"
    }
   ],
   "source": [
    "df_thailand.var()"
   ]
  },
  {
   "cell_type": "code",
   "execution_count": 9,
   "metadata": {},
   "outputs": [
    {
     "data": {
      "text/plain": [
       "['population',\n",
       " 'urbanPopulation',\n",
       " 'PopulationAge15-64',\n",
       " 'PopulationAge65+',\n",
       " 'goodsImports',\n",
       " 'goodsExports',\n",
       " 'serviceImports',\n",
       " 'serviceExports',\n",
       " 'personalTransfers',\n",
       " 'airTransportDeparture',\n",
       " 'internationalTourism',\n",
       " 'mobileSubscriptionPer100People',\n",
       " 'broadbandSubscriptionPer100People',\n",
       " 'electricPowerConsumption',\n",
       " 'chargesOfIntellectualProperty']"
      ]
     },
     "execution_count": 9,
     "metadata": {},
     "output_type": "execute_result"
    }
   ],
   "source": [
    "min_var_threshold = 10\n",
    "updated_vars_lowVariance = [ ]\n",
    "for i in range(0,len(df_thailand[input_vars].var())):\n",
    "    if df_thailand[input_vars].var()[i] >= min_var_threshold:   \n",
    "        updated_vars_lowVariance.append(df_thailand[input_vars].columns[i])\n",
    "updated_vars_lowVariance"
   ]
  },
  {
   "cell_type": "code",
   "execution_count": 10,
   "metadata": {},
   "outputs": [
    {
     "name": "stdout",
     "output_type": "stream",
     "text": [
      "R-square = 0.9869043271852596\n",
      "RMSE = 216.93343710662091\n"
     ]
    }
   ],
   "source": [
    "X = df_thailand[updated_vars_lowVariance]\n",
    "y = df_thailand['GDP_perCapita']\n",
    "X_train, X_test, y_train, y_test = train_test_split(X, y, test_size=0.3, random_state=130)\n",
    "\n",
    "lm = LinearRegression()\n",
    "lm.fit(X_train, y_train)\n",
    "y_pred = lm.predict(X_test)\n",
    "\n",
    "print(\"R-square = \" + str(metrics.r2_score(y_test,y_pred)))\n",
    "print(\"RMSE = \" + str(np.sqrt(metrics.mean_squared_error(y_test,y_pred))))"
   ]
  },
  {
   "cell_type": "markdown",
   "metadata": {},
   "source": [
    "## Filter Methods - High Correlation Filtering"
   ]
  },
  {
   "cell_type": "code",
   "execution_count": 11,
   "metadata": {},
   "outputs": [],
   "source": [
    "df_thailand_corr = df_thailand.copy()"
   ]
  },
  {
   "cell_type": "code",
   "execution_count": 12,
   "metadata": {},
   "outputs": [
    {
     "data": {
      "text/plain": [
       "<matplotlib.axes._subplots.AxesSubplot at 0x1e841ee0f28>"
      ]
     },
     "execution_count": 12,
     "metadata": {},
     "output_type": "execute_result"
    },
    {
     "data": {
      "image/png": "[encoded data removed]",
      "text/plain": [
       "<Figure size 1080x576 with 2 Axes>"
      ]
     },
     "metadata": {
      "needs_background": "light"
     },
     "output_type": "display_data"
    }
   ],
   "source": [
    "# Plot correlation of numerical data\n",
    "plt.figure(figsize=(15,8))\n",
    "sns.heatmap(df_thailand_corr.corr(),\n",
    "            square=True,\n",
    "            linewidths=0.25,    \n",
    "            linecolor=(0,0,0),\n",
    "            cmap=sns.color_palette(\"coolwarm\"),\n",
    "            annot=False)"
   ]
  },
  {
   "cell_type": "code",
   "execution_count": 13,
   "metadata": {},
   "outputs": [
    {
     "data": {
      "text/plain": [
       "(23, 8)"
      ]
     },
     "execution_count": 13,
     "metadata": {},
     "output_type": "execute_result"
    }
   ],
   "source": [
    "df_thailand_corr.drop('population', 1, inplace=True)\n",
    "df_thailand_corr.drop('urbanPopulation', 1, inplace=True)\n",
    "df_thailand_corr.drop('PopulationAge15-64', 1, inplace=True)\n",
    "df_thailand_corr.drop('PopulationAge65+', 1, inplace=True)\n",
    "df_thailand_corr.drop('dieselFuelPrice_year-2', 1, inplace=True)\n",
    "df_thailand_corr.drop('goodsImports', 1, inplace=True)\n",
    "df_thailand_corr.drop('goodsExports', 1, inplace=True)\n",
    "df_thailand_corr.drop('serviceImports', 1, inplace=True)\n",
    "df_thailand_corr.drop('serviceExports', 1, inplace=True)\n",
    "df_thailand_corr.drop('personalTransfers', 1, inplace=True)\n",
    "df_thailand_corr.drop('internationalTourism', 1, inplace=True)\n",
    "df_thailand_corr.drop('mobileSubscriptionPer100People', 1, inplace=True)\n",
    "df_thailand_corr.drop('broadbandSubscriptionPer100People', 1, inplace=True)\n",
    "df_thailand_corr.drop('electricPowerConsumption', 1, inplace=True)\n",
    "df_thailand_corr.drop('chargesOfIntellectualProperty', 1, inplace=True)\n",
    "df_thailand_corr.drop('landArea', 1, inplace=True)\n",
    "                      \n",
    "df_thailand_corr.shape"
   ]
  },
  {
   "cell_type": "code",
   "execution_count": 14,
   "metadata": {},
   "outputs": [
    {
     "data": {
      "text/plain": [
       "<matplotlib.axes._subplots.AxesSubplot at 0x1e8422c9048>"
      ]
     },
     "execution_count": 14,
     "metadata": {},
     "output_type": "execute_result"
    },
    {
     "data": {
      "image/png": "[encoded data removed]",
      "text/plain": [
       "<Figure size 1080x576 with 2 Axes>"
      ]
     },
     "metadata": {
      "needs_background": "light"
     },
     "output_type": "display_data"
    }
   ],
   "source": [
    "# Plot correlation of numerical data\n",
    "plt.figure(figsize=(15,8))\n",
    "sns.heatmap(df_thailand_corr.corr(),\n",
    "            square=True,\n",
    "            linewidths=0.25,    \n",
    "            linecolor=(0,0,0),\n",
    "            cmap=sns.color_palette(\"coolwarm\"),\n",
    "            annot=False)"
   ]
  },
  {
   "cell_type": "code",
   "execution_count": 15,
   "metadata": {},
   "outputs": [
    {
     "data": {
      "text/plain": [
       "5"
      ]
     },
     "execution_count": 15,
     "metadata": {},
     "output_type": "execute_result"
    }
   ],
   "source": [
    "updated_vars_highCorr = list(input_vars)\n",
    "updated_vars_highCorr.remove('population')\n",
    "updated_vars_highCorr.remove('urbanPopulation')\n",
    "updated_vars_highCorr.remove('PopulationAge15-64')\n",
    "updated_vars_highCorr.remove('PopulationAge65+')\n",
    "updated_vars_highCorr.remove('dieselFuelPrice_year-2')\n",
    "updated_vars_highCorr.remove('goodsImports')\n",
    "updated_vars_highCorr.remove('goodsExports')\n",
    "updated_vars_highCorr.remove('serviceImports')\n",
    "updated_vars_highCorr.remove('serviceExports')\n",
    "updated_vars_highCorr.remove('personalTransfers')\n",
    "updated_vars_highCorr.remove('internationalTourism')\n",
    "updated_vars_highCorr.remove('mobileSubscriptionPer100People')\n",
    "updated_vars_highCorr.remove('broadbandSubscriptionPer100People')\n",
    "updated_vars_highCorr.remove('electricPowerConsumption')\n",
    "updated_vars_highCorr.remove('chargesOfIntellectualProperty')\n",
    "updated_vars_highCorr.remove('landArea')\n",
    "\n",
    "len(updated_vars_highCorr)"
   ]
  },
  {
   "cell_type": "code",
   "execution_count": 16,
   "metadata": {},
   "outputs": [
    {
     "data": {
      "text/plain": [
       "['dieselFuelPrice',\n",
       " 'gasolinePrice',\n",
       " 'gasolinePrice_year-2',\n",
       " 'schoolEnrollPrimary',\n",
       " 'airTransportDeparture']"
      ]
     },
     "execution_count": 16,
     "metadata": {},
     "output_type": "execute_result"
    }
   ],
   "source": [
    "updated_vars_highCorr"
   ]
  },
  {
   "cell_type": "code",
   "execution_count": 17,
   "metadata": {},
   "outputs": [
    {
     "name": "stdout",
     "output_type": "stream",
     "text": [
      "R-square = 0.8699367335186807\n",
      "RMSE = 683.6596018401108\n"
     ]
    }
   ],
   "source": [
    "X = df_thailand[updated_vars_highCorr]\n",
    "y = df_thailand['GDP_perCapita']\n",
    "X_train, X_test, y_train, y_test = train_test_split(X, y, test_size=0.3, random_state=130)\n",
    "\n",
    "lm = LinearRegression()\n",
    "lm.fit(X_train, y_train)\n",
    "y_pred = lm.predict(X_test)\n",
    "\n",
    "print(\"R-square = \" + str(metrics.r2_score(y_test,y_pred)))\n",
    "print(\"RMSE = \" + str(np.sqrt(metrics.mean_squared_error(y_test,y_pred))))"
   ]
  },
  {
   "cell_type": "markdown",
   "metadata": {},
   "source": [
    "## Wrapper Methods - Forward Feature Selection "
   ]
  },
  {
   "cell_type": "code",
   "execution_count": 18,
   "metadata": {},
   "outputs": [],
   "source": [
    "from sklearn.feature_selection import f_regression"
   ]
  },
  {
   "cell_type": "code",
   "execution_count": 19,
   "metadata": {},
   "outputs": [
    {
     "name": "stderr",
     "output_type": "stream",
     "text": [
      "C:\\Users\\Nu\\Anaconda3\\lib\\site-packages\\sklearn\\feature_selection\\_univariate_selection.py:299: RuntimeWarning: divide by zero encountered in true_divide\n",
      "  corr /= X_norms\n",
      "C:\\Users\\Nu\\Anaconda3\\lib\\site-packages\\sklearn\\feature_selection\\_univariate_selection.py:304: RuntimeWarning: invalid value encountered in true_divide\n",
      "  F = corr ** 2 / (1 - corr ** 2) * degrees_of_freedom\n",
      "C:\\Users\\Nu\\Anaconda3\\lib\\site-packages\\scipy\\stats\\_distn_infrastructure.py:903: RuntimeWarning: invalid value encountered in greater\n",
      "  return (a < x) & (x < b)\n",
      "C:\\Users\\Nu\\Anaconda3\\lib\\site-packages\\scipy\\stats\\_distn_infrastructure.py:903: RuntimeWarning: invalid value encountered in less\n",
      "  return (a < x) & (x < b)\n",
      "C:\\Users\\Nu\\Anaconda3\\lib\\site-packages\\scipy\\stats\\_distn_infrastructure.py:1912: RuntimeWarning: invalid value encountered in less_equal\n",
      "  cond2 = cond0 & (x <= _a)\n"
     ]
    },
    {
     "data": {
      "text/plain": [
       "array([ 77.50134178, 241.16622613,  56.37819284, 171.60948181,\n",
       "        60.46353615,  99.21011363,  28.69151005,  58.8122795 ,\n",
       "       346.54481967, 459.22400866, 250.30241656, 259.36889463,\n",
       "       342.39791154,   2.29346762,  91.41130072, 119.64694809,\n",
       "       354.32934819, 230.61629741, 258.557135  , 489.22865275,\n",
       "                nan])"
      ]
     },
     "execution_count": 19,
     "metadata": {},
     "output_type": "execute_result"
    }
   ],
   "source": [
    "fstat, pval = f_regression(df_thailand[input_vars], df_thailand.GDP_perCapita)\n",
    "fstat"
   ]
  },
  {
   "cell_type": "code",
   "execution_count": 20,
   "metadata": {},
   "outputs": [
    {
     "data": {
      "text/plain": [
       "array([1.71752193e-08, 5.50058338e-13, 2.24094718e-07, 1.42113081e-11,\n",
       "       1.29490589e-07, 2.07663416e-09, 2.59614104e-05, 1.61069729e-07,\n",
       "       1.56619027e-14, 9.38975317e-16, 3.83375457e-13, 2.71138201e-13,\n",
       "       1.76491489e-14, 1.44826373e-01, 4.22786724e-09, 3.93959982e-10,\n",
       "       1.25609743e-14, 8.48062419e-13, 2.79549777e-13, 4.96310291e-16,\n",
       "                  nan])"
      ]
     },
     "execution_count": 20,
     "metadata": {},
     "output_type": "execute_result"
    }
   ],
   "source": [
    "pval"
   ]
  },
  {
   "cell_type": "code",
   "execution_count": 21,
   "metadata": {},
   "outputs": [
    {
     "data": {
      "text/plain": [
       "['goodsImports',\n",
       " 'goodsExports',\n",
       " 'personalTransfers',\n",
       " 'mobileSubscriptionPer100People',\n",
       " 'chargesOfIntellectualProperty']"
      ]
     },
     "execution_count": 21,
     "metadata": {},
     "output_type": "execute_result"
    }
   ],
   "source": [
    "f_value_threshold = 300\n",
    "updated_vars_forward = []\n",
    "for i in range(0,len(input_vars)-1):\n",
    "    if fstat[i] >= f_value_threshold:\n",
    "        updated_vars_forward.append(df_thailand[input_vars].columns[i])\n",
    "updated_vars_forward"
   ]
  },
  {
   "cell_type": "code",
   "execution_count": 22,
   "metadata": {},
   "outputs": [
    {
     "name": "stdout",
     "output_type": "stream",
     "text": [
      "R-square = 0.9432046585943733\n",
      "RMSE = 451.77162123651385\n"
     ]
    }
   ],
   "source": [
    "X = df_thailand[updated_vars_forward]\n",
    "y = df_thailand['GDP_perCapita']\n",
    "X_train, X_test, y_train, y_test = train_test_split(X, y, test_size=0.3, random_state=130)\n",
    "\n",
    "lm = LinearRegression()\n",
    "lm.fit(X_train, y_train)\n",
    "y_pred = lm.predict(X_test)\n",
    "\n",
    "print(\"R-square = \" + str(metrics.r2_score(y_test,y_pred)))\n",
    "print(\"RMSE = \" + str(np.sqrt(metrics.mean_squared_error(y_test,y_pred))))"
   ]
  },
  {
   "cell_type": "markdown",
   "metadata": {},
   "source": [
    "## Wrapper Methods - Recursive Feature Elimination"
   ]
  },
  {
   "cell_type": "code",
   "execution_count": 23,
   "metadata": {},
   "outputs": [],
   "source": [
    "from sklearn.linear_model import LinearRegression\n",
    "from sklearn.feature_selection import RFE"
   ]
  },
  {
   "cell_type": "code",
   "execution_count": 24,
   "metadata": {},
   "outputs": [],
   "source": [
    "X = df_thailand[input_vars]\n",
    "y = df_thailand.GDP_perCapita\n",
    "n_features = 5\n",
    "\n",
    "rfe = RFE(LinearRegression(), n_features)\n",
    "model = rfe.fit(X, y)"
   ]
  },
  {
   "cell_type": "code",
   "execution_count": 25,
   "metadata": {},
   "outputs": [
    {
     "data": {
      "text/plain": [
       "array([ 7,  9,  6,  8,  1,  1,  1,  1, 16, 15, 14, 13, 12,  2,  5, 10,  3,\n",
       "        1,  4, 11, 17])"
      ]
     },
     "execution_count": 25,
     "metadata": {},
     "output_type": "execute_result"
    }
   ],
   "source": [
    "model.ranking_"
   ]
  },
  {
   "cell_type": "code",
   "execution_count": 26,
   "metadata": {},
   "outputs": [
    {
     "data": {
      "text/plain": [
       "array([ 2320.95916409,  1506.28670434,   187.18033487, -1095.61631644,\n",
       "         290.02455858])"
      ]
     },
     "execution_count": 26,
     "metadata": {},
     "output_type": "execute_result"
    }
   ],
   "source": [
    "model.estimator_.coef_"
   ]
  },
  {
   "cell_type": "code",
   "execution_count": 27,
   "metadata": {},
   "outputs": [
    {
     "data": {
      "text/plain": [
       "['dieselFuelPrice',\n",
       " 'dieselFuelPrice_year-2',\n",
       " 'gasolinePrice',\n",
       " 'gasolinePrice_year-2',\n",
       " 'broadbandSubscriptionPer100People']"
      ]
     },
     "execution_count": 27,
     "metadata": {},
     "output_type": "execute_result"
    }
   ],
   "source": [
    "updated_vars_recursive = []\n",
    "for i in range(0,len(input_vars)-1):\n",
    "    if model.ranking_[i] == 1:\n",
    "        updated_vars_recursive.append(df_thailand[input_vars].columns[i])\n",
    "updated_vars_recursive"
   ]
  },
  {
   "cell_type": "code",
   "execution_count": 28,
   "metadata": {},
   "outputs": [
    {
     "name": "stdout",
     "output_type": "stream",
     "text": [
      "R-square = 0.9776685050030345\n",
      "RMSE = 283.28363621785695\n"
     ]
    }
   ],
   "source": [
    "X = df_thailand[updated_vars_recursive]\n",
    "y = df_thailand['GDP_perCapita']\n",
    "X_train, X_test, y_train, y_test = train_test_split(X, y, test_size=0.3, random_state=130)\n",
    "\n",
    "lm = LinearRegression()\n",
    "lm.fit(X_train, y_train)\n",
    "y_pred = lm.predict(X_test)\n",
    "\n",
    "print(\"R-square = \" + str(metrics.r2_score(y_test,y_pred)))\n",
    "print(\"RMSE = \" + str(np.sqrt(metrics.mean_squared_error(y_test,y_pred))))"
   ]
  },
  {
   "cell_type": "markdown",
   "metadata": {},
   "source": [
    "## Embedded Methods - Regression & Lasso (L1)"
   ]
  },
  {
   "cell_type": "code",
   "execution_count": 29,
   "metadata": {},
   "outputs": [],
   "source": [
    "X = df_thailand[input_vars]\n",
    "y = df_thailand['GDP_perCapita']\n",
    "X_train, X_test, y_train, y_test = train_test_split(X, y, test_size=0.3, random_state=130)"
   ]
  },
  {
   "cell_type": "code",
   "execution_count": 30,
   "metadata": {},
   "outputs": [
    {
     "name": "stdout",
     "output_type": "stream",
     "text": [
      "R-square = 0.9897171304894035\n",
      "RMSE = 192.2293739797495\n"
     ]
    }
   ],
   "source": [
    "lm = LinearRegression()\n",
    "lm.fit(X_train, y_train)\n",
    "y_pred = lm.predict(X_test)\n",
    "\n",
    "print(\"R-square = \" + str(metrics.r2_score(y_test,y_pred)))\n",
    "print(\"RMSE = \" + str(np.sqrt(metrics.mean_squared_error(y_test,y_pred))))"
   ]
  },
  {
   "cell_type": "code",
   "execution_count": 31,
   "metadata": {},
   "outputs": [
    {
     "name": "stdout",
     "output_type": "stream",
     "text": [
      "R-square = 0.9883235925062397\n",
      "RMSE = 204.84115256004284\n"
     ]
    },
    {
     "name": "stderr",
     "output_type": "stream",
     "text": [
      "C:\\Users\\Nu\\Anaconda3\\lib\\site-packages\\sklearn\\linear_model\\_coordinate_descent.py:476: ConvergenceWarning: Objective did not converge. You might want to increase the number of iterations. Duality gap: 5525.122166918162, tolerance: 4005.4928970860847\n",
      "  positive)\n"
     ]
    }
   ],
   "source": [
    "from sklearn.linear_model import Lasso\n",
    "\n",
    "lasso = Lasso(alpha=10)\n",
    "model = lasso.fit(X_train, y_train)\n",
    "y_pred = model.predict(X_test)\n",
    "\n",
    "print(\"R-square = \" + str(metrics.r2_score(y_test,y_pred)))\n",
    "print(\"RMSE = \" + str(np.sqrt(metrics.mean_squared_error(y_test,y_pred))))"
   ]
  },
  {
   "cell_type": "code",
   "execution_count": 32,
   "metadata": {},
   "outputs": [
    {
     "data": {
      "text/plain": [
       "[array([-9.54414131e-05,  2.45034355e-04, -4.61183531e-04,  2.07548762e-04,\n",
       "         0.00000000e+00, -0.00000000e+00,  0.00000000e+00, -0.00000000e+00,\n",
       "         2.86262785e-09,  1.19622691e-08, -1.35532686e-08,  2.96796391e-08,\n",
       "         4.32717416e-08, -0.00000000e+00, -4.21773006e-03, -2.13118617e-05,\n",
       "        -7.55390740e-01, -0.00000000e+00,  9.20252214e-01,  1.39276065e-07,\n",
       "         0.00000000e+00]),\n",
       " 20497.505932533124]"
      ]
     },
     "execution_count": 32,
     "metadata": {},
     "output_type": "execute_result"
    }
   ],
   "source": [
    "[model.coef_, model.intercept_]"
   ]
  },
  {
   "cell_type": "code",
   "execution_count": 33,
   "metadata": {},
   "outputs": [
    {
     "data": {
      "text/plain": [
       "[-0.7553907400937239,\n",
       " -0.004217730058206345,\n",
       " -0.0004611835305803185,\n",
       " -9.544141309201194e-05,\n",
       " -2.1311861703797946e-05,\n",
       " -1.3553268552834026e-08,\n",
       " 2.862627845042915e-09,\n",
       " 1.1962269062659363e-08,\n",
       " 2.967963908982919e-08,\n",
       " 4.3271741649669425e-08,\n",
       " 1.3927606514315175e-07,\n",
       " 0.0002075487617420862,\n",
       " 0.00024503435540313,\n",
       " 0.9202522135956958]"
      ]
     },
     "execution_count": 33,
     "metadata": {},
     "output_type": "execute_result"
    }
   ],
   "source": [
    "index = np.argsort(model.coef_)\n",
    "coef = [model.coef_[index[i]] for i in range(len(model.coef_))  if model.coef_[index[i]] != 0]\n",
    "update_vars_L1 = [input_vars[index[i]] for i in range(len(model.coef_))  if model.coef_[index[i]] != 0]\n",
    "coef"
   ]
  },
  {
   "cell_type": "code",
   "execution_count": 34,
   "metadata": {},
   "outputs": [
    {
     "data": {
      "text/plain": [
       "['mobileSubscriptionPer100People',\n",
       " 'airTransportDeparture',\n",
       " 'PopulationAge15-64',\n",
       " 'population',\n",
       " 'internationalTourism',\n",
       " 'serviceImports',\n",
       " 'goodsImports',\n",
       " 'goodsExports',\n",
       " 'serviceExports',\n",
       " 'personalTransfers',\n",
       " 'chargesOfIntellectualProperty',\n",
       " 'PopulationAge65+',\n",
       " 'urbanPopulation',\n",
       " 'electricPowerConsumption']"
      ]
     },
     "execution_count": 34,
     "metadata": {},
     "output_type": "execute_result"
    }
   ],
   "source": [
    "update_vars_L1"
   ]
  },
  {
   "cell_type": "code",
   "execution_count": 35,
   "metadata": {},
   "outputs": [
    {
     "data": {
      "text/plain": [
       "14"
      ]
     },
     "execution_count": 35,
     "metadata": {},
     "output_type": "execute_result"
    }
   ],
   "source": [
    "len(update_vars_L1)"
   ]
  },
  {
   "cell_type": "code",
   "execution_count": 36,
   "metadata": {},
   "outputs": [
    {
     "name": "stdout",
     "output_type": "stream",
     "text": [
      "R-square = 0.9883235925062397\n",
      "RMSE = 204.84115256004284\n"
     ]
    },
    {
     "name": "stderr",
     "output_type": "stream",
     "text": [
      "C:\\Users\\Nu\\Anaconda3\\lib\\site-packages\\sklearn\\linear_model\\_coordinate_descent.py:476: ConvergenceWarning: Objective did not converge. You might want to increase the number of iterations. Duality gap: 28154.174411578457, tolerance: 4005.4928970860847\n",
      "  positive)\n"
     ]
    }
   ],
   "source": [
    "lasso2 = Lasso(alpha=1000000)\n",
    "model2 = lasso2.fit(X_train, y_train)\n",
    "y_pred2 = model2.predict(X_test)\n",
    "\n",
    "print(\"R-square = \" + str(metrics.r2_score(y_test,y_pred)))\n",
    "print(\"RMSE = \" + str(np.sqrt(metrics.mean_squared_error(y_test,y_pred))))"
   ]
  },
  {
   "cell_type": "code",
   "execution_count": 37,
   "metadata": {},
   "outputs": [
    {
     "data": {
      "text/plain": [
       "[array([-9.86974892e-05,  2.61585455e-04, -1.96839389e-04, -1.96459623e-04,\n",
       "         0.00000000e+00, -0.00000000e+00, -0.00000000e+00, -0.00000000e+00,\n",
       "         6.37443698e-09,  3.23749970e-09, -6.06259279e-09,  6.84569336e-08,\n",
       "         8.28468162e-09, -0.00000000e+00, -0.00000000e+00, -8.83088849e-05,\n",
       "        -0.00000000e+00, -0.00000000e+00,  0.00000000e+00,  8.62281809e-08,\n",
       "         0.00000000e+00]),\n",
       " 11828.76602607578]"
      ]
     },
     "execution_count": 37,
     "metadata": {},
     "output_type": "execute_result"
    }
   ],
   "source": [
    "[model2.coef_, model2.intercept_]"
   ]
  },
  {
   "cell_type": "code",
   "execution_count": 38,
   "metadata": {},
   "outputs": [
    {
     "data": {
      "text/plain": [
       "[-0.00019683938929041217,\n",
       " -0.0001964596225472848,\n",
       " -9.869748920207136e-05,\n",
       " -8.830888487877223e-05,\n",
       " -6.062592786871766e-09,\n",
       " 3.2374997007034228e-09,\n",
       " 6.3744369825541744e-09,\n",
       " 8.284681615876e-09,\n",
       " 6.84569336085987e-08,\n",
       " 8.622818089940026e-08,\n",
       " 0.0002615854550992697]"
      ]
     },
     "execution_count": 38,
     "metadata": {},
     "output_type": "execute_result"
    }
   ],
   "source": [
    "index = np.argsort(model2.coef_)\n",
    "coef2 = [model2.coef_[index[i]] for i in range(len(model2.coef_))  if model2.coef_[index[i]] != 0]\n",
    "update_vars2_L1 = [input_vars[index[i]] for i in range(len(model2.coef_))  if model2.coef_[index[i]] != 0]\n",
    "coef2"
   ]
  },
  {
   "cell_type": "code",
   "execution_count": 39,
   "metadata": {},
   "outputs": [
    {
     "data": {
      "text/plain": [
       "['PopulationAge15-64',\n",
       " 'PopulationAge65+',\n",
       " 'population',\n",
       " 'internationalTourism',\n",
       " 'serviceImports',\n",
       " 'goodsExports',\n",
       " 'goodsImports',\n",
       " 'personalTransfers',\n",
       " 'serviceExports',\n",
       " 'chargesOfIntellectualProperty',\n",
       " 'urbanPopulation']"
      ]
     },
     "execution_count": 39,
     "metadata": {},
     "output_type": "execute_result"
    }
   ],
   "source": [
    "update_vars2_L1"
   ]
  },
  {
   "cell_type": "code",
   "execution_count": 40,
   "metadata": {},
   "outputs": [
    {
     "data": {
      "text/plain": [
       "11"
      ]
     },
     "execution_count": 40,
     "metadata": {},
     "output_type": "execute_result"
    }
   ],
   "source": [
    "len(update_vars2_L1)"
   ]
  },
  {
   "cell_type": "code",
   "execution_count": 41,
   "metadata": {},
   "outputs": [
    {
     "data": {
      "image/png": "[encoded data removed]",
      "text/plain": [
       "<Figure size 432x288 with 1 Axes>"
      ]
     },
     "metadata": {
      "needs_background": "light"
     },
     "output_type": "display_data"
    }
   ],
   "source": [
    "plt.plot(input_vars,lm.coef_,alpha=0.5,linestyle='none',marker='*',markersize=10,color='red',label=r'Linear Regression',zorder=7) # zorder for ordering the markers\n",
    "plt.plot(input_vars,model.coef_,alpha=0.5,linestyle='none',marker='o',markersize=10,color='blue',label=r'Lasso; $\\alpha = 10$') # alpha here is for transparency\n",
    "plt.plot(input_vars,model2.coef_,alpha=0.5,linestyle='none',marker='d',markersize=15,color='green',label=r'Lasso; $\\alpha = 1000000$') # alpha here is for transparency\n",
    "plt.xlabel('Coefficient Index',fontsize=16)\n",
    "plt.ylabel('Coefficient Magnitude',fontsize=16)\n",
    "plt.legend(fontsize=13,loc='lower left')\n",
    "plt.xticks(input_vars, input_vars, rotation='vertical')\n",
    "plt.show()"
   ]
  },
  {
   "cell_type": "markdown",
   "metadata": {},
   "source": [
    "## Embedded Methods - Random Forest"
   ]
  },
  {
   "cell_type": "code",
   "execution_count": 42,
   "metadata": {},
   "outputs": [
    {
     "data": {
      "image/png": "[encoded data removed]",
      "text/plain": [
       "<Figure size 432x288 with 1 Axes>"
      ]
     },
     "metadata": {
      "needs_background": "light"
     },
     "output_type": "display_data"
    }
   ],
   "source": [
    "from sklearn.ensemble import RandomForestRegressor\n",
    "model = RandomForestRegressor(max_depth=10,n_estimators=100)\n",
    "model.fit(df_thailand[input_vars],df_thailand.GDP_perCapita)\n",
    "\n",
    "n_features = 3\n",
    "\n",
    "features = df_thailand[input_vars].columns\n",
    "importances = model.feature_importances_\n",
    "indices = np.argsort(importances)[-n_features:]  # sort top n features\n",
    "plt.title('Feature Importances')\n",
    "plt.barh(range(len(indices)), importances[indices], color='b', align='center')\n",
    "plt.yticks(range(len(indices)), [features[i] for i in indices])\n",
    "plt.xlabel('Relative Importance')\n",
    "plt.show()"
   ]
  },
  {
   "cell_type": "code",
   "execution_count": 43,
   "metadata": {},
   "outputs": [
    {
     "data": {
      "text/plain": [
       "['internationalTourism', 'serviceExports', 'serviceImports']"
      ]
     },
     "execution_count": 43,
     "metadata": {},
     "output_type": "execute_result"
    }
   ],
   "source": [
    "important_features = [features[i] for i in indices]\n",
    "important_features"
   ]
  },
  {
   "cell_type": "code",
   "execution_count": 44,
   "metadata": {},
   "outputs": [
    {
     "data": {
      "text/plain": [
       "['serviceImports', 'serviceExports', 'internationalTourism']"
      ]
     },
     "execution_count": 44,
     "metadata": {},
     "output_type": "execute_result"
    }
   ],
   "source": [
    "updated_vars_randomForest = []\n",
    "for i in range(-1,-n_features-1,-1):\n",
    "    updated_vars_randomForest.append(important_features[i])\n",
    "updated_vars_randomForest"
   ]
  },
  {
   "cell_type": "code",
   "execution_count": 45,
   "metadata": {},
   "outputs": [
    {
     "name": "stdout",
     "output_type": "stream",
     "text": [
      "R-square = 0.9540016968074332\n",
      "RMSE = 406.56828241813446\n"
     ]
    }
   ],
   "source": [
    "X = df_thailand[updated_vars_randomForest]\n",
    "y = df_thailand['GDP_perCapita']\n",
    "X_train, X_test, y_train, y_test = train_test_split(X, y, test_size=0.3, random_state=130)\n",
    "\n",
    "lm = LinearRegression()\n",
    "lm.fit(X_train, y_train)\n",
    "y_pred = lm.predict(X_test)\n",
    "\n",
    "print(\"R-square = \" + str(metrics.r2_score(y_test,y_pred)))\n",
    "print(\"RMSE = \" + str(np.sqrt(metrics.mean_squared_error(y_test,y_pred))))"
   ]
  },
  {
   "cell_type": "markdown",
   "metadata": {},
   "source": [
    "## Dimensional reduction - Principal Component Analysis"
   ]
  },
  {
   "cell_type": "code",
   "execution_count": 46,
   "metadata": {},
   "outputs": [],
   "source": [
    "X = df_thailand[input_vars]\n",
    "y = df_thailand['GDP_perCapita']\n",
    "X_train, X_test, y_train, y_test = train_test_split(X, y, test_size=0.3, random_state=130)"
   ]
  },
  {
   "cell_type": "code",
   "execution_count": 47,
   "metadata": {},
   "outputs": [],
   "source": [
    "from sklearn.preprocessing import StandardScaler\n",
    "scaler = StandardScaler().fit(X_train)"
   ]
  },
  {
   "cell_type": "code",
   "execution_count": 48,
   "metadata": {},
   "outputs": [
    {
     "data": {
      "text/plain": [
       "array([6.63443331e+07, 2.74559016e+07, 4.71193152e+07, 5.81073719e+06,\n",
       "       6.43125000e-01, 6.19375000e-01, 8.53750000e-01, 8.53125000e-01,\n",
       "       1.42721614e+11, 1.57850304e+11, 3.50259129e+10, 3.66223983e+10,\n",
       "       2.57841545e+09, 9.90290556e+01, 2.11926868e+05, 1.86296875e+07,\n",
       "       9.17679528e+01, 4.37663308e+00, 2.13939913e+03, 2.64515552e+09,\n",
       "       5.10890000e+05])"
      ]
     },
     "execution_count": 48,
     "metadata": {},
     "output_type": "execute_result"
    }
   ],
   "source": [
    "scaler.mean_"
   ]
  },
  {
   "cell_type": "code",
   "execution_count": 49,
   "metadata": {},
   "outputs": [
    {
     "data": {
      "text/plain": [
       "array([2.36218500e+06, 4.83099457e+06, 2.24487794e+06, 1.24688318e+06,\n",
       "       2.41058052e-01, 2.74715051e-01, 4.21439127e-01, 4.66767056e-01,\n",
       "       6.23077878e+10, 6.61645680e+10, 1.20177981e+10, 1.84397842e+10,\n",
       "       1.51716152e+09, 2.61457523e+00, 1.23589468e+05, 8.59889709e+06,\n",
       "       5.52405062e+01, 3.99705600e+00, 4.28506267e+02, 1.28530022e+09,\n",
       "       0.00000000e+00])"
      ]
     },
     "execution_count": 49,
     "metadata": {},
     "output_type": "execute_result"
    }
   ],
   "source": [
    "np.sqrt(scaler.var_)"
   ]
  },
  {
   "cell_type": "code",
   "execution_count": 50,
   "metadata": {},
   "outputs": [],
   "source": [
    "sk_scaled_X_train = scaler.transform(X_train)\n",
    "sk_scaled_X_test = scaler.transform(X_test)"
   ]
  },
  {
   "cell_type": "code",
   "execution_count": 51,
   "metadata": {},
   "outputs": [
    {
     "data": {
      "text/plain": [
       "PCA(copy=True, iterated_power='auto', n_components=2, random_state=None,\n",
       "    svd_solver='auto', tol=0.0, whiten=False)"
      ]
     },
     "execution_count": 51,
     "metadata": {},
     "output_type": "execute_result"
    }
   ],
   "source": [
    "from sklearn.decomposition import PCA\n",
    "\n",
    "num_components=2\n",
    "pca = PCA(n_components=num_components)\n",
    "pca.fit(sk_scaled_X_train)"
   ]
  },
  {
   "cell_type": "code",
   "execution_count": 52,
   "metadata": {},
   "outputs": [
    {
     "data": {
      "text/plain": [
       "array([18.26315315,  1.39721947])"
      ]
     },
     "execution_count": 52,
     "metadata": {},
     "output_type": "execute_result"
    }
   ],
   "source": [
    "pca.explained_variance_"
   ]
  },
  {
   "cell_type": "code",
   "execution_count": 53,
   "metadata": {},
   "outputs": [
    {
     "data": {
      "text/plain": [
       "array([[-0.22875409, -0.23942115, -0.2215329 , -0.23587235, -0.21349762,\n",
       "        -0.23071982, -0.19012066, -0.22959529, -0.22962073, -0.23700997,\n",
       "        -0.22255331, -0.232906  , -0.23470254, -0.08166091, -0.21788986,\n",
       "        -0.22636383, -0.23837429, -0.23141262, -0.23917306, -0.23925081,\n",
       "         0.        ],\n",
       "       [-0.21801259, -0.08503276, -0.22232102, -0.1550451 ,  0.23094192,\n",
       "         0.12613938,  0.36411091,  0.1219121 ,  0.20382119,  0.07432645,\n",
       "         0.07765733, -0.00343753,  0.10735878, -0.75034826, -0.05528933,\n",
       "        -0.08407906, -0.07497867,  0.00312239, -0.10231483,  0.03471647,\n",
       "         0.        ]])"
      ]
     },
     "execution_count": 53,
     "metadata": {},
     "output_type": "execute_result"
    }
   ],
   "source": [
    "pca.components_"
   ]
  },
  {
   "cell_type": "code",
   "execution_count": 54,
   "metadata": {},
   "outputs": [
    {
     "data": {
      "text/plain": [
       "array([0.8560853 , 0.06549466])"
      ]
     },
     "execution_count": 54,
     "metadata": {},
     "output_type": "execute_result"
    }
   ],
   "source": [
    "pca.explained_variance_ratio_"
   ]
  },
  {
   "cell_type": "code",
   "execution_count": 55,
   "metadata": {},
   "outputs": [
    {
     "data": {
      "text/plain": [
       "<matplotlib.axes._subplots.AxesSubplot at 0x1e8427b9400>"
      ]
     },
     "execution_count": 55,
     "metadata": {},
     "output_type": "execute_result"
    },
    {
     "data": {
      "image/png": "[encoded data removed]",
      "text/plain": [
       "<Figure size 432x288 with 1 Axes>"
      ]
     },
     "metadata": {
      "needs_background": "light"
     },
     "output_type": "display_data"
    }
   ],
   "source": [
    "temp_df = pd.DataFrame({'Variance':pca.explained_variance_ratio_,\n",
    "                        'PC':['PC1', 'PC2']})\n",
    "sns.barplot(x='PC',y=\"Variance\", data=temp_df, color=\"blue\")"
   ]
  },
  {
   "cell_type": "code",
   "execution_count": 56,
   "metadata": {},
   "outputs": [],
   "source": [
    "sk_X_train_transformed  = pca.transform(sk_scaled_X_train)"
   ]
  },
  {
   "cell_type": "code",
   "execution_count": 57,
   "metadata": {},
   "outputs": [],
   "source": [
    "sk_X_test_transformed  = pca.transform(sk_scaled_X_test)"
   ]
  },
  {
   "cell_type": "code",
   "execution_count": 58,
   "metadata": {},
   "outputs": [
    {
     "data": {
      "text/plain": [
       "<matplotlib.axes._subplots.AxesSubplot at 0x1e8425986a0>"
      ]
     },
     "execution_count": 58,
     "metadata": {},
     "output_type": "execute_result"
    },
    {
     "data": {
      "image/png": "[encoded data removed]",
      "text/plain": [
       "<Figure size 864x432 with 2 Axes>"
      ]
     },
     "metadata": {
      "needs_background": "light"
     },
     "output_type": "display_data"
    }
   ],
   "source": [
    "temp_df = pd.DataFrame(pca.components_, columns=X.columns)\n",
    "temp_df.rename(index={0: \"PC1\", 1: \"PC2\"}, inplace=True)\n",
    "\n",
    "plt.figure(figsize=(12,6))\n",
    "sns.heatmap(temp_df,cmap='coolwarm')"
   ]
  },
  {
   "cell_type": "code",
   "execution_count": 59,
   "metadata": {},
   "outputs": [
    {
     "name": "stdout",
     "output_type": "stream",
     "text": [
      "R-square = 0.9592608079701838\n",
      "RMSE = 382.6209934864483\n"
     ]
    }
   ],
   "source": [
    "lm = LinearRegression()\n",
    "lm.fit(sk_X_train_transformed, y_train)\n",
    "y_pred = lm.predict(sk_X_test_transformed)\n",
    "\n",
    "print(\"R-square = \" + str(metrics.r2_score(y_test,y_pred)))\n",
    "print(\"RMSE = \" + str(np.sqrt(metrics.mean_squared_error(y_test,y_pred))))"
   ]
  },
  {
   "cell_type": "code",
   "execution_count": 60,
   "metadata": {},
   "outputs": [
    {
     "data": {
      "text/plain": [
       "Text(0, 0.5, 'GDP per Capita (y_train)')"
      ]
     },
     "execution_count": 60,
     "metadata": {},
     "output_type": "execute_result"
    },
    {
     "data": {
      "image/png": "[encoded data removed]",
      "text/plain": [
       "<Figure size 648x504 with 1 Axes>"
      ]
     },
     "metadata": {
      "needs_background": "light"
     },
     "output_type": "display_data"
    }
   ],
   "source": [
    "plt.figure(figsize=(9,7))\n",
    "plt.scatter(sk_X_train_transformed[:,0], y_train, c='orange')\n",
    "plt.xlabel('Component1')\n",
    "plt.ylabel('GDP per Capita (y_train)')"
   ]
  },
  {
   "cell_type": "markdown",
   "metadata": {},
   "source": [
    "## Model for Countries that are less developed than Thailand \n",
    "## - Use South America, Africa, South Asia and Western Asia"
   ]
  },
  {
   "cell_type": "markdown",
   "metadata": {},
   "source": [
    "## Regression by use all feature"
   ]
  },
  {
   "cell_type": "code",
   "execution_count": 61,
   "metadata": {},
   "outputs": [
    {
     "data": {
      "text/html": [
       "<div>\n",
       "<style scoped>\n",
       "    .dataframe tbody tr th:only-of-type {\n",
       "        vertical-align: middle;\n",
       "    }\n",
       "\n",
       "    .dataframe tbody tr th {\n",
       "        vertical-align: top;\n",
       "    }\n",
       "\n",
       "    .dataframe thead th {\n",
       "        text-align: right;\n",
       "    }\n",
       "</style>\n",
       "<table border=\"1\" class=\"dataframe\">\n",
       "  <thead>\n",
       "    <tr style=\"text-align: right;\">\n",
       "      <th></th>\n",
       "      <th>Country Name</th>\n",
       "      <th>Region</th>\n",
       "      <th>Year</th>\n",
       "      <th>GDP_perCapita</th>\n",
       "      <th>population</th>\n",
       "      <th>urbanPopulation</th>\n",
       "      <th>PopulationAge15-64</th>\n",
       "      <th>PopulationAge65+</th>\n",
       "      <th>dieselFuelPrice</th>\n",
       "      <th>dieselFuelPrice_year-2</th>\n",
       "      <th>...</th>\n",
       "      <th>serviceExports</th>\n",
       "      <th>personalTransfers</th>\n",
       "      <th>schoolEnrollPrimary</th>\n",
       "      <th>airTransportDeparture</th>\n",
       "      <th>internationalTourism</th>\n",
       "      <th>mobileSubscriptionPer100People</th>\n",
       "      <th>broadbandSubscriptionPer100People</th>\n",
       "      <th>electricPowerConsumption</th>\n",
       "      <th>chargesOfIntellectualProperty</th>\n",
       "      <th>landArea</th>\n",
       "    </tr>\n",
       "  </thead>\n",
       "  <tbody>\n",
       "    <tr>\n",
       "      <th>0</th>\n",
       "      <td>Algeria</td>\n",
       "      <td>Africa</td>\n",
       "      <td>2016</td>\n",
       "      <td>3946.421445</td>\n",
       "      <td>40551404.0</td>\n",
       "      <td>28977628.0</td>\n",
       "      <td>26300653.0</td>\n",
       "      <td>2436320.0</td>\n",
       "      <td>0.17</td>\n",
       "      <td>0.16</td>\n",
       "      <td>...</td>\n",
       "      <td>3.429915e+09</td>\n",
       "      <td>1.728037e+09</td>\n",
       "      <td>113.8302</td>\n",
       "      <td>73465.0</td>\n",
       "      <td>2039000.0</td>\n",
       "      <td>116.004208</td>\n",
       "      <td>7.051711</td>\n",
       "      <td>1731.092213</td>\n",
       "      <td>1.528979e+08</td>\n",
       "      <td>2381740.0</td>\n",
       "    </tr>\n",
       "    <tr>\n",
       "      <th>1</th>\n",
       "      <td>Argentina</td>\n",
       "      <td>South America</td>\n",
       "      <td>2016</td>\n",
       "      <td>12790.242470</td>\n",
       "      <td>43590368.0</td>\n",
       "      <td>39940546.0</td>\n",
       "      <td>27924236.0</td>\n",
       "      <td>4733904.0</td>\n",
       "      <td>1.00</td>\n",
       "      <td>1.33</td>\n",
       "      <td>...</td>\n",
       "      <td>1.342471e+10</td>\n",
       "      <td>3.127373e+08</td>\n",
       "      <td>110.7392</td>\n",
       "      <td>149334.0</td>\n",
       "      <td>6668000.0</td>\n",
       "      <td>146.453828</td>\n",
       "      <td>16.601663</td>\n",
       "      <td>3890.360164</td>\n",
       "      <td>2.108388e+09</td>\n",
       "      <td>2736690.0</td>\n",
       "    </tr>\n",
       "    <tr>\n",
       "      <th>2</th>\n",
       "      <td>Benin</td>\n",
       "      <td>Africa</td>\n",
       "      <td>2016</td>\n",
       "      <td>789.084915</td>\n",
       "      <td>10872067.0</td>\n",
       "      <td>5026048.0</td>\n",
       "      <td>5859860.0</td>\n",
       "      <td>351768.0</td>\n",
       "      <td>0.72</td>\n",
       "      <td>1.10</td>\n",
       "      <td>...</td>\n",
       "      <td>3.539347e+08</td>\n",
       "      <td>2.012588e+08</td>\n",
       "      <td>130.9023</td>\n",
       "      <td>10.0</td>\n",
       "      <td>267000.0</td>\n",
       "      <td>81.792113</td>\n",
       "      <td>0.205094</td>\n",
       "      <td>129.804126</td>\n",
       "      <td>5.963999e+05</td>\n",
       "      <td>112760.0</td>\n",
       "    </tr>\n",
       "    <tr>\n",
       "      <th>3</th>\n",
       "      <td>Bolivia</td>\n",
       "      <td>South America</td>\n",
       "      <td>2016</td>\n",
       "      <td>3076.658949</td>\n",
       "      <td>11031813.0</td>\n",
       "      <td>7583048.0</td>\n",
       "      <td>6742195.0</td>\n",
       "      <td>761263.0</td>\n",
       "      <td>0.55</td>\n",
       "      <td>0.54</td>\n",
       "      <td>...</td>\n",
       "      <td>1.244740e+09</td>\n",
       "      <td>1.233038e+09</td>\n",
       "      <td>96.5925</td>\n",
       "      <td>45722.0</td>\n",
       "      <td>961000.0</td>\n",
       "      <td>91.609739</td>\n",
       "      <td>2.606906</td>\n",
       "      <td>937.093377</td>\n",
       "      <td>9.938229e+07</td>\n",
       "      <td>1083300.0</td>\n",
       "    </tr>\n",
       "    <tr>\n",
       "      <th>4</th>\n",
       "      <td>Brazil</td>\n",
       "      <td>South America</td>\n",
       "      <td>2016</td>\n",
       "      <td>8712.887044</td>\n",
       "      <td>206163058.0</td>\n",
       "      <td>177386818.0</td>\n",
       "      <td>143590074.0</td>\n",
       "      <td>17115012.0</td>\n",
       "      <td>0.95</td>\n",
       "      <td>1.02</td>\n",
       "      <td>...</td>\n",
       "      <td>3.330029e+10</td>\n",
       "      <td>2.365067e+09</td>\n",
       "      <td>113.9454</td>\n",
       "      <td>826943.0</td>\n",
       "      <td>6547000.0</td>\n",
       "      <td>118.385595</td>\n",
       "      <td>12.981567</td>\n",
       "      <td>3148.312442</td>\n",
       "      <td>5.140804e+09</td>\n",
       "      <td>8358140.0</td>\n",
       "    </tr>\n",
       "  </tbody>\n",
       "</table>\n",
       "<p>5 rows × 25 columns</p>\n",
       "</div>"
      ],
      "text/plain": [
       "  Country Name         Region  Year  GDP_perCapita   population  \\\n",
       "0      Algeria         Africa  2016    3946.421445   40551404.0   \n",
       "1    Argentina  South America  2016   12790.242470   43590368.0   \n",
       "2        Benin         Africa  2016     789.084915   10872067.0   \n",
       "3      Bolivia  South America  2016    3076.658949   11031813.0   \n",
       "4       Brazil  South America  2016    8712.887044  206163058.0   \n",
       "\n",
       "   urbanPopulation  PopulationAge15-64  PopulationAge65+  dieselFuelPrice  \\\n",
       "0       28977628.0          26300653.0         2436320.0             0.17   \n",
       "1       39940546.0          27924236.0         4733904.0             1.00   \n",
       "2        5026048.0           5859860.0          351768.0             0.72   \n",
       "3        7583048.0           6742195.0          761263.0             0.55   \n",
       "4      177386818.0         143590074.0        17115012.0             0.95   \n",
       "\n",
       "   dieselFuelPrice_year-2  ...  serviceExports  personalTransfers  \\\n",
       "0                    0.16  ...    3.429915e+09       1.728037e+09   \n",
       "1                    1.33  ...    1.342471e+10       3.127373e+08   \n",
       "2                    1.10  ...    3.539347e+08       2.012588e+08   \n",
       "3                    0.54  ...    1.244740e+09       1.233038e+09   \n",
       "4                    1.02  ...    3.330029e+10       2.365067e+09   \n",
       "\n",
       "   schoolEnrollPrimary  airTransportDeparture  internationalTourism  \\\n",
       "0             113.8302                73465.0             2039000.0   \n",
       "1             110.7392               149334.0             6668000.0   \n",
       "2             130.9023                   10.0              267000.0   \n",
       "3              96.5925                45722.0              961000.0   \n",
       "4             113.9454               826943.0             6547000.0   \n",
       "\n",
       "   mobileSubscriptionPer100People  broadbandSubscriptionPer100People  \\\n",
       "0                      116.004208                           7.051711   \n",
       "1                      146.453828                          16.601663   \n",
       "2                       81.792113                           0.205094   \n",
       "3                       91.609739                           2.606906   \n",
       "4                      118.385595                          12.981567   \n",
       "\n",
       "   electricPowerConsumption  chargesOfIntellectualProperty   landArea  \n",
       "0               1731.092213                   1.528979e+08  2381740.0  \n",
       "1               3890.360164                   2.108388e+09  2736690.0  \n",
       "2                129.804126                   5.963999e+05   112760.0  \n",
       "3                937.093377                   9.938229e+07  1083300.0  \n",
       "4               3148.312442                   5.140804e+09  8358140.0  \n",
       "\n",
       "[5 rows x 25 columns]"
      ]
     },
     "execution_count": 61,
     "metadata": {},
     "output_type": "execute_result"
    }
   ],
   "source": [
    "df_southAmerica_africa_southWesternAsia = pd.read_csv('./country_area/southAmerica_africa_southWesternAsia.csv')\n",
    "df_southAmerica_africa_southWesternAsia.head()"
   ]
  },
  {
   "cell_type": "code",
   "execution_count": 62,
   "metadata": {},
   "outputs": [
    {
     "name": "stdout",
     "output_type": "stream",
     "text": [
      "R-square = 0.9249056467039329\n",
      "RMSE = 1188.4790137142706\n"
     ]
    }
   ],
   "source": [
    "X = df_southAmerica_africa_southWesternAsia[input_vars]\n",
    "y = df_southAmerica_africa_southWesternAsia['GDP_perCapita']\n",
    "X_train, X_test, y_train, y_test = train_test_split(X, y, test_size=0.3, random_state=483)\n",
    "\n",
    "lm = LinearRegression()\n",
    "lm.fit(X_train, y_train)\n",
    "y_pred = lm.predict(X_test)\n",
    "\n",
    "print(\"R-square = \" + str(metrics.r2_score(y_test,y_pred)))\n",
    "print(\"RMSE = \" + str(np.sqrt(metrics.mean_squared_error(y_test,y_pred))))"
   ]
  },
  {
   "cell_type": "markdown",
   "metadata": {},
   "source": [
    "## Feature selection"
   ]
  },
  {
   "cell_type": "markdown",
   "metadata": {},
   "source": [
    "## Filter Methods - Low Variance Filtering"
   ]
  },
  {
   "cell_type": "code",
   "execution_count": 63,
   "metadata": {},
   "outputs": [
    {
     "data": {
      "text/plain": [
       "Year                                 4.862200e+00\n",
       "GDP_perCapita                        1.450634e+07\n",
       "population                           5.533542e+16\n",
       "urbanPopulation                      6.156466e+15\n",
       "PopulationAge15-64                   2.355447e+16\n",
       "PopulationAge65+                     1.646801e+14\n",
       "dieselFuelPrice                      1.568148e-01\n",
       "dieselFuelPrice_year-2               1.653524e-01\n",
       "gasolinePrice                        1.642647e-01\n",
       "gasolinePrice_year-2                 1.645831e-01\n",
       "goodsImports                         6.862792e+21\n",
       "goodsExports                         3.869752e+21\n",
       "serviceImports                       3.693781e+20\n",
       "serviceExports                       7.420688e+20\n",
       "personalTransfers                    1.428812e+20\n",
       "schoolEnrollPrimary                  1.194328e+02\n",
       "airTransportDeparture                3.906368e+10\n",
       "internationalTourism                 1.073337e+13\n",
       "mobileSubscriptionPer100People       1.119915e+03\n",
       "broadbandSubscriptionPer100People    2.268034e+01\n",
       "electricPowerConsumption             1.527923e+06\n",
       "chargesOfIntellectualProperty        1.357439e+18\n",
       "landArea                             2.154443e+12\n",
       "dtype: float64"
      ]
     },
     "execution_count": 63,
     "metadata": {},
     "output_type": "execute_result"
    }
   ],
   "source": [
    "df_southAmerica_africa_southWesternAsia.var()"
   ]
  },
  {
   "cell_type": "code",
   "execution_count": 64,
   "metadata": {},
   "outputs": [
    {
     "data": {
      "text/plain": [
       "['population',\n",
       " 'urbanPopulation',\n",
       " 'PopulationAge15-64',\n",
       " 'PopulationAge65+',\n",
       " 'goodsImports',\n",
       " 'goodsExports',\n",
       " 'serviceImports',\n",
       " 'serviceExports',\n",
       " 'personalTransfers',\n",
       " 'airTransportDeparture',\n",
       " 'internationalTourism',\n",
       " 'mobileSubscriptionPer100People',\n",
       " 'electricPowerConsumption',\n",
       " 'chargesOfIntellectualProperty',\n",
       " 'landArea']"
      ]
     },
     "execution_count": 64,
     "metadata": {},
     "output_type": "execute_result"
    }
   ],
   "source": [
    "min_var_threshold = 1000\n",
    "updated_vars_lowVariance = [ ]\n",
    "for i in range(0,len(df_southAmerica_africa_southWesternAsia[input_vars].var())):\n",
    "    if df_southAmerica_africa_southWesternAsia[input_vars].var()[i] >= min_var_threshold:   \n",
    "        updated_vars_lowVariance.append(df_southAmerica_africa_southWesternAsia[input_vars].columns[i])\n",
    "updated_vars_lowVariance"
   ]
  },
  {
   "cell_type": "code",
   "execution_count": 65,
   "metadata": {},
   "outputs": [
    {
     "name": "stdout",
     "output_type": "stream",
     "text": [
      "R-square = 0.9063808215094316\n",
      "RMSE = 1326.99806465749\n"
     ]
    }
   ],
   "source": [
    "X = df_southAmerica_africa_southWesternAsia[updated_vars_lowVariance]\n",
    "y = df_southAmerica_africa_southWesternAsia['GDP_perCapita']\n",
    "X_train, X_test, y_train, y_test = train_test_split(X, y, test_size=0.3, random_state=483)\n",
    "\n",
    "lm = LinearRegression()\n",
    "lm.fit(X_train, y_train)\n",
    "y_pred = lm.predict(X_test)\n",
    "\n",
    "print(\"R-square = \" + str(metrics.r2_score(y_test,y_pred)))\n",
    "print(\"RMSE = \" + str(np.sqrt(metrics.mean_squared_error(y_test,y_pred))))"
   ]
  },
  {
   "cell_type": "markdown",
   "metadata": {},
   "source": [
    "## Filter Methods - High Correlation Filtering"
   ]
  },
  {
   "cell_type": "code",
   "execution_count": 66,
   "metadata": {},
   "outputs": [],
   "source": [
    "df_southAmerica_africa_southWesternAsia_corr = df_southAmerica_africa_southWesternAsia.copy()"
   ]
  },
  {
   "cell_type": "code",
   "execution_count": 67,
   "metadata": {},
   "outputs": [
    {
     "data": {
      "text/plain": [
       "<matplotlib.axes._subplots.AxesSubplot at 0x1e84297cbe0>"
      ]
     },
     "execution_count": 67,
     "metadata": {},
     "output_type": "execute_result"
    },
    {
     "data": {
      "image/png": "[encoded data removed]",
      "text/plain": [
       "<Figure size 1080x576 with 2 Axes>"
      ]
     },
     "metadata": {
      "needs_background": "light"
     },
     "output_type": "display_data"
    }
   ],
   "source": [
    "# Plot correlation of numerical data\n",
    "plt.figure(figsize=(15,8))\n",
    "sns.heatmap(df_southAmerica_africa_southWesternAsia_corr.corr(),\n",
    "            square=True,\n",
    "            linewidths=0.25,    \n",
    "            linecolor=(0,0,0),\n",
    "            cmap=sns.color_palette(\"coolwarm\"),\n",
    "            annot=False)"
   ]
  },
  {
   "cell_type": "code",
   "execution_count": 68,
   "metadata": {},
   "outputs": [
    {
     "data": {
      "text/plain": [
       "(113, 12)"
      ]
     },
     "execution_count": 68,
     "metadata": {},
     "output_type": "execute_result"
    }
   ],
   "source": [
    "df_southAmerica_africa_southWesternAsia_corr.drop('urbanPopulation', 1, inplace=True)\n",
    "df_southAmerica_africa_southWesternAsia_corr.drop('PopulationAge15-64', 1, inplace=True)\n",
    "df_southAmerica_africa_southWesternAsia_corr.drop('PopulationAge65+', 1, inplace=True)\n",
    "df_southAmerica_africa_southWesternAsia_corr.drop('dieselFuelPrice_year-2', 1, inplace=True)\n",
    "df_southAmerica_africa_southWesternAsia_corr.drop('gasolinePrice', 1, inplace=True)\n",
    "df_southAmerica_africa_southWesternAsia_corr.drop('gasolinePrice_year-2', 1, inplace=True)\n",
    "df_southAmerica_africa_southWesternAsia_corr.drop('goodsExports', 1, inplace=True)\n",
    "df_southAmerica_africa_southWesternAsia_corr.drop('serviceImports', 1, inplace=True)\n",
    "df_southAmerica_africa_southWesternAsia_corr.drop('serviceExports', 1, inplace=True)\n",
    "df_southAmerica_africa_southWesternAsia_corr.drop('personalTransfers', 1, inplace=True)\n",
    "df_southAmerica_africa_southWesternAsia_corr.drop('airTransportDeparture', 1, inplace=True)\n",
    "df_southAmerica_africa_southWesternAsia_corr.drop('internationalTourism', 1, inplace=True)\n",
    "df_southAmerica_africa_southWesternAsia_corr.drop('chargesOfIntellectualProperty', 1, inplace=True)\n",
    "\n",
    "df_southAmerica_africa_southWesternAsia_corr.shape"
   ]
  },
  {
   "cell_type": "code",
   "execution_count": 69,
   "metadata": {},
   "outputs": [
    {
     "data": {
      "text/plain": [
       "<matplotlib.axes._subplots.AxesSubplot at 0x1e8429689b0>"
      ]
     },
     "execution_count": 69,
     "metadata": {},
     "output_type": "execute_result"
    },
    {
     "data": {
      "image/png": "[encoded data removed]",
      "text/plain": [
       "<Figure size 1080x576 with 2 Axes>"
      ]
     },
     "metadata": {
      "needs_background": "light"
     },
     "output_type": "display_data"
    }
   ],
   "source": [
    "# Plot correlation of numerical data\n",
    "plt.figure(figsize=(15,8))\n",
    "sns.heatmap(df_southAmerica_africa_southWesternAsia_corr.corr(),\n",
    "            square=True,\n",
    "            linewidths=0.25,    \n",
    "            linecolor=(0,0,0),\n",
    "            cmap=sns.color_palette(\"coolwarm\"),\n",
    "            annot=False)"
   ]
  },
  {
   "cell_type": "code",
   "execution_count": 70,
   "metadata": {},
   "outputs": [
    {
     "data": {
      "text/plain": [
       "8"
      ]
     },
     "execution_count": 70,
     "metadata": {},
     "output_type": "execute_result"
    }
   ],
   "source": [
    "updated_vars_highCorr = list(input_vars)\n",
    "updated_vars_highCorr.remove('urbanPopulation')\n",
    "updated_vars_highCorr.remove('PopulationAge15-64')\n",
    "updated_vars_highCorr.remove('PopulationAge65+')\n",
    "updated_vars_highCorr.remove('dieselFuelPrice_year-2')\n",
    "updated_vars_highCorr.remove('gasolinePrice')\n",
    "updated_vars_highCorr.remove('gasolinePrice_year-2')\n",
    "updated_vars_highCorr.remove('goodsExports')\n",
    "updated_vars_highCorr.remove('serviceImports')\n",
    "updated_vars_highCorr.remove('serviceExports')\n",
    "updated_vars_highCorr.remove('personalTransfers')\n",
    "updated_vars_highCorr.remove('airTransportDeparture')\n",
    "updated_vars_highCorr.remove('internationalTourism')\n",
    "updated_vars_highCorr.remove('chargesOfIntellectualProperty')\n",
    "\n",
    "len(updated_vars_highCorr)"
   ]
  },
  {
   "cell_type": "code",
   "execution_count": 71,
   "metadata": {},
   "outputs": [
    {
     "data": {
      "text/plain": [
       "['population',\n",
       " 'dieselFuelPrice',\n",
       " 'goodsImports',\n",
       " 'schoolEnrollPrimary',\n",
       " 'mobileSubscriptionPer100People',\n",
       " 'broadbandSubscriptionPer100People',\n",
       " 'electricPowerConsumption',\n",
       " 'landArea']"
      ]
     },
     "execution_count": 71,
     "metadata": {},
     "output_type": "execute_result"
    }
   ],
   "source": [
    "updated_vars_highCorr"
   ]
  },
  {
   "cell_type": "code",
   "execution_count": 72,
   "metadata": {},
   "outputs": [
    {
     "name": "stdout",
     "output_type": "stream",
     "text": [
      "R-square = 0.7997495963268698\n",
      "RMSE = 1940.7722625833571\n"
     ]
    }
   ],
   "source": [
    "X = df_southAmerica_africa_southWesternAsia[updated_vars_highCorr]\n",
    "y = df_southAmerica_africa_southWesternAsia['GDP_perCapita']\n",
    "X_train, X_test, y_train, y_test = train_test_split(X, y, test_size=0.3, random_state=483)\n",
    "\n",
    "lm = LinearRegression()\n",
    "lm.fit(X_train, y_train)\n",
    "y_pred = lm.predict(X_test)\n",
    "\n",
    "print(\"R-square = \" + str(metrics.r2_score(y_test,y_pred)))\n",
    "print(\"RMSE = \" + str(np.sqrt(metrics.mean_squared_error(y_test,y_pred))))"
   ]
  },
  {
   "cell_type": "markdown",
   "metadata": {},
   "source": [
    "## Wrapper Methods - Forward Feature Selection "
   ]
  },
  {
   "cell_type": "code",
   "execution_count": 73,
   "metadata": {},
   "outputs": [
    {
     "data": {
      "text/plain": [
       "array([1.86596594e+00, 1.26477531e-02, 1.49626629e+00, 4.99442388e-01,\n",
       "       5.52325483e+00, 8.91563048e+00, 3.81738754e+00, 5.26842304e+00,\n",
       "       1.16331081e+00, 1.10365498e+01, 6.42545222e+00, 9.62870147e-02,\n",
       "       3.63750285e+00, 5.65466481e+00, 6.62704612e+00, 4.04284909e+00,\n",
       "       1.15987402e+02, 1.56437321e+02, 2.40380314e+02, 1.03242418e+01,\n",
       "       2.40855192e+01])"
      ]
     },
     "execution_count": 73,
     "metadata": {},
     "output_type": "execute_result"
    }
   ],
   "source": [
    "fstat, pval = f_regression(df_southAmerica_africa_southWesternAsia[input_vars], df_southAmerica_africa_southWesternAsia.GDP_perCapita)\n",
    "fstat"
   ]
  },
  {
   "cell_type": "code",
   "execution_count": 74,
   "metadata": {},
   "outputs": [
    {
     "data": {
      "text/plain": [
       "array([1.74699086e-01, 9.10660047e-01, 2.23837278e-01, 4.81226136e-01,\n",
       "       2.05317578e-02, 3.47928225e-03, 5.32392696e-02, 2.35948303e-02,\n",
       "       2.83118206e-01, 1.21012621e-03, 1.26428222e-02, 7.56913566e-01,\n",
       "       5.90762406e-02, 1.91183308e-02, 1.13609409e-02, 4.67831197e-02,\n",
       "       5.99541441e-19, 6.26121455e-23, 1.52672399e-29, 1.71883803e-03,\n",
       "       3.18528674e-06])"
      ]
     },
     "execution_count": 74,
     "metadata": {},
     "output_type": "execute_result"
    }
   ],
   "source": [
    "pval"
   ]
  },
  {
   "cell_type": "code",
   "execution_count": 75,
   "metadata": {},
   "outputs": [
    {
     "data": {
      "text/plain": [
       "['goodsExports',\n",
       " 'mobileSubscriptionPer100People',\n",
       " 'broadbandSubscriptionPer100People',\n",
       " 'electricPowerConsumption',\n",
       " 'chargesOfIntellectualProperty']"
      ]
     },
     "execution_count": 75,
     "metadata": {},
     "output_type": "execute_result"
    }
   ],
   "source": [
    "f_value_threshold = 10\n",
    "updated_vars_forward = []\n",
    "for i in range(0,len(input_vars)-1):\n",
    "    if fstat[i] >= f_value_threshold:\n",
    "        updated_vars_forward.append(df_southAmerica_africa_southWesternAsia[input_vars].columns[i])\n",
    "updated_vars_forward"
   ]
  },
  {
   "cell_type": "code",
   "execution_count": 76,
   "metadata": {},
   "outputs": [
    {
     "name": "stdout",
     "output_type": "stream",
     "text": [
      "R-square = 0.7937410920182708\n",
      "RMSE = 1969.6734620644193\n"
     ]
    }
   ],
   "source": [
    "X = df_southAmerica_africa_southWesternAsia[updated_vars_forward]\n",
    "y = df_southAmerica_africa_southWesternAsia['GDP_perCapita']\n",
    "X_train, X_test, y_train, y_test = train_test_split(X, y, test_size=0.3, random_state=483)\n",
    "\n",
    "lm = LinearRegression()\n",
    "lm.fit(X_train, y_train)\n",
    "y_pred = lm.predict(X_test)\n",
    "\n",
    "print(\"R-square = \" + str(metrics.r2_score(y_test,y_pred)))\n",
    "print(\"RMSE = \" + str(np.sqrt(metrics.mean_squared_error(y_test,y_pred))))"
   ]
  },
  {
   "cell_type": "markdown",
   "metadata": {},
   "source": [
    "## Wrapper Methods - Recursive Feature Elimination"
   ]
  },
  {
   "cell_type": "code",
   "execution_count": 77,
   "metadata": {},
   "outputs": [],
   "source": [
    "X = df_southAmerica_africa_southWesternAsia[input_vars]\n",
    "y = df_southAmerica_africa_southWesternAsia.GDP_perCapita\n",
    "n_features = 8\n",
    "\n",
    "rfe = RFE(LinearRegression(), n_features)\n",
    "model = rfe.fit(X, y)"
   ]
  },
  {
   "cell_type": "code",
   "execution_count": 78,
   "metadata": {},
   "outputs": [
    {
     "data": {
      "text/plain": [
       "array([ 8,  5,  6,  7,  1,  1,  1,  1, 14, 11, 13, 12, 10,  1,  3,  4,  1,\n",
       "        1,  1,  9,  2])"
      ]
     },
     "execution_count": 78,
     "metadata": {},
     "output_type": "execute_result"
    }
   ],
   "source": [
    "model.ranking_"
   ]
  },
  {
   "cell_type": "code",
   "execution_count": 79,
   "metadata": {},
   "outputs": [
    {
     "data": {
      "text/plain": [
       "array([ 2.04867337e+03, -2.00806797e+03,  1.64944530e+02, -1.14517738e+03,\n",
       "        5.41897866e+00,  1.75928882e+01,  2.60570834e+02,  1.34230246e+00])"
      ]
     },
     "execution_count": 79,
     "metadata": {},
     "output_type": "execute_result"
    }
   ],
   "source": [
    "model.estimator_.coef_"
   ]
  },
  {
   "cell_type": "code",
   "execution_count": 80,
   "metadata": {},
   "outputs": [
    {
     "data": {
      "text/plain": [
       "['dieselFuelPrice',\n",
       " 'dieselFuelPrice_year-2',\n",
       " 'gasolinePrice',\n",
       " 'gasolinePrice_year-2',\n",
       " 'schoolEnrollPrimary',\n",
       " 'mobileSubscriptionPer100People',\n",
       " 'broadbandSubscriptionPer100People',\n",
       " 'electricPowerConsumption']"
      ]
     },
     "execution_count": 80,
     "metadata": {},
     "output_type": "execute_result"
    }
   ],
   "source": [
    "updated_vars_recursive = []\n",
    "for i in range(0,len(input_vars)-1):\n",
    "    if model.ranking_[i] == 1:\n",
    "        updated_vars_recursive.append(df_southAmerica_africa_southWesternAsia[input_vars].columns[i])\n",
    "updated_vars_recursive"
   ]
  },
  {
   "cell_type": "code",
   "execution_count": 81,
   "metadata": {},
   "outputs": [
    {
     "name": "stdout",
     "output_type": "stream",
     "text": [
      "R-square = 0.7977462514022025\n",
      "RMSE = 1950.4560393897953\n"
     ]
    }
   ],
   "source": [
    "X = df_southAmerica_africa_southWesternAsia[updated_vars_recursive]\n",
    "y = df_southAmerica_africa_southWesternAsia['GDP_perCapita']\n",
    "X_train, X_test, y_train, y_test = train_test_split(X, y, test_size=0.3, random_state=483)\n",
    "\n",
    "lm = LinearRegression()\n",
    "lm.fit(X_train, y_train)\n",
    "y_pred = lm.predict(X_test)\n",
    "\n",
    "print(\"R-square = \" + str(metrics.r2_score(y_test,y_pred)))\n",
    "print(\"RMSE = \" + str(np.sqrt(metrics.mean_squared_error(y_test,y_pred))))"
   ]
  },
  {
   "cell_type": "markdown",
   "metadata": {},
   "source": [
    "## Embedded Methods - Regression & Lasso (L1)"
   ]
  },
  {
   "cell_type": "code",
   "execution_count": 82,
   "metadata": {},
   "outputs": [
    {
     "name": "stdout",
     "output_type": "stream",
     "text": [
      "R-square = 0.9249056467039329\n",
      "RMSE = 1188.4790137142706\n"
     ]
    }
   ],
   "source": [
    "X = df_southAmerica_africa_southWesternAsia[input_vars]\n",
    "y = df_southAmerica_africa_southWesternAsia['GDP_perCapita']\n",
    "X_train, X_test, y_train, y_test = train_test_split(X, y, test_size=0.3, random_state=483)\n",
    "\n",
    "lm = LinearRegression()\n",
    "lm.fit(X_train, y_train)\n",
    "y_pred = lm.predict(X_test)\n",
    "\n",
    "print(\"R-square = \" + str(metrics.r2_score(y_test,y_pred)))\n",
    "print(\"RMSE = \" + str(np.sqrt(metrics.mean_squared_error(y_test,y_pred))))"
   ]
  },
  {
   "cell_type": "code",
   "execution_count": 83,
   "metadata": {},
   "outputs": [
    {
     "name": "stdout",
     "output_type": "stream",
     "text": [
      "R-square = 0.8988835168960436\n",
      "RMSE = 1379.1098318440763\n"
     ]
    },
    {
     "name": "stderr",
     "output_type": "stream",
     "text": [
      "C:\\Users\\Nu\\Anaconda3\\lib\\site-packages\\sklearn\\linear_model\\_coordinate_descent.py:476: ConvergenceWarning: Objective did not converge. You might want to increase the number of iterations. Duality gap: 81911075.23259133, tolerance: 97481.8875497838\n",
      "  positive)\n"
     ]
    }
   ],
   "source": [
    "lasso = Lasso(alpha=100)\n",
    "model = lasso.fit(X_train, y_train)\n",
    "y_pred = model.predict(X_test)\n",
    "\n",
    "print(\"R-square = \" + str(metrics.r2_score(y_test,y_pred)))\n",
    "print(\"RMSE = \" + str(np.sqrt(metrics.mean_squared_error(y_test,y_pred))))"
   ]
  },
  {
   "cell_type": "code",
   "execution_count": 84,
   "metadata": {},
   "outputs": [
    {
     "data": {
      "text/plain": [
       "[array([-5.62639208e-06,  3.83448475e-06, -2.03975404e-05,  2.48135798e-04,\n",
       "        -0.00000000e+00, -2.86185101e+01,  0.00000000e+00, -0.00000000e+00,\n",
       "         6.76643657e-10,  6.55554388e-08,  3.25690094e-08, -5.34437003e-08,\n",
       "        -9.75058144e-08, -6.95436828e+00,  6.62345776e-04, -3.77425801e-05,\n",
       "         8.96578951e+00,  8.74223853e+01,  1.52641106e+00, -2.86690483e-08,\n",
       "        -1.18683395e-03]),\n",
       " 1577.467649732549]"
      ]
     },
     "execution_count": 84,
     "metadata": {},
     "output_type": "execute_result"
    }
   ],
   "source": [
    "[model.coef_, model.intercept_]"
   ]
  },
  {
   "cell_type": "code",
   "execution_count": 85,
   "metadata": {},
   "outputs": [
    {
     "data": {
      "text/plain": [
       "[-28.61851010382562,\n",
       " -6.954368277692303,\n",
       " -0.0011868339513135093,\n",
       " -3.7742580101401755e-05,\n",
       " -2.0397540352502304e-05,\n",
       " -5.626392080246672e-06,\n",
       " -9.750581435880318e-08,\n",
       " -5.344370029555887e-08,\n",
       " -2.8669048259102957e-08,\n",
       " 6.766436572236152e-10,\n",
       " 3.256900940355211e-08,\n",
       " 6.555543881618853e-08,\n",
       " 3.834484746053968e-06,\n",
       " 0.0002481357981962411,\n",
       " 0.000662345775930512,\n",
       " 1.5264110571699583,\n",
       " 8.965789505695636,\n",
       " 87.42238526975369]"
      ]
     },
     "execution_count": 85,
     "metadata": {},
     "output_type": "execute_result"
    }
   ],
   "source": [
    "index = np.argsort(model.coef_)\n",
    "coef = [model.coef_[index[i]] for i in range(len(model.coef_))  if model.coef_[index[i]] != 0]\n",
    "update_vars_L1 = [input_vars[index[i]] for i in range(len(model.coef_))  if model.coef_[index[i]] != 0]\n",
    "coef"
   ]
  },
  {
   "cell_type": "code",
   "execution_count": 86,
   "metadata": {},
   "outputs": [
    {
     "data": {
      "text/plain": [
       "['dieselFuelPrice_year-2',\n",
       " 'schoolEnrollPrimary',\n",
       " 'landArea',\n",
       " 'internationalTourism',\n",
       " 'PopulationAge15-64',\n",
       " 'population',\n",
       " 'personalTransfers',\n",
       " 'serviceExports',\n",
       " 'chargesOfIntellectualProperty',\n",
       " 'goodsImports',\n",
       " 'serviceImports',\n",
       " 'goodsExports',\n",
       " 'urbanPopulation',\n",
       " 'PopulationAge65+',\n",
       " 'airTransportDeparture',\n",
       " 'electricPowerConsumption',\n",
       " 'mobileSubscriptionPer100People',\n",
       " 'broadbandSubscriptionPer100People']"
      ]
     },
     "execution_count": 86,
     "metadata": {},
     "output_type": "execute_result"
    }
   ],
   "source": [
    "update_vars_L1"
   ]
  },
  {
   "cell_type": "code",
   "execution_count": 87,
   "metadata": {},
   "outputs": [
    {
     "data": {
      "text/plain": [
       "18"
      ]
     },
     "execution_count": 87,
     "metadata": {},
     "output_type": "execute_result"
    }
   ],
   "source": [
    "len(update_vars_L1)"
   ]
  },
  {
   "cell_type": "code",
   "execution_count": 88,
   "metadata": {},
   "outputs": [
    {
     "name": "stdout",
     "output_type": "stream",
     "text": [
      "R-square = 0.8988835168960436\n",
      "RMSE = 1379.1098318440763\n"
     ]
    },
    {
     "name": "stderr",
     "output_type": "stream",
     "text": [
      "C:\\Users\\Nu\\Anaconda3\\lib\\site-packages\\sklearn\\linear_model\\_coordinate_descent.py:476: ConvergenceWarning: Objective did not converge. You might want to increase the number of iterations. Duality gap: 100634566.46174031, tolerance: 97481.8875497838\n",
      "  positive)\n"
     ]
    }
   ],
   "source": [
    "lasso2 = Lasso(alpha=100000)\n",
    "model2 = lasso2.fit(X_train, y_train)\n",
    "y_pred2 = model2.predict(X_test)\n",
    "\n",
    "print(\"R-square = \" + str(metrics.r2_score(y_test,y_pred)))\n",
    "print(\"RMSE = \" + str(np.sqrt(metrics.mean_squared_error(y_test,y_pred))))"
   ]
  },
  {
   "cell_type": "code",
   "execution_count": 89,
   "metadata": {},
   "outputs": [
    {
     "data": {
      "text/plain": [
       "[array([-1.56126973e-05,  8.63994066e-06, -1.91317782e-05,  4.26362107e-04,\n",
       "        -0.00000000e+00, -0.00000000e+00,  0.00000000e+00, -0.00000000e+00,\n",
       "         6.87510880e-09,  6.52363789e-08,  3.94871027e-08, -8.87050110e-08,\n",
       "        -1.09554783e-07, -0.00000000e+00,  1.00996085e-03,  5.94876787e-06,\n",
       "         0.00000000e+00,  0.00000000e+00,  1.86786095e+00,  7.91809699e-10,\n",
       "        -1.49556296e-03]),\n",
       " 1673.810170351725]"
      ]
     },
     "execution_count": 89,
     "metadata": {},
     "output_type": "execute_result"
    }
   ],
   "source": [
    "[model2.coef_, model2.intercept_]"
   ]
  },
  {
   "cell_type": "code",
   "execution_count": 90,
   "metadata": {},
   "outputs": [
    {
     "data": {
      "text/plain": [
       "[-0.0014955629590719887,\n",
       " -1.9131778166520737e-05,\n",
       " -1.561269728262127e-05,\n",
       " -1.0955478345155298e-07,\n",
       " -8.870501103360978e-08,\n",
       " 7.918096994845715e-10,\n",
       " 6.875108801201253e-09,\n",
       " 3.948710269915484e-08,\n",
       " 6.523637892479786e-08,\n",
       " 5.948767872797881e-06,\n",
       " 8.639940664450938e-06,\n",
       " 0.00042636210670521726,\n",
       " 0.0010099608480879784,\n",
       " 1.8678609486725546]"
      ]
     },
     "execution_count": 90,
     "metadata": {},
     "output_type": "execute_result"
    }
   ],
   "source": [
    "index = np.argsort(model2.coef_)\n",
    "coef2 = [model2.coef_[index[i]] for i in range(len(model2.coef_))  if model2.coef_[index[i]] != 0]\n",
    "update_vars2_L1 = [input_vars[index[i]] for i in range(len(model2.coef_))  if model2.coef_[index[i]] != 0]\n",
    "coef2"
   ]
  },
  {
   "cell_type": "code",
   "execution_count": 91,
   "metadata": {},
   "outputs": [
    {
     "data": {
      "text/plain": [
       "['landArea',\n",
       " 'PopulationAge15-64',\n",
       " 'population',\n",
       " 'personalTransfers',\n",
       " 'serviceExports',\n",
       " 'chargesOfIntellectualProperty',\n",
       " 'goodsImports',\n",
       " 'serviceImports',\n",
       " 'goodsExports',\n",
       " 'internationalTourism',\n",
       " 'urbanPopulation',\n",
       " 'PopulationAge65+',\n",
       " 'airTransportDeparture',\n",
       " 'electricPowerConsumption']"
      ]
     },
     "execution_count": 91,
     "metadata": {},
     "output_type": "execute_result"
    }
   ],
   "source": [
    "update_vars2_L1"
   ]
  },
  {
   "cell_type": "code",
   "execution_count": 92,
   "metadata": {},
   "outputs": [
    {
     "data": {
      "text/plain": [
       "14"
      ]
     },
     "execution_count": 92,
     "metadata": {},
     "output_type": "execute_result"
    }
   ],
   "source": [
    "len(update_vars2_L1)"
   ]
  },
  {
   "cell_type": "code",
   "execution_count": 93,
   "metadata": {},
   "outputs": [
    {
     "data": {
      "image/png": "[encoded data removed]",
      "text/plain": [
       "<Figure size 432x288 with 1 Axes>"
      ]
     },
     "metadata": {
      "needs_background": "light"
     },
     "output_type": "display_data"
    }
   ],
   "source": [
    "plt.plot(input_vars,lm.coef_,alpha=0.5,linestyle='none',marker='*',markersize=10,color='red',label=r'Linear Regression',zorder=7) # zorder for ordering the markers\n",
    "plt.plot(input_vars,model.coef_,alpha=0.5,linestyle='none',marker='o',markersize=10,color='blue',label=r'Lasso; $\\alpha = 100$') # alpha here is for transparency\n",
    "plt.plot(input_vars,model2.coef_,alpha=0.5,linestyle='none',marker='d',markersize=15,color='green',label=r'Lasso; $\\alpha = 100000$') # alpha here is for transparency\n",
    "plt.xlabel('Coefficient Index',fontsize=16)\n",
    "plt.ylabel('Coefficient Magnitude',fontsize=16)\n",
    "plt.legend(fontsize=13,loc='lower left')\n",
    "plt.xticks(input_vars, input_vars, rotation='vertical')\n",
    "plt.show()"
   ]
  },
  {
   "cell_type": "markdown",
   "metadata": {},
   "source": [
    "## Embedded Methods - Random Forest"
   ]
  },
  {
   "cell_type": "code",
   "execution_count": 94,
   "metadata": {},
   "outputs": [
    {
     "data": {
      "image/png": "[encoded data removed]",
      "text/plain": [
       "<Figure size 432x288 with 1 Axes>"
      ]
     },
     "metadata": {
      "needs_background": "light"
     },
     "output_type": "display_data"
    }
   ],
   "source": [
    "model = RandomForestRegressor(max_depth=10,n_estimators=100)\n",
    "model.fit(df_southAmerica_africa_southWesternAsia[input_vars],df_southAmerica_africa_southWesternAsia.GDP_perCapita)\n",
    "\n",
    "n_features = 2\n",
    "\n",
    "features = df_southAmerica_africa_southWesternAsia[input_vars].columns\n",
    "importances = model.feature_importances_\n",
    "indices = np.argsort(importances)[-n_features:]  # sort top n features\n",
    "plt.title('Feature Importances')\n",
    "plt.barh(range(len(indices)), importances[indices], color='b', align='center')\n",
    "plt.yticks(range(len(indices)), [features[i] for i in indices])\n",
    "plt.xlabel('Relative Importance')\n",
    "plt.show()"
   ]
  },
  {
   "cell_type": "code",
   "execution_count": 95,
   "metadata": {},
   "outputs": [
    {
     "data": {
      "text/plain": [
       "['broadbandSubscriptionPer100People', 'electricPowerConsumption']"
      ]
     },
     "execution_count": 95,
     "metadata": {},
     "output_type": "execute_result"
    }
   ],
   "source": [
    "important_features = [features[i] for i in indices]\n",
    "important_features"
   ]
  },
  {
   "cell_type": "code",
   "execution_count": 96,
   "metadata": {},
   "outputs": [
    {
     "data": {
      "text/plain": [
       "['electricPowerConsumption', 'broadbandSubscriptionPer100People']"
      ]
     },
     "execution_count": 96,
     "metadata": {},
     "output_type": "execute_result"
    }
   ],
   "source": [
    "updated_vars_randomForest = []\n",
    "for i in range(-1,-n_features-1,-1):\n",
    "    updated_vars_randomForest.append(important_features[i])\n",
    "updated_vars_randomForest"
   ]
  },
  {
   "cell_type": "code",
   "execution_count": 97,
   "metadata": {},
   "outputs": [
    {
     "name": "stdout",
     "output_type": "stream",
     "text": [
      "R-square = 0.8158818010729407\n",
      "RMSE = 1860.9565596041832\n"
     ]
    }
   ],
   "source": [
    "X = df_southAmerica_africa_southWesternAsia[updated_vars_randomForest]\n",
    "y = df_southAmerica_africa_southWesternAsia['GDP_perCapita']\n",
    "X_train, X_test, y_train, y_test = train_test_split(X, y, test_size=0.3, random_state=483)\n",
    "\n",
    "lm = LinearRegression()\n",
    "lm.fit(X_train, y_train)\n",
    "y_pred = lm.predict(X_test)\n",
    "\n",
    "print(\"R-square = \" + str(metrics.r2_score(y_test,y_pred)))\n",
    "print(\"RMSE = \" + str(np.sqrt(metrics.mean_squared_error(y_test,y_pred))))"
   ]
  },
  {
   "cell_type": "markdown",
   "metadata": {},
   "source": [
    "## Dimensional reduction - Principal Component Analysis"
   ]
  },
  {
   "cell_type": "code",
   "execution_count": 98,
   "metadata": {},
   "outputs": [],
   "source": [
    "X = df_southAmerica_africa_southWesternAsia[input_vars]\n",
    "y = df_southAmerica_africa_southWesternAsia['GDP_perCapita']\n",
    "X_train, X_test, y_train, y_test = train_test_split(X, y, test_size=0.3, random_state=483)"
   ]
  },
  {
   "cell_type": "code",
   "execution_count": 99,
   "metadata": {},
   "outputs": [],
   "source": [
    "scaler = StandardScaler().fit(X_train)"
   ]
  },
  {
   "cell_type": "code",
   "execution_count": 100,
   "metadata": {},
   "outputs": [
    {
     "data": {
      "text/plain": [
       "array([8.53638376e+07, 3.54624141e+07, 5.38131347e+07, 4.41738899e+06,\n",
       "       9.01746835e-01, 9.50898734e-01, 1.03424051e+00, 1.08978481e+00,\n",
       "       4.32164741e+10, 3.72768086e+10, 1.09051074e+10, 1.04945442e+10,\n",
       "       5.26101820e+09, 1.05875304e+02, 1.00457705e+05, 3.15862405e+06,\n",
       "       9.47272839e+01, 4.13518588e+00, 1.22717918e+03, 4.08275882e+08,\n",
       "       1.05059575e+06])"
      ]
     },
     "execution_count": 100,
     "metadata": {},
     "output_type": "execute_result"
    }
   ],
   "source": [
    "scaler.mean_"
   ]
  },
  {
   "cell_type": "code",
   "execution_count": 101,
   "metadata": {},
   "outputs": [
    {
     "data": {
      "text/plain": [
       "array([2.39029084e+08, 7.82735110e+07, 1.55092373e+08, 1.26945850e+07,\n",
       "       3.89708150e-01, 4.13122674e-01, 3.93608821e-01, 4.05193895e-01,\n",
       "       8.88111526e+10, 6.44828478e+10, 1.92510118e+10, 2.69880950e+10,\n",
       "       1.23503646e+10, 1.13588373e+01, 1.95997989e+05, 3.27818420e+06,\n",
       "       3.21612739e+01, 4.75765372e+00, 1.09479623e+03, 1.09546714e+09,\n",
       "       1.43464561e+06])"
      ]
     },
     "execution_count": 101,
     "metadata": {},
     "output_type": "execute_result"
    }
   ],
   "source": [
    "np.sqrt(scaler.var_)"
   ]
  },
  {
   "cell_type": "code",
   "execution_count": 102,
   "metadata": {},
   "outputs": [],
   "source": [
    "sk_scaled_X_train = scaler.transform(X_train)\n",
    "sk_scaled_X_test = scaler.transform(X_test)"
   ]
  },
  {
   "cell_type": "code",
   "execution_count": 103,
   "metadata": {},
   "outputs": [
    {
     "data": {
      "text/plain": [
       "PCA(copy=True, iterated_power='auto', n_components=3, random_state=None,\n",
       "    svd_solver='auto', tol=0.0, whiten=False)"
      ]
     },
     "execution_count": 103,
     "metadata": {},
     "output_type": "execute_result"
    }
   ],
   "source": [
    "num_components=3\n",
    "pca = PCA(n_components=num_components)\n",
    "pca.fit(sk_scaled_X_train)"
   ]
  },
  {
   "cell_type": "code",
   "execution_count": 104,
   "metadata": {},
   "outputs": [
    {
     "data": {
      "text/plain": [
       "array([10.53756273,  4.01510072,  2.75278398])"
      ]
     },
     "execution_count": 104,
     "metadata": {},
     "output_type": "execute_result"
    }
   ],
   "source": [
    "pca.explained_variance_"
   ]
  },
  {
   "cell_type": "code",
   "execution_count": 105,
   "metadata": {},
   "outputs": [
    {
     "data": {
      "text/plain": [
       "array([[ 2.87250254e-01,  3.04278868e-01,  2.88834171e-01,\n",
       "         2.94408995e-01, -3.96566956e-02, -6.37087882e-02,\n",
       "        -6.61051838e-03, -1.65983081e-02,  3.07656665e-01,\n",
       "         2.98361937e-01,  2.95462503e-01,  2.97468984e-01,\n",
       "         2.68415654e-01,  5.56275162e-02,  2.68959162e-01,\n",
       "         1.60556279e-01,  3.03583254e-04,  1.16166923e-02,\n",
       "         2.67988992e-02,  2.72365932e-01,  2.02720624e-01],\n",
       "       [-9.81403312e-02, -6.57874173e-02, -9.48058670e-02,\n",
       "        -8.33564334e-02, -4.19488161e-01, -4.04898925e-01,\n",
       "        -4.03669874e-01, -3.85967593e-01, -2.74753214e-02,\n",
       "         2.84213799e-02,  2.86846476e-02, -5.87597956e-02,\n",
       "        -5.53827959e-02,  1.41330758e-01,  7.76962480e-03,\n",
       "         1.78289236e-01,  2.75016790e-01,  2.48954101e-01,\n",
       "         3.26316941e-01, -4.83267726e-03,  1.15864188e-01],\n",
       "       [-1.33660207e-01, -5.69988207e-02, -1.24082513e-01,\n",
       "        -9.23704225e-02,  2.49057016e-01,  2.50418531e-01,\n",
       "         2.81706804e-01,  3.06147357e-01, -5.11115899e-03,\n",
       "         6.20519513e-02,  8.07560940e-02, -5.91904646e-02,\n",
       "        -1.99376455e-01,  1.76015086e-01,  1.83060311e-01,\n",
       "         3.60547892e-02,  3.91886794e-01,  4.04628036e-01,\n",
       "         3.50582276e-01,  1.97716185e-01,  2.41640003e-01]])"
      ]
     },
     "execution_count": 105,
     "metadata": {},
     "output_type": "execute_result"
    }
   ],
   "source": [
    "pca.components_"
   ]
  },
  {
   "cell_type": "code",
   "execution_count": 106,
   "metadata": {},
   "outputs": [
    {
     "data": {
      "text/plain": [
       "array([0.49543695, 0.18877508, 0.12942565])"
      ]
     },
     "execution_count": 106,
     "metadata": {},
     "output_type": "execute_result"
    }
   ],
   "source": [
    "pca.explained_variance_ratio_"
   ]
  },
  {
   "cell_type": "code",
   "execution_count": 107,
   "metadata": {},
   "outputs": [],
   "source": [
    "sk_X_train_transformed  = pca.transform(sk_scaled_X_train)"
   ]
  },
  {
   "cell_type": "code",
   "execution_count": 108,
   "metadata": {},
   "outputs": [],
   "source": [
    "sk_X_test_transformed  = pca.transform(sk_scaled_X_test)"
   ]
  },
  {
   "cell_type": "code",
   "execution_count": 109,
   "metadata": {},
   "outputs": [
    {
     "data": {
      "text/plain": [
       "<matplotlib.axes._subplots.AxesSubplot at 0x1e843d89438>"
      ]
     },
     "execution_count": 109,
     "metadata": {},
     "output_type": "execute_result"
    },
    {
     "data": {
      "image/png": "[encoded data removed]",
      "text/plain": [
       "<Figure size 432x288 with 1 Axes>"
      ]
     },
     "metadata": {
      "needs_background": "light"
     },
     "output_type": "display_data"
    }
   ],
   "source": [
    "temp_df = pd.DataFrame({'Variance':pca.explained_variance_ratio_,\n",
    "                        'PC':['PC1', 'PC2', 'PC3']})\n",
    "sns.barplot(x='PC',y=\"Variance\", data=temp_df, color=\"blue\")"
   ]
  },
  {
   "cell_type": "code",
   "execution_count": 110,
   "metadata": {},
   "outputs": [
    {
     "data": {
      "text/plain": [
       "<matplotlib.axes._subplots.AxesSubplot at 0x1e843e1ccf8>"
      ]
     },
     "execution_count": 110,
     "metadata": {},
     "output_type": "execute_result"
    },
    {
     "data": {
      "image/png": "[encoded data removed]",
      "text/plain": [
       "<Figure size 864x432 with 2 Axes>"
      ]
     },
     "metadata": {
      "needs_background": "light"
     },
     "output_type": "display_data"
    }
   ],
   "source": [
    "temp_df = pd.DataFrame(pca.components_, columns=X.columns)\n",
    "temp_df.rename(index={0: \"PC1\", 1: \"PC2\", 2: \"PC3\"}, inplace=True)\n",
    "\n",
    "plt.figure(figsize=(12,6))\n",
    "sns.heatmap(temp_df,cmap='coolwarm')"
   ]
  },
  {
   "cell_type": "code",
   "execution_count": 111,
   "metadata": {},
   "outputs": [
    {
     "name": "stdout",
     "output_type": "stream",
     "text": [
      "R-square = 0.7363127555924365\n",
      "RMSE = 2227.0626652810206\n"
     ]
    }
   ],
   "source": [
    "lm = LinearRegression()\n",
    "lm.fit(sk_X_train_transformed, y_train)\n",
    "y_pred = lm.predict(sk_X_test_transformed)\n",
    "\n",
    "print(\"R-square = \" + str(metrics.r2_score(y_test,y_pred)))\n",
    "print(\"RMSE = \" + str(np.sqrt(metrics.mean_squared_error(y_test,y_pred))))"
   ]
  },
  {
   "cell_type": "markdown",
   "metadata": {},
   "source": [
    "## Model for Countries that are more developed than Thailand \n",
    "## - Use North America, Eastern Europe, Northern Europe and Western Europe"
   ]
  },
  {
   "cell_type": "markdown",
   "metadata": {},
   "source": [
    "## Regression by use all feature"
   ]
  },
  {
   "cell_type": "code",
   "execution_count": 112,
   "metadata": {},
   "outputs": [
    {
     "data": {
      "text/html": [
       "<div>\n",
       "<style scoped>\n",
       "    .dataframe tbody tr th:only-of-type {\n",
       "        vertical-align: middle;\n",
       "    }\n",
       "\n",
       "    .dataframe tbody tr th {\n",
       "        vertical-align: top;\n",
       "    }\n",
       "\n",
       "    .dataframe thead th {\n",
       "        text-align: right;\n",
       "    }\n",
       "</style>\n",
       "<table border=\"1\" class=\"dataframe\">\n",
       "  <thead>\n",
       "    <tr style=\"text-align: right;\">\n",
       "      <th></th>\n",
       "      <th>Country Name</th>\n",
       "      <th>Region</th>\n",
       "      <th>Year</th>\n",
       "      <th>GDP_perCapita</th>\n",
       "      <th>population</th>\n",
       "      <th>urbanPopulation</th>\n",
       "      <th>PopulationAge15-64</th>\n",
       "      <th>PopulationAge65+</th>\n",
       "      <th>dieselFuelPrice</th>\n",
       "      <th>dieselFuelPrice_year-2</th>\n",
       "      <th>...</th>\n",
       "      <th>serviceExports</th>\n",
       "      <th>personalTransfers</th>\n",
       "      <th>schoolEnrollPrimary</th>\n",
       "      <th>airTransportDeparture</th>\n",
       "      <th>internationalTourism</th>\n",
       "      <th>mobileSubscriptionPer100People</th>\n",
       "      <th>broadbandSubscriptionPer100People</th>\n",
       "      <th>electricPowerConsumption</th>\n",
       "      <th>chargesOfIntellectualProperty</th>\n",
       "      <th>landArea</th>\n",
       "    </tr>\n",
       "  </thead>\n",
       "  <tbody>\n",
       "    <tr>\n",
       "      <th>0</th>\n",
       "      <td>Albania</td>\n",
       "      <td>Eastern Europe</td>\n",
       "      <td>2016</td>\n",
       "      <td>4124.108907</td>\n",
       "      <td>2876101.0</td>\n",
       "      <td>1680247.0</td>\n",
       "      <td>1974733.0</td>\n",
       "      <td>372633.0</td>\n",
       "      <td>1.35</td>\n",
       "      <td>1.71</td>\n",
       "      <td>...</td>\n",
       "      <td>2.650668e+09</td>\n",
       "      <td>996202980.9</td>\n",
       "      <td>105.55390</td>\n",
       "      <td>306.0</td>\n",
       "      <td>4070000.0</td>\n",
       "      <td>116.744444</td>\n",
       "      <td>9.228641</td>\n",
       "      <td>3232.688106</td>\n",
       "      <td>2.316308e+07</td>\n",
       "      <td>27400.00000</td>\n",
       "    </tr>\n",
       "    <tr>\n",
       "      <th>1</th>\n",
       "      <td>Austria</td>\n",
       "      <td>Western Europe</td>\n",
       "      <td>2016</td>\n",
       "      <td>45237.805090</td>\n",
       "      <td>8736668.0</td>\n",
       "      <td>5058968.0</td>\n",
       "      <td>5846595.0</td>\n",
       "      <td>1652029.0</td>\n",
       "      <td>1.15</td>\n",
       "      <td>1.55</td>\n",
       "      <td>...</td>\n",
       "      <td>6.143163e+10</td>\n",
       "      <td>298710196.3</td>\n",
       "      <td>102.26440</td>\n",
       "      <td>149030.0</td>\n",
       "      <td>28121000.0</td>\n",
       "      <td>126.661470</td>\n",
       "      <td>28.846612</td>\n",
       "      <td>9659.628580</td>\n",
       "      <td>1.466531e+09</td>\n",
       "      <td>82522.99805</td>\n",
       "    </tr>\n",
       "    <tr>\n",
       "      <th>2</th>\n",
       "      <td>Belarus</td>\n",
       "      <td>Eastern Europe</td>\n",
       "      <td>2016</td>\n",
       "      <td>5022.626643</td>\n",
       "      <td>9501534.0</td>\n",
       "      <td>7378986.0</td>\n",
       "      <td>6562719.0</td>\n",
       "      <td>1369717.0</td>\n",
       "      <td>0.62</td>\n",
       "      <td>1.06</td>\n",
       "      <td>...</td>\n",
       "      <td>6.883900e+09</td>\n",
       "      <td>537800000.0</td>\n",
       "      <td>101.07700</td>\n",
       "      <td>26857.0</td>\n",
       "      <td>10935400.0</td>\n",
       "      <td>121.112623</td>\n",
       "      <td>32.475597</td>\n",
       "      <td>3537.682129</td>\n",
       "      <td>1.257000e+08</td>\n",
       "      <td>202988.00780</td>\n",
       "    </tr>\n",
       "    <tr>\n",
       "      <th>3</th>\n",
       "      <td>Belgium</td>\n",
       "      <td>Western Europe</td>\n",
       "      <td>2016</td>\n",
       "      <td>42012.099900</td>\n",
       "      <td>11331422.0</td>\n",
       "      <td>11095615.0</td>\n",
       "      <td>7321394.0</td>\n",
       "      <td>2081792.0</td>\n",
       "      <td>1.32</td>\n",
       "      <td>1.69</td>\n",
       "      <td>...</td>\n",
       "      <td>1.088790e+11</td>\n",
       "      <td>183744920.8</td>\n",
       "      <td>103.31780</td>\n",
       "      <td>147324.0</td>\n",
       "      <td>7481000.0</td>\n",
       "      <td>110.536875</td>\n",
       "      <td>37.609222</td>\n",
       "      <td>8367.042979</td>\n",
       "      <td>2.759595e+09</td>\n",
       "      <td>30280.00000</td>\n",
       "    </tr>\n",
       "    <tr>\n",
       "      <th>4</th>\n",
       "      <td>Bulgaria</td>\n",
       "      <td>Eastern Europe</td>\n",
       "      <td>2016</td>\n",
       "      <td>7469.455638</td>\n",
       "      <td>7127822.0</td>\n",
       "      <td>5298039.0</td>\n",
       "      <td>4651208.0</td>\n",
       "      <td>1456167.0</td>\n",
       "      <td>1.09</td>\n",
       "      <td>1.51</td>\n",
       "      <td>...</td>\n",
       "      <td>8.933180e+09</td>\n",
       "      <td>962730000.0</td>\n",
       "      <td>91.08322</td>\n",
       "      <td>12187.0</td>\n",
       "      <td>8252000.0</td>\n",
       "      <td>125.474384</td>\n",
       "      <td>23.736034</td>\n",
       "      <td>4921.049363</td>\n",
       "      <td>1.835100e+08</td>\n",
       "      <td>108560.00000</td>\n",
       "    </tr>\n",
       "  </tbody>\n",
       "</table>\n",
       "<p>5 rows × 25 columns</p>\n",
       "</div>"
      ],
      "text/plain": [
       "  Country Name          Region  Year  GDP_perCapita  population  \\\n",
       "0      Albania  Eastern Europe  2016    4124.108907   2876101.0   \n",
       "1      Austria  Western Europe  2016   45237.805090   8736668.0   \n",
       "2      Belarus  Eastern Europe  2016    5022.626643   9501534.0   \n",
       "3      Belgium  Western Europe  2016   42012.099900  11331422.0   \n",
       "4     Bulgaria  Eastern Europe  2016    7469.455638   7127822.0   \n",
       "\n",
       "   urbanPopulation  PopulationAge15-64  PopulationAge65+  dieselFuelPrice  \\\n",
       "0        1680247.0           1974733.0          372633.0             1.35   \n",
       "1        5058968.0           5846595.0         1652029.0             1.15   \n",
       "2        7378986.0           6562719.0         1369717.0             0.62   \n",
       "3       11095615.0           7321394.0         2081792.0             1.32   \n",
       "4        5298039.0           4651208.0         1456167.0             1.09   \n",
       "\n",
       "   dieselFuelPrice_year-2  ...  serviceExports  personalTransfers  \\\n",
       "0                    1.71  ...    2.650668e+09        996202980.9   \n",
       "1                    1.55  ...    6.143163e+10        298710196.3   \n",
       "2                    1.06  ...    6.883900e+09        537800000.0   \n",
       "3                    1.69  ...    1.088790e+11        183744920.8   \n",
       "4                    1.51  ...    8.933180e+09        962730000.0   \n",
       "\n",
       "   schoolEnrollPrimary  airTransportDeparture  internationalTourism  \\\n",
       "0            105.55390                  306.0             4070000.0   \n",
       "1            102.26440               149030.0            28121000.0   \n",
       "2            101.07700                26857.0            10935400.0   \n",
       "3            103.31780               147324.0             7481000.0   \n",
       "4             91.08322                12187.0             8252000.0   \n",
       "\n",
       "   mobileSubscriptionPer100People  broadbandSubscriptionPer100People  \\\n",
       "0                      116.744444                           9.228641   \n",
       "1                      126.661470                          28.846612   \n",
       "2                      121.112623                          32.475597   \n",
       "3                      110.536875                          37.609222   \n",
       "4                      125.474384                          23.736034   \n",
       "\n",
       "   electricPowerConsumption  chargesOfIntellectualProperty      landArea  \n",
       "0               3232.688106                   2.316308e+07   27400.00000  \n",
       "1               9659.628580                   1.466531e+09   82522.99805  \n",
       "2               3537.682129                   1.257000e+08  202988.00780  \n",
       "3               8367.042979                   2.759595e+09   30280.00000  \n",
       "4               4921.049363                   1.835100e+08  108560.00000  \n",
       "\n",
       "[5 rows x 25 columns]"
      ]
     },
     "execution_count": 112,
     "metadata": {},
     "output_type": "execute_result"
    }
   ],
   "source": [
    "df_northAmerica_europe = pd.read_csv('./country_area/northAmerica_europe.csv')\n",
    "df_northAmerica_europe.head()"
   ]
  },
  {
   "cell_type": "code",
   "execution_count": 113,
   "metadata": {},
   "outputs": [
    {
     "name": "stdout",
     "output_type": "stream",
     "text": [
      "R-square = 0.8604002117128896\n",
      "RMSE = 8127.675266721395\n"
     ]
    }
   ],
   "source": [
    "X = df_northAmerica_europe[input_vars]\n",
    "y = df_northAmerica_europe['GDP_perCapita']\n",
    "X_train, X_test, y_train, y_test = train_test_split(X, y, test_size=0.3, random_state=85)\n",
    "\n",
    "lm = LinearRegression()\n",
    "lm.fit(X_train, y_train)\n",
    "y_pred = lm.predict(X_test)\n",
    "\n",
    "print(\"R-square = \" + str(metrics.r2_score(y_test,y_pred)))\n",
    "print(\"RMSE = \" + str(np.sqrt(metrics.mean_squared_error(y_test,y_pred))))"
   ]
  },
  {
   "cell_type": "markdown",
   "metadata": {},
   "source": [
    "## Feature selection"
   ]
  },
  {
   "cell_type": "markdown",
   "metadata": {},
   "source": [
    "## Filter Methods - Low Variance Filtering"
   ]
  },
  {
   "cell_type": "code",
   "execution_count": 114,
   "metadata": {},
   "outputs": [
    {
     "data": {
      "text/plain": [
       "Year                                 5.062984e+00\n",
       "GDP_perCapita                        4.836268e+08\n",
       "population                           1.087175e+15\n",
       "urbanPopulation                      6.413450e+14\n",
       "PopulationAge15-64                   4.895880e+14\n",
       "PopulationAge65+                     2.238975e+13\n",
       "dieselFuelPrice                      1.461800e-01\n",
       "dieselFuelPrice_year-2               1.374064e-01\n",
       "gasolinePrice                        1.485507e-01\n",
       "gasolinePrice_year-2                 1.421734e-01\n",
       "goodsImports                         4.571567e+22\n",
       "goodsExports                         5.399837e+22\n",
       "serviceImports                       4.795277e+21\n",
       "serviceExports                       6.617781e+21\n",
       "personalTransfers                    1.735911e+19\n",
       "schoolEnrollPrimary                  2.657894e+01\n",
       "airTransportDeparture                6.947149e+10\n",
       "internationalTourism                 2.930279e+14\n",
       "mobileSubscriptionPer100People       5.569174e+02\n",
       "broadbandSubscriptionPer100People    1.315373e+02\n",
       "electricPowerConsumption             6.568146e+07\n",
       "chargesOfIntellectualProperty        4.578584e+19\n",
       "landArea                             6.125564e+12\n",
       "dtype: float64"
      ]
     },
     "execution_count": 114,
     "metadata": {},
     "output_type": "execute_result"
    }
   ],
   "source": [
    "df_northAmerica_europe.var()"
   ]
  },
  {
   "cell_type": "code",
   "execution_count": 115,
   "metadata": {},
   "outputs": [
    {
     "data": {
      "text/plain": [
       "['population',\n",
       " 'urbanPopulation',\n",
       " 'PopulationAge15-64',\n",
       " 'PopulationAge65+',\n",
       " 'goodsImports',\n",
       " 'goodsExports',\n",
       " 'serviceImports',\n",
       " 'serviceExports',\n",
       " 'personalTransfers',\n",
       " 'schoolEnrollPrimary',\n",
       " 'airTransportDeparture',\n",
       " 'internationalTourism',\n",
       " 'mobileSubscriptionPer100People',\n",
       " 'broadbandSubscriptionPer100People',\n",
       " 'electricPowerConsumption',\n",
       " 'chargesOfIntellectualProperty',\n",
       " 'landArea']"
      ]
     },
     "execution_count": 115,
     "metadata": {},
     "output_type": "execute_result"
    }
   ],
   "source": [
    "min_var_threshold = 10\n",
    "updated_vars_lowVariance = [ ]\n",
    "for i in range(0,len(df_northAmerica_europe[input_vars].var())):\n",
    "    if df_northAmerica_europe[input_vars].var()[i] >= min_var_threshold:   \n",
    "        updated_vars_lowVariance.append(df_northAmerica_europe[input_vars].columns[i])\n",
    "updated_vars_lowVariance"
   ]
  },
  {
   "cell_type": "code",
   "execution_count": 116,
   "metadata": {},
   "outputs": [
    {
     "name": "stdout",
     "output_type": "stream",
     "text": [
      "R-square = 0.7901319932861774\n",
      "RMSE = 9965.453855253358\n"
     ]
    }
   ],
   "source": [
    "X = df_northAmerica_europe[updated_vars_lowVariance]\n",
    "y = df_northAmerica_europe['GDP_perCapita']\n",
    "X_train, X_test, y_train, y_test = train_test_split(X, y, test_size=0.3, random_state=85)\n",
    "\n",
    "lm = LinearRegression()\n",
    "lm.fit(X_train, y_train)\n",
    "y_pred = lm.predict(X_test)\n",
    "\n",
    "print(\"R-square = \" + str(metrics.r2_score(y_test,y_pred)))\n",
    "print(\"RMSE = \" + str(np.sqrt(metrics.mean_squared_error(y_test,y_pred))))"
   ]
  },
  {
   "cell_type": "markdown",
   "metadata": {},
   "source": [
    "## Filter Methods - High Correlation Filtering"
   ]
  },
  {
   "cell_type": "code",
   "execution_count": 117,
   "metadata": {},
   "outputs": [],
   "source": [
    "df_northAmerica_europe_corr = df_northAmerica_europe.copy()"
   ]
  },
  {
   "cell_type": "code",
   "execution_count": 118,
   "metadata": {},
   "outputs": [
    {
     "data": {
      "text/plain": [
       "<matplotlib.axes._subplots.AxesSubplot at 0x1e842671710>"
      ]
     },
     "execution_count": 118,
     "metadata": {},
     "output_type": "execute_result"
    },
    {
     "data": {
      "image/png": "[encoded data removed]",
      "text/plain": [
       "<Figure size 1080x576 with 2 Axes>"
      ]
     },
     "metadata": {
      "needs_background": "light"
     },
     "output_type": "display_data"
    }
   ],
   "source": [
    "# Plot correlation of numerical data\n",
    "plt.figure(figsize=(15,8))\n",
    "sns.heatmap(df_northAmerica_europe_corr.corr(),\n",
    "            square=True,\n",
    "            linewidths=0.25,    \n",
    "            linecolor=(0,0,0),\n",
    "            cmap=sns.color_palette(\"coolwarm\"),\n",
    "            annot=False)"
   ]
  },
  {
   "cell_type": "code",
   "execution_count": 119,
   "metadata": {},
   "outputs": [
    {
     "data": {
      "text/plain": [
       "(113, 12)"
      ]
     },
     "execution_count": 119,
     "metadata": {},
     "output_type": "execute_result"
    }
   ],
   "source": [
    "df_northAmerica_europe_corr.drop('urbanPopulation', 1, inplace=True)\n",
    "df_northAmerica_europe_corr.drop('PopulationAge15-64', 1, inplace=True)\n",
    "df_northAmerica_europe_corr.drop('PopulationAge65+', 1, inplace=True)\n",
    "\n",
    "df_northAmerica_europe_corr.drop('dieselFuelPrice', 1, inplace=True)\n",
    "df_northAmerica_europe_corr.drop('dieselFuelPrice_year-2', 1, inplace=True)\n",
    "df_northAmerica_europe_corr.drop('gasolinePrice_year-2', 1, inplace=True)\n",
    "\n",
    "df_northAmerica_europe_corr.drop('goodsExports', 1, inplace=True)\n",
    "df_northAmerica_europe_corr.drop('serviceImports', 1, inplace=True)\n",
    "df_northAmerica_europe_corr.drop('serviceExports', 1, inplace=True)\n",
    "\n",
    "df_northAmerica_europe_corr.drop('airTransportDeparture', 1, inplace=True)\n",
    "df_northAmerica_europe_corr.drop('internationalTourism', 1, inplace=True)\n",
    "df_northAmerica_europe_corr.drop('chargesOfIntellectualProperty', 1, inplace=True)\n",
    "df_northAmerica_europe_corr.drop('landArea', 1, inplace=True)\n",
    "\n",
    "df_southAmerica_africa_southWesternAsia_corr.shape"
   ]
  },
  {
   "cell_type": "code",
   "execution_count": 120,
   "metadata": {},
   "outputs": [
    {
     "data": {
      "text/plain": [
       "<matplotlib.axes._subplots.AxesSubplot at 0x1e844642a90>"
      ]
     },
     "execution_count": 120,
     "metadata": {},
     "output_type": "execute_result"
    },
    {
     "data": {
      "image/png": "[encoded data removed]",
      "text/plain": [
       "<Figure size 1080x576 with 2 Axes>"
      ]
     },
     "metadata": {
      "needs_background": "light"
     },
     "output_type": "display_data"
    }
   ],
   "source": [
    "# Plot correlation of numerical data\n",
    "plt.figure(figsize=(15,8))\n",
    "sns.heatmap(df_northAmerica_europe_corr.corr(),\n",
    "            square=True,\n",
    "            linewidths=0.25,    \n",
    "            linecolor=(0,0,0),\n",
    "            cmap=sns.color_palette(\"coolwarm\"),\n",
    "            annot=False)"
   ]
  },
  {
   "cell_type": "code",
   "execution_count": 121,
   "metadata": {},
   "outputs": [
    {
     "data": {
      "text/plain": [
       "8"
      ]
     },
     "execution_count": 121,
     "metadata": {},
     "output_type": "execute_result"
    }
   ],
   "source": [
    "updated_vars_highCorr = list(input_vars)\n",
    "updated_vars_highCorr.remove('urbanPopulation')\n",
    "updated_vars_highCorr.remove('PopulationAge15-64')\n",
    "updated_vars_highCorr.remove('PopulationAge65+')\n",
    "updated_vars_highCorr.remove('dieselFuelPrice')\n",
    "updated_vars_highCorr.remove('dieselFuelPrice_year-2')\n",
    "updated_vars_highCorr.remove('gasolinePrice_year-2')\n",
    "updated_vars_highCorr.remove('goodsExports')\n",
    "updated_vars_highCorr.remove('serviceImports')\n",
    "updated_vars_highCorr.remove('serviceExports')\n",
    "updated_vars_highCorr.remove('airTransportDeparture')\n",
    "updated_vars_highCorr.remove('internationalTourism')\n",
    "updated_vars_highCorr.remove('chargesOfIntellectualProperty')\n",
    "updated_vars_highCorr.remove('landArea')\n",
    "\n",
    "len(updated_vars_highCorr)"
   ]
  },
  {
   "cell_type": "code",
   "execution_count": 122,
   "metadata": {},
   "outputs": [
    {
     "data": {
      "text/plain": [
       "['population',\n",
       " 'gasolinePrice',\n",
       " 'goodsImports',\n",
       " 'personalTransfers',\n",
       " 'schoolEnrollPrimary',\n",
       " 'mobileSubscriptionPer100People',\n",
       " 'broadbandSubscriptionPer100People',\n",
       " 'electricPowerConsumption']"
      ]
     },
     "execution_count": 122,
     "metadata": {},
     "output_type": "execute_result"
    }
   ],
   "source": [
    "updated_vars_highCorr"
   ]
  },
  {
   "cell_type": "code",
   "execution_count": 123,
   "metadata": {},
   "outputs": [
    {
     "name": "stdout",
     "output_type": "stream",
     "text": [
      "R-square = 0.5046197750237231\n",
      "RMSE = 15310.638295683793\n"
     ]
    }
   ],
   "source": [
    "X = df_northAmerica_europe[updated_vars_highCorr]\n",
    "y = df_northAmerica_europe['GDP_perCapita']\n",
    "X_train, X_test, y_train, y_test = train_test_split(X, y, test_size=0.3, random_state=85)\n",
    "\n",
    "lm = LinearRegression()\n",
    "lm.fit(X_train, y_train)\n",
    "y_pred = lm.predict(X_test)\n",
    "\n",
    "print(\"R-square = \" + str(metrics.r2_score(y_test,y_pred)))\n",
    "print(\"RMSE = \" + str(np.sqrt(metrics.mean_squared_error(y_test,y_pred))))"
   ]
  },
  {
   "cell_type": "markdown",
   "metadata": {},
   "source": [
    "## Wrapper Methods - Forward Feature Selection "
   ]
  },
  {
   "cell_type": "code",
   "execution_count": 124,
   "metadata": {},
   "outputs": [
    {
     "data": {
      "text/plain": [
       "array([9.21664630e-02, 3.19537653e-01, 5.33266716e-02, 2.84401354e+00,\n",
       "       2.06904507e+01, 3.00307645e+01, 2.73668459e+01, 3.30618389e+01,\n",
       "       1.87342062e+01, 1.61184995e+01, 4.65324122e+01, 4.83606780e+01,\n",
       "       7.04373787e+00, 4.71930242e-01, 1.32199245e+01, 8.09414116e+00,\n",
       "       3.67282551e+00, 1.07402128e+02, 4.48706551e+01, 2.48976683e+01,\n",
       "       6.48707790e-01])"
      ]
     },
     "execution_count": 124,
     "metadata": {},
     "output_type": "execute_result"
    }
   ],
   "source": [
    "fstat, pval = f_regression(df_northAmerica_europe[input_vars], df_northAmerica_europe.GDP_perCapita)\n",
    "fstat"
   ]
  },
  {
   "cell_type": "code",
   "execution_count": 125,
   "metadata": {},
   "outputs": [
    {
     "data": {
      "text/plain": [
       "array([7.61937597e-01, 5.72882885e-01, 8.17744143e-01, 9.41699436e-02,\n",
       "       1.24440291e-05, 2.19612896e-07, 6.74166773e-07, 6.29252672e-08,\n",
       "       3.01714056e-05, 1.01120151e-04, 3.28935044e-10, 1.66842465e-10,\n",
       "       8.97132655e-03, 4.93353016e-01, 4.01077266e-04, 5.17857958e-03,\n",
       "       5.75532217e-02, 1.29939273e-18, 6.13714902e-10, 1.94609401e-06,\n",
       "       4.22080463e-01])"
      ]
     },
     "execution_count": 125,
     "metadata": {},
     "output_type": "execute_result"
    }
   ],
   "source": [
    "pval"
   ]
  },
  {
   "cell_type": "code",
   "execution_count": 126,
   "metadata": {},
   "outputs": [
    {
     "data": {
      "text/plain": [
       "['dieselFuelPrice',\n",
       " 'dieselFuelPrice_year-2',\n",
       " 'gasolinePrice',\n",
       " 'gasolinePrice_year-2',\n",
       " 'goodsImports',\n",
       " 'goodsExports',\n",
       " 'serviceImports',\n",
       " 'serviceExports',\n",
       " 'airTransportDeparture',\n",
       " 'broadbandSubscriptionPer100People',\n",
       " 'electricPowerConsumption',\n",
       " 'chargesOfIntellectualProperty']"
      ]
     },
     "execution_count": 126,
     "metadata": {},
     "output_type": "execute_result"
    }
   ],
   "source": [
    "f_value_threshold = 10\n",
    "updated_vars_forward = []\n",
    "for i in range(0,len(input_vars)-1):\n",
    "    if fstat[i] >= f_value_threshold:\n",
    "        updated_vars_forward.append(df_southAmerica_africa_southWesternAsia[input_vars].columns[i])\n",
    "updated_vars_forward"
   ]
  },
  {
   "cell_type": "code",
   "execution_count": 127,
   "metadata": {},
   "outputs": [
    {
     "name": "stdout",
     "output_type": "stream",
     "text": [
      "R-square = 0.6334575098458556\n",
      "RMSE = 13170.010664460266\n"
     ]
    }
   ],
   "source": [
    "X = df_northAmerica_europe[updated_vars_forward]\n",
    "y = df_northAmerica_europe['GDP_perCapita']\n",
    "X_train, X_test, y_train, y_test = train_test_split(X, y, test_size=0.3, random_state=85)\n",
    "\n",
    "lm = LinearRegression()\n",
    "lm.fit(X_train, y_train)\n",
    "y_pred = lm.predict(X_test)\n",
    "\n",
    "print(\"R-square = \" + str(metrics.r2_score(y_test,y_pred)))\n",
    "print(\"RMSE = \" + str(np.sqrt(metrics.mean_squared_error(y_test,y_pred))))"
   ]
  },
  {
   "cell_type": "markdown",
   "metadata": {},
   "source": [
    "## Wrapper Methods - Recursive Feature Elimination"
   ]
  },
  {
   "cell_type": "code",
   "execution_count": 128,
   "metadata": {},
   "outputs": [],
   "source": [
    "X = df_northAmerica_europe[input_vars]\n",
    "y = df_northAmerica_europe.GDP_perCapita\n",
    "n_features = 10\n",
    "\n",
    "rfe = RFE(LinearRegression(), n_features)\n",
    "model = rfe.fit(X, y)"
   ]
  },
  {
   "cell_type": "code",
   "execution_count": 129,
   "metadata": {},
   "outputs": [
    {
     "data": {
      "text/plain": [
       "array([ 3,  2,  4,  1,  1,  1,  1,  1, 10, 12,  9, 11,  7,  1,  1,  6,  1,\n",
       "        1,  1,  8,  5])"
      ]
     },
     "execution_count": 129,
     "metadata": {},
     "output_type": "execute_result"
    }
   ],
   "source": [
    "model.ranking_"
   ]
  },
  {
   "cell_type": "code",
   "execution_count": 130,
   "metadata": {},
   "outputs": [
    {
     "data": {
      "text/plain": [
       "array([-1.27736890e-03, -2.94042601e+04, -1.76155445e+04,  3.79770492e+04,\n",
       "        9.40138753e+03, -2.33208877e+02,  3.18456056e-02,  1.38761743e+02,\n",
       "        8.55831864e+02,  8.24350167e-01])"
      ]
     },
     "execution_count": 130,
     "metadata": {},
     "output_type": "execute_result"
    }
   ],
   "source": [
    "model.estimator_.coef_"
   ]
  },
  {
   "cell_type": "code",
   "execution_count": 131,
   "metadata": {},
   "outputs": [
    {
     "data": {
      "text/plain": [
       "['PopulationAge65+',\n",
       " 'dieselFuelPrice',\n",
       " 'dieselFuelPrice_year-2',\n",
       " 'gasolinePrice',\n",
       " 'gasolinePrice_year-2',\n",
       " 'schoolEnrollPrimary',\n",
       " 'airTransportDeparture',\n",
       " 'mobileSubscriptionPer100People',\n",
       " 'broadbandSubscriptionPer100People',\n",
       " 'electricPowerConsumption']"
      ]
     },
     "execution_count": 131,
     "metadata": {},
     "output_type": "execute_result"
    }
   ],
   "source": [
    "updated_vars_recursive = []\n",
    "for i in range(0,len(input_vars)-1):\n",
    "    if model.ranking_[i] == 1:\n",
    "        updated_vars_recursive.append(df_southAmerica_africa_southWesternAsia[input_vars].columns[i])\n",
    "updated_vars_recursive"
   ]
  },
  {
   "cell_type": "code",
   "execution_count": 132,
   "metadata": {},
   "outputs": [
    {
     "name": "stdout",
     "output_type": "stream",
     "text": [
      "R-square = 0.5477429294670932\n",
      "RMSE = 14629.067584385839\n"
     ]
    }
   ],
   "source": [
    "X = df_northAmerica_europe[updated_vars_recursive]\n",
    "y = df_northAmerica_europe['GDP_perCapita']\n",
    "X_train, X_test, y_train, y_test = train_test_split(X, y, test_size=0.3, random_state=85)\n",
    "\n",
    "lm = LinearRegression()\n",
    "lm.fit(X_train, y_train)\n",
    "y_pred = lm.predict(X_test)\n",
    "\n",
    "print(\"R-square = \" + str(metrics.r2_score(y_test,y_pred)))\n",
    "print(\"RMSE = \" + str(np.sqrt(metrics.mean_squared_error(y_test,y_pred))))"
   ]
  },
  {
   "cell_type": "markdown",
   "metadata": {},
   "source": [
    "## Embedded Methods - Regression & Lasso (L1)"
   ]
  },
  {
   "cell_type": "code",
   "execution_count": 133,
   "metadata": {},
   "outputs": [
    {
     "name": "stdout",
     "output_type": "stream",
     "text": [
      "R-square = 0.8604002117128896\n",
      "RMSE = 8127.675266721395\n"
     ]
    }
   ],
   "source": [
    "X = df_northAmerica_europe[input_vars]\n",
    "y = df_northAmerica_europe['GDP_perCapita']\n",
    "X_train, X_test, y_train, y_test = train_test_split(X, y, test_size=0.3, random_state=85)\n",
    "\n",
    "lm = LinearRegression()\n",
    "lm.fit(X_train, y_train)\n",
    "y_pred = lm.predict(X_test)\n",
    "\n",
    "print(\"R-square = \" + str(metrics.r2_score(y_test,y_pred)))\n",
    "print(\"RMSE = \" + str(np.sqrt(metrics.mean_squared_error(y_test,y_pred))))"
   ]
  },
  {
   "cell_type": "code",
   "execution_count": 134,
   "metadata": {},
   "outputs": [
    {
     "name": "stdout",
     "output_type": "stream",
     "text": [
      "R-square = 0.8379846407727817\n",
      "RMSE = 8755.925499611682\n"
     ]
    },
    {
     "name": "stderr",
     "output_type": "stream",
     "text": [
      "C:\\Users\\Nu\\Anaconda3\\lib\\site-packages\\sklearn\\linear_model\\_coordinate_descent.py:476: ConvergenceWarning: Objective did not converge. You might want to increase the number of iterations. Duality gap: 4799570787.96718, tolerance: 4307756.363934277\n",
      "  positive)\n"
     ]
    }
   ],
   "source": [
    "lasso = Lasso(alpha=100)\n",
    "model = lasso.fit(X_train, y_train)\n",
    "y_pred = model.predict(X_test)\n",
    "\n",
    "print(\"R-square = \" + str(metrics.r2_score(y_test,y_pred)))\n",
    "print(\"RMSE = \" + str(np.sqrt(metrics.mean_squared_error(y_test,y_pred))))"
   ]
  },
  {
   "cell_type": "code",
   "execution_count": 135,
   "metadata": {},
   "outputs": [
    {
     "data": {
      "text/plain": [
       "[array([ 4.29723457e-04, -1.56736115e-03,  1.96301825e-03, -3.81351177e-03,\n",
       "        -0.00000000e+00, -5.68486212e+03,  9.70951702e+03, -0.00000000e+00,\n",
       "        -2.78765316e-07,  1.27901022e-07,  3.80612720e-07,  3.02472389e-07,\n",
       "         1.69003727e-06, -8.31706359e+01, -3.59816253e-02,  4.44766063e-07,\n",
       "         1.44638264e+02,  7.96576310e+02,  6.75651405e-01, -3.64157550e-07,\n",
       "        -1.94932525e-03]),\n",
       " -20624.981058704278]"
      ]
     },
     "execution_count": 135,
     "metadata": {},
     "output_type": "execute_result"
    }
   ],
   "source": [
    "[model.coef_, model.intercept_]"
   ]
  },
  {
   "cell_type": "code",
   "execution_count": 136,
   "metadata": {},
   "outputs": [
    {
     "data": {
      "text/plain": [
       "[-5684.86212351716,\n",
       " -83.17063594440431,\n",
       " -0.03598162533559204,\n",
       " -0.0038135117748248526,\n",
       " -0.0019493252547032995,\n",
       " -0.0015673611522120468,\n",
       " -3.64157549954401e-07,\n",
       " -2.787653156459091e-07,\n",
       " 1.2790102213140427e-07,\n",
       " 3.0247238886945223e-07,\n",
       " 3.8061271997549437e-07,\n",
       " 4.447660628477801e-07,\n",
       " 1.6900372666504809e-06,\n",
       " 0.00042972345653505826,\n",
       " 0.0019630182532133843,\n",
       " 0.6756514052777604,\n",
       " 144.63826415510061,\n",
       " 796.5763099196295,\n",
       " 9709.51701750186]"
      ]
     },
     "execution_count": 136,
     "metadata": {},
     "output_type": "execute_result"
    }
   ],
   "source": [
    "index = np.argsort(model.coef_)\n",
    "coef = [model.coef_[index[i]] for i in range(len(model.coef_))  if model.coef_[index[i]] != 0]\n",
    "update_vars_L1 = [input_vars[index[i]] for i in range(len(model.coef_))  if model.coef_[index[i]] != 0]\n",
    "coef"
   ]
  },
  {
   "cell_type": "code",
   "execution_count": 137,
   "metadata": {},
   "outputs": [
    {
     "data": {
      "text/plain": [
       "['dieselFuelPrice_year-2',\n",
       " 'schoolEnrollPrimary',\n",
       " 'airTransportDeparture',\n",
       " 'PopulationAge65+',\n",
       " 'landArea',\n",
       " 'urbanPopulation',\n",
       " 'chargesOfIntellectualProperty',\n",
       " 'goodsImports',\n",
       " 'goodsExports',\n",
       " 'serviceExports',\n",
       " 'serviceImports',\n",
       " 'internationalTourism',\n",
       " 'personalTransfers',\n",
       " 'population',\n",
       " 'PopulationAge15-64',\n",
       " 'electricPowerConsumption',\n",
       " 'mobileSubscriptionPer100People',\n",
       " 'broadbandSubscriptionPer100People',\n",
       " 'gasolinePrice']"
      ]
     },
     "execution_count": 137,
     "metadata": {},
     "output_type": "execute_result"
    }
   ],
   "source": [
    "update_vars_L1"
   ]
  },
  {
   "cell_type": "code",
   "execution_count": 138,
   "metadata": {},
   "outputs": [
    {
     "data": {
      "text/plain": [
       "19"
      ]
     },
     "execution_count": 138,
     "metadata": {},
     "output_type": "execute_result"
    }
   ],
   "source": [
    "len(update_vars_L1)"
   ]
  },
  {
   "cell_type": "code",
   "execution_count": 139,
   "metadata": {},
   "outputs": [
    {
     "name": "stdout",
     "output_type": "stream",
     "text": [
      "R-square = 0.8379846407727817\n",
      "RMSE = 8755.925499611682\n"
     ]
    },
    {
     "name": "stderr",
     "output_type": "stream",
     "text": [
      "C:\\Users\\Nu\\Anaconda3\\lib\\site-packages\\sklearn\\linear_model\\_coordinate_descent.py:476: ConvergenceWarning: Objective did not converge. You might want to increase the number of iterations. Duality gap: 6902988998.155139, tolerance: 4307756.363934277\n",
      "  positive)\n"
     ]
    }
   ],
   "source": [
    "lasso2 = Lasso(alpha=100000)\n",
    "model2 = lasso2.fit(X_train, y_train)\n",
    "y_pred2 = model2.predict(X_test)\n",
    "\n",
    "print(\"R-square = \" + str(metrics.r2_score(y_test,y_pred)))\n",
    "print(\"RMSE = \" + str(np.sqrt(metrics.mean_squared_error(y_test,y_pred))))"
   ]
  },
  {
   "cell_type": "code",
   "execution_count": 140,
   "metadata": {},
   "outputs": [
    {
     "data": {
      "text/plain": [
       "[array([ 3.92395729e-04, -3.52440331e-04,  1.28861434e-03, -5.43124491e-03,\n",
       "         0.00000000e+00,  0.00000000e+00,  0.00000000e+00,  0.00000000e+00,\n",
       "        -2.77686276e-07,  1.61998724e-07,  1.37612526e-07,  4.77085162e-07,\n",
       "        -8.20307946e-07, -0.00000000e+00, -6.29502967e-02,  1.13289947e-04,\n",
       "         0.00000000e+00,  0.00000000e+00,  1.00368608e+00,  9.91359759e-08,\n",
       "        -2.44552431e-03]),\n",
       " 10178.615169108863]"
      ]
     },
     "execution_count": 140,
     "metadata": {},
     "output_type": "execute_result"
    }
   ],
   "source": [
    "[model2.coef_, model2.intercept_]"
   ]
  },
  {
   "cell_type": "code",
   "execution_count": 141,
   "metadata": {},
   "outputs": [
    {
     "data": {
      "text/plain": [
       "[-0.06295029674234316,\n",
       " -0.005431244910110758,\n",
       " -0.0024455243074544457,\n",
       " -0.00035244033067762903,\n",
       " -8.203079457388847e-07,\n",
       " -2.776862762232699e-07,\n",
       " 9.913597586972148e-08,\n",
       " 1.3761252636653633e-07,\n",
       " 1.6199872395751748e-07,\n",
       " 4.77085162364338e-07,\n",
       " 0.00011328994732627636,\n",
       " 0.0003923957289695755,\n",
       " 0.0012886143374095445,\n",
       " 1.0036860789997748]"
      ]
     },
     "execution_count": 141,
     "metadata": {},
     "output_type": "execute_result"
    }
   ],
   "source": [
    "index = np.argsort(model2.coef_)\n",
    "coef2 = [model2.coef_[index[i]] for i in range(len(model2.coef_))  if model2.coef_[index[i]] != 0]\n",
    "update_vars2_L1 = [input_vars[index[i]] for i in range(len(model2.coef_))  if model2.coef_[index[i]] != 0]\n",
    "coef2"
   ]
  },
  {
   "cell_type": "code",
   "execution_count": 142,
   "metadata": {},
   "outputs": [
    {
     "data": {
      "text/plain": [
       "['airTransportDeparture',\n",
       " 'PopulationAge65+',\n",
       " 'landArea',\n",
       " 'urbanPopulation',\n",
       " 'personalTransfers',\n",
       " 'goodsImports',\n",
       " 'chargesOfIntellectualProperty',\n",
       " 'serviceImports',\n",
       " 'goodsExports',\n",
       " 'serviceExports',\n",
       " 'internationalTourism',\n",
       " 'population',\n",
       " 'PopulationAge15-64',\n",
       " 'electricPowerConsumption']"
      ]
     },
     "execution_count": 142,
     "metadata": {},
     "output_type": "execute_result"
    }
   ],
   "source": [
    "update_vars2_L1"
   ]
  },
  {
   "cell_type": "code",
   "execution_count": 143,
   "metadata": {},
   "outputs": [
    {
     "data": {
      "text/plain": [
       "14"
      ]
     },
     "execution_count": 143,
     "metadata": {},
     "output_type": "execute_result"
    }
   ],
   "source": [
    "len(update_vars2_L1)"
   ]
  },
  {
   "cell_type": "code",
   "execution_count": 144,
   "metadata": {},
   "outputs": [
    {
     "data": {
      "image/png": "[encoded data removed]",
      "text/plain": [
       "<Figure size 432x288 with 1 Axes>"
      ]
     },
     "metadata": {
      "needs_background": "light"
     },
     "output_type": "display_data"
    }
   ],
   "source": [
    "plt.plot(input_vars,lm.coef_,alpha=0.5,linestyle='none',marker='*',markersize=10,color='red',label=r'Linear Regression',zorder=7) # zorder for ordering the markers\n",
    "plt.plot(input_vars,model.coef_,alpha=0.5,linestyle='none',marker='o',markersize=10,color='blue',label=r'Lasso; $\\alpha = 100$') # alpha here is for transparency\n",
    "plt.plot(input_vars,model2.coef_,alpha=0.5,linestyle='none',marker='d',markersize=15,color='green',label=r'Lasso; $\\alpha = 100000$') # alpha here is for transparency\n",
    "plt.xlabel('Coefficient Index',fontsize=16)\n",
    "plt.ylabel('Coefficient Magnitude',fontsize=16)\n",
    "plt.legend(fontsize=13,loc='lower left')\n",
    "plt.xticks(input_vars, input_vars, rotation='vertical')\n",
    "plt.show()"
   ]
  },
  {
   "cell_type": "markdown",
   "metadata": {},
   "source": [
    "## Embedded Methods - Random Forest"
   ]
  },
  {
   "cell_type": "code",
   "execution_count": 145,
   "metadata": {},
   "outputs": [
    {
     "data": {
      "image/png": "[encoded data removed]",
      "text/plain": [
       "<Figure size 432x288 with 1 Axes>"
      ]
     },
     "metadata": {
      "needs_background": "light"
     },
     "output_type": "display_data"
    }
   ],
   "source": [
    "model = RandomForestRegressor(max_depth=10,n_estimators=100)\n",
    "model.fit(df_northAmerica_europe[input_vars],df_northAmerica_europe.GDP_perCapita)\n",
    "\n",
    "n_features = 2\n",
    "\n",
    "features = df_northAmerica_europe[input_vars].columns\n",
    "importances = model.feature_importances_\n",
    "indices = np.argsort(importances)[-n_features:]  # sort top n features\n",
    "plt.title('Feature Importances')\n",
    "plt.barh(range(len(indices)), importances[indices], color='b', align='center')\n",
    "plt.yticks(range(len(indices)), [features[i] for i in indices])\n",
    "plt.xlabel('Relative Importance')\n",
    "plt.show()"
   ]
  },
  {
   "cell_type": "code",
   "execution_count": 146,
   "metadata": {},
   "outputs": [
    {
     "data": {
      "text/plain": [
       "['serviceExports', 'electricPowerConsumption']"
      ]
     },
     "execution_count": 146,
     "metadata": {},
     "output_type": "execute_result"
    }
   ],
   "source": [
    "important_features = [features[i] for i in indices]\n",
    "important_features"
   ]
  },
  {
   "cell_type": "code",
   "execution_count": 147,
   "metadata": {},
   "outputs": [
    {
     "data": {
      "text/plain": [
       "['electricPowerConsumption', 'serviceExports']"
      ]
     },
     "execution_count": 147,
     "metadata": {},
     "output_type": "execute_result"
    }
   ],
   "source": [
    "updated_vars_randomForest = []\n",
    "for i in range(-1,-n_features-1,-1):\n",
    "    updated_vars_randomForest.append(important_features[i])\n",
    "updated_vars_randomForest"
   ]
  },
  {
   "cell_type": "code",
   "execution_count": 148,
   "metadata": {},
   "outputs": [
    {
     "name": "stdout",
     "output_type": "stream",
     "text": [
      "R-square = 0.4862764834979083\n",
      "RMSE = 15591.528288001287\n"
     ]
    }
   ],
   "source": [
    "X = df_northAmerica_europe[updated_vars_randomForest]\n",
    "y = df_northAmerica_europe['GDP_perCapita']\n",
    "X_train, X_test, y_train, y_test = train_test_split(X, y, test_size=0.3, random_state=85)\n",
    "\n",
    "lm = LinearRegression()\n",
    "lm.fit(X_train, y_train)\n",
    "y_pred = lm.predict(X_test)\n",
    "\n",
    "print(\"R-square = \" + str(metrics.r2_score(y_test,y_pred)))\n",
    "print(\"RMSE = \" + str(np.sqrt(metrics.mean_squared_error(y_test,y_pred))))"
   ]
  },
  {
   "cell_type": "markdown",
   "metadata": {},
   "source": [
    "## Dimensional reduction - Principal Component Analysis\n",
    " "
   ]
  },
  {
   "cell_type": "code",
   "execution_count": 149,
   "metadata": {},
   "outputs": [],
   "source": [
    "X = df_northAmerica_europe[input_vars]\n",
    "y = df_northAmerica_europe['GDP_perCapita']\n",
    "X_train, X_test, y_train, y_test = train_test_split(X, y, test_size=0.3, random_state=85)"
   ]
  },
  {
   "cell_type": "code",
   "execution_count": 150,
   "metadata": {},
   "outputs": [],
   "source": [
    "scaler = StandardScaler().fit(X_train)"
   ]
  },
  {
   "cell_type": "code",
   "execution_count": 151,
   "metadata": {},
   "outputs": [
    {
     "data": {
      "text/plain": [
       "array([2.29968996e+07, 1.69749072e+07, 1.52971218e+07, 3.47138893e+06,\n",
       "       1.39166667e+00, 1.46066667e+00, 1.48188889e+00, 1.51888889e+00,\n",
       "       1.49862164e+11, 1.50688732e+11, 4.69479321e+10, 5.47171320e+10,\n",
       "       2.02072870e+09, 1.01092445e+02, 1.82818703e+05, 1.29565156e+07,\n",
       "       1.23226775e+02, 2.14207494e+01, 6.22648366e+03, 2.87218100e+09,\n",
       "       7.06737399e+05])"
      ]
     },
     "execution_count": 151,
     "metadata": {},
     "output_type": "execute_result"
    }
   ],
   "source": [
    "scaler.mean_"
   ]
  },
  {
   "cell_type": "code",
   "execution_count": 152,
   "metadata": {},
   "outputs": [
    {
     "data": {
      "text/plain": [
       "array([3.47386424e+07, 2.66370595e+07, 2.34963037e+07, 5.22075067e+06,\n",
       "       3.77427697e-01, 3.65263375e-01, 3.72337644e-01, 3.72828362e-01,\n",
       "       2.33334448e+11, 2.55669735e+11, 7.61996029e+10, 9.07849572e+10,\n",
       "       3.86342206e+09, 4.95409563e+00, 2.94032885e+05, 1.79412786e+07,\n",
       "       2.28487646e+01, 1.12123780e+01, 9.42090360e+03, 6.21959821e+09,\n",
       "       2.92503264e+06])"
      ]
     },
     "execution_count": 152,
     "metadata": {},
     "output_type": "execute_result"
    }
   ],
   "source": [
    "np.sqrt(scaler.var_)"
   ]
  },
  {
   "cell_type": "code",
   "execution_count": 153,
   "metadata": {},
   "outputs": [],
   "source": [
    "sk_scaled_X_train = scaler.transform(X_train)\n",
    "sk_scaled_X_test = scaler.transform(X_test)"
   ]
  },
  {
   "cell_type": "code",
   "execution_count": 154,
   "metadata": {},
   "outputs": [
    {
     "data": {
      "text/plain": [
       "PCA(copy=True, iterated_power='auto', n_components=6, random_state=None,\n",
       "    svd_solver='auto', tol=0.0, whiten=False)"
      ]
     },
     "execution_count": 154,
     "metadata": {},
     "output_type": "execute_result"
    }
   ],
   "source": [
    "num_components=6\n",
    "pca = PCA(n_components=num_components)\n",
    "pca.fit(sk_scaled_X_train)"
   ]
  },
  {
   "cell_type": "code",
   "execution_count": 155,
   "metadata": {},
   "outputs": [
    {
     "data": {
      "text/plain": [
       "array([8.97912189, 5.04402965, 1.51850285, 1.14586548, 1.02224718,\n",
       "       0.87816721])"
      ]
     },
     "execution_count": 155,
     "metadata": {},
     "output_type": "execute_result"
    }
   ],
   "source": [
    "pca.explained_variance_"
   ]
  },
  {
   "cell_type": "code",
   "execution_count": 156,
   "metadata": {},
   "outputs": [
    {
     "data": {
      "text/plain": [
       "array([[ 2.79010898e-01,  2.84828728e-01,  2.74351665e-01,\n",
       "         3.10148840e-01,  6.89623225e-02,  1.03084684e-01,\n",
       "         6.87627082e-02,  1.04147076e-01,  3.15228398e-01,\n",
       "         3.04515972e-01,  3.10780694e-01,  2.88734889e-01,\n",
       "         5.56216153e-02,  3.29378374e-02,  3.12037872e-01,\n",
       "         2.76586302e-01,  1.28598256e-02,  1.68618549e-01,\n",
       "         1.26897731e-02,  2.05844064e-01,  1.31829892e-01],\n",
       "       [ 2.24549376e-01,  2.13704260e-01,  2.30089632e-01,\n",
       "         1.16181297e-01, -3.61288316e-01, -3.76333763e-01,\n",
       "        -3.74650677e-01, -3.71306073e-01, -4.36546747e-02,\n",
       "        -1.07416374e-02, -8.48550821e-02, -1.24901181e-01,\n",
       "         2.66589978e-01,  4.78029408e-02,  2.61775818e-02,\n",
       "        -1.21540712e-02, -2.40420524e-02, -2.90613941e-01,\n",
       "        -1.51857718e-01, -9.73709262e-02,  2.65508157e-01],\n",
       "       [ 1.04871964e-01,  8.22536825e-02,  1.29003689e-01,\n",
       "         1.36959437e-01,  1.71266005e-02,  6.00193695e-02,\n",
       "        -1.44386829e-02,  3.31767956e-02, -1.51541623e-01,\n",
       "        -7.79462871e-02, -1.11557970e-01, -1.63909163e-01,\n",
       "        -2.88122986e-01, -3.63963765e-01, -6.27391058e-02,\n",
       "        -5.28473719e-02,  4.85119413e-01,  1.98625560e-01,\n",
       "         3.85682722e-01, -1.42424094e-01,  4.55233350e-01],\n",
       "       [-1.38953301e-02, -1.91552427e-02, -5.99934672e-03,\n",
       "         1.88062122e-02,  2.20383090e-01, -1.23190693e-01,\n",
       "         2.18248192e-01, -1.25304750e-01, -1.21055084e-02,\n",
       "         5.12405546e-06, -4.16423314e-03, -8.35820469e-03,\n",
       "        -1.28343526e-01,  6.03439363e-01,  1.05590208e-02,\n",
       "        -7.70404426e-02,  6.13403620e-01, -1.39206420e-01,\n",
       "        -2.67770772e-01,  1.06702731e-01,  7.96959445e-02],\n",
       "       [ 1.67001854e-01,  1.75149916e-01,  1.60906171e-01,\n",
       "        -1.84234640e-02,  2.62912393e-01,  1.80024025e-01,\n",
       "         2.01201001e-01,  1.32253889e-01, -5.93214568e-02,\n",
       "        -1.07451737e-01, -2.20423678e-01, -1.81165337e-01,\n",
       "         5.66505088e-01,  3.18297633e-01, -7.87959822e-02,\n",
       "         5.95573709e-02, -6.81880318e-02, -1.91857511e-03,\n",
       "         3.66123942e-01, -2.96500949e-01, -2.48121454e-02],\n",
       "       [-8.47309973e-02, -5.88123462e-02, -8.40557422e-02,\n",
       "        -1.08117577e-01, -2.15780998e-01, -1.68785926e-01,\n",
       "        -1.85212475e-01, -1.30444252e-01, -4.66131824e-03,\n",
       "         2.67568132e-02,  1.15305777e-01,  8.16098944e-02,\n",
       "        -1.12870884e-01,  4.41962093e-01,  9.12138975e-02,\n",
       "        -1.84856387e-01, -1.24252527e-01,  1.90995788e-01,\n",
       "         6.59077659e-01,  2.92170116e-01,  3.62937800e-02]])"
      ]
     },
     "execution_count": 156,
     "metadata": {},
     "output_type": "execute_result"
    }
   ],
   "source": [
    "pca.components_"
   ]
  },
  {
   "cell_type": "code",
   "execution_count": 157,
   "metadata": {},
   "outputs": [
    {
     "data": {
      "text/plain": [
       "array([0.42282637, 0.23752309, 0.07150622, 0.05395874, 0.04813757,\n",
       "       0.04135285])"
      ]
     },
     "execution_count": 157,
     "metadata": {},
     "output_type": "execute_result"
    }
   ],
   "source": [
    "pca.explained_variance_ratio_"
   ]
  },
  {
   "cell_type": "code",
   "execution_count": 158,
   "metadata": {},
   "outputs": [],
   "source": [
    "sk_X_train_transformed  = pca.transform(sk_scaled_X_train)"
   ]
  },
  {
   "cell_type": "code",
   "execution_count": 159,
   "metadata": {},
   "outputs": [],
   "source": [
    "sk_X_test_transformed  = pca.transform(sk_scaled_X_test)"
   ]
  },
  {
   "cell_type": "code",
   "execution_count": 160,
   "metadata": {},
   "outputs": [
    {
     "data": {
      "text/plain": [
       "<matplotlib.axes._subplots.AxesSubplot at 0x1e8442520f0>"
      ]
     },
     "execution_count": 160,
     "metadata": {},
     "output_type": "execute_result"
    },
    {
     "data": {
      "image/png": "[encoded data removed]",
      "text/plain": [
       "<Figure size 432x288 with 1 Axes>"
      ]
     },
     "metadata": {
      "needs_background": "light"
     },
     "output_type": "display_data"
    }
   ],
   "source": [
    "temp_df = pd.DataFrame({'Variance':pca.explained_variance_ratio_,\n",
    "                        'PC':['PC1', 'PC2', 'PC3', 'PC4', 'PC5', 'PC6']})\n",
    "sns.barplot(x='PC',y=\"Variance\", data=temp_df, color=\"blue\")"
   ]
  },
  {
   "cell_type": "code",
   "execution_count": 161,
   "metadata": {},
   "outputs": [
    {
     "data": {
      "text/plain": [
       "<matplotlib.axes._subplots.AxesSubplot at 0x1e844235e10>"
      ]
     },
     "execution_count": 161,
     "metadata": {},
     "output_type": "execute_result"
    },
    {
     "data": {
      "image/png": "[encoded data removed]",
      "text/plain": [
       "<Figure size 864x432 with 2 Axes>"
      ]
     },
     "metadata": {
      "needs_background": "light"
     },
     "output_type": "display_data"
    }
   ],
   "source": [
    "temp_df = pd.DataFrame(pca.components_, columns=X.columns)\n",
    "temp_df.rename(index={0: \"PC1\", 1: \"PC2\", 2: \"PC3\", 3: \"PC4\", 4: \"PC5\", 5: \"PC6\"}, inplace=True)\n",
    "\n",
    "plt.figure(figsize=(12,6))\n",
    "sns.heatmap(temp_df,cmap='coolwarm')"
   ]
  },
  {
   "cell_type": "code",
   "execution_count": 162,
   "metadata": {},
   "outputs": [
    {
     "name": "stdout",
     "output_type": "stream",
     "text": [
      "R-square = 0.4948127737542082\n",
      "RMSE = 15461.447284242844\n"
     ]
    }
   ],
   "source": [
    "lm = LinearRegression()\n",
    "lm.fit(sk_X_train_transformed, y_train)\n",
    "y_pred = lm.predict(sk_X_test_transformed)\n",
    "\n",
    "print(\"R-square = \" + str(metrics.r2_score(y_test,y_pred)))\n",
    "print(\"RMSE = \" + str(np.sqrt(metrics.mean_squared_error(y_test,y_pred))))"
   ]
  },
  {
   "cell_type": "markdown",
   "metadata": {},
   "source": [
    "# Visualization"
   ]
  },
  {
   "cell_type": "markdown",
   "metadata": {},
   "source": [
    "## Model for Thailand"
   ]
  },
  {
   "cell_type": "code",
   "execution_count": 163,
   "metadata": {},
   "outputs": [
    {
     "data": {
      "text/html": [
       "<div>\n",
       "<style scoped>\n",
       "    .dataframe tbody tr th:only-of-type {\n",
       "        vertical-align: middle;\n",
       "    }\n",
       "\n",
       "    .dataframe tbody tr th {\n",
       "        vertical-align: top;\n",
       "    }\n",
       "\n",
       "    .dataframe thead th {\n",
       "        text-align: right;\n",
       "    }\n",
       "</style>\n",
       "<table border=\"1\" class=\"dataframe\">\n",
       "  <thead>\n",
       "    <tr style=\"text-align: right;\">\n",
       "      <th></th>\n",
       "      <th>Country Name</th>\n",
       "      <th>Year</th>\n",
       "      <th>GDP_perCapita</th>\n",
       "      <th>population</th>\n",
       "      <th>urbanPopulation</th>\n",
       "      <th>PopulationAge15-64</th>\n",
       "      <th>PopulationAge65+</th>\n",
       "      <th>dieselFuelPrice</th>\n",
       "      <th>dieselFuelPrice_year-2</th>\n",
       "      <th>gasolinePrice</th>\n",
       "      <th>...</th>\n",
       "      <th>serviceExports</th>\n",
       "      <th>personalTransfers</th>\n",
       "      <th>schoolEnrollPrimary</th>\n",
       "      <th>airTransportDeparture</th>\n",
       "      <th>internationalTourism</th>\n",
       "      <th>mobileSubscriptionPer100People</th>\n",
       "      <th>broadbandSubscriptionPer100People</th>\n",
       "      <th>electricPowerConsumption</th>\n",
       "      <th>chargesOfIntellectualProperty</th>\n",
       "      <th>landArea</th>\n",
       "    </tr>\n",
       "  </thead>\n",
       "  <tbody>\n",
       "    <tr>\n",
       "      <th>0</th>\n",
       "      <td>Thailand</td>\n",
       "      <td>1996</td>\n",
       "      <td>3043.981173</td>\n",
       "      <td>60130186.0</td>\n",
       "      <td>18309040.0</td>\n",
       "      <td>40831256.0</td>\n",
       "      <td>3409433.0</td>\n",
       "      <td>0.30</td>\n",
       "      <td>0.30</td>\n",
       "      <td>0.34</td>\n",
       "      <td>...</td>\n",
       "      <td>1.700742e+10</td>\n",
       "      <td>5.041000e+08</td>\n",
       "      <td>91.68782</td>\n",
       "      <td>91700.0000</td>\n",
       "      <td>7244000.0</td>\n",
       "      <td>3.067722</td>\n",
       "      <td>0.000138</td>\n",
       "      <td>1380.055601</td>\n",
       "      <td>7.167679e+08</td>\n",
       "      <td>510890.0</td>\n",
       "    </tr>\n",
       "    <tr>\n",
       "      <th>1</th>\n",
       "      <td>Thailand</td>\n",
       "      <td>1997</td>\n",
       "      <td>2468.179209</td>\n",
       "      <td>60846582.0</td>\n",
       "      <td>18632440.0</td>\n",
       "      <td>41584934.0</td>\n",
       "      <td>3573806.0</td>\n",
       "      <td>0.30</td>\n",
       "      <td>0.30</td>\n",
       "      <td>0.34</td>\n",
       "      <td>...</td>\n",
       "      <td>1.576326e+10</td>\n",
       "      <td>5.772700e+08</td>\n",
       "      <td>92.22954</td>\n",
       "      <td>94900.0000</td>\n",
       "      <td>7294000.0</td>\n",
       "      <td>3.622069</td>\n",
       "      <td>0.000395</td>\n",
       "      <td>1410.120292</td>\n",
       "      <td>8.039545e+08</td>\n",
       "      <td>510890.0</td>\n",
       "    </tr>\n",
       "    <tr>\n",
       "      <th>2</th>\n",
       "      <td>Thailand</td>\n",
       "      <td>1998</td>\n",
       "      <td>1845.831225</td>\n",
       "      <td>61585103.0</td>\n",
       "      <td>18965132.0</td>\n",
       "      <td>42347010.0</td>\n",
       "      <td>3745829.0</td>\n",
       "      <td>0.27</td>\n",
       "      <td>0.30</td>\n",
       "      <td>0.30</td>\n",
       "      <td>...</td>\n",
       "      <td>1.315563e+10</td>\n",
       "      <td>6.504400e+08</td>\n",
       "      <td>93.55635</td>\n",
       "      <td>93500.0000</td>\n",
       "      <td>7843000.0</td>\n",
       "      <td>3.210122</td>\n",
       "      <td>0.000685</td>\n",
       "      <td>1359.078672</td>\n",
       "      <td>5.139149e+08</td>\n",
       "      <td>510890.0</td>\n",
       "    </tr>\n",
       "    <tr>\n",
       "      <th>3</th>\n",
       "      <td>Thailand</td>\n",
       "      <td>1999</td>\n",
       "      <td>2033.255822</td>\n",
       "      <td>62298571.0</td>\n",
       "      <td>19293244.0</td>\n",
       "      <td>43076588.0</td>\n",
       "      <td>3925432.0</td>\n",
       "      <td>0.27</td>\n",
       "      <td>0.30</td>\n",
       "      <td>0.30</td>\n",
       "      <td>...</td>\n",
       "      <td>1.463515e+10</td>\n",
       "      <td>7.236100e+08</td>\n",
       "      <td>97.29830</td>\n",
       "      <td>95400.0000</td>\n",
       "      <td>8651000.0</td>\n",
       "      <td>3.755144</td>\n",
       "      <td>0.001189</td>\n",
       "      <td>1358.345764</td>\n",
       "      <td>5.833780e+08</td>\n",
       "      <td>510890.0</td>\n",
       "    </tr>\n",
       "    <tr>\n",
       "      <th>4</th>\n",
       "      <td>Thailand</td>\n",
       "      <td>2000</td>\n",
       "      <td>2007.736363</td>\n",
       "      <td>62952642.0</td>\n",
       "      <td>19758316.0</td>\n",
       "      <td>43744276.0</td>\n",
       "      <td>4111832.0</td>\n",
       "      <td>0.35</td>\n",
       "      <td>0.27</td>\n",
       "      <td>0.39</td>\n",
       "      <td>...</td>\n",
       "      <td>1.386825e+10</td>\n",
       "      <td>7.967800e+08</td>\n",
       "      <td>97.61494</td>\n",
       "      <td>101591.0000</td>\n",
       "      <td>9579000.0</td>\n",
       "      <td>4.854443</td>\n",
       "      <td>0.001388</td>\n",
       "      <td>1448.072664</td>\n",
       "      <td>7.098706e+08</td>\n",
       "      <td>510890.0</td>\n",
       "    </tr>\n",
       "    <tr>\n",
       "      <th>5</th>\n",
       "      <td>Thailand</td>\n",
       "      <td>2001</td>\n",
       "      <td>1893.268310</td>\n",
       "      <td>63539196.0</td>\n",
       "      <td>20680738.0</td>\n",
       "      <td>44380040.0</td>\n",
       "      <td>4303443.0</td>\n",
       "      <td>0.35</td>\n",
       "      <td>0.27</td>\n",
       "      <td>0.39</td>\n",
       "      <td>...</td>\n",
       "      <td>1.302428e+10</td>\n",
       "      <td>8.699500e+08</td>\n",
       "      <td>97.08288</td>\n",
       "      <td>102414.0000</td>\n",
       "      <td>10133000.0</td>\n",
       "      <td>11.882429</td>\n",
       "      <td>0.002539</td>\n",
       "      <td>1504.756214</td>\n",
       "      <td>8.232647e+08</td>\n",
       "      <td>510890.0</td>\n",
       "    </tr>\n",
       "    <tr>\n",
       "      <th>6</th>\n",
       "      <td>Thailand</td>\n",
       "      <td>2002</td>\n",
       "      <td>2096.187999</td>\n",
       "      <td>64069087.0</td>\n",
       "      <td>21613066.0</td>\n",
       "      <td>44948092.0</td>\n",
       "      <td>4499856.0</td>\n",
       "      <td>0.32</td>\n",
       "      <td>0.35</td>\n",
       "      <td>0.36</td>\n",
       "      <td>...</td>\n",
       "      <td>1.539063e+10</td>\n",
       "      <td>9.431200e+08</td>\n",
       "      <td>98.66970</td>\n",
       "      <td>97750.0000</td>\n",
       "      <td>10873000.0</td>\n",
       "      <td>27.236052</td>\n",
       "      <td>0.010263</td>\n",
       "      <td>1617.566362</td>\n",
       "      <td>1.103909e+09</td>\n",
       "      <td>510890.0</td>\n",
       "    </tr>\n",
       "    <tr>\n",
       "      <th>7</th>\n",
       "      <td>Thailand</td>\n",
       "      <td>2003</td>\n",
       "      <td>2359.116494</td>\n",
       "      <td>64549866.0</td>\n",
       "      <td>22554369.0</td>\n",
       "      <td>45462380.0</td>\n",
       "      <td>4696714.0</td>\n",
       "      <td>0.32</td>\n",
       "      <td>0.35</td>\n",
       "      <td>0.36</td>\n",
       "      <td>...</td>\n",
       "      <td>1.579833e+10</td>\n",
       "      <td>1.040680e+09</td>\n",
       "      <td>98.56199</td>\n",
       "      <td>93576.0000</td>\n",
       "      <td>10082000.0</td>\n",
       "      <td>33.488698</td>\n",
       "      <td>0.017988</td>\n",
       "      <td>1713.620908</td>\n",
       "      <td>1.267698e+09</td>\n",
       "      <td>510890.0</td>\n",
       "    </tr>\n",
       "    <tr>\n",
       "      <th>8</th>\n",
       "      <td>Thailand</td>\n",
       "      <td>2004</td>\n",
       "      <td>2660.122791</td>\n",
       "      <td>64995299.0</td>\n",
       "      <td>23508150.0</td>\n",
       "      <td>45948025.0</td>\n",
       "      <td>4888141.0</td>\n",
       "      <td>0.37</td>\n",
       "      <td>0.32</td>\n",
       "      <td>0.54</td>\n",
       "      <td>...</td>\n",
       "      <td>1.904015e+10</td>\n",
       "      <td>1.040680e+09</td>\n",
       "      <td>101.42069</td>\n",
       "      <td>128178.0000</td>\n",
       "      <td>11737000.0</td>\n",
       "      <td>41.488459</td>\n",
       "      <td>0.253518</td>\n",
       "      <td>1827.239844</td>\n",
       "      <td>1.583826e+09</td>\n",
       "      <td>510890.0</td>\n",
       "    </tr>\n",
       "    <tr>\n",
       "      <th>9</th>\n",
       "      <td>Thailand</td>\n",
       "      <td>2005</td>\n",
       "      <td>2894.061896</td>\n",
       "      <td>65416189.0</td>\n",
       "      <td>24472850.0</td>\n",
       "      <td>46419338.0</td>\n",
       "      <td>5072458.0</td>\n",
       "      <td>0.37</td>\n",
       "      <td>0.32</td>\n",
       "      <td>0.54</td>\n",
       "      <td>...</td>\n",
       "      <td>1.992542e+10</td>\n",
       "      <td>1.187020e+09</td>\n",
       "      <td>101.92334</td>\n",
       "      <td>124347.0000</td>\n",
       "      <td>11567000.0</td>\n",
       "      <td>46.563761</td>\n",
       "      <td>0.849171</td>\n",
       "      <td>1914.801243</td>\n",
       "      <td>1.676210e+09</td>\n",
       "      <td>510890.0</td>\n",
       "    </tr>\n",
       "    <tr>\n",
       "      <th>10</th>\n",
       "      <td>Thailand</td>\n",
       "      <td>2006</td>\n",
       "      <td>3369.547815</td>\n",
       "      <td>65812536.0</td>\n",
       "      <td>25451682.0</td>\n",
       "      <td>46859625.0</td>\n",
       "      <td>5248866.0</td>\n",
       "      <td>0.65</td>\n",
       "      <td>0.37</td>\n",
       "      <td>0.70</td>\n",
       "      <td>...</td>\n",
       "      <td>2.461178e+10</td>\n",
       "      <td>1.333360e+09</td>\n",
       "      <td>101.81307</td>\n",
       "      <td>126845.0000</td>\n",
       "      <td>13822000.0</td>\n",
       "      <td>60.969342</td>\n",
       "      <td>1.357717</td>\n",
       "      <td>2005.256263</td>\n",
       "      <td>2.046760e+09</td>\n",
       "      <td>510890.0</td>\n",
       "    </tr>\n",
       "    <tr>\n",
       "      <th>11</th>\n",
       "      <td>Thailand</td>\n",
       "      <td>2007</td>\n",
       "      <td>3973.019618</td>\n",
       "      <td>66182067.0</td>\n",
       "      <td>26439736.0</td>\n",
       "      <td>47269796.0</td>\n",
       "      <td>5420232.0</td>\n",
       "      <td>0.65</td>\n",
       "      <td>0.37</td>\n",
       "      <td>0.70</td>\n",
       "      <td>...</td>\n",
       "      <td>3.011390e+10</td>\n",
       "      <td>1.634850e+09</td>\n",
       "      <td>101.37949</td>\n",
       "      <td>129703.0000</td>\n",
       "      <td>14464000.0</td>\n",
       "      <td>80.042822</td>\n",
       "      <td>1.954217</td>\n",
       "      <td>2080.246300</td>\n",
       "      <td>2.288640e+09</td>\n",
       "      <td>510890.0</td>\n",
       "    </tr>\n",
       "    <tr>\n",
       "      <th>12</th>\n",
       "      <td>Thailand</td>\n",
       "      <td>2008</td>\n",
       "      <td>4379.659877</td>\n",
       "      <td>66530984.0</td>\n",
       "      <td>27438708.0</td>\n",
       "      <td>47652308.0</td>\n",
       "      <td>5594028.0</td>\n",
       "      <td>0.64</td>\n",
       "      <td>0.65</td>\n",
       "      <td>0.87</td>\n",
       "      <td>...</td>\n",
       "      <td>3.312472e+10</td>\n",
       "      <td>1.898410e+09</td>\n",
       "      <td>100.82844</td>\n",
       "      <td>125907.0000</td>\n",
       "      <td>14584000.0</td>\n",
       "      <td>92.944911</td>\n",
       "      <td>3.115539</td>\n",
       "      <td>2105.440076</td>\n",
       "      <td>2.567130e+09</td>\n",
       "      <td>510890.0</td>\n",
       "    </tr>\n",
       "    <tr>\n",
       "      <th>13</th>\n",
       "      <td>Thailand</td>\n",
       "      <td>2009</td>\n",
       "      <td>4213.001541</td>\n",
       "      <td>66866839.0</td>\n",
       "      <td>28447159.0</td>\n",
       "      <td>48005331.0</td>\n",
       "      <td>5778493.0</td>\n",
       "      <td>0.64</td>\n",
       "      <td>0.65</td>\n",
       "      <td>0.87</td>\n",
       "      <td>...</td>\n",
       "      <td>3.020423e+10</td>\n",
       "      <td>2.779030e+09</td>\n",
       "      <td>99.17333</td>\n",
       "      <td>123541.0000</td>\n",
       "      <td>14150000.0</td>\n",
       "      <td>98.632318</td>\n",
       "      <td>3.924633</td>\n",
       "      <td>2101.146130</td>\n",
       "      <td>2.247540e+09</td>\n",
       "      <td>510890.0</td>\n",
       "    </tr>\n",
       "    <tr>\n",
       "      <th>14</th>\n",
       "      <td>Thailand</td>\n",
       "      <td>2010</td>\n",
       "      <td>5076.342992</td>\n",
       "      <td>67195028.0</td>\n",
       "      <td>29469051.0</td>\n",
       "      <td>48326218.0</td>\n",
       "      <td>5978273.0</td>\n",
       "      <td>0.95</td>\n",
       "      <td>0.64</td>\n",
       "      <td>1.41</td>\n",
       "      <td>...</td>\n",
       "      <td>3.433981e+10</td>\n",
       "      <td>3.157730e+09</td>\n",
       "      <td>96.85814</td>\n",
       "      <td>201306.0000</td>\n",
       "      <td>15936000.0</td>\n",
       "      <td>106.743463</td>\n",
       "      <td>4.839422</td>\n",
       "      <td>2307.804679</td>\n",
       "      <td>3.080540e+09</td>\n",
       "      <td>510890.0</td>\n",
       "    </tr>\n",
       "    <tr>\n",
       "      <th>15</th>\n",
       "      <td>Thailand</td>\n",
       "      <td>2011</td>\n",
       "      <td>5492.115427</td>\n",
       "      <td>67518382.0</td>\n",
       "      <td>30179366.0</td>\n",
       "      <td>48493777.0</td>\n",
       "      <td>6204845.0</td>\n",
       "      <td>0.95</td>\n",
       "      <td>0.64</td>\n",
       "      <td>1.41</td>\n",
       "      <td>...</td>\n",
       "      <td>4.154460e+10</td>\n",
       "      <td>3.529320e+09</td>\n",
       "      <td>96.75588</td>\n",
       "      <td>227322.0000</td>\n",
       "      <td>19230000.0</td>\n",
       "      <td>114.708011</td>\n",
       "      <td>5.768799</td>\n",
       "      <td>2283.748446</td>\n",
       "      <td>3.121260e+09</td>\n",
       "      <td>510890.0</td>\n",
       "    </tr>\n",
       "    <tr>\n",
       "      <th>16</th>\n",
       "      <td>Thailand</td>\n",
       "      <td>2012</td>\n",
       "      <td>5860.580610</td>\n",
       "      <td>67835957.0</td>\n",
       "      <td>30828051.0</td>\n",
       "      <td>48669131.0</td>\n",
       "      <td>6446325.0</td>\n",
       "      <td>0.97</td>\n",
       "      <td>0.95</td>\n",
       "      <td>1.56</td>\n",
       "      <td>...</td>\n",
       "      <td>4.652137e+10</td>\n",
       "      <td>3.754854e+09</td>\n",
       "      <td>97.02945</td>\n",
       "      <td>252368.8984</td>\n",
       "      <td>22354000.0</td>\n",
       "      <td>125.319959</td>\n",
       "      <td>6.661658</td>\n",
       "      <td>2443.615559</td>\n",
       "      <td>3.609709e+09</td>\n",
       "      <td>510890.0</td>\n",
       "    </tr>\n",
       "    <tr>\n",
       "      <th>17</th>\n",
       "      <td>Thailand</td>\n",
       "      <td>2013</td>\n",
       "      <td>6168.264895</td>\n",
       "      <td>68144501.0</td>\n",
       "      <td>31477989.0</td>\n",
       "      <td>48838153.0</td>\n",
       "      <td>6705334.0</td>\n",
       "      <td>0.97</td>\n",
       "      <td>0.95</td>\n",
       "      <td>1.56</td>\n",
       "      <td>...</td>\n",
       "      <td>5.480408e+10</td>\n",
       "      <td>4.746436e+09</td>\n",
       "      <td>96.91785</td>\n",
       "      <td>298450.0000</td>\n",
       "      <td>26547000.0</td>\n",
       "      <td>137.720543</td>\n",
       "      <td>7.619102</td>\n",
       "      <td>2514.759041</td>\n",
       "      <td>4.593396e+09</td>\n",
       "      <td>510890.0</td>\n",
       "    </tr>\n",
       "    <tr>\n",
       "      <th>18</th>\n",
       "      <td>Thailand</td>\n",
       "      <td>2014</td>\n",
       "      <td>5951.883702</td>\n",
       "      <td>68438730.0</td>\n",
       "      <td>32127193.0</td>\n",
       "      <td>48978994.0</td>\n",
       "      <td>6984422.0</td>\n",
       "      <td>0.90</td>\n",
       "      <td>0.97</td>\n",
       "      <td>1.29</td>\n",
       "      <td>...</td>\n",
       "      <td>5.194018e+10</td>\n",
       "      <td>4.615465e+09</td>\n",
       "      <td>102.11088</td>\n",
       "      <td>338053.9817</td>\n",
       "      <td>24810000.0</td>\n",
       "      <td>141.872851</td>\n",
       "      <td>7.948714</td>\n",
       "      <td>2538.796380</td>\n",
       "      <td>3.970841e+09</td>\n",
       "      <td>510890.0</td>\n",
       "    </tr>\n",
       "    <tr>\n",
       "      <th>19</th>\n",
       "      <td>Thailand</td>\n",
       "      <td>2015</td>\n",
       "      <td>5840.046948</td>\n",
       "      <td>68714511.0</td>\n",
       "      <td>32772699.0</td>\n",
       "      <td>49078480.0</td>\n",
       "      <td>7285133.0</td>\n",
       "      <td>0.90</td>\n",
       "      <td>0.97</td>\n",
       "      <td>1.29</td>\n",
       "      <td>...</td>\n",
       "      <td>5.808215e+10</td>\n",
       "      <td>3.865078e+09</td>\n",
       "      <td>100.65086</td>\n",
       "      <td>392664.0000</td>\n",
       "      <td>29923000.0</td>\n",
       "      <td>149.811151</td>\n",
       "      <td>9.065043</td>\n",
       "      <td>2631.156511</td>\n",
       "      <td>4.121492e+09</td>\n",
       "      <td>510890.0</td>\n",
       "    </tr>\n",
       "    <tr>\n",
       "      <th>20</th>\n",
       "      <td>Thailand</td>\n",
       "      <td>2016</td>\n",
       "      <td>5978.611454</td>\n",
       "      <td>68971331.0</td>\n",
       "      <td>33415230.0</td>\n",
       "      <td>49209859.0</td>\n",
       "      <td>7591024.0</td>\n",
       "      <td>0.68</td>\n",
       "      <td>0.90</td>\n",
       "      <td>0.71</td>\n",
       "      <td>...</td>\n",
       "      <td>6.378640e+10</td>\n",
       "      <td>4.039790e+09</td>\n",
       "      <td>100.75753</td>\n",
       "      <td>413880.0000</td>\n",
       "      <td>32530000.0</td>\n",
       "      <td>173.505481</td>\n",
       "      <td>10.466671</td>\n",
       "      <td>2704.712963</td>\n",
       "      <td>3.979483e+09</td>\n",
       "      <td>510890.0</td>\n",
       "    </tr>\n",
       "    <tr>\n",
       "      <th>21</th>\n",
       "      <td>Thailand</td>\n",
       "      <td>2017</td>\n",
       "      <td>6578.188865</td>\n",
       "      <td>69209858.0</td>\n",
       "      <td>34051250.0</td>\n",
       "      <td>49283796.0</td>\n",
       "      <td>7915506.0</td>\n",
       "      <td>0.68</td>\n",
       "      <td>0.90</td>\n",
       "      <td>0.71</td>\n",
       "      <td>...</td>\n",
       "      <td>7.096414e+10</td>\n",
       "      <td>4.659526e+09</td>\n",
       "      <td>99.62503</td>\n",
       "      <td>448477.0000</td>\n",
       "      <td>35592000.0</td>\n",
       "      <td>175.596494</td>\n",
       "      <td>11.859590</td>\n",
       "      <td>2778.269415</td>\n",
       "      <td>4.280772e+09</td>\n",
       "      <td>510890.0</td>\n",
       "    </tr>\n",
       "    <tr>\n",
       "      <th>22</th>\n",
       "      <td>Thailand</td>\n",
       "      <td>2018</td>\n",
       "      <td>7273.563207</td>\n",
       "      <td>69428524.0</td>\n",
       "      <td>34678853.0</td>\n",
       "      <td>49302665.0</td>\n",
       "      <td>8262614.0</td>\n",
       "      <td>0.68</td>\n",
       "      <td>0.68</td>\n",
       "      <td>0.71</td>\n",
       "      <td>...</td>\n",
       "      <td>8.133135e+10</td>\n",
       "      <td>5.348370e+09</td>\n",
       "      <td>99.77436</td>\n",
       "      <td>475886.4960</td>\n",
       "      <td>38178000.0</td>\n",
       "      <td>180.182612</td>\n",
       "      <td>13.235208</td>\n",
       "      <td>2851.825867</td>\n",
       "      <td>5.274353e+09</td>\n",
       "      <td>510890.0</td>\n",
       "    </tr>\n",
       "  </tbody>\n",
       "</table>\n",
       "<p>23 rows × 24 columns</p>\n",
       "</div>"
      ],
      "text/plain": [
       "   Country Name  Year  GDP_perCapita  population  urbanPopulation  \\\n",
       "0      Thailand  1996    3043.981173  60130186.0       18309040.0   \n",
       "1      Thailand  1997    2468.179209  60846582.0       18632440.0   \n",
       "2      Thailand  1998    1845.831225  61585103.0       18965132.0   \n",
       "3      Thailand  1999    2033.255822  62298571.0       19293244.0   \n",
       "4      Thailand  2000    2007.736363  62952642.0       19758316.0   \n",
       "5      Thailand  2001    1893.268310  63539196.0       20680738.0   \n",
       "6      Thailand  2002    2096.187999  64069087.0       21613066.0   \n",
       "7      Thailand  2003    2359.116494  64549866.0       22554369.0   \n",
       "8      Thailand  2004    2660.122791  64995299.0       23508150.0   \n",
       "9      Thailand  2005    2894.061896  65416189.0       24472850.0   \n",
       "10     Thailand  2006    3369.547815  65812536.0       25451682.0   \n",
       "11     Thailand  2007    3973.019618  66182067.0       26439736.0   \n",
       "12     Thailand  2008    4379.659877  66530984.0       27438708.0   \n",
       "13     Thailand  2009    4213.001541  66866839.0       28447159.0   \n",
       "14     Thailand  2010    5076.342992  67195028.0       29469051.0   \n",
       "15     Thailand  2011    5492.115427  67518382.0       30179366.0   \n",
       "16     Thailand  2012    5860.580610  67835957.0       30828051.0   \n",
       "17     Thailand  2013    6168.264895  68144501.0       31477989.0   \n",
       "18     Thailand  2014    5951.883702  68438730.0       32127193.0   \n",
       "19     Thailand  2015    5840.046948  68714511.0       32772699.0   \n",
       "20     Thailand  2016    5978.611454  68971331.0       33415230.0   \n",
       "21     Thailand  2017    6578.188865  69209858.0       34051250.0   \n",
       "22     Thailand  2018    7273.563207  69428524.0       34678853.0   \n",
       "\n",
       "    PopulationAge15-64  PopulationAge65+  dieselFuelPrice  \\\n",
       "0           40831256.0         3409433.0             0.30   \n",
       "1           41584934.0         3573806.0             0.30   \n",
       "2           42347010.0         3745829.0             0.27   \n",
       "3           43076588.0         3925432.0             0.27   \n",
       "4           43744276.0         4111832.0             0.35   \n",
       "5           44380040.0         4303443.0             0.35   \n",
       "6           44948092.0         4499856.0             0.32   \n",
       "7           45462380.0         4696714.0             0.32   \n",
       "8           45948025.0         4888141.0             0.37   \n",
       "9           46419338.0         5072458.0             0.37   \n",
       "10          46859625.0         5248866.0             0.65   \n",
       "11          47269796.0         5420232.0             0.65   \n",
       "12          47652308.0         5594028.0             0.64   \n",
       "13          48005331.0         5778493.0             0.64   \n",
       "14          48326218.0         5978273.0             0.95   \n",
       "15          48493777.0         6204845.0             0.95   \n",
       "16          48669131.0         6446325.0             0.97   \n",
       "17          48838153.0         6705334.0             0.97   \n",
       "18          48978994.0         6984422.0             0.90   \n",
       "19          49078480.0         7285133.0             0.90   \n",
       "20          49209859.0         7591024.0             0.68   \n",
       "21          49283796.0         7915506.0             0.68   \n",
       "22          49302665.0         8262614.0             0.68   \n",
       "\n",
       "    dieselFuelPrice_year-2  gasolinePrice  ...  serviceExports  \\\n",
       "0                     0.30           0.34  ...    1.700742e+10   \n",
       "1                     0.30           0.34  ...    1.576326e+10   \n",
       "2                     0.30           0.30  ...    1.315563e+10   \n",
       "3                     0.30           0.30  ...    1.463515e+10   \n",
       "4                     0.27           0.39  ...    1.386825e+10   \n",
       "5                     0.27           0.39  ...    1.302428e+10   \n",
       "6                     0.35           0.36  ...    1.539063e+10   \n",
       "7                     0.35           0.36  ...    1.579833e+10   \n",
       "8                     0.32           0.54  ...    1.904015e+10   \n",
       "9                     0.32           0.54  ...    1.992542e+10   \n",
       "10                    0.37           0.70  ...    2.461178e+10   \n",
       "11                    0.37           0.70  ...    3.011390e+10   \n",
       "12                    0.65           0.87  ...    3.312472e+10   \n",
       "13                    0.65           0.87  ...    3.020423e+10   \n",
       "14                    0.64           1.41  ...    3.433981e+10   \n",
       "15                    0.64           1.41  ...    4.154460e+10   \n",
       "16                    0.95           1.56  ...    4.652137e+10   \n",
       "17                    0.95           1.56  ...    5.480408e+10   \n",
       "18                    0.97           1.29  ...    5.194018e+10   \n",
       "19                    0.97           1.29  ...    5.808215e+10   \n",
       "20                    0.90           0.71  ...    6.378640e+10   \n",
       "21                    0.90           0.71  ...    7.096414e+10   \n",
       "22                    0.68           0.71  ...    8.133135e+10   \n",
       "\n",
       "    personalTransfers  schoolEnrollPrimary  airTransportDeparture  \\\n",
       "0        5.041000e+08             91.68782             91700.0000   \n",
       "1        5.772700e+08             92.22954             94900.0000   \n",
       "2        6.504400e+08             93.55635             93500.0000   \n",
       "3        7.236100e+08             97.29830             95400.0000   \n",
       "4        7.967800e+08             97.61494            101591.0000   \n",
       "5        8.699500e+08             97.08288            102414.0000   \n",
       "6        9.431200e+08             98.66970             97750.0000   \n",
       "7        1.040680e+09             98.56199             93576.0000   \n",
       "8        1.040680e+09            101.42069            128178.0000   \n",
       "9        1.187020e+09            101.92334            124347.0000   \n",
       "10       1.333360e+09            101.81307            126845.0000   \n",
       "11       1.634850e+09            101.37949            129703.0000   \n",
       "12       1.898410e+09            100.82844            125907.0000   \n",
       "13       2.779030e+09             99.17333            123541.0000   \n",
       "14       3.157730e+09             96.85814            201306.0000   \n",
       "15       3.529320e+09             96.75588            227322.0000   \n",
       "16       3.754854e+09             97.02945            252368.8984   \n",
       "17       4.746436e+09             96.91785            298450.0000   \n",
       "18       4.615465e+09            102.11088            338053.9817   \n",
       "19       3.865078e+09            100.65086            392664.0000   \n",
       "20       4.039790e+09            100.75753            413880.0000   \n",
       "21       4.659526e+09             99.62503            448477.0000   \n",
       "22       5.348370e+09             99.77436            475886.4960   \n",
       "\n",
       "    internationalTourism  mobileSubscriptionPer100People  \\\n",
       "0              7244000.0                        3.067722   \n",
       "1              7294000.0                        3.622069   \n",
       "2              7843000.0                        3.210122   \n",
       "3              8651000.0                        3.755144   \n",
       "4              9579000.0                        4.854443   \n",
       "5             10133000.0                       11.882429   \n",
       "6             10873000.0                       27.236052   \n",
       "7             10082000.0                       33.488698   \n",
       "8             11737000.0                       41.488459   \n",
       "9             11567000.0                       46.563761   \n",
       "10            13822000.0                       60.969342   \n",
       "11            14464000.0                       80.042822   \n",
       "12            14584000.0                       92.944911   \n",
       "13            14150000.0                       98.632318   \n",
       "14            15936000.0                      106.743463   \n",
       "15            19230000.0                      114.708011   \n",
       "16            22354000.0                      125.319959   \n",
       "17            26547000.0                      137.720543   \n",
       "18            24810000.0                      141.872851   \n",
       "19            29923000.0                      149.811151   \n",
       "20            32530000.0                      173.505481   \n",
       "21            35592000.0                      175.596494   \n",
       "22            38178000.0                      180.182612   \n",
       "\n",
       "    broadbandSubscriptionPer100People  electricPowerConsumption  \\\n",
       "0                            0.000138               1380.055601   \n",
       "1                            0.000395               1410.120292   \n",
       "2                            0.000685               1359.078672   \n",
       "3                            0.001189               1358.345764   \n",
       "4                            0.001388               1448.072664   \n",
       "5                            0.002539               1504.756214   \n",
       "6                            0.010263               1617.566362   \n",
       "7                            0.017988               1713.620908   \n",
       "8                            0.253518               1827.239844   \n",
       "9                            0.849171               1914.801243   \n",
       "10                           1.357717               2005.256263   \n",
       "11                           1.954217               2080.246300   \n",
       "12                           3.115539               2105.440076   \n",
       "13                           3.924633               2101.146130   \n",
       "14                           4.839422               2307.804679   \n",
       "15                           5.768799               2283.748446   \n",
       "16                           6.661658               2443.615559   \n",
       "17                           7.619102               2514.759041   \n",
       "18                           7.948714               2538.796380   \n",
       "19                           9.065043               2631.156511   \n",
       "20                          10.466671               2704.712963   \n",
       "21                          11.859590               2778.269415   \n",
       "22                          13.235208               2851.825867   \n",
       "\n",
       "    chargesOfIntellectualProperty  landArea  \n",
       "0                    7.167679e+08  510890.0  \n",
       "1                    8.039545e+08  510890.0  \n",
       "2                    5.139149e+08  510890.0  \n",
       "3                    5.833780e+08  510890.0  \n",
       "4                    7.098706e+08  510890.0  \n",
       "5                    8.232647e+08  510890.0  \n",
       "6                    1.103909e+09  510890.0  \n",
       "7                    1.267698e+09  510890.0  \n",
       "8                    1.583826e+09  510890.0  \n",
       "9                    1.676210e+09  510890.0  \n",
       "10                   2.046760e+09  510890.0  \n",
       "11                   2.288640e+09  510890.0  \n",
       "12                   2.567130e+09  510890.0  \n",
       "13                   2.247540e+09  510890.0  \n",
       "14                   3.080540e+09  510890.0  \n",
       "15                   3.121260e+09  510890.0  \n",
       "16                   3.609709e+09  510890.0  \n",
       "17                   4.593396e+09  510890.0  \n",
       "18                   3.970841e+09  510890.0  \n",
       "19                   4.121492e+09  510890.0  \n",
       "20                   3.979483e+09  510890.0  \n",
       "21                   4.280772e+09  510890.0  \n",
       "22                   5.274353e+09  510890.0  \n",
       "\n",
       "[23 rows x 24 columns]"
      ]
     },
     "execution_count": 163,
     "metadata": {},
     "output_type": "execute_result"
    }
   ],
   "source": [
    "df_thailand"
   ]
  },
  {
   "cell_type": "code",
   "execution_count": 164,
   "metadata": {},
   "outputs": [
    {
     "data": {
      "text/plain": [
       "Text(0, 0.5, 'GDP per Capita')"
      ]
     },
     "execution_count": 164,
     "metadata": {},
     "output_type": "execute_result"
    },
    {
     "data": {
      "image/png": "[encoded data removed]",
      "text/plain": [
       "<Figure size 648x504 with 1 Axes>"
      ]
     },
     "metadata": {
      "needs_background": "light"
     },
     "output_type": "display_data"
    }
   ],
   "source": [
    "plt.figure(figsize=(9,7))\n",
    "plt.scatter(df_thailand.internationalTourism, df_thailand.GDP_perCapita, c='orange')\n",
    "plt.xlabel('internationalTourism')\n",
    "plt.ylabel('GDP per Capita')"
   ]
  },
  {
   "cell_type": "markdown",
   "metadata": {},
   "source": [
    "## Model for Countries that are less developed than Thailand"
   ]
  },
  {
   "cell_type": "code",
   "execution_count": 165,
   "metadata": {},
   "outputs": [
    {
     "data": {
      "text/html": [
       "<div>\n",
       "<style scoped>\n",
       "    .dataframe tbody tr th:only-of-type {\n",
       "        vertical-align: middle;\n",
       "    }\n",
       "\n",
       "    .dataframe tbody tr th {\n",
       "        vertical-align: top;\n",
       "    }\n",
       "\n",
       "    .dataframe thead th {\n",
       "        text-align: right;\n",
       "    }\n",
       "</style>\n",
       "<table border=\"1\" class=\"dataframe\">\n",
       "  <thead>\n",
       "    <tr style=\"text-align: right;\">\n",
       "      <th></th>\n",
       "      <th>Country Name</th>\n",
       "      <th>Region</th>\n",
       "      <th>Year</th>\n",
       "      <th>GDP_perCapita</th>\n",
       "      <th>population</th>\n",
       "      <th>urbanPopulation</th>\n",
       "      <th>PopulationAge15-64</th>\n",
       "      <th>PopulationAge65+</th>\n",
       "      <th>dieselFuelPrice</th>\n",
       "      <th>dieselFuelPrice_year-2</th>\n",
       "      <th>...</th>\n",
       "      <th>serviceExports</th>\n",
       "      <th>personalTransfers</th>\n",
       "      <th>schoolEnrollPrimary</th>\n",
       "      <th>airTransportDeparture</th>\n",
       "      <th>internationalTourism</th>\n",
       "      <th>mobileSubscriptionPer100People</th>\n",
       "      <th>broadbandSubscriptionPer100People</th>\n",
       "      <th>electricPowerConsumption</th>\n",
       "      <th>chargesOfIntellectualProperty</th>\n",
       "      <th>landArea</th>\n",
       "    </tr>\n",
       "  </thead>\n",
       "  <tbody>\n",
       "    <tr>\n",
       "      <th>0</th>\n",
       "      <td>Algeria</td>\n",
       "      <td>Africa</td>\n",
       "      <td>2016</td>\n",
       "      <td>3946.421445</td>\n",
       "      <td>40551404.0</td>\n",
       "      <td>28977628.0</td>\n",
       "      <td>26300653.0</td>\n",
       "      <td>2436320.0</td>\n",
       "      <td>0.170</td>\n",
       "      <td>0.16</td>\n",
       "      <td>...</td>\n",
       "      <td>3.429915e+09</td>\n",
       "      <td>1.728037e+09</td>\n",
       "      <td>113.8302</td>\n",
       "      <td>73465.0</td>\n",
       "      <td>2039000.0</td>\n",
       "      <td>116.004208</td>\n",
       "      <td>7.051711</td>\n",
       "      <td>1731.092213</td>\n",
       "      <td>1.528979e+08</td>\n",
       "      <td>2381740.0</td>\n",
       "    </tr>\n",
       "    <tr>\n",
       "      <th>1</th>\n",
       "      <td>Argentina</td>\n",
       "      <td>South America</td>\n",
       "      <td>2016</td>\n",
       "      <td>12790.242470</td>\n",
       "      <td>43590368.0</td>\n",
       "      <td>39940546.0</td>\n",
       "      <td>27924236.0</td>\n",
       "      <td>4733904.0</td>\n",
       "      <td>1.000</td>\n",
       "      <td>1.33</td>\n",
       "      <td>...</td>\n",
       "      <td>1.342471e+10</td>\n",
       "      <td>3.127373e+08</td>\n",
       "      <td>110.7392</td>\n",
       "      <td>149334.0</td>\n",
       "      <td>6668000.0</td>\n",
       "      <td>146.453828</td>\n",
       "      <td>16.601663</td>\n",
       "      <td>3890.360164</td>\n",
       "      <td>2.108388e+09</td>\n",
       "      <td>2736690.0</td>\n",
       "    </tr>\n",
       "    <tr>\n",
       "      <th>2</th>\n",
       "      <td>Benin</td>\n",
       "      <td>Africa</td>\n",
       "      <td>2016</td>\n",
       "      <td>789.084915</td>\n",
       "      <td>10872067.0</td>\n",
       "      <td>5026048.0</td>\n",
       "      <td>5859860.0</td>\n",
       "      <td>351768.0</td>\n",
       "      <td>0.720</td>\n",
       "      <td>1.10</td>\n",
       "      <td>...</td>\n",
       "      <td>3.539347e+08</td>\n",
       "      <td>2.012588e+08</td>\n",
       "      <td>130.9023</td>\n",
       "      <td>10.0</td>\n",
       "      <td>267000.0</td>\n",
       "      <td>81.792113</td>\n",
       "      <td>0.205094</td>\n",
       "      <td>129.804126</td>\n",
       "      <td>5.963999e+05</td>\n",
       "      <td>112760.0</td>\n",
       "    </tr>\n",
       "    <tr>\n",
       "      <th>3</th>\n",
       "      <td>Bolivia</td>\n",
       "      <td>South America</td>\n",
       "      <td>2016</td>\n",
       "      <td>3076.658949</td>\n",
       "      <td>11031813.0</td>\n",
       "      <td>7583048.0</td>\n",
       "      <td>6742195.0</td>\n",
       "      <td>761263.0</td>\n",
       "      <td>0.550</td>\n",
       "      <td>0.54</td>\n",
       "      <td>...</td>\n",
       "      <td>1.244740e+09</td>\n",
       "      <td>1.233038e+09</td>\n",
       "      <td>96.5925</td>\n",
       "      <td>45722.0</td>\n",
       "      <td>961000.0</td>\n",
       "      <td>91.609739</td>\n",
       "      <td>2.606906</td>\n",
       "      <td>937.093377</td>\n",
       "      <td>9.938229e+07</td>\n",
       "      <td>1083300.0</td>\n",
       "    </tr>\n",
       "    <tr>\n",
       "      <th>4</th>\n",
       "      <td>Brazil</td>\n",
       "      <td>South America</td>\n",
       "      <td>2016</td>\n",
       "      <td>8712.887044</td>\n",
       "      <td>206163058.0</td>\n",
       "      <td>177386818.0</td>\n",
       "      <td>143590074.0</td>\n",
       "      <td>17115012.0</td>\n",
       "      <td>0.950</td>\n",
       "      <td>1.02</td>\n",
       "      <td>...</td>\n",
       "      <td>3.330029e+10</td>\n",
       "      <td>2.365067e+09</td>\n",
       "      <td>113.9454</td>\n",
       "      <td>826943.0</td>\n",
       "      <td>6547000.0</td>\n",
       "      <td>118.385595</td>\n",
       "      <td>12.981567</td>\n",
       "      <td>3148.312442</td>\n",
       "      <td>5.140804e+09</td>\n",
       "      <td>8358140.0</td>\n",
       "    </tr>\n",
       "    <tr>\n",
       "      <th>...</th>\n",
       "      <td>...</td>\n",
       "      <td>...</td>\n",
       "      <td>...</td>\n",
       "      <td>...</td>\n",
       "      <td>...</td>\n",
       "      <td>...</td>\n",
       "      <td>...</td>\n",
       "      <td>...</td>\n",
       "      <td>...</td>\n",
       "      <td>...</td>\n",
       "      <td>...</td>\n",
       "      <td>...</td>\n",
       "      <td>...</td>\n",
       "      <td>...</td>\n",
       "      <td>...</td>\n",
       "      <td>...</td>\n",
       "      <td>...</td>\n",
       "      <td>...</td>\n",
       "      <td>...</td>\n",
       "      <td>...</td>\n",
       "      <td>...</td>\n",
       "    </tr>\n",
       "    <tr>\n",
       "      <th>108</th>\n",
       "      <td>Tanzania</td>\n",
       "      <td>Africa</td>\n",
       "      <td>2010</td>\n",
       "      <td>743.403785</td>\n",
       "      <td>44346525.0</td>\n",
       "      <td>12467582.0</td>\n",
       "      <td>23345449.0</td>\n",
       "      <td>1100295.0</td>\n",
       "      <td>1.190</td>\n",
       "      <td>1.30</td>\n",
       "      <td>...</td>\n",
       "      <td>2.045743e+09</td>\n",
       "      <td>3.320516e+08</td>\n",
       "      <td>102.8417</td>\n",
       "      <td>21825.0</td>\n",
       "      <td>754000.0</td>\n",
       "      <td>47.317920</td>\n",
       "      <td>0.017034</td>\n",
       "      <td>96.625384</td>\n",
       "      <td>2.700000e+05</td>\n",
       "      <td>885800.0</td>\n",
       "    </tr>\n",
       "    <tr>\n",
       "      <th>109</th>\n",
       "      <td>Togo</td>\n",
       "      <td>Africa</td>\n",
       "      <td>2010</td>\n",
       "      <td>533.508792</td>\n",
       "      <td>6421679.0</td>\n",
       "      <td>2410249.0</td>\n",
       "      <td>3498701.0</td>\n",
       "      <td>175333.0</td>\n",
       "      <td>1.170</td>\n",
       "      <td>0.88</td>\n",
       "      <td>...</td>\n",
       "      <td>3.202248e+08</td>\n",
       "      <td>3.009790e+08</td>\n",
       "      <td>127.3374</td>\n",
       "      <td>8164.0</td>\n",
       "      <td>202000.0</td>\n",
       "      <td>40.523405</td>\n",
       "      <td>0.423955</td>\n",
       "      <td>124.110844</td>\n",
       "      <td>1.645544e+06</td>\n",
       "      <td>54390.0</td>\n",
       "    </tr>\n",
       "    <tr>\n",
       "      <th>110</th>\n",
       "      <td>Tunisia</td>\n",
       "      <td>Africa</td>\n",
       "      <td>2010</td>\n",
       "      <td>4141.976353</td>\n",
       "      <td>10635244.0</td>\n",
       "      <td>7089135.0</td>\n",
       "      <td>7357530.0</td>\n",
       "      <td>796175.0</td>\n",
       "      <td>0.820</td>\n",
       "      <td>0.84</td>\n",
       "      <td>...</td>\n",
       "      <td>5.631759e+09</td>\n",
       "      <td>1.724815e+09</td>\n",
       "      <td>107.1921</td>\n",
       "      <td>31098.0</td>\n",
       "      <td>7828000.0</td>\n",
       "      <td>104.503536</td>\n",
       "      <td>4.534019</td>\n",
       "      <td>1364.989839</td>\n",
       "      <td>1.515998e+07</td>\n",
       "      <td>155360.0</td>\n",
       "    </tr>\n",
       "    <tr>\n",
       "      <th>111</th>\n",
       "      <td>Venezuela, RB</td>\n",
       "      <td>South America</td>\n",
       "      <td>2010</td>\n",
       "      <td>13825.358090</td>\n",
       "      <td>28439940.0</td>\n",
       "      <td>25050752.0</td>\n",
       "      <td>18350777.0</td>\n",
       "      <td>1583491.0</td>\n",
       "      <td>0.011</td>\n",
       "      <td>0.01</td>\n",
       "      <td>...</td>\n",
       "      <td>1.848000e+09</td>\n",
       "      <td>1.210000e+08</td>\n",
       "      <td>102.7558</td>\n",
       "      <td>84065.0</td>\n",
       "      <td>526000.0</td>\n",
       "      <td>98.031613</td>\n",
       "      <td>5.882839</td>\n",
       "      <td>3195.681847</td>\n",
       "      <td>3.400000e+08</td>\n",
       "      <td>882050.0</td>\n",
       "    </tr>\n",
       "    <tr>\n",
       "      <th>112</th>\n",
       "      <td>Zambia</td>\n",
       "      <td>Africa</td>\n",
       "      <td>2010</td>\n",
       "      <td>1489.459070</td>\n",
       "      <td>13605984.0</td>\n",
       "      <td>5354635.0</td>\n",
       "      <td>6888490.0</td>\n",
       "      <td>283344.0</td>\n",
       "      <td>1.520</td>\n",
       "      <td>1.61</td>\n",
       "      <td>...</td>\n",
       "      <td>5.708526e+08</td>\n",
       "      <td>4.365731e+07</td>\n",
       "      <td>106.9788</td>\n",
       "      <td>9730.0</td>\n",
       "      <td>815000.0</td>\n",
       "      <td>40.033790</td>\n",
       "      <td>0.075459</td>\n",
       "      <td>590.548982</td>\n",
       "      <td>5.488440e+05</td>\n",
       "      <td>743390.0</td>\n",
       "    </tr>\n",
       "  </tbody>\n",
       "</table>\n",
       "<p>113 rows × 25 columns</p>\n",
       "</div>"
      ],
      "text/plain": [
       "      Country Name         Region  Year  GDP_perCapita   population  \\\n",
       "0          Algeria         Africa  2016    3946.421445   40551404.0   \n",
       "1        Argentina  South America  2016   12790.242470   43590368.0   \n",
       "2            Benin         Africa  2016     789.084915   10872067.0   \n",
       "3          Bolivia  South America  2016    3076.658949   11031813.0   \n",
       "4           Brazil  South America  2016    8712.887044  206163058.0   \n",
       "..             ...            ...   ...            ...          ...   \n",
       "108       Tanzania         Africa  2010     743.403785   44346525.0   \n",
       "109           Togo         Africa  2010     533.508792    6421679.0   \n",
       "110        Tunisia         Africa  2010    4141.976353   10635244.0   \n",
       "111  Venezuela, RB  South America  2010   13825.358090   28439940.0   \n",
       "112         Zambia         Africa  2010    1489.459070   13605984.0   \n",
       "\n",
       "     urbanPopulation  PopulationAge15-64  PopulationAge65+  dieselFuelPrice  \\\n",
       "0         28977628.0          26300653.0         2436320.0            0.170   \n",
       "1         39940546.0          27924236.0         4733904.0            1.000   \n",
       "2          5026048.0           5859860.0          351768.0            0.720   \n",
       "3          7583048.0           6742195.0          761263.0            0.550   \n",
       "4        177386818.0         143590074.0        17115012.0            0.950   \n",
       "..               ...                 ...               ...              ...   \n",
       "108       12467582.0          23345449.0         1100295.0            1.190   \n",
       "109        2410249.0           3498701.0          175333.0            1.170   \n",
       "110        7089135.0           7357530.0          796175.0            0.820   \n",
       "111       25050752.0          18350777.0         1583491.0            0.011   \n",
       "112        5354635.0           6888490.0          283344.0            1.520   \n",
       "\n",
       "     dieselFuelPrice_year-2  ...  serviceExports  personalTransfers  \\\n",
       "0                      0.16  ...    3.429915e+09       1.728037e+09   \n",
       "1                      1.33  ...    1.342471e+10       3.127373e+08   \n",
       "2                      1.10  ...    3.539347e+08       2.012588e+08   \n",
       "3                      0.54  ...    1.244740e+09       1.233038e+09   \n",
       "4                      1.02  ...    3.330029e+10       2.365067e+09   \n",
       "..                      ...  ...             ...                ...   \n",
       "108                    1.30  ...    2.045743e+09       3.320516e+08   \n",
       "109                    0.88  ...    3.202248e+08       3.009790e+08   \n",
       "110                    0.84  ...    5.631759e+09       1.724815e+09   \n",
       "111                    0.01  ...    1.848000e+09       1.210000e+08   \n",
       "112                    1.61  ...    5.708526e+08       4.365731e+07   \n",
       "\n",
       "     schoolEnrollPrimary  airTransportDeparture  internationalTourism  \\\n",
       "0               113.8302                73465.0             2039000.0   \n",
       "1               110.7392               149334.0             6668000.0   \n",
       "2               130.9023                   10.0              267000.0   \n",
       "3                96.5925                45722.0              961000.0   \n",
       "4               113.9454               826943.0             6547000.0   \n",
       "..                   ...                    ...                   ...   \n",
       "108             102.8417                21825.0              754000.0   \n",
       "109             127.3374                 8164.0              202000.0   \n",
       "110             107.1921                31098.0             7828000.0   \n",
       "111             102.7558                84065.0              526000.0   \n",
       "112             106.9788                 9730.0              815000.0   \n",
       "\n",
       "     mobileSubscriptionPer100People  broadbandSubscriptionPer100People  \\\n",
       "0                        116.004208                           7.051711   \n",
       "1                        146.453828                          16.601663   \n",
       "2                         81.792113                           0.205094   \n",
       "3                         91.609739                           2.606906   \n",
       "4                        118.385595                          12.981567   \n",
       "..                              ...                                ...   \n",
       "108                       47.317920                           0.017034   \n",
       "109                       40.523405                           0.423955   \n",
       "110                      104.503536                           4.534019   \n",
       "111                       98.031613                           5.882839   \n",
       "112                       40.033790                           0.075459   \n",
       "\n",
       "     electricPowerConsumption  chargesOfIntellectualProperty   landArea  \n",
       "0                 1731.092213                   1.528979e+08  2381740.0  \n",
       "1                 3890.360164                   2.108388e+09  2736690.0  \n",
       "2                  129.804126                   5.963999e+05   112760.0  \n",
       "3                  937.093377                   9.938229e+07  1083300.0  \n",
       "4                 3148.312442                   5.140804e+09  8358140.0  \n",
       "..                        ...                            ...        ...  \n",
       "108                 96.625384                   2.700000e+05   885800.0  \n",
       "109                124.110844                   1.645544e+06    54390.0  \n",
       "110               1364.989839                   1.515998e+07   155360.0  \n",
       "111               3195.681847                   3.400000e+08   882050.0  \n",
       "112                590.548982                   5.488440e+05   743390.0  \n",
       "\n",
       "[113 rows x 25 columns]"
      ]
     },
     "execution_count": 165,
     "metadata": {},
     "output_type": "execute_result"
    }
   ],
   "source": [
    "df_southAmerica_africa_southWesternAsia"
   ]
  },
  {
   "cell_type": "code",
   "execution_count": 166,
   "metadata": {},
   "outputs": [
    {
     "data": {
      "text/plain": [
       "Text(0, 0.5, 'GDP per Capita')"
      ]
     },
     "execution_count": 166,
     "metadata": {},
     "output_type": "execute_result"
    },
    {
     "data": {
      "image/png": "[encoded data removed]",
      "text/plain": [
       "<Figure size 648x504 with 1 Axes>"
      ]
     },
     "metadata": {
      "needs_background": "light"
     },
     "output_type": "display_data"
    }
   ],
   "source": [
    "plt.figure(figsize=(9,7))\n",
    "plt.scatter(df_southAmerica_africa_southWesternAsia.electricPowerConsumption, df_southAmerica_africa_southWesternAsia.GDP_perCapita, c='blue')\n",
    "plt.yscale('log')\n",
    "plt.xscale('log')\n",
    "plt.xlabel('electricPowerConsumption')\n",
    "plt.ylabel('GDP per Capita')"
   ]
  },
  {
   "cell_type": "markdown",
   "metadata": {},
   "source": [
    "## Model for Countries that are more developed than Thailand"
   ]
  },
  {
   "cell_type": "code",
   "execution_count": 167,
   "metadata": {},
   "outputs": [
    {
     "data": {
      "text/html": [
       "<div>\n",
       "<style scoped>\n",
       "    .dataframe tbody tr th:only-of-type {\n",
       "        vertical-align: middle;\n",
       "    }\n",
       "\n",
       "    .dataframe tbody tr th {\n",
       "        vertical-align: top;\n",
       "    }\n",
       "\n",
       "    .dataframe thead th {\n",
       "        text-align: right;\n",
       "    }\n",
       "</style>\n",
       "<table border=\"1\" class=\"dataframe\">\n",
       "  <thead>\n",
       "    <tr style=\"text-align: right;\">\n",
       "      <th></th>\n",
       "      <th>Country Name</th>\n",
       "      <th>Region</th>\n",
       "      <th>Year</th>\n",
       "      <th>GDP_perCapita</th>\n",
       "      <th>population</th>\n",
       "      <th>urbanPopulation</th>\n",
       "      <th>PopulationAge15-64</th>\n",
       "      <th>PopulationAge65+</th>\n",
       "      <th>dieselFuelPrice</th>\n",
       "      <th>dieselFuelPrice_year-2</th>\n",
       "      <th>...</th>\n",
       "      <th>serviceExports</th>\n",
       "      <th>personalTransfers</th>\n",
       "      <th>schoolEnrollPrimary</th>\n",
       "      <th>airTransportDeparture</th>\n",
       "      <th>internationalTourism</th>\n",
       "      <th>mobileSubscriptionPer100People</th>\n",
       "      <th>broadbandSubscriptionPer100People</th>\n",
       "      <th>electricPowerConsumption</th>\n",
       "      <th>chargesOfIntellectualProperty</th>\n",
       "      <th>landArea</th>\n",
       "    </tr>\n",
       "  </thead>\n",
       "  <tbody>\n",
       "    <tr>\n",
       "      <th>0</th>\n",
       "      <td>Albania</td>\n",
       "      <td>Eastern Europe</td>\n",
       "      <td>2016</td>\n",
       "      <td>4124.108907</td>\n",
       "      <td>2876101.0</td>\n",
       "      <td>1680247.0</td>\n",
       "      <td>1974733.0</td>\n",
       "      <td>372633.0</td>\n",
       "      <td>1.35</td>\n",
       "      <td>1.71</td>\n",
       "      <td>...</td>\n",
       "      <td>2.650668e+09</td>\n",
       "      <td>9.962030e+08</td>\n",
       "      <td>105.55390</td>\n",
       "      <td>306.0000</td>\n",
       "      <td>4070000.0</td>\n",
       "      <td>116.744444</td>\n",
       "      <td>9.228641</td>\n",
       "      <td>3232.688106</td>\n",
       "      <td>2.316308e+07</td>\n",
       "      <td>27400.00000</td>\n",
       "    </tr>\n",
       "    <tr>\n",
       "      <th>1</th>\n",
       "      <td>Austria</td>\n",
       "      <td>Western Europe</td>\n",
       "      <td>2016</td>\n",
       "      <td>45237.805090</td>\n",
       "      <td>8736668.0</td>\n",
       "      <td>5058968.0</td>\n",
       "      <td>5846595.0</td>\n",
       "      <td>1652029.0</td>\n",
       "      <td>1.15</td>\n",
       "      <td>1.55</td>\n",
       "      <td>...</td>\n",
       "      <td>6.143163e+10</td>\n",
       "      <td>2.987102e+08</td>\n",
       "      <td>102.26440</td>\n",
       "      <td>149030.0000</td>\n",
       "      <td>28121000.0</td>\n",
       "      <td>126.661470</td>\n",
       "      <td>28.846612</td>\n",
       "      <td>9659.628580</td>\n",
       "      <td>1.466531e+09</td>\n",
       "      <td>82522.99805</td>\n",
       "    </tr>\n",
       "    <tr>\n",
       "      <th>2</th>\n",
       "      <td>Belarus</td>\n",
       "      <td>Eastern Europe</td>\n",
       "      <td>2016</td>\n",
       "      <td>5022.626643</td>\n",
       "      <td>9501534.0</td>\n",
       "      <td>7378986.0</td>\n",
       "      <td>6562719.0</td>\n",
       "      <td>1369717.0</td>\n",
       "      <td>0.62</td>\n",
       "      <td>1.06</td>\n",
       "      <td>...</td>\n",
       "      <td>6.883900e+09</td>\n",
       "      <td>5.378000e+08</td>\n",
       "      <td>101.07700</td>\n",
       "      <td>26857.0000</td>\n",
       "      <td>10935400.0</td>\n",
       "      <td>121.112623</td>\n",
       "      <td>32.475597</td>\n",
       "      <td>3537.682129</td>\n",
       "      <td>1.257000e+08</td>\n",
       "      <td>202988.00780</td>\n",
       "    </tr>\n",
       "    <tr>\n",
       "      <th>3</th>\n",
       "      <td>Belgium</td>\n",
       "      <td>Western Europe</td>\n",
       "      <td>2016</td>\n",
       "      <td>42012.099900</td>\n",
       "      <td>11331422.0</td>\n",
       "      <td>11095615.0</td>\n",
       "      <td>7321394.0</td>\n",
       "      <td>2081792.0</td>\n",
       "      <td>1.32</td>\n",
       "      <td>1.69</td>\n",
       "      <td>...</td>\n",
       "      <td>1.088790e+11</td>\n",
       "      <td>1.837449e+08</td>\n",
       "      <td>103.31780</td>\n",
       "      <td>147324.0000</td>\n",
       "      <td>7481000.0</td>\n",
       "      <td>110.536875</td>\n",
       "      <td>37.609222</td>\n",
       "      <td>8367.042979</td>\n",
       "      <td>2.759595e+09</td>\n",
       "      <td>30280.00000</td>\n",
       "    </tr>\n",
       "    <tr>\n",
       "      <th>4</th>\n",
       "      <td>Bulgaria</td>\n",
       "      <td>Eastern Europe</td>\n",
       "      <td>2016</td>\n",
       "      <td>7469.455638</td>\n",
       "      <td>7127822.0</td>\n",
       "      <td>5298039.0</td>\n",
       "      <td>4651208.0</td>\n",
       "      <td>1456167.0</td>\n",
       "      <td>1.09</td>\n",
       "      <td>1.51</td>\n",
       "      <td>...</td>\n",
       "      <td>8.933180e+09</td>\n",
       "      <td>9.627300e+08</td>\n",
       "      <td>91.08322</td>\n",
       "      <td>12187.0000</td>\n",
       "      <td>8252000.0</td>\n",
       "      <td>125.474384</td>\n",
       "      <td>23.736034</td>\n",
       "      <td>4921.049363</td>\n",
       "      <td>1.835100e+08</td>\n",
       "      <td>108560.00000</td>\n",
       "    </tr>\n",
       "    <tr>\n",
       "      <th>...</th>\n",
       "      <td>...</td>\n",
       "      <td>...</td>\n",
       "      <td>...</td>\n",
       "      <td>...</td>\n",
       "      <td>...</td>\n",
       "      <td>...</td>\n",
       "      <td>...</td>\n",
       "      <td>...</td>\n",
       "      <td>...</td>\n",
       "      <td>...</td>\n",
       "      <td>...</td>\n",
       "      <td>...</td>\n",
       "      <td>...</td>\n",
       "      <td>...</td>\n",
       "      <td>...</td>\n",
       "      <td>...</td>\n",
       "      <td>...</td>\n",
       "      <td>...</td>\n",
       "      <td>...</td>\n",
       "      <td>...</td>\n",
       "      <td>...</td>\n",
       "    </tr>\n",
       "    <tr>\n",
       "      <th>124</th>\n",
       "      <td>Poland</td>\n",
       "      <td>Eastern Europe</td>\n",
       "      <td>2010</td>\n",
       "      <td>12599.533580</td>\n",
       "      <td>38042794.0</td>\n",
       "      <td>23165018.0</td>\n",
       "      <td>27128349.0</td>\n",
       "      <td>5125363.0</td>\n",
       "      <td>1.50</td>\n",
       "      <td>1.40</td>\n",
       "      <td>...</td>\n",
       "      <td>3.540200e+10</td>\n",
       "      <td>3.697000e+09</td>\n",
       "      <td>96.52896</td>\n",
       "      <td>82630.0000</td>\n",
       "      <td>12470000.0</td>\n",
       "      <td>122.495119</td>\n",
       "      <td>15.284455</td>\n",
       "      <td>3797.092296</td>\n",
       "      <td>2.248000e+09</td>\n",
       "      <td>306280.00000</td>\n",
       "    </tr>\n",
       "    <tr>\n",
       "      <th>125</th>\n",
       "      <td>Serbia</td>\n",
       "      <td>Eastern Europe</td>\n",
       "      <td>2010</td>\n",
       "      <td>5735.422857</td>\n",
       "      <td>7291436.0</td>\n",
       "      <td>4009779.0</td>\n",
       "      <td>4952679.0</td>\n",
       "      <td>1074778.0</td>\n",
       "      <td>1.48</td>\n",
       "      <td>1.14</td>\n",
       "      <td>...</td>\n",
       "      <td>3.519702e+09</td>\n",
       "      <td>3.953520e+09</td>\n",
       "      <td>95.89576</td>\n",
       "      <td>16893.0000</td>\n",
       "      <td>683000.0</td>\n",
       "      <td>110.277699</td>\n",
       "      <td>9.563649</td>\n",
       "      <td>4358.812174</td>\n",
       "      <td>1.561057e+08</td>\n",
       "      <td>87460.00000</td>\n",
       "    </tr>\n",
       "    <tr>\n",
       "      <th>126</th>\n",
       "      <td>Slovenia</td>\n",
       "      <td>Western Europe</td>\n",
       "      <td>2010</td>\n",
       "      <td>23509.543390</td>\n",
       "      <td>2048583.0</td>\n",
       "      <td>1078743.0</td>\n",
       "      <td>1420087.0</td>\n",
       "      <td>341887.0</td>\n",
       "      <td>1.62</td>\n",
       "      <td>1.26</td>\n",
       "      <td>...</td>\n",
       "      <td>6.244078e+09</td>\n",
       "      <td>3.020040e+07</td>\n",
       "      <td>99.49639</td>\n",
       "      <td>21840.0000</td>\n",
       "      <td>2049000.0</td>\n",
       "      <td>103.847285</td>\n",
       "      <td>23.027381</td>\n",
       "      <td>6510.841884</td>\n",
       "      <td>3.441904e+08</td>\n",
       "      <td>20146.19995</td>\n",
       "    </tr>\n",
       "    <tr>\n",
       "      <th>127</th>\n",
       "      <td>Ukraine</td>\n",
       "      <td>Eastern Europe</td>\n",
       "      <td>2010</td>\n",
       "      <td>2965.142365</td>\n",
       "      <td>45870700.0</td>\n",
       "      <td>31465465.0</td>\n",
       "      <td>32185893.0</td>\n",
       "      <td>7205114.0</td>\n",
       "      <td>0.92</td>\n",
       "      <td>0.96</td>\n",
       "      <td>...</td>\n",
       "      <td>1.832700e+10</td>\n",
       "      <td>2.489000e+09</td>\n",
       "      <td>98.81844</td>\n",
       "      <td>66038.0000</td>\n",
       "      <td>21203000.0</td>\n",
       "      <td>117.767820</td>\n",
       "      <td>6.454904</td>\n",
       "      <td>3549.847724</td>\n",
       "      <td>7.440000e+08</td>\n",
       "      <td>579320.00000</td>\n",
       "    </tr>\n",
       "    <tr>\n",
       "      <th>128</th>\n",
       "      <td>United Kingdom</td>\n",
       "      <td>Northern Europe</td>\n",
       "      <td>2010</td>\n",
       "      <td>39435.839900</td>\n",
       "      <td>62766365.0</td>\n",
       "      <td>51030310.0</td>\n",
       "      <td>41384858.0</td>\n",
       "      <td>10400226.0</td>\n",
       "      <td>1.98</td>\n",
       "      <td>1.65</td>\n",
       "      <td>...</td>\n",
       "      <td>2.889710e+11</td>\n",
       "      <td>3.255438e+09</td>\n",
       "      <td>104.55490</td>\n",
       "      <td>985109.0231</td>\n",
       "      <td>28295000.0</td>\n",
       "      <td>120.910903</td>\n",
       "      <td>30.178957</td>\n",
       "      <td>5700.855864</td>\n",
       "      <td>1.016842e+10</td>\n",
       "      <td>241930.00000</td>\n",
       "    </tr>\n",
       "  </tbody>\n",
       "</table>\n",
       "<p>129 rows × 25 columns</p>\n",
       "</div>"
      ],
      "text/plain": [
       "       Country Name           Region  Year  GDP_perCapita  population  \\\n",
       "0           Albania   Eastern Europe  2016    4124.108907   2876101.0   \n",
       "1           Austria   Western Europe  2016   45237.805090   8736668.0   \n",
       "2           Belarus   Eastern Europe  2016    5022.626643   9501534.0   \n",
       "3           Belgium   Western Europe  2016   42012.099900  11331422.0   \n",
       "4          Bulgaria   Eastern Europe  2016    7469.455638   7127822.0   \n",
       "..              ...              ...   ...            ...         ...   \n",
       "124          Poland   Eastern Europe  2010   12599.533580  38042794.0   \n",
       "125          Serbia   Eastern Europe  2010    5735.422857   7291436.0   \n",
       "126        Slovenia   Western Europe  2010   23509.543390   2048583.0   \n",
       "127         Ukraine   Eastern Europe  2010    2965.142365  45870700.0   \n",
       "128  United Kingdom  Northern Europe  2010   39435.839900  62766365.0   \n",
       "\n",
       "     urbanPopulation  PopulationAge15-64  PopulationAge65+  dieselFuelPrice  \\\n",
       "0          1680247.0           1974733.0          372633.0             1.35   \n",
       "1          5058968.0           5846595.0         1652029.0             1.15   \n",
       "2          7378986.0           6562719.0         1369717.0             0.62   \n",
       "3         11095615.0           7321394.0         2081792.0             1.32   \n",
       "4          5298039.0           4651208.0         1456167.0             1.09   \n",
       "..               ...                 ...               ...              ...   \n",
       "124       23165018.0          27128349.0         5125363.0             1.50   \n",
       "125        4009779.0           4952679.0         1074778.0             1.48   \n",
       "126        1078743.0           1420087.0          341887.0             1.62   \n",
       "127       31465465.0          32185893.0         7205114.0             0.92   \n",
       "128       51030310.0          41384858.0        10400226.0             1.98   \n",
       "\n",
       "     dieselFuelPrice_year-2  ...  serviceExports  personalTransfers  \\\n",
       "0                      1.71  ...    2.650668e+09       9.962030e+08   \n",
       "1                      1.55  ...    6.143163e+10       2.987102e+08   \n",
       "2                      1.06  ...    6.883900e+09       5.378000e+08   \n",
       "3                      1.69  ...    1.088790e+11       1.837449e+08   \n",
       "4                      1.51  ...    8.933180e+09       9.627300e+08   \n",
       "..                      ...  ...             ...                ...   \n",
       "124                    1.40  ...    3.540200e+10       3.697000e+09   \n",
       "125                    1.14  ...    3.519702e+09       3.953520e+09   \n",
       "126                    1.26  ...    6.244078e+09       3.020040e+07   \n",
       "127                    0.96  ...    1.832700e+10       2.489000e+09   \n",
       "128                    1.65  ...    2.889710e+11       3.255438e+09   \n",
       "\n",
       "     schoolEnrollPrimary  airTransportDeparture  internationalTourism  \\\n",
       "0              105.55390               306.0000             4070000.0   \n",
       "1              102.26440            149030.0000            28121000.0   \n",
       "2              101.07700             26857.0000            10935400.0   \n",
       "3              103.31780            147324.0000             7481000.0   \n",
       "4               91.08322             12187.0000             8252000.0   \n",
       "..                   ...                    ...                   ...   \n",
       "124             96.52896             82630.0000            12470000.0   \n",
       "125             95.89576             16893.0000              683000.0   \n",
       "126             99.49639             21840.0000             2049000.0   \n",
       "127             98.81844             66038.0000            21203000.0   \n",
       "128            104.55490            985109.0231            28295000.0   \n",
       "\n",
       "     mobileSubscriptionPer100People  broadbandSubscriptionPer100People  \\\n",
       "0                        116.744444                           9.228641   \n",
       "1                        126.661470                          28.846612   \n",
       "2                        121.112623                          32.475597   \n",
       "3                        110.536875                          37.609222   \n",
       "4                        125.474384                          23.736034   \n",
       "..                              ...                                ...   \n",
       "124                      122.495119                          15.284455   \n",
       "125                      110.277699                           9.563649   \n",
       "126                      103.847285                          23.027381   \n",
       "127                      117.767820                           6.454904   \n",
       "128                      120.910903                          30.178957   \n",
       "\n",
       "     electricPowerConsumption  chargesOfIntellectualProperty      landArea  \n",
       "0                 3232.688106                   2.316308e+07   27400.00000  \n",
       "1                 9659.628580                   1.466531e+09   82522.99805  \n",
       "2                 3537.682129                   1.257000e+08  202988.00780  \n",
       "3                 8367.042979                   2.759595e+09   30280.00000  \n",
       "4                 4921.049363                   1.835100e+08  108560.00000  \n",
       "..                        ...                            ...           ...  \n",
       "124               3797.092296                   2.248000e+09  306280.00000  \n",
       "125               4358.812174                   1.561057e+08   87460.00000  \n",
       "126               6510.841884                   3.441904e+08   20146.19995  \n",
       "127               3549.847724                   7.440000e+08  579320.00000  \n",
       "128               5700.855864                   1.016842e+10  241930.00000  \n",
       "\n",
       "[129 rows x 25 columns]"
      ]
     },
     "execution_count": 167,
     "metadata": {},
     "output_type": "execute_result"
    }
   ],
   "source": [
    "df_northAmerica_europe"
   ]
  },
  {
   "cell_type": "code",
   "execution_count": 168,
   "metadata": {},
   "outputs": [
    {
     "data": {
      "text/plain": [
       "Text(0, 0.5, 'GDP per Capita')"
      ]
     },
     "execution_count": 168,
     "metadata": {},
     "output_type": "execute_result"
    },
    {
     "data": {
      "image/png": "[encoded data removed]",
      "text/plain": [
       "<Figure size 648x504 with 1 Axes>"
      ]
     },
     "metadata": {
      "needs_background": "light"
     },
     "output_type": "display_data"
    }
   ],
   "source": [
    "plt.figure(figsize=(9,7))\n",
    "plt.scatter(df_northAmerica_europe.electricPowerConsumption, df_northAmerica_europe.GDP_perCapita, c='red')\n",
    "plt.yscale('log')\n",
    "plt.xscale('log')\n",
    "plt.xlabel('electricPowerConsumption')\n",
    "plt.ylabel('GDP per Capita')"
   ]
  },
  {
   "cell_type": "code",
   "execution_count": null,
   "metadata": {},
   "outputs": [],
   "source": []
  }
 ],
 "metadata": {
  "kernelspec": {
   "display_name": "Python 3",
   "language": "python",
   "name": "python3"
  },
  "language_info": {
   "codemirror_mode": {
    "name": "ipython",
    "version": 3
   },
   "file_extension": ".py",
   "mimetype": "text/x-python",
   "name": "python",
   "nbconvert_exporter": "python",
   "pygments_lexer": "ipython3",
   "version": "3.7.3"
  }
 },
 "nbformat": 4,
 "nbformat_minor": 4
}
