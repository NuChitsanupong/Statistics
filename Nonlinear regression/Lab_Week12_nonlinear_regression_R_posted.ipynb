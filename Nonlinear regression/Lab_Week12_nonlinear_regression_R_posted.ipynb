{
 "cells": [
  {
   "cell_type": "code",
   "execution_count": null,
   "metadata": {},
   "outputs": [],
   "source": [
    "setwd(\"???\") "
   ]
  },
  {
   "cell_type": "code",
   "execution_count": 2,
   "metadata": {},
   "outputs": [],
   "source": [
    "df <- read.csv(\"R_data/uspop.csv\", sep=\",\", header=T, \n",
    "               fileEncoding=\"UTF-8-BOM\")"
   ]
  },
  {
   "cell_type": "code",
   "execution_count": 3,
   "metadata": {},
   "outputs": [],
   "source": [
    "attach(df)"
   ]
  },
  {
   "cell_type": "code",
   "execution_count": 4,
   "metadata": {},
   "outputs": [
    {
     "data": {
      "text/html": [
       "<ol class=list-inline>\n",
       "\t<li>0</li>\n",
       "\t<li>10</li>\n",
       "\t<li>20</li>\n",
       "\t<li>30</li>\n",
       "\t<li>40</li>\n",
       "\t<li>50</li>\n",
       "\t<li>60</li>\n",
       "\t<li>70</li>\n",
       "\t<li>80</li>\n",
       "\t<li>90</li>\n",
       "\t<li>100</li>\n",
       "\t<li>110</li>\n",
       "\t<li>120</li>\n",
       "\t<li>130</li>\n",
       "\t<li>140</li>\n",
       "\t<li>150</li>\n",
       "\t<li>160</li>\n",
       "\t<li>170</li>\n",
       "\t<li>180</li>\n",
       "\t<li>190</li>\n",
       "\t<li>200</li>\n",
       "</ol>\n"
      ],
      "text/latex": [
       "\\begin{enumerate*}\n",
       "\\item 0\n",
       "\\item 10\n",
       "\\item 20\n",
       "\\item 30\n",
       "\\item 40\n",
       "\\item 50\n",
       "\\item 60\n",
       "\\item 70\n",
       "\\item 80\n",
       "\\item 90\n",
       "\\item 100\n",
       "\\item 110\n",
       "\\item 120\n",
       "\\item 130\n",
       "\\item 140\n",
       "\\item 150\n",
       "\\item 160\n",
       "\\item 170\n",
       "\\item 180\n",
       "\\item 190\n",
       "\\item 200\n",
       "\\end{enumerate*}\n"
      ],
      "text/markdown": [
       "1. 0\n",
       "2. 10\n",
       "3. 20\n",
       "4. 30\n",
       "5. 40\n",
       "6. 50\n",
       "7. 60\n",
       "8. 70\n",
       "9. 80\n",
       "10. 90\n",
       "11. 100\n",
       "12. 110\n",
       "13. 120\n",
       "14. 130\n",
       "15. 140\n",
       "16. 150\n",
       "17. 160\n",
       "18. 170\n",
       "19. 180\n",
       "20. 190\n",
       "21. 200\n",
       "\n",
       "\n"
      ],
      "text/plain": [
       " [1]   0  10  20  30  40  50  60  70  80  90 100 110 120 130 140 150 160 170 180\n",
       "[20] 190 200"
      ]
     },
     "metadata": {},
     "output_type": "display_data"
    }
   ],
   "source": [
    "x <- year - 1790\n",
    "x"
   ]
  },
  {
   "cell_type": "code",
   "execution_count": 5,
   "metadata": {},
   "outputs": [
    {
     "data": {
      "text/html": [
       "<ol class=list-inline>\n",
       "\t<li>3.929</li>\n",
       "\t<li>5.308</li>\n",
       "\t<li>7.24</li>\n",
       "\t<li>9.638</li>\n",
       "\t<li>12.866</li>\n",
       "\t<li>17.069</li>\n",
       "\t<li>23.192</li>\n",
       "\t<li>31.443</li>\n",
       "\t<li>39.818</li>\n",
       "\t<li>50.156</li>\n",
       "\t<li>62.948</li>\n",
       "\t<li>75.995</li>\n",
       "\t<li>91.972</li>\n",
       "\t<li>105.711</li>\n",
       "\t<li>122.775</li>\n",
       "\t<li>131.669</li>\n",
       "\t<li>150.697</li>\n",
       "\t<li>179.323</li>\n",
       "\t<li>203.302</li>\n",
       "\t<li>226.542</li>\n",
       "\t<li>248.71</li>\n",
       "</ol>\n"
      ],
      "text/latex": [
       "\\begin{enumerate*}\n",
       "\\item 3.929\n",
       "\\item 5.308\n",
       "\\item 7.24\n",
       "\\item 9.638\n",
       "\\item 12.866\n",
       "\\item 17.069\n",
       "\\item 23.192\n",
       "\\item 31.443\n",
       "\\item 39.818\n",
       "\\item 50.156\n",
       "\\item 62.948\n",
       "\\item 75.995\n",
       "\\item 91.972\n",
       "\\item 105.711\n",
       "\\item 122.775\n",
       "\\item 131.669\n",
       "\\item 150.697\n",
       "\\item 179.323\n",
       "\\item 203.302\n",
       "\\item 226.542\n",
       "\\item 248.71\n",
       "\\end{enumerate*}\n"
      ],
      "text/markdown": [
       "1. 3.929\n",
       "2. 5.308\n",
       "3. 7.24\n",
       "4. 9.638\n",
       "5. 12.866\n",
       "6. 17.069\n",
       "7. 23.192\n",
       "8. 31.443\n",
       "9. 39.818\n",
       "10. 50.156\n",
       "11. 62.948\n",
       "12. 75.995\n",
       "13. 91.972\n",
       "14. 105.711\n",
       "15. 122.775\n",
       "16. 131.669\n",
       "17. 150.697\n",
       "18. 179.323\n",
       "19. 203.302\n",
       "20. 226.542\n",
       "21. 248.71\n",
       "\n",
       "\n"
      ],
      "text/plain": [
       " [1]   3.929   5.308   7.240   9.638  12.866  17.069  23.192  31.443  39.818\n",
       "[10]  50.156  62.948  75.995  91.972 105.711 122.775 131.669 150.697 179.323\n",
       "[19] 203.302 226.542 248.710"
      ]
     },
     "metadata": {},
     "output_type": "display_data"
    }
   ],
   "source": [
    "y <- population\n",
    "y"
   ]
  },
  {
   "cell_type": "code",
   "execution_count": 6,
   "metadata": {},
   "outputs": [],
   "source": [
    "b0_start <- 350      # asymtote\n",
    "b1_start <- log((b0_start/y[1]) - 1)                # population size at x = 0\n",
    "b2_start <- log((b0_start/y[2]) - 1) - b1_start     # growth rate"
   ]
  },
  {
   "cell_type": "code",
   "execution_count": 7,
   "metadata": {},
   "outputs": [
    {
     "data": {
      "text/plain": [
       "\n",
       "Formula: y ~ b0/(1 + exp(b1 + b2 * x))\n",
       "\n",
       "Parameters:\n",
       "     Estimate Std. Error t value Pr(>|t|)    \n",
       "b0 389.165808  30.812040   12.63  2.2e-10 ***\n",
       "b1   3.990345   0.070321   56.74  < 2e-16 ***\n",
       "b2  -0.022662   0.001086  -20.87  4.6e-14 ***\n",
       "---\n",
       "Signif. codes:  0 '***' 0.001 '**' 0.01 '*' 0.05 '.' 0.1 ' ' 1\n",
       "\n",
       "Residual standard error: 4.45 on 18 degrees of freedom\n",
       "\n",
       "Number of iterations to convergence: 13 \n",
       "Achieved convergence tolerance: 2.627e-06\n"
      ]
     },
     "metadata": {},
     "output_type": "display_data"
    }
   ],
   "source": [
    "model <- nls(y~b0/(1+exp(b1+b2*x)),\n",
    "             start=list(b0=b0_start,\n",
    "                        b1=b1_start,\n",
    "                        b2=b2_start))\n",
    "summary(model)"
   ]
  },
  {
   "cell_type": "code",
   "execution_count": 8,
   "metadata": {},
   "outputs": [
    {
     "data": {
      "text/html": [
       "0.998644128277593"
      ],
      "text/latex": [
       "0.998644128277593"
      ],
      "text/markdown": [
       "0.998644128277593"
      ],
      "text/plain": [
       "[1] 0.9986441"
      ]
     },
     "metadata": {},
     "output_type": "display_data"
    },
    {
     "data": {
      "image/png": "[encoded data removed]",
      "text/plain": [
       "plot without title"
      ]
     },
     "metadata": {},
     "output_type": "display_data"
    }
   ],
   "source": [
    "#get some estimation of goodness of fit\n",
    "cor(y,predict(model))\n",
    "plot(x,y)\n",
    "lines(x,predict(model),col=\"red\")"
   ]
  },
  {
   "cell_type": "code",
   "execution_count": null,
   "metadata": {},
   "outputs": [],
   "source": []
  }
 ],
 "metadata": {
  "kernelspec": {
   "display_name": "R",
   "language": "R",
   "name": "ir"
  },
  "language_info": {
   "codemirror_mode": "r",
   "file_extension": ".r",
   "mimetype": "text/x-r-source",
   "name": "R",
   "pygments_lexer": "r",
   "version": "3.6.1"
  }
 },
 "nbformat": 4,
 "nbformat_minor": 4
}
