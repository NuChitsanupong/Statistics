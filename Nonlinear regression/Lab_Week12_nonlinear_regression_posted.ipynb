{
 "cells": [
  {
   "cell_type": "code",
   "execution_count": null,
   "metadata": {},
   "outputs": [],
   "source": [
    "import os\n",
    "os.chdir('???')\n",
    "os.getcwd()"
   ]
  },
  {
   "cell_type": "code",
   "execution_count": 1,
   "metadata": {},
   "outputs": [],
   "source": [
    "import math\n",
    "import numpy as np\n",
    "import pandas as pd"
   ]
  },
  {
   "cell_type": "code",
   "execution_count": 2,
   "metadata": {},
   "outputs": [],
   "source": [
    "import numpy as np \n",
    "from scipy.optimize import curve_fit \n",
    "from matplotlib import pyplot as plt \n",
    "%matplotlib inline"
   ]
  },
  {
   "cell_type": "markdown",
   "metadata": {},
   "source": [
    "##  Example 1: Sine Function"
   ]
  },
  {
   "cell_type": "code",
   "execution_count": 21,
   "metadata": {},
   "outputs": [
    {
     "data": {
      "text/plain": [
       "array([-0.59879467,  2.29274409,  1.72826363,  1.9822742 ,  4.99425975,\n",
       "        6.414766  ,  3.6007228 ,  1.51826668,  0.8680945 ,  1.13738571,\n",
       "       -1.67097406, -3.72136922, -3.10733219, -3.59265724, -2.00085335,\n",
       "       -3.62642876, -2.79899942, -2.11056725, -0.78112059,  1.6688722 ,\n",
       "        3.31375901,  3.21327102,  4.44860828,  3.68483014,  3.64481458,\n",
       "        2.1283275 ,  0.11323487,  0.50434532,  0.24416859, -3.0245535 ,\n",
       "       -1.56308092, -4.54685179, -4.841174  , -4.64770122, -2.12130375,\n",
       "       -2.23065672, -1.93588765,  0.28831425,  2.82112381,  3.37012776])"
      ]
     },
     "execution_count": 21,
     "metadata": {},
     "output_type": "execute_result"
    }
   ],
   "source": [
    "# create sample data\n",
    "x = np.linspace(0, 10, num = 40) \n",
    "y = 3.45 * np.sin(1.334 * x) + np.random.normal(size = 40) \n",
    "y"
   ]
  },
  {
   "cell_type": "code",
   "execution_count": 22,
   "metadata": {},
   "outputs": [],
   "source": [
    "# Test function with coefficients as parameters \n",
    "def test(x, a, b): \n",
    "    return a * np.sin(b * x) "
   ]
  },
  {
   "cell_type": "code",
   "execution_count": 23,
   "metadata": {},
   "outputs": [],
   "source": [
    "param, param_cov = curve_fit(test, x, y) "
   ]
  },
  {
   "cell_type": "code",
   "execution_count": 24,
   "metadata": {},
   "outputs": [
    {
     "name": "stdout",
     "output_type": "stream",
     "text": [
      "Sine funcion coefficients:\n",
      "[4.05882539 1.34562669]\n"
     ]
    }
   ],
   "source": [
    "print(\"Sine funcion coefficients:\") \n",
    "print(param) "
   ]
  },
  {
   "cell_type": "code",
   "execution_count": 25,
   "metadata": {},
   "outputs": [
    {
     "data": {
      "text/plain": [
       "array([ 0.        ,  1.37280534,  2.58379665,  3.49023309,  3.98527202,\n",
       "        4.01056269,  3.56312405,  2.69569617,  1.5105237 ,  0.1473042 ,\n",
       "       -1.23327822, -2.46849281, -3.41274351, -3.9547305 , -4.03056917,\n",
       "       -3.63132036, -2.80404393, -1.64625185, -0.29441431,  1.09212616,\n",
       "        2.34993656,  3.33075742,  3.91897835,  4.04526511,  3.69473216,\n",
       "        2.90869718,  1.77981095,  0.44113651, -0.94953516, -2.22828411,\n",
       "       -3.24438283, -3.87806269, -4.05463115, -3.7532759 , -3.00951802,\n",
       "       -1.91102503, -0.58727749,  0.80569309,  2.10369575,  3.15373356])"
      ]
     },
     "execution_count": 25,
     "metadata": {},
     "output_type": "execute_result"
    }
   ],
   "source": [
    "predictions = (param[0]*(np.sin(param[1]*x))) \n",
    "predictions"
   ]
  },
  {
   "cell_type": "code",
   "execution_count": 26,
   "metadata": {},
   "outputs": [
    {
     "data": {
      "text/plain": [
       "0.8929273595352114"
      ]
     },
     "execution_count": 26,
     "metadata": {},
     "output_type": "execute_result"
    }
   ],
   "source": [
    "from sklearn import metrics\n",
    "metrics.mean_squared_error(y,predictions)"
   ]
  },
  {
   "cell_type": "code",
   "execution_count": 27,
   "metadata": {},
   "outputs": [
    {
     "data": {
      "text/plain": [
       "<matplotlib.legend.Legend at 0x1e70eab9390>"
      ]
     },
     "execution_count": 27,
     "metadata": {},
     "output_type": "execute_result"
    },
    {
     "data": {
      "image/png": "[encoded data removed]",
      "text/plain": [
       "<Figure size 432x288 with 1 Axes>"
      ]
     },
     "metadata": {
      "needs_background": "light"
     },
     "output_type": "display_data"
    }
   ],
   "source": [
    "plt.plot(x,y,'r.',label='actual')\n",
    "plt.plot(x,predictions,'g-', label='predicted')\n",
    "plt.legend()"
   ]
  },
  {
   "cell_type": "markdown",
   "metadata": {},
   "source": [
    "## Example 2: Exponential"
   ]
  },
  {
   "cell_type": "code",
   "execution_count": 28,
   "metadata": {},
   "outputs": [],
   "source": [
    "# create sample data\n",
    "x = np.linspace(0, 1, num = 40) \n",
    "y = 3.45 * np.exp(1.334 * x) + np.random.normal(size = 40) "
   ]
  },
  {
   "cell_type": "code",
   "execution_count": 29,
   "metadata": {},
   "outputs": [],
   "source": [
    "def test(x, a, b): \n",
    "    return a*np.exp(b*x) "
   ]
  },
  {
   "cell_type": "code",
   "execution_count": 30,
   "metadata": {},
   "outputs": [
    {
     "data": {
      "text/plain": [
       "array([3.28073378, 1.38977054])"
      ]
     },
     "execution_count": 30,
     "metadata": {},
     "output_type": "execute_result"
    }
   ],
   "source": [
    "param, param_cov = curve_fit(test, x, y) \n",
    "param"
   ]
  },
  {
   "cell_type": "code",
   "execution_count": 31,
   "metadata": {},
   "outputs": [
    {
     "data": {
      "text/plain": [
       "array([ 3.28073378,  3.3997512 ,  3.5230863 ,  3.6508957 ,  3.78334174,\n",
       "        3.92059262,  4.06282264,  4.21021243,  4.36294918,  4.52122687,\n",
       "        4.68524651,  4.8552164 ,  5.0313524 ,  5.21387821,  5.40302564,\n",
       "        5.59903489,  5.8021549 ,  6.01264364,  6.23076843,  6.45680627,\n",
       "        6.69104424,  6.93377983,  7.1853213 ,  7.44598811,  7.71611131,\n",
       "        7.99603395,  8.28611154,  8.58671247,  8.89821851,  9.22102526,\n",
       "        9.5555427 ,  9.90219565, 10.26142437, 10.63368508, 11.01945054,\n",
       "       11.41921068, 11.83347319, 12.26276418, 12.70762886, 13.16863219])"
      ]
     },
     "execution_count": 31,
     "metadata": {},
     "output_type": "execute_result"
    }
   ],
   "source": [
    "predictions = (param[0]*(np.exp(param[1]*x))) \n",
    "predictions"
   ]
  },
  {
   "cell_type": "code",
   "execution_count": 32,
   "metadata": {},
   "outputs": [
    {
     "data": {
      "text/plain": [
       "1.2014578383309946"
      ]
     },
     "execution_count": 32,
     "metadata": {},
     "output_type": "execute_result"
    }
   ],
   "source": [
    "from sklearn import metrics\n",
    "metrics.mean_squared_error(y,predictions)"
   ]
  },
  {
   "cell_type": "code",
   "execution_count": 33,
   "metadata": {},
   "outputs": [
    {
     "data": {
      "text/plain": [
       "<matplotlib.legend.Legend at 0x1e70eb17f98>"
      ]
     },
     "execution_count": 33,
     "metadata": {},
     "output_type": "execute_result"
    },
    {
     "data": {
      "image/png": "[encoded data removed]",
      "text/plain": [
       "<Figure size 432x288 with 1 Axes>"
      ]
     },
     "metadata": {
      "needs_background": "light"
     },
     "output_type": "display_data"
    }
   ],
   "source": [
    "plt.plot(x,y,'r.',label='actual')\n",
    "plt.plot(x,predictions,'g-', label='predicted')\n",
    "plt.legend()"
   ]
  },
  {
   "cell_type": "markdown",
   "metadata": {},
   "source": [
    "## Example 3: Polynomial"
   ]
  },
  {
   "cell_type": "code",
   "execution_count": 16,
   "metadata": {},
   "outputs": [],
   "source": [
    "# create sample data\n",
    "x = np.linspace(0, 1, num = 40) \n",
    "y = 3.45 + 1.334 * x + 1.556 *x*x + np.random.normal(size = 40) "
   ]
  },
  {
   "cell_type": "code",
   "execution_count": 17,
   "metadata": {},
   "outputs": [],
   "source": [
    "def test(x, a, b, c): \n",
    "    return a+b*x+c*x*x "
   ]
  },
  {
   "cell_type": "code",
   "execution_count": 18,
   "metadata": {},
   "outputs": [
    {
     "data": {
      "text/plain": [
       "array([ 2.50949793,  4.80288769, -1.23803088])"
      ]
     },
     "execution_count": 18,
     "metadata": {},
     "output_type": "execute_result"
    }
   ],
   "source": [
    "param, param_cov = curve_fit(test, x, y) \n",
    "param"
   ]
  },
  {
   "cell_type": "code",
   "execution_count": 19,
   "metadata": {},
   "outputs": [
    {
     "data": {
      "text/plain": [
       "array([2.50949793, 2.63183493, 2.75254402, 2.8716252 , 2.98907846,\n",
       "       3.1049038 , 3.21910122, 3.33167072, 3.44261231, 3.55192598,\n",
       "       3.65961174, 3.76566958, 3.8700995 , 3.9729015 , 4.07407559,\n",
       "       4.17362176, 4.27154001, 4.36783035, 4.46249277, 4.55552727,\n",
       "       4.64693385, 4.73671252, 4.82486327, 4.91138611, 4.99628102,\n",
       "       5.07954802, 5.16118711, 5.24119827, 5.31958152, 5.39633685,\n",
       "       5.47146427, 5.54496377, 5.61683535, 5.68707901, 5.75569476,\n",
       "       5.82268259, 5.8880425 , 5.9517745 , 6.01387858, 6.07435474])"
      ]
     },
     "execution_count": 19,
     "metadata": {},
     "output_type": "execute_result"
    }
   ],
   "source": [
    "predictions = (param[0]+param[1]*x+param[2]*x*x) \n",
    "predictions"
   ]
  },
  {
   "cell_type": "code",
   "execution_count": 20,
   "metadata": {},
   "outputs": [
    {
     "data": {
      "text/plain": [
       "0.5992579588463176"
      ]
     },
     "execution_count": 20,
     "metadata": {},
     "output_type": "execute_result"
    }
   ],
   "source": [
    "from sklearn import metrics\n",
    "metrics.mean_squared_error(y,predictions)"
   ]
  },
  {
   "cell_type": "code",
   "execution_count": null,
   "metadata": {
    "collapsed": true
   },
   "outputs": [],
   "source": []
  }
 ],
 "metadata": {
  "kernelspec": {
   "display_name": "Python 3",
   "language": "python",
   "name": "python3"
  },
  "language_info": {
   "codemirror_mode": {
    "name": "ipython",
    "version": 3
   },
   "file_extension": ".py",
   "mimetype": "text/x-python",
   "name": "python",
   "nbconvert_exporter": "python",
   "pygments_lexer": "ipython3",
   "version": "3.7.3"
  }
 },
 "nbformat": 4,
 "nbformat_minor": 2
}
