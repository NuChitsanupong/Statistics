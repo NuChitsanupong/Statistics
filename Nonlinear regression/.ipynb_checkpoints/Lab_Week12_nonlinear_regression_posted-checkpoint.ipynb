{
 "cells": [
  {
   "cell_type": "code",
   "execution_count": null,
   "metadata": {},
   "outputs": [],
   "source": [
    "import os\n",
    "os.chdir('???')\n",
    "os.getcwd()"
   ]
  },
  {
   "cell_type": "code",
   "execution_count": 1,
   "metadata": {},
   "outputs": [],
   "source": [
    "import math\n",
    "import numpy as np\n",
    "import pandas as pd"
   ]
  },
  {
   "cell_type": "code",
   "execution_count": 2,
   "metadata": {},
   "outputs": [],
   "source": [
    "import numpy as np \n",
    "from scipy.optimize import curve_fit \n",
    "from matplotlib import pyplot as plt \n",
    "%matplotlib inline"
   ]
  },
  {
   "cell_type": "markdown",
   "metadata": {},
   "source": [
    "##  Example 1: Sine Function"
   ]
  },
  {
   "cell_type": "code",
   "execution_count": 3,
   "metadata": {},
   "outputs": [
    {
     "data": {
      "text/plain": [
       "array([-1.63313671,  2.83509938,  2.01464635,  2.86639151,  2.59436542,\n",
       "        2.70875661,  4.68888398,  2.33079158,  1.11568885,  0.02340365,\n",
       "       -2.72167136, -3.70387491, -2.52255081, -1.94359148, -1.508822  ,\n",
       "       -4.37828945, -3.57735528, -4.25411287, -0.75429739,  1.47068452,\n",
       "        1.14056136,  2.0617512 ,  2.04677952,  3.08143711,  3.63753377,\n",
       "        2.72930567,  0.82749127, -1.55345449, -0.64369823, -1.60360403,\n",
       "       -3.94225521, -3.16895659, -3.85130851, -5.73314986, -3.43835016,\n",
       "       -1.73493298, -2.22124962, -0.17711159,  2.92162614,  3.01839606])"
      ]
     },
     "execution_count": 3,
     "metadata": {},
     "output_type": "execute_result"
    }
   ],
   "source": [
    "# create sample data\n",
    "x = np.linspace(0, 10, num = 40) \n",
    "y = 3.45 * np.sin(1.334 * x) + np.random.normal(size = 40) \n",
    "y"
   ]
  },
  {
   "cell_type": "code",
   "execution_count": 4,
   "metadata": {},
   "outputs": [],
   "source": [
    "# Test function with coefficients as parameters \n",
    "def test(x, a, b): \n",
    "    return a * np.sin(b * x) "
   ]
  },
  {
   "cell_type": "code",
   "execution_count": 5,
   "metadata": {},
   "outputs": [],
   "source": [
    "param, param_cov = curve_fit(test, x, y) "
   ]
  },
  {
   "cell_type": "code",
   "execution_count": 6,
   "metadata": {},
   "outputs": [
    {
     "name": "stdout",
     "output_type": "stream",
     "text": [
      "Sine funcion coefficients:\n",
      "[3.66947296 1.3358622 ]\n"
     ]
    }
   ],
   "source": [
    "print(\"Sine funcion coefficients:\") \n",
    "print(param) "
   ]
  },
  {
   "cell_type": "code",
   "execution_count": 7,
   "metadata": {},
   "outputs": [
    {
     "data": {
      "text/plain": [
       "array([ 0.        ,  1.232466  ,  2.32174002,  3.14126656,  3.59583033,\n",
       "        3.6326186 ,  3.24735717,  2.48480701,  1.43356372,  0.21576423,\n",
       "       -1.02710345, -2.15063885, -3.02430589, -3.54659903, -3.65683651,\n",
       "       -3.3422106 , -2.63927555, -1.62970071, -0.43078184,  0.81818671,\n",
       "        1.9720956 ,  2.89687988,  3.48509504,  3.66840028,  3.42549861,\n",
       "        2.78461113,  1.82019828,  0.64430876, -0.6064387 , -1.78672809,\n",
       "       -2.75942948, -3.4115312 , -3.66726989, -3.49693299, -2.92031081,\n",
       "       -2.00439722, -0.8556061 ,  0.39259217,  1.59517778,  2.61243033])"
      ]
     },
     "execution_count": 7,
     "metadata": {},
     "output_type": "execute_result"
    }
   ],
   "source": [
    "predictions = (param[0]*(np.sin(param[1]*x))) \n",
    "predictions"
   ]
  },
  {
   "cell_type": "code",
   "execution_count": 8,
   "metadata": {},
   "outputs": [
    {
     "data": {
      "text/plain": [
       "1.3060126671893344"
      ]
     },
     "execution_count": 8,
     "metadata": {},
     "output_type": "execute_result"
    }
   ],
   "source": [
    "from sklearn import metrics\n",
    "metrics.mean_squared_error(y,predictions)"
   ]
  },
  {
   "cell_type": "code",
   "execution_count": 9,
   "metadata": {},
   "outputs": [
    {
     "data": {
      "text/plain": [
       "<matplotlib.legend.Legend at 0x1e70d998c50>"
      ]
     },
     "execution_count": 9,
     "metadata": {},
     "output_type": "execute_result"
    },
    {
     "data": {
      "image/png": "[encoded data removed]",
      "text/plain": [
       "<Figure size 432x288 with 1 Axes>"
      ]
     },
     "metadata": {
      "needs_background": "light"
     },
     "output_type": "display_data"
    }
   ],
   "source": [
    "plt.plot(x,y,'g-',label='actual')\n",
    "plt.plot(x,predictions,'r.', label='predicted')\n",
    "plt.legend()"
   ]
  },
  {
   "cell_type": "markdown",
   "metadata": {},
   "source": [
    "## Example 2: Exponential"
   ]
  },
  {
   "cell_type": "code",
   "execution_count": 10,
   "metadata": {},
   "outputs": [],
   "source": [
    "# create sample data\n",
    "x = np.linspace(0, 1, num = 40) \n",
    "y = 3.45 * np.exp(1.334 * x) + np.random.normal(size = 40) "
   ]
  },
  {
   "cell_type": "code",
   "execution_count": 11,
   "metadata": {},
   "outputs": [],
   "source": [
    "def test(x, a, b): \n",
    "    return a*np.exp(b*x) "
   ]
  },
  {
   "cell_type": "code",
   "execution_count": 12,
   "metadata": {},
   "outputs": [
    {
     "data": {
      "text/plain": [
       "array([3.66536259, 1.21387326])"
      ]
     },
     "execution_count": 12,
     "metadata": {},
     "output_type": "execute_result"
    }
   ],
   "source": [
    "param, param_cov = curve_fit(test, x, y) \n",
    "param"
   ]
  },
  {
   "cell_type": "code",
   "execution_count": 13,
   "metadata": {},
   "outputs": [
    {
     "data": {
      "text/plain": [
       "array([ 3.66536259,  3.78124084,  3.9007825 ,  4.02410341,  4.15132303,\n",
       "        4.28256462,  4.41795534,  4.55762636,  4.70171299,  4.85035483,\n",
       "        5.0036959 ,  5.16188475,  5.32507465,  5.4934237 ,  5.667095  ,\n",
       "        5.84625682,  6.03108273,  6.2217518 ,  6.41844876,  6.62136418,\n",
       "        6.83069465,  7.04664297,  7.26941837,  7.49923668,  7.73632056,\n",
       "        7.98089971,  8.23321108,  8.49349912,  8.76201601,  9.03902191,\n",
       "        9.32478518,  9.61958268,  9.92370003, 10.23743187, 10.56108216,\n",
       "       10.89496445, 11.23940223, 11.59472921, 11.96128964, 12.33943865])"
      ]
     },
     "execution_count": 13,
     "metadata": {},
     "output_type": "execute_result"
    }
   ],
   "source": [
    "predictions = (param[0]*(np.exp(param[1]*x))) \n",
    "predictions"
   ]
  },
  {
   "cell_type": "code",
   "execution_count": 14,
   "metadata": {},
   "outputs": [
    {
     "data": {
      "text/plain": [
       "0.8378905331976056"
      ]
     },
     "execution_count": 14,
     "metadata": {},
     "output_type": "execute_result"
    }
   ],
   "source": [
    "from sklearn import metrics\n",
    "metrics.mean_squared_error(y,predictions)"
   ]
  },
  {
   "cell_type": "code",
   "execution_count": 15,
   "metadata": {},
   "outputs": [
    {
     "data": {
      "text/plain": [
       "<matplotlib.legend.Legend at 0x1e70ea34cc0>"
      ]
     },
     "execution_count": 15,
     "metadata": {},
     "output_type": "execute_result"
    },
    {
     "data": {
      "image/png": "[encoded data removed]",
      "text/plain": [
       "<Figure size 432x288 with 1 Axes>"
      ]
     },
     "metadata": {
      "needs_background": "light"
     },
     "output_type": "display_data"
    }
   ],
   "source": [
    "plt.plot(x,y,'g-',label='actual')\n",
    "plt.plot(x,predictions,'r.', label='predicted')\n",
    "plt.legend()"
   ]
  },
  {
   "cell_type": "markdown",
   "metadata": {},
   "source": [
    "## Example 3: Polynomial"
   ]
  },
  {
   "cell_type": "code",
   "execution_count": 16,
   "metadata": {},
   "outputs": [],
   "source": [
    "# create sample data\n",
    "x = np.linspace(0, 1, num = 40) \n",
    "y = 3.45 + 1.334 * x + 1.556 *x*x + np.random.normal(size = 40) "
   ]
  },
  {
   "cell_type": "code",
   "execution_count": 17,
   "metadata": {},
   "outputs": [],
   "source": [
    "def test(x, a, b, c): \n",
    "    return a+b*x+c*x*x "
   ]
  },
  {
   "cell_type": "code",
   "execution_count": 18,
   "metadata": {},
   "outputs": [
    {
     "data": {
      "text/plain": [
       "array([ 2.50949793,  4.80288769, -1.23803088])"
      ]
     },
     "execution_count": 18,
     "metadata": {},
     "output_type": "execute_result"
    }
   ],
   "source": [
    "param, param_cov = curve_fit(test, x, y) \n",
    "param"
   ]
  },
  {
   "cell_type": "code",
   "execution_count": 19,
   "metadata": {},
   "outputs": [
    {
     "data": {
      "text/plain": [
       "array([2.50949793, 2.63183493, 2.75254402, 2.8716252 , 2.98907846,\n",
       "       3.1049038 , 3.21910122, 3.33167072, 3.44261231, 3.55192598,\n",
       "       3.65961174, 3.76566958, 3.8700995 , 3.9729015 , 4.07407559,\n",
       "       4.17362176, 4.27154001, 4.36783035, 4.46249277, 4.55552727,\n",
       "       4.64693385, 4.73671252, 4.82486327, 4.91138611, 4.99628102,\n",
       "       5.07954802, 5.16118711, 5.24119827, 5.31958152, 5.39633685,\n",
       "       5.47146427, 5.54496377, 5.61683535, 5.68707901, 5.75569476,\n",
       "       5.82268259, 5.8880425 , 5.9517745 , 6.01387858, 6.07435474])"
      ]
     },
     "execution_count": 19,
     "metadata": {},
     "output_type": "execute_result"
    }
   ],
   "source": [
    "predictions = (param[0]+param[1]*x+param[2]*x*x) \n",
    "predictions"
   ]
  },
  {
   "cell_type": "code",
   "execution_count": 20,
   "metadata": {},
   "outputs": [
    {
     "data": {
      "text/plain": [
       "0.5992579588463176"
      ]
     },
     "execution_count": 20,
     "metadata": {},
     "output_type": "execute_result"
    }
   ],
   "source": [
    "from sklearn import metrics\n",
    "metrics.mean_squared_error(y,predictions)"
   ]
  },
  {
   "cell_type": "code",
   "execution_count": null,
   "metadata": {
    "collapsed": true
   },
   "outputs": [],
   "source": []
  }
 ],
 "metadata": {
  "kernelspec": {
   "display_name": "Python 3",
   "language": "python",
   "name": "python3"
  },
  "language_info": {
   "codemirror_mode": {
    "name": "ipython",
    "version": 3
   },
   "file_extension": ".py",
   "mimetype": "text/x-python",
   "name": "python",
   "nbconvert_exporter": "python",
   "pygments_lexer": "ipython3",
   "version": "3.7.3"
  }
 },
 "nbformat": 4,
 "nbformat_minor": 2
}
